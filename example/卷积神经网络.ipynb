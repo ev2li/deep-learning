{
 "cells": [
  {
   "cell_type": "markdown",
   "source": [
    "#### 构建卷积神经网络\n",
    "- 卷积网络中的输入层与传统神经网络有此区别，需重新设计，训练模型基本一致"
   ],
   "metadata": {
    "collapsed": false
   }
  },
  {
   "cell_type": "code",
   "execution_count": 4,
   "outputs": [],
   "source": [
    "import torch\n",
    "import torch.nn as nn\n",
    "import torch.optim as optim\n",
    "import torch.nn.functional as F\n",
    "from torchvision import datasets,transforms\n",
    "import matplotlib.pyplot as plt\n",
    "import numpy as np\n",
    "%matplotlib inline"
   ],
   "metadata": {
    "collapsed": false,
    "ExecuteTime": {
     "start_time": "2023-05-08T10:17:49.753909Z",
     "end_time": "2023-05-08T10:17:49.773938Z"
    }
   }
  },
  {
   "cell_type": "markdown",
   "source": [
    "#### 首先读取数据\n",
    "- 分别构建训练集和测试集(验证集)\n",
    "- DataLoader来迭代取数据"
   ],
   "metadata": {
    "collapsed": false
   }
  },
  {
   "cell_type": "code",
   "execution_count": 6,
   "outputs": [],
   "source": [
    "# 定义超参数\n",
    "input_size = 28 # 图像的总尺寸28*28\n",
    "num_classes = 10 # 标签的种类数\n",
    "num_epochs = 3 # 训练的总循环周期\n",
    "batch_size = 64 # 一个batch(批次)的大小，64张图片\n",
    "\n",
    "# 训练集\n",
    "train_dataset = datasets.MNIST(root='./data',\n",
    "                               train=True,\n",
    "                               transform=transforms.ToTensor(),\n",
    "                               download=True)\n",
    "\n",
    "# 测试集\n",
    "test_dataset = datasets.MNIST(root='./data',\n",
    "                              train=False,\n",
    "                              transform=transforms.ToTensor())\n",
    "\n",
    "\n",
    "# 构建batch数据\n",
    "train_loader = torch.utils.data.DataLoader(dataset=train_dataset,\n",
    "                                           batch_size=batch_size,\n",
    "                                           shuffle=True)\n",
    "\n",
    "test_loader = torch.utils.data.DataLoader(dataset=test_dataset,\n",
    "                                          batch_size=batch_size,\n",
    "                                          shuffle=True)"
   ],
   "metadata": {
    "collapsed": false,
    "ExecuteTime": {
     "start_time": "2023-05-08T10:19:12.173311Z",
     "end_time": "2023-05-08T10:19:12.350986Z"
    }
   }
  },
  {
   "cell_type": "markdown",
   "source": [
    "#### 卷积网络模块构建\n",
    "- 一般卷积层，relu层，pooling层可以写成一个套餐\n",
    "- 注意卷积最后结果还是一个特征图，需要把图转换成向量才能做分类或者回归任务"
   ],
   "metadata": {
    "collapsed": false
   }
  },
  {
   "cell_type": "code",
   "execution_count": 9,
   "outputs": [],
   "source": [
    "class CNN(nn.Module):\n",
    "    def __init__(self):\n",
    "        super(CNN, self).__init__()\n",
    "        self.conv1 = nn.Sequential( # 输入大小(1, 28, 28)\n",
    "            nn.Conv2d(\n",
    "                in_channels=1, # 灰度图\n",
    "                out_channels=16, # 需要得到几个特征图\n",
    "                kernel_size= 5, # 卷积核大小\n",
    "                stride = 1, # 步长\n",
    "                padding = 2, # 如果希望卷积后大小跟原来一样，需要设置padding=(kernel_size-1)/2 if stride=1\n",
    "            ), # 输出的特征图为(16, 28, 28)\n",
    "            nn.ReLU(), # relu层\n",
    "            nn.MaxPool2d(kernel_size=2), # 进行池化操作(2*2区域)，输出结果为(16, 14, 14)\n",
    "        )\n",
    "        self.conv2 = nn.Sequential(  # 下一个套餐的输入 (16, 14, 14)\n",
    "            nn.Conv2d(16, 32, 5, 1, 2),  # 输出(32, 14, 14)\n",
    "            nn.ReLU(), # relu层\n",
    "            nn.MaxPool2d(2), # 进行池化操作(2*2区域),输出结果为(16, 14, 14)\n",
    "        )\n",
    "        self.out = nn.Linear(32 * 7 * 7, 10)   # 全连接层得到的结果\n",
    "\n",
    "\n",
    "    def forward(self, x):\n",
    "        x = self.conv1(x)\n",
    "        x = self.conv2(x)\n",
    "        x = x.view(x.size(0), -1)    # flatten操作，结果为:(batch_size, 32 * 7 * 7)\n",
    "        output = self.out(x)\n",
    "        return output\n"
   ],
   "metadata": {
    "collapsed": false,
    "ExecuteTime": {
     "start_time": "2023-05-08T10:38:25.021916Z",
     "end_time": "2023-05-08T10:38:25.058750Z"
    }
   }
  },
  {
   "cell_type": "markdown",
   "source": [
    "#### 准确率作为评估标准"
   ],
   "metadata": {
    "collapsed": false
   }
  },
  {
   "cell_type": "code",
   "execution_count": 11,
   "outputs": [],
   "source": [
    "def accuracy(predictions, labels):\n",
    "    pred = torch.max(predictions.data, 1)[1]\n",
    "    rights = pred.eq(labels.data.view_as(pred)).sum()\n",
    "    return rights, len(labels)"
   ],
   "metadata": {
    "collapsed": false,
    "ExecuteTime": {
     "start_time": "2023-05-08T10:38:52.658610Z",
     "end_time": "2023-05-08T10:38:52.687345Z"
    }
   }
  },
  {
   "cell_type": "markdown",
   "source": [
    "#### 训练网络模型"
   ],
   "metadata": {
    "collapsed": false
   }
  },
  {
   "cell_type": "code",
   "execution_count": 14,
   "outputs": [
    {
     "name": "stdout",
     "output_type": "stream",
     "text": [
      "当前epoch: 0 [0/60000 (0%)]\t损失: 2.309266\t训练集准确率: 6.25%\t测试集正确率: 15.62%\n",
      "当前epoch: 0 [6400/60000 (11%)]\t损失: 0.254410\t训练集准确率: 75.76%\t测试集正确率: 92.73%\n",
      "当前epoch: 0 [12800/60000 (21%)]\t损失: 0.091269\t训练集准确率: 84.90%\t测试集正确率: 95.59%\n",
      "当前epoch: 0 [19200/60000 (32%)]\t损失: 0.193015\t训练集准确率: 88.56%\t测试集正确率: 96.47%\n",
      "当前epoch: 0 [25600/60000 (43%)]\t损失: 0.138645\t训练集准确率: 90.46%\t测试集正确率: 97.14%\n",
      "当前epoch: 0 [32000/60000 (53%)]\t损失: 0.050154\t训练集准确率: 91.75%\t测试集正确率: 97.06%\n",
      "当前epoch: 0 [38400/60000 (64%)]\t损失: 0.097091\t训练集准确率: 92.64%\t测试集正确率: 97.88%\n",
      "当前epoch: 0 [44800/60000 (75%)]\t损失: 0.147344\t训练集准确率: 93.31%\t测试集正确率: 98.04%\n",
      "当前epoch: 0 [51200/60000 (85%)]\t损失: 0.015160\t训练集准确率: 93.86%\t测试集正确率: 97.73%\n",
      "当前epoch: 0 [57600/60000 (96%)]\t损失: 0.023454\t训练集准确率: 94.32%\t测试集正确率: 98.06%\n",
      "当前epoch: 1 [0/60000 (0%)]\t损失: 0.015032\t训练集准确率: 100.00%\t测试集正确率: 97.79%\n",
      "当前epoch: 1 [6400/60000 (11%)]\t损失: 0.017407\t训练集准确率: 98.21%\t测试集正确率: 98.01%\n",
      "当前epoch: 1 [12800/60000 (21%)]\t损失: 0.068062\t训练集准确率: 98.05%\t测试集正确率: 98.22%\n",
      "当前epoch: 1 [19200/60000 (32%)]\t损失: 0.066236\t训练集准确率: 98.09%\t测试集正确率: 98.18%\n",
      "当前epoch: 1 [25600/60000 (43%)]\t损失: 0.039682\t训练集准确率: 98.13%\t测试集正确率: 98.26%\n",
      "当前epoch: 1 [32000/60000 (53%)]\t损失: 0.075008\t训练集准确率: 98.14%\t测试集正确率: 98.47%\n",
      "当前epoch: 1 [38400/60000 (64%)]\t损失: 0.083685\t训练集准确率: 98.17%\t测试集正确率: 98.81%\n",
      "当前epoch: 1 [44800/60000 (75%)]\t损失: 0.078749\t训练集准确率: 98.21%\t测试集正确率: 98.47%\n",
      "当前epoch: 1 [51200/60000 (85%)]\t损失: 0.015170\t训练集准确率: 98.23%\t测试集正确率: 98.56%\n",
      "当前epoch: 1 [57600/60000 (96%)]\t损失: 0.120672\t训练集准确率: 98.28%\t测试集正确率: 98.64%\n",
      "当前epoch: 2 [0/60000 (0%)]\t损失: 0.015705\t训练集准确率: 100.00%\t测试集正确率: 98.50%\n",
      "当前epoch: 2 [6400/60000 (11%)]\t损失: 0.136581\t训练集准确率: 98.79%\t测试集正确率: 98.76%\n",
      "当前epoch: 2 [12800/60000 (21%)]\t损失: 0.016553\t训练集准确率: 98.85%\t测试集正确率: 98.86%\n",
      "当前epoch: 2 [19200/60000 (32%)]\t损失: 0.183625\t训练集准确率: 98.85%\t测试集正确率: 98.32%\n",
      "当前epoch: 2 [25600/60000 (43%)]\t损失: 0.051475\t训练集准确率: 98.81%\t测试集正确率: 98.60%\n",
      "当前epoch: 2 [32000/60000 (53%)]\t损失: 0.019924\t训练集准确率: 98.79%\t测试集正确率: 98.67%\n",
      "当前epoch: 2 [38400/60000 (64%)]\t损失: 0.029558\t训练集准确率: 98.77%\t测试集正确率: 98.68%\n",
      "当前epoch: 2 [44800/60000 (75%)]\t损失: 0.004305\t训练集准确率: 98.74%\t测试集正确率: 98.93%\n",
      "当前epoch: 2 [51200/60000 (85%)]\t损失: 0.092391\t训练集准确率: 98.74%\t测试集正确率: 98.65%\n",
      "当前epoch: 2 [57600/60000 (96%)]\t损失: 0.092073\t训练集准确率: 98.73%\t测试集正确率: 98.81%\n"
     ]
    }
   ],
   "source": [
    "# 实例化\n",
    "net = CNN()\n",
    "# 损失函数\n",
    "criterion = nn.CrossEntropyLoss()\n",
    "# 优化器\n",
    "optimizer = optim.Adam(net.parameters(), lr=0.001) # 定义优化器，普通的随机梯度下降算法\n",
    "\n",
    "# 开始训练循环\n",
    "for epoch in range(num_epochs):\n",
    "    # 当前epoch的结果保存下来\n",
    "    train_rights = []\n",
    "\n",
    "    for batch_idx, (data, target) in enumerate(train_loader): # 针对容器中的每一个批进行循环\n",
    "        net.train()\n",
    "        output = net(data)\n",
    "        loss = criterion(output, target)\n",
    "        optimizer.zero_grad()\n",
    "        loss.backward()\n",
    "        optimizer.step()\n",
    "        right = accuracy(output, target)\n",
    "        train_rights.append(right)\n",
    "\n",
    "\n",
    "        if batch_idx % 100 == 0:\n",
    "            net.eval()\n",
    "            val_rights = []\n",
    "\n",
    "            for (data, target) in test_loader:\n",
    "                output = net(data)\n",
    "                right = accuracy(output, target)\n",
    "                val_rights.append(right)\n",
    "\n",
    "            # 准确率计算\n",
    "            train_r =  (sum([tup[0] for tup in train_rights]), sum([tup[1] for tup in train_rights]))\n",
    "            val_r = (sum([tup[0] for tup in val_rights]), sum([tup[1] for tup in val_rights]))\n",
    "\n",
    "            print('当前epoch: {} [{}/{} ({:.0f}%)]\\t损失: {:.6f}\\t训练集准确率: {:.2f}%\\t测试集正确率: {:.2f}%'.format(\n",
    "                epoch, batch_idx * batch_size, len(train_loader.dataset),\n",
    "                100. * batch_idx / len(train_loader),\n",
    "                loss.data,\n",
    "                100. * train_r[0].numpy() / train_r[1],\n",
    "                100. * val_r[0].numpy() / val_r[1]))"
   ],
   "metadata": {
    "collapsed": false,
    "ExecuteTime": {
     "start_time": "2023-05-08T10:47:13.396339Z",
     "end_time": "2023-05-08T10:51:25.325441Z"
    }
   }
  },
  {
   "cell_type": "code",
   "execution_count": null,
   "outputs": [],
   "source": [],
   "metadata": {
    "collapsed": false
   }
  }
 ],
 "metadata": {
  "kernelspec": {
   "display_name": "Python 3",
   "language": "python",
   "name": "python3"
  },
  "language_info": {
   "codemirror_mode": {
    "name": "ipython",
    "version": 2
   },
   "file_extension": ".py",
   "mimetype": "text/x-python",
   "name": "python",
   "nbconvert_exporter": "python",
   "pygments_lexer": "ipython2",
   "version": "2.7.6"
  }
 },
 "nbformat": 4,
 "nbformat_minor": 0
}
