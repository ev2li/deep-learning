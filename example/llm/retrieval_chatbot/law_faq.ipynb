{
 "cells": [
  {
   "cell_type": "markdown",
   "source": [
    "# 检索机器人"
   ],
   "metadata": {
    "collapsed": false
   }
  },
  {
   "cell_type": "markdown",
   "source": [
    "#### Step1. 读取faq数据"
   ],
   "metadata": {
    "collapsed": false
   }
  },
  {
   "cell_type": "code",
   "execution_count": null,
   "outputs": [],
   "source": [
    "import pandas as pd\n",
    "import torch\n",
    "\n",
    "data = pd.read_csv(\"./law_faq.csv\")\n",
    "data.head()"
   ],
   "metadata": {
    "collapsed": false
   }
  },
  {
   "cell_type": "markdown",
   "source": [
    "#### Step2. 加载模型"
   ],
   "metadata": {
    "collapsed": false
   }
  },
  {
   "cell_type": "code",
   "execution_count": null,
   "outputs": [],
   "source": [
    "from dual_model import DualModel\n",
    "\n",
    "dual_model = DualModel.from_pretrained(\"../model/dual_model/checkpoint-500\")\n",
    "dual_model = dual_model.cuda()\n",
    "dual_model.eval()\n",
    "print(\"匹配模型加载成功!\")"
   ],
   "metadata": {
    "collapsed": false
   }
  },
  {
   "cell_type": "code",
   "execution_count": null,
   "outputs": [],
   "source": [
    "from transformers import AutoTokenizer\n",
    "tokenizer = AutoTokenizer.from_pretrained(\"hf1/chinese-macbert-base\")\n",
    "tokenizer"
   ],
   "metadata": {
    "collapsed": false
   }
  },
  {
   "cell_type": "markdown",
   "source": [
    "#### Step3. 将问题编码为向量"
   ],
   "metadata": {
    "collapsed": false
   }
  },
  {
   "cell_type": "code",
   "execution_count": null,
   "outputs": [],
   "source": [
    "import torch\n",
    "from tqdm import tqdm\n",
    "questions = data[\"title\"].tolist()\n",
    "vectors = []\n",
    "with torch.inference_mode():\n",
    "    for i in tqdm(range(0, len(questions), 32)):\n",
    "        batch_sens = questions[i:i+32]\n",
    "        # print(len(batch))\n",
    "        inputs = tokenizer(batch_sens, return_tensor=\"pt\", padding=True, max_length=128, truncation=True)\n",
    "        inputs = {k: v.to(dual_model.device) for k, v in inputs.items()}\n",
    "        vector = dual_model.bert(**inputs)[1]\n",
    "        vectors.append(vector)\n",
    "vectors = torch.concat(vectors, dim=0).cpu().numpy()\n",
    "vectors.shape"
   ],
   "metadata": {
    "collapsed": false
   }
  },
  {
   "cell_type": "markdown",
   "source": [
    "#### Step4. 创建索引"
   ],
   "metadata": {
    "collapsed": false
   }
  },
  {
   "cell_type": "code",
   "execution_count": null,
   "outputs": [],
   "source": [
    "import faiss\n",
    "\n",
    "index = faiss.IndexFlatIP(768)\n",
    "faiss.normalize_L2(vectors)\n",
    "index.add(vectors)\n",
    "index"
   ],
   "metadata": {
    "collapsed": false
   }
  },
  {
   "cell_type": "markdown",
   "source": [
    "#### Step5. 对问题进行向量编码"
   ],
   "metadata": {
    "collapsed": false
   }
  },
  {
   "cell_type": "code",
   "execution_count": null,
   "outputs": [],
   "source": [
    "question = \"寻衅滋事\"\n",
    "with torch.inference_mode:\n",
    "    inputs = tokenizer(batch_sens, return_tensor=\"pt\", padding=True, max_length=128, truncation=True)\n",
    "    inputs = {k: v.to(dual_model.device) for k, v in inputs.items()}\n",
    "    vector = dual_model.bert(**inputs)[1]\n",
    "    q_vector = vector.cpu().numpy()\n",
    "q_vector.shape"
   ],
   "metadata": {
    "collapsed": false
   }
  },
  {
   "cell_type": "markdown",
   "source": [
    "#### Step6. 向量匹配(召回)"
   ],
   "metadata": {
    "collapsed": false
   }
  },
  {
   "cell_type": "code",
   "execution_count": null,
   "outputs": [],
   "source": [
    "faiss.normalize_L2(q_vector)\n",
    "score, indexes = index.search(q_vector, 1)\n",
    "topk_result = data.values[indexes[0].tolist()]\n",
    "topk_result[:,0]"
   ],
   "metadata": {
    "collapsed": false
   }
  },
  {
   "cell_type": "markdown",
   "source": [
    "#### Step7. 加载交互模型(排序)"
   ],
   "metadata": {
    "collapsed": false
   }
  },
  {
   "cell_type": "code",
   "execution_count": null,
   "outputs": [],
   "source": [
    "from transformers import BertForSequenceClassification\n",
    "corss_model = BertForSequenceClassification(\"../12-sentence_similaryity/cross_model/checkpoint-500/\")\n",
    "corss_model.eval()\n",
    "print(\"模型加载成功\")"
   ],
   "metadata": {
    "collapsed": false
   }
  },
  {
   "cell_type": "markdown",
   "source": [
    "#### Step8. 最终预测"
   ],
   "metadata": {
    "collapsed": false
   }
  },
  {
   "cell_type": "code",
   "execution_count": null,
   "outputs": [],
   "source": [
    "canidate = topk_result[:,0].tolist()\n",
    "qes = [question] * len(canidate)\n",
    "inputs = tokenizer(question, canidate, return_tensor=\"pt\", padding=True, max_length=128, truncation=True)\n",
    "inputs = {k,v.to(cross_model.device) for k,v in inputs.items()}\n",
    "with torch.inference_mode():\n",
    "    logits = corss_model(**inputs).logits.squeeze()\n",
    "    # print(logits)\n",
    "    result = torch.argmax(logits, dim=-1)\n",
    "result"
   ],
   "metadata": {
    "collapsed": false
   }
  },
  {
   "cell_type": "code",
   "execution_count": null,
   "outputs": [],
   "source": [
    "canidate_answer = topk_result[:,1].tolist()\n",
    "match_question = canidate[result.item()]\n",
    "final_answer = canidate_answer[result.item()]\n",
    "print(f\"{question} 的相似问题是 {match_question}\")"
   ],
   "metadata": {
    "collapsed": false
   }
  },
  {
   "cell_type": "code",
   "execution_count": null,
   "outputs": [],
   "source": [],
   "metadata": {
    "collapsed": false
   }
  }
 ],
 "metadata": {
  "kernelspec": {
   "display_name": "Python 3",
   "language": "python",
   "name": "python3"
  },
  "language_info": {
   "codemirror_mode": {
    "name": "ipython",
    "version": 2
   },
   "file_extension": ".py",
   "mimetype": "text/x-python",
   "name": "python",
   "nbconvert_exporter": "python",
   "pygments_lexer": "ipython2",
   "version": "2.7.6"
  }
 },
 "nbformat": 4,
 "nbformat_minor": 0
}
