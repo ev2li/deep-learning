{
 "cells": [
  {
   "cell_type": "code",
   "execution_count": 33,
   "metadata": {
    "collapsed": true,
    "ExecuteTime": {
     "start_time": "2023-05-05T10:24:21.898721Z",
     "end_time": "2023-05-05T10:24:21.920294Z"
    }
   },
   "outputs": [],
   "source": [
    "from pathlib import Path\n",
    "import requests\n",
    "\n",
    "DATA_PATH = Path(\"data\")\n",
    "PATH = DATA_PATH / \"mnist\"\n",
    "\n",
    "PATH.mkdir(parents=True, exist_ok=True)\n",
    "\n",
    "URL = \"http://deeplearning.net/data/mnist/\"\n",
    "FILENAME = \"mnist.pkl.gz\"\n",
    "\n",
    "if not(PATH/FILENAME).exists():\n",
    "    content = requests.get(URL + FILENAME).content\n",
    "    (PATH/FILENAME).open(\"wb\").write(content)"
   ]
  },
  {
   "cell_type": "code",
   "execution_count": 17,
   "outputs": [],
   "source": [
    "import pickle\n",
    "import gzip\n",
    "\n",
    "with gzip.open((PATH / FILENAME).as_posix(), \"rb\") as f:\n",
    "    ((x_train, y_train), (x_valid, y_valid), _) = pickle.load(f, encoding=\"latin-1\")"
   ],
   "metadata": {
    "collapsed": false,
    "ExecuteTime": {
     "start_time": "2023-05-04T19:12:47.998703Z",
     "end_time": "2023-05-04T19:12:48.908134Z"
    }
   }
  },
  {
   "cell_type": "markdown",
   "source": [
    "784是mnist数据集每个样本的像素点个数"
   ],
   "metadata": {
    "collapsed": false
   }
  },
  {
   "cell_type": "code",
   "execution_count": 18,
   "outputs": [
    {
     "name": "stdout",
     "output_type": "stream",
     "text": [
      "(50000, 784)\n"
     ]
    },
    {
     "data": {
      "text/plain": "<Figure size 640x480 with 1 Axes>",
      "image/png": "[encoded data removed]"
     },
     "metadata": {},
     "output_type": "display_data"
    }
   ],
   "source": [
    "from  matplotlib import pyplot\n",
    "import numpy as np\n",
    "\n",
    "pyplot.imshow(x_train[0].reshape((28, 28)), cmap=\"gray\")\n",
    "print(x_train.shape)"
   ],
   "metadata": {
    "collapsed": false,
    "ExecuteTime": {
     "start_time": "2023-05-04T19:12:50.746513Z",
     "end_time": "2023-05-04T19:12:50.998707Z"
    }
   }
  },
  {
   "cell_type": "markdown",
   "source": [],
   "metadata": {
    "collapsed": false
   }
  },
  {
   "cell_type": "markdown",
   "source": [
    "# 注意数据需要转换成tensor才能参与后续建模训"
   ],
   "metadata": {
    "collapsed": false
   }
  },
  {
   "cell_type": "code",
   "execution_count": 20,
   "outputs": [
    {
     "name": "stdout",
     "output_type": "stream",
     "text": [
      "tensor([[0., 0., 0.,  ..., 0., 0., 0.],\n",
      "        [0., 0., 0.,  ..., 0., 0., 0.],\n",
      "        [0., 0., 0.,  ..., 0., 0., 0.],\n",
      "        ...,\n",
      "        [0., 0., 0.,  ..., 0., 0., 0.],\n",
      "        [0., 0., 0.,  ..., 0., 0., 0.],\n",
      "        [0., 0., 0.,  ..., 0., 0., 0.]]) tensor([5, 0, 4,  ..., 8, 4, 8])\n",
      "torch.Size([50000, 784])\n",
      "tensor(0) tensor(9)\n"
     ]
    },
    {
     "name": "stderr",
     "output_type": "stream",
     "text": [
      "/var/folders/2g/d27fqh0s1x15sknzqypt6cd00000gn/T/ipykernel_35921/2266007477.py:3: UserWarning: To copy construct from a tensor, it is recommended to use sourceTensor.clone().detach() or sourceTensor.clone().detach().requires_grad_(True), rather than torch.tensor(sourceTensor).\n",
      "  x_train, y_train, x_valid, y_valid = map(\n"
     ]
    }
   ],
   "source": [
    "import torch\n",
    "\n",
    "x_train, y_train, x_valid, y_valid = map(\n",
    "    torch.tensor, (x_train, y_train, x_valid, y_valid)\n",
    ")\n",
    "n, c = x_train.shape\n",
    "x_train, x_train.shape, y_train.min(), y_train.max()\n",
    "print(x_train, y_train)\n",
    "print(x_train.shape)\n",
    "print(y_train.min(), y_train.max())"
   ],
   "metadata": {
    "collapsed": false,
    "ExecuteTime": {
     "start_time": "2023-05-04T19:18:09.040800Z",
     "end_time": "2023-05-04T19:18:09.183747Z"
    }
   }
  },
  {
   "cell_type": "markdown",
   "source": [
    "#### torch.nn.functional很多层和函数在这里都会见到\n",
    "- torch.nn.functional有很多功能，后续会常用的，那什么时候使用nn.Module,什么时候使用nn.functional？\n",
    "- 一般情况下，如果模型有可学习的参数，最好用nn.Module,其他情况nn.functional相对更简单一些"
   ],
   "metadata": {
    "collapsed": false
   }
  },
  {
   "cell_type": "code",
   "execution_count": 21,
   "outputs": [],
   "source": [
    "import torch.nn.functional as F\n",
    "loss_func = F.cross_entropy\n",
    "\n",
    "def model(xb):\n",
    "    return xb.mm(weights) + bias"
   ],
   "metadata": {
    "collapsed": false,
    "ExecuteTime": {
     "start_time": "2023-05-04T19:21:43.266789Z",
     "end_time": "2023-05-04T19:21:43.329646Z"
    }
   }
  },
  {
   "cell_type": "code",
   "execution_count": 22,
   "outputs": [
    {
     "name": "stdout",
     "output_type": "stream",
     "text": [
      "tensor(12.7821, grad_fn=<NllLossBackward0>)\n"
     ]
    }
   ],
   "source": [
    "bs = 64\n",
    "xb = x_train[0:bs] # a mini-batch  from x\n",
    "yb = y_train[0:bs]\n",
    "weights = torch.randn([784, 10], dtype = torch.float, requires_grad = True)\n",
    "bs = 64\n",
    "bias = torch.zeros(10, requires_grad=True)\n",
    "print(loss_func(model(xb), yb))"
   ],
   "metadata": {
    "collapsed": false,
    "ExecuteTime": {
     "start_time": "2023-05-04T19:23:46.364302Z",
     "end_time": "2023-05-04T19:23:46.452039Z"
    }
   }
  },
  {
   "cell_type": "markdown",
   "source": [
    "#### 创建一个model来更简化代码\n",
    "- 必须继承nn.Module且在其构造函数中需要调用nn.Module的构造函数\n",
    "- 无需写反向传播函数，nn.Module能够利用autograd自动实现反向传播\n",
    "- Module中的可学习参数可以通过named_parameters()或者parameters()返回迭代器\n"
   ],
   "metadata": {
    "collapsed": false
   }
  },
  {
   "cell_type": "code",
   "execution_count": 23,
   "outputs": [
    {
     "name": "stdout",
     "output_type": "stream",
     "text": [
      "Mnist_NN(\n",
      "  (hidden1): Linear(in_features=784, out_features=128, bias=True)\n",
      "  (hidden2): Linear(in_features=128, out_features=256, bias=True)\n",
      "  (out): Linear(in_features=256, out_features=10, bias=True)\n",
      ")\n"
     ]
    }
   ],
   "source": [
    "from torch import nn\n",
    "\n",
    "class Mnist_NN(nn.Module):\n",
    "    def __init__(self):\n",
    "        super().__init__()\n",
    "        self.hidden1 = nn.Linear(784, 128)\n",
    "        self.hidden2 = nn.Linear(128, 256)\n",
    "        self.out = nn.Linear(256, 10)\n",
    "\n",
    "    def forward(self, x):\n",
    "        x = F.relu(self.hidden1(x))\n",
    "        x = F.relu(self.hidden2(x))\n",
    "        x = self.out(x)\n",
    "        return x\n",
    "\n",
    "net = Mnist_NN()\n",
    "print(net)"
   ],
   "metadata": {
    "collapsed": false,
    "ExecuteTime": {
     "start_time": "2023-05-04T19:46:05.021342Z",
     "end_time": "2023-05-04T19:46:05.063415Z"
    }
   }
  },
  {
   "cell_type": "markdown",
   "source": [
    "#### 可以打印我们定义好名字里的权重和偏置项"
   ],
   "metadata": {
    "collapsed": false
   }
  },
  {
   "cell_type": "code",
   "execution_count": 24,
   "outputs": [
    {
     "name": "stdout",
     "output_type": "stream",
     "text": [
      "hidden1.weight Parameter containing:\n",
      "tensor([[-0.0330, -0.0061, -0.0054,  ..., -0.0283,  0.0083,  0.0317],\n",
      "        [-0.0235, -0.0201,  0.0347,  ..., -0.0145, -0.0090,  0.0117],\n",
      "        [ 0.0036, -0.0049,  0.0265,  ..., -0.0201, -0.0179,  0.0170],\n",
      "        ...,\n",
      "        [-0.0088,  0.0287,  0.0113,  ..., -0.0189, -0.0282,  0.0046],\n",
      "        [-0.0064,  0.0326,  0.0113,  ...,  0.0159, -0.0135, -0.0353],\n",
      "        [ 0.0227, -0.0002,  0.0225,  ...,  0.0074, -0.0161, -0.0126]],\n",
      "       requires_grad=True) torch.Size([128, 784])\n",
      "hidden1.bias Parameter containing:\n",
      "tensor([-1.9396e-02,  8.4284e-03,  1.5730e-02, -2.1988e-02,  1.3432e-02,\n",
      "        -6.2439e-03, -6.6784e-03,  1.9832e-02,  9.8350e-03,  3.2715e-02,\n",
      "         6.2802e-03, -2.9357e-02,  2.1415e-03, -2.4042e-02, -1.3089e-02,\n",
      "        -5.8933e-03, -1.6689e-02, -8.1898e-03,  8.9319e-03,  3.1116e-02,\n",
      "        -2.4093e-05, -3.0979e-03, -2.6263e-02, -2.6842e-03,  8.3232e-03,\n",
      "        -2.2129e-02,  1.7525e-02, -9.0573e-03,  1.6172e-02,  2.0581e-02,\n",
      "         1.3802e-02, -1.5338e-02,  3.5067e-02,  2.0569e-02,  1.6831e-02,\n",
      "         9.1423e-03, -2.2729e-02,  1.2895e-02, -2.9668e-02, -1.8519e-02,\n",
      "        -3.4169e-03,  3.2801e-02,  2.4454e-02, -1.4446e-02, -2.9936e-02,\n",
      "         8.2844e-03, -2.3322e-02,  7.0153e-03, -3.2025e-02,  2.7565e-02,\n",
      "        -3.8023e-03, -1.0043e-02, -3.0646e-02, -5.4965e-03, -5.8177e-03,\n",
      "         2.1748e-02,  3.1345e-02, -1.9526e-02, -6.3219e-03, -2.6551e-02,\n",
      "         1.2162e-02, -5.3729e-03,  2.4339e-02,  2.3295e-02, -1.3035e-03,\n",
      "         2.6957e-02, -2.3098e-02,  2.9692e-04, -1.1336e-03,  1.7308e-02,\n",
      "        -9.7129e-03, -2.7378e-02, -5.6736e-03, -7.8765e-03,  2.4278e-02,\n",
      "        -2.5414e-03,  1.3973e-02,  2.8282e-02, -1.5685e-02,  9.0010e-03,\n",
      "         1.7342e-02, -3.4634e-02,  9.5198e-03, -1.0089e-02, -1.3286e-02,\n",
      "         1.6634e-02,  7.3274e-03, -7.9316e-03,  1.4715e-02, -3.0394e-02,\n",
      "        -2.2707e-02,  2.6538e-02, -1.3602e-02, -1.7357e-02,  2.3165e-02,\n",
      "         3.0242e-02, -9.0194e-03, -1.0556e-02,  3.5445e-03,  3.1862e-02,\n",
      "         2.9282e-02, -2.5112e-03,  2.7592e-02,  2.0494e-02,  5.1333e-03,\n",
      "         8.5121e-03,  1.8912e-02, -3.8608e-03,  2.6312e-02,  2.9999e-02,\n",
      "         1.8352e-02, -2.3831e-02, -1.1067e-02, -9.5805e-03,  1.1812e-02,\n",
      "         2.4918e-03, -9.1976e-03, -4.1111e-03,  2.3649e-02,  3.3844e-02,\n",
      "        -2.5938e-02,  2.6524e-03, -1.3052e-02,  2.7971e-02,  1.7107e-02,\n",
      "         2.1396e-02, -5.8373e-03, -2.3497e-02], requires_grad=True) torch.Size([128])\n",
      "hidden2.weight Parameter containing:\n",
      "tensor([[-0.0456, -0.0539, -0.0341,  ...,  0.0644, -0.0557,  0.0150],\n",
      "        [-0.0472,  0.0618, -0.0415,  ..., -0.0652,  0.0424,  0.0845],\n",
      "        [-0.0723, -0.0864,  0.0083,  ...,  0.0270, -0.0425,  0.0395],\n",
      "        ...,\n",
      "        [-0.0037, -0.0333, -0.0613,  ...,  0.0877,  0.0745,  0.0399],\n",
      "        [ 0.0229,  0.0696,  0.0218,  ...,  0.0209, -0.0417, -0.0107],\n",
      "        [-0.0328, -0.0476, -0.0404,  ..., -0.0264,  0.0211, -0.0218]],\n",
      "       requires_grad=True) torch.Size([256, 128])\n",
      "hidden2.bias Parameter containing:\n",
      "tensor([ 0.0807,  0.0453,  0.0403,  0.0382,  0.0673, -0.0166,  0.0010, -0.0232,\n",
      "        -0.0722,  0.0445, -0.0288, -0.0584,  0.0716, -0.0034, -0.0077,  0.0619,\n",
      "        -0.0226,  0.0811, -0.0443, -0.0531, -0.0582,  0.0856, -0.0405, -0.0630,\n",
      "        -0.0021,  0.0343,  0.0483, -0.0819, -0.0623, -0.0876, -0.0455, -0.0152,\n",
      "         0.0246, -0.0577, -0.0245, -0.0648,  0.0659, -0.0753,  0.0813,  0.0270,\n",
      "         0.0051,  0.0079,  0.0231, -0.0546, -0.0679, -0.0778,  0.0412,  0.0743,\n",
      "         0.0878,  0.0497,  0.0557, -0.0274, -0.0132,  0.0044,  0.0229,  0.0339,\n",
      "        -0.0616, -0.0468, -0.0752,  0.0720,  0.0849, -0.0831, -0.0747, -0.0597,\n",
      "        -0.0041,  0.0625, -0.0425, -0.0598,  0.0110,  0.0322,  0.0554, -0.0266,\n",
      "         0.0583,  0.0705, -0.0636,  0.0614,  0.0153,  0.0359,  0.0085, -0.0828,\n",
      "         0.0505, -0.0179, -0.0021, -0.0712, -0.0389,  0.0548, -0.0632,  0.0733,\n",
      "        -0.0795,  0.0011,  0.0410, -0.0318, -0.0121, -0.0424, -0.0290, -0.0194,\n",
      "         0.0755, -0.0382, -0.0634,  0.0553, -0.0279, -0.0384,  0.0603, -0.0323,\n",
      "        -0.0571, -0.0112,  0.0535, -0.0407, -0.0512,  0.0575,  0.0382,  0.0470,\n",
      "         0.0540, -0.0517,  0.0392, -0.0813, -0.0066, -0.0758, -0.0168,  0.0551,\n",
      "        -0.0679, -0.0589, -0.0134,  0.0244,  0.0546, -0.0440, -0.0521, -0.0012,\n",
      "         0.0848,  0.0810,  0.0224, -0.0438, -0.0257, -0.0783,  0.0063,  0.0747,\n",
      "         0.0520,  0.0507,  0.0709, -0.0203, -0.0440, -0.0650,  0.0553,  0.0824,\n",
      "         0.0664, -0.0881, -0.0118, -0.0793,  0.0831,  0.0452,  0.0012,  0.0036,\n",
      "         0.0437, -0.0131,  0.0462, -0.0482, -0.0737,  0.0290,  0.0010, -0.0775,\n",
      "        -0.0792, -0.0213, -0.0751, -0.0296, -0.0669, -0.0302, -0.0705, -0.0714,\n",
      "         0.0607,  0.0087,  0.0358,  0.0654,  0.0161,  0.0607,  0.0414,  0.0460,\n",
      "        -0.0579,  0.0362, -0.0031, -0.0713,  0.0841,  0.0154,  0.0009,  0.0099,\n",
      "        -0.0278,  0.0416, -0.0298, -0.0693, -0.0715,  0.0451, -0.0825,  0.0271,\n",
      "        -0.0558, -0.0591,  0.0305, -0.0841, -0.0105,  0.0501, -0.0185, -0.0125,\n",
      "        -0.0176, -0.0231,  0.0565, -0.0732, -0.0689,  0.0766, -0.0470, -0.0781,\n",
      "         0.0225,  0.0243, -0.0073,  0.0756,  0.0452,  0.0475, -0.0408, -0.0112,\n",
      "        -0.0019,  0.0843, -0.0471,  0.0817, -0.0329, -0.0084, -0.0255,  0.0326,\n",
      "        -0.0672,  0.0814, -0.0724,  0.0550,  0.0030, -0.0103, -0.0311, -0.0117,\n",
      "        -0.0491, -0.0793,  0.0068,  0.0270, -0.0697, -0.0113,  0.0074,  0.0402,\n",
      "        -0.0041, -0.0112, -0.0815, -0.0716, -0.0870,  0.0373, -0.0552,  0.0167,\n",
      "         0.0474,  0.0865,  0.0428,  0.0672, -0.0539, -0.0192, -0.0235, -0.0193],\n",
      "       requires_grad=True) torch.Size([256])\n",
      "out.weight Parameter containing:\n",
      "tensor([[-0.0523,  0.0593, -0.0599,  ...,  0.0292, -0.0218,  0.0124],\n",
      "        [ 0.0042,  0.0239, -0.0371,  ...,  0.0369, -0.0203,  0.0095],\n",
      "        [ 0.0216, -0.0231, -0.0505,  ...,  0.0380,  0.0033,  0.0576],\n",
      "        ...,\n",
      "        [-0.0412,  0.0505,  0.0188,  ...,  0.0374, -0.0534, -0.0604],\n",
      "        [-0.0101, -0.0197,  0.0291,  ..., -0.0576, -0.0255, -0.0135],\n",
      "        [-0.0238,  0.0231,  0.0530,  ...,  0.0186,  0.0145, -0.0078]],\n",
      "       requires_grad=True) torch.Size([10, 256])\n",
      "out.bias Parameter containing:\n",
      "tensor([-0.0189, -0.0392,  0.0289,  0.0365, -0.0606,  0.0418, -0.0444, -0.0123,\n",
      "        -0.0486, -0.0197], requires_grad=True) torch.Size([10])\n"
     ]
    }
   ],
   "source": [
    "for name, parameter in net.named_parameters():\n",
    "    print(name, parameter, parameter.size())"
   ],
   "metadata": {
    "collapsed": false,
    "ExecuteTime": {
     "start_time": "2023-05-05T09:58:35.422893Z",
     "end_time": "2023-05-05T09:58:35.467394Z"
    }
   }
  },
  {
   "cell_type": "markdown",
   "source": [
    "#### 使用TensorDataSet和DataLoader来简化"
   ],
   "metadata": {
    "collapsed": false
   }
  },
  {
   "cell_type": "code",
   "execution_count": 27,
   "outputs": [],
   "source": [
    "from torch.utils.data import TensorDataset\n",
    "from torch.utils.data import DataLoader\n",
    "\n",
    "train_ds = TensorDataset(x_train, y_train)\n",
    "train_dl = DataLoader(train_ds, batch_size=bs, shuffle=True)\n",
    "\n",
    "valid_ds = TensorDataset(x_valid, y_valid)\n",
    "valid_dl = DataLoader(valid_ds, batch_size=bs * 2)"
   ],
   "metadata": {
    "collapsed": false,
    "ExecuteTime": {
     "start_time": "2023-05-05T10:01:34.737734Z",
     "end_time": "2023-05-05T10:01:34.753791Z"
    }
   }
  },
  {
   "cell_type": "code",
   "execution_count": 28,
   "outputs": [],
   "source": [
    "def get_data(train_ds, valid_ds, bs):\n",
    "    return(\n",
    "        DataLoader(train_ds, batch_size=bs, shuffle=True),\n",
    "        DataLoader(valid_ds, batch_size=bs * 2),\n",
    "    )"
   ],
   "metadata": {
    "collapsed": false,
    "ExecuteTime": {
     "start_time": "2023-05-05T10:02:47.699894Z",
     "end_time": "2023-05-05T10:02:47.752474Z"
    }
   }
  },
  {
   "cell_type": "markdown",
   "source": [
    "- 一般在训练模型时加上model.train(),这样会正常使用Batch Normalization和Dropout\n",
    "- 测试的时候一般选择model.eval(),这样就不会使用Batch Normalization和Dropout"
   ],
   "metadata": {
    "collapsed": false
   }
  },
  {
   "cell_type": "code",
   "execution_count": 31,
   "outputs": [],
   "source": [
    "import numpy as np\n",
    "def fit(steps, model, loss_func, opt, train_dl, valid_dl):\n",
    "    for step in range(steps):\n",
    "        model.train()\n",
    "        for xb, yb in train_dl:\n",
    "            loss_batch(model, loss_func, xb, yb, opt)\n",
    "        model.eval()\n",
    "        with torch.no_grad():\n",
    "            losses, nums = zip(\n",
    "                *[loss_batch(model, loss_func, xb, yb) for xb, yb in valid_dl]\n",
    "            )\n",
    "        val_loss = np.sum(np.multiply(losses, nums)) / np.sum(nums)\n",
    "        print('当前step:' + str(step), '验证集损失:' + str(val_loss))\n",
    "\n",
    "from  torch import optim\n",
    "def get_model():\n",
    "    model = Mnist_NN()\n",
    "    return model, optim.SGD(model.parameters(), lr=0.001)\n",
    "\n",
    "def loss_batch(model, loss_func, xb, yb, opt=None):\n",
    "    loss = loss_func(model(xb), yb)\n",
    "    if opt is not None:\n",
    "        loss.backward()\n",
    "        opt.step()\n",
    "        opt.zero_grad()\n",
    "\n",
    "    return loss.item(), len(xb)"
   ],
   "metadata": {
    "collapsed": false,
    "ExecuteTime": {
     "start_time": "2023-05-05T10:11:22.130347Z",
     "end_time": "2023-05-05T10:11:22.148434Z"
    }
   }
  },
  {
   "cell_type": "markdown",
   "source": [
    "#### 三行搞定"
   ],
   "metadata": {
    "collapsed": false
   }
  },
  {
   "cell_type": "code",
   "execution_count": 32,
   "outputs": [
    {
     "name": "stdout",
     "output_type": "stream",
     "text": [
      "当前step:0 验证集损失:2.27742477684021\n",
      "当前step:1 验证集损失:2.24214747467041\n",
      "当前step:2 验证集损失:2.1867171966552736\n",
      "当前step:3 验证集损失:2.096063547515869\n",
      "当前step:4 验证集损失:1.9503003734588622\n",
      "当前step:5 验证集损失:1.7381544765472412\n",
      "当前step:6 验证集损失:1.4856054355621338\n",
      "当前step:7 验证集损失:1.2465494743347167\n",
      "当前step:8 验证集损失:1.0541899835586548\n",
      "当前step:9 验证集损失:0.9085170248031617\n",
      "当前step:10 验证集损失:0.7995493671417236\n",
      "当前step:11 验证集损失:0.7154311067581177\n",
      "当前step:12 验证集损失:0.6507110740661621\n",
      "当前step:13 验证集损失:0.5984433879852294\n",
      "当前step:14 验证集损失:0.556724278640747\n",
      "当前step:15 验证集损失:0.5235785067558288\n",
      "当前step:16 验证集损失:0.4954576874732971\n",
      "当前step:17 验证集损失:0.47268485436439517\n",
      "当前step:18 验证集损失:0.4529767426967621\n",
      "当前step:19 验证集损失:0.43633910393714903\n",
      "当前step:20 验证集损失:0.42246720376014707\n",
      "当前step:21 验证集损失:0.4098489918231964\n",
      "当前step:22 验证集损失:0.3990304673910141\n",
      "当前step:23 验证集损失:0.3893602008581161\n",
      "当前step:24 验证集损失:0.3810117306232452\n"
     ]
    }
   ],
   "source": [
    "train_dl, valid_dl = get_data(train_ds, valid_ds, bs)\n",
    "model, opt  = get_model()\n",
    "fit(25, model, loss_func, opt, train_dl, valid_dl)"
   ],
   "metadata": {
    "collapsed": false,
    "ExecuteTime": {
     "start_time": "2023-05-05T10:14:37.235545Z",
     "end_time": "2023-05-05T10:15:12.852476Z"
    }
   }
  },
  {
   "cell_type": "code",
   "execution_count": null,
   "outputs": [],
   "source": [],
   "metadata": {
    "collapsed": false
   }
  }
 ],
 "metadata": {
  "kernelspec": {
   "display_name": "Python 3",
   "language": "python",
   "name": "python3"
  },
  "language_info": {
   "codemirror_mode": {
    "name": "ipython",
    "version": 2
   },
   "file_extension": ".py",
   "mimetype": "text/x-python",
   "name": "python",
   "nbconvert_exporter": "python",
   "pygments_lexer": "ipython2",
   "version": "2.7.6"
  }
 },
 "nbformat": 4,
 "nbformat_minor": 0
}
