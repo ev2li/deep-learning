{
 "cells": [
  {
   "cell_type": "markdown",
   "source": [
    "## 内容\n",
    "1. 结构化数据类型\n",
    "2. 字段访问\n",
    "一、结构化数据类型\n",
    "结构化数据类型可以被认为是一定长度的字节序列(结构的项大小)，它被解释为字段的集合，每个字段在结构中都有一个名称，一个数据类型和一个字节偏移量，字段的数据类型可以是任何numpy的数据类型\n",
    "3. 可以使用函数numpy.dtype创建结构化数据类型，有4种替代形式的规范，它们的灵活性和简洁性各个相同"
   ],
   "metadata": {
    "collapsed": false
   }
  },
  {
   "cell_type": "markdown",
   "source": [
    "#### 1.1 元组列表\n",
    "元组列表，每个字段一个元组，每个元组都具有(fieldname, datatype,shape)形式，其中shape是可选的"
   ],
   "metadata": {
    "collapsed": false
   }
  },
  {
   "cell_type": "code",
   "execution_count": 2,
   "outputs": [
    {
     "data": {
      "text/plain": "dtype([('x', '<f4'), ('f1', '<i4'), ('f2', '<i2'), ('z', '<i8')])"
     },
     "execution_count": 2,
     "metadata": {},
     "output_type": "execute_result"
    }
   ],
   "source": [
    "import numpy as np\n",
    "np.dtype([('x', 'f4'),('y', np.float32), ('z','f4',(2,2))])\n",
    "\n",
    "# 如果fieldname是空字符串'',则该字段将被赋予f#的形式的默认名称\n",
    "np.dtype([('x', 'f4'), ('', 'i4'), ('', 'i2'), ('z', 'i8')])\n",
    "\n",
    "# print(np.dtype('3int8,float32,(2,3)float64'))"
   ],
   "metadata": {
    "collapsed": false,
    "ExecuteTime": {
     "start_time": "2023-10-07T17:25:59.648783Z",
     "end_time": "2023-10-07T17:25:59.659128Z"
    }
   }
  },
  {
   "cell_type": "markdown",
   "source": [
    "#### 1.2、一串以逗号分隔的dtype规格(不推荐)"
   ],
   "metadata": {
    "collapsed": false
   }
  },
  {
   "cell_type": "code",
   "execution_count": null,
   "outputs": [],
   "source": [],
   "metadata": {
    "collapsed": false
   }
  }
 ],
 "metadata": {
  "kernelspec": {
   "display_name": "Python 3",
   "language": "python",
   "name": "python3"
  },
  "language_info": {
   "codemirror_mode": {
    "name": "ipython",
    "version": 2
   },
   "file_extension": ".py",
   "mimetype": "text/x-python",
   "name": "python",
   "nbconvert_exporter": "python",
   "pygments_lexer": "ipython2",
   "version": "2.7.6"
  }
 },
 "nbformat": 4,
 "nbformat_minor": 0
}
