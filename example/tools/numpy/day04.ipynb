{
 "cells": [
  {
   "cell_type": "markdown",
   "source": [
    "## 内容\n",
    "1. 基本切片和索引\n",
    "2. 数组索引\n",
    "3. 布尔数组索引\n",
    "4. 缺省索引\n",
    "5. 索引数组与切片结合\n",
    "\n",
    "### 1、基本切片和索引\n",
    "基本切片(base slicing)将python的基本概念扩展到N维，当obj是一个切片对象(由方括号内的start:stop:step表示法构造)整数或切片对象和整数的元组时，会产生切片操作\n",
    "#### 1.1 单元素索引"
   ],
   "metadata": {
    "collapsed": false
   }
  },
  {
   "cell_type": "code",
   "execution_count": 1,
   "outputs": [
    {
     "name": "stdout",
     "output_type": "stream",
     "text": [
      "[0 1 2 3 4 5 6 7 8 9]\n",
      "2\n",
      "8\n"
     ]
    }
   ],
   "source": [
    "from IPython.display import Image\n",
    "import numpy as np\n",
    "\n",
    "# 一维\n",
    "x = np.arange(10)\n",
    "print(x)\n",
    "print(x[2])\n",
    "print(x[-2])"
   ],
   "metadata": {
    "collapsed": false,
    "ExecuteTime": {
     "start_time": "2023-10-07T16:50:09.090054Z",
     "end_time": "2023-10-07T16:50:09.226135Z"
    }
   }
  },
  {
   "cell_type": "code",
   "execution_count": 2,
   "outputs": [
    {
     "name": "stdout",
     "output_type": "stream",
     "text": [
      "[[0 1 2 3 4]\n",
      " [5 6 7 8 9]]\n"
     ]
    }
   ],
   "source": [
    "# 二维\n",
    "x.shape = (2, 5)\n",
    "print(x)"
   ],
   "metadata": {
    "collapsed": false,
    "ExecuteTime": {
     "start_time": "2023-10-07T16:50:51.816316Z",
     "end_time": "2023-10-07T16:50:51.826557Z"
    }
   }
  },
  {
   "cell_type": "code",
   "execution_count": 3,
   "outputs": [
    {
     "name": "stdout",
     "output_type": "stream",
     "text": [
      "8\n"
     ]
    }
   ],
   "source": [
    "print(x[1, 3])"
   ],
   "metadata": {
    "collapsed": false,
    "ExecuteTime": {
     "start_time": "2023-10-07T16:51:02.573070Z",
     "end_time": "2023-10-07T16:51:02.582140Z"
    }
   }
  },
  {
   "cell_type": "code",
   "execution_count": 4,
   "outputs": [
    {
     "name": "stdout",
     "output_type": "stream",
     "text": [
      "9\n"
     ]
    }
   ],
   "source": [
    "print(x[1, -1])"
   ],
   "metadata": {
    "collapsed": false,
    "ExecuteTime": {
     "start_time": "2023-10-07T16:51:20.291711Z",
     "end_time": "2023-10-07T16:51:20.298576Z"
    }
   }
  },
  {
   "cell_type": "code",
   "execution_count": 5,
   "outputs": [
    {
     "name": "stdout",
     "output_type": "stream",
     "text": [
      "[0 1 2 3 4]\n"
     ]
    }
   ],
   "source": [
    "print(x[0])"
   ],
   "metadata": {
    "collapsed": false,
    "ExecuteTime": {
     "start_time": "2023-10-07T16:51:29.291270Z",
     "end_time": "2023-10-07T16:51:29.300587Z"
    }
   }
  },
  {
   "cell_type": "code",
   "execution_count": 6,
   "outputs": [
    {
     "name": "stdout",
     "output_type": "stream",
     "text": [
      "[0 1 2 3 4]\n"
     ]
    }
   ],
   "source": [
    "print(x[0,:])"
   ],
   "metadata": {
    "collapsed": false,
    "ExecuteTime": {
     "start_time": "2023-10-07T16:51:41.728306Z",
     "end_time": "2023-10-07T16:51:41.738337Z"
    }
   }
  },
  {
   "cell_type": "code",
   "execution_count": 7,
   "outputs": [
    {
     "name": "stdout",
     "output_type": "stream",
     "text": [
      "2\n"
     ]
    }
   ],
   "source": [
    "print(x[0][2])"
   ],
   "metadata": {
    "collapsed": false,
    "ExecuteTime": {
     "start_time": "2023-10-07T16:51:55.661005Z",
     "end_time": "2023-10-07T16:51:55.670489Z"
    }
   }
  },
  {
   "cell_type": "markdown",
   "source": [
    "#### 1.2 切片和跨步\n",
    "1. 基本切片语法是i:j:k,其中i是起始索引，j是停止索引，k是步骤"
   ],
   "metadata": {
    "collapsed": false
   }
  },
  {
   "cell_type": "code",
   "execution_count": 8,
   "outputs": [
    {
     "name": "stdout",
     "output_type": "stream",
     "text": [
      "[1 3 5]\n"
     ]
    }
   ],
   "source": [
    "x = np.array([0,1,2,3,4,5,6,7,8,9])\n",
    "print(x[1:7:2])"
   ],
   "metadata": {
    "collapsed": false,
    "ExecuteTime": {
     "start_time": "2023-10-07T16:53:27.163918Z",
     "end_time": "2023-10-07T16:53:27.173050Z"
    }
   }
  },
  {
   "cell_type": "code",
   "execution_count": 9,
   "outputs": [
    {
     "name": "stdout",
     "output_type": "stream",
     "text": [
      "[8 9]\n"
     ]
    }
   ],
   "source": [
    "print(x[-2:10])"
   ],
   "metadata": {
    "collapsed": false,
    "ExecuteTime": {
     "start_time": "2023-10-07T16:54:14.154268Z",
     "end_time": "2023-10-07T16:54:14.164242Z"
    }
   }
  },
  {
   "cell_type": "code",
   "execution_count": 10,
   "outputs": [
    {
     "name": "stdout",
     "output_type": "stream",
     "text": [
      "[7 6 5 4]\n"
     ]
    }
   ],
   "source": [
    "print(x[-3:3:-1])"
   ],
   "metadata": {
    "collapsed": false,
    "ExecuteTime": {
     "start_time": "2023-10-07T16:54:28.439034Z",
     "end_time": "2023-10-07T16:54:28.466208Z"
    }
   }
  },
  {
   "cell_type": "markdown",
   "source": [
    "2. 假设n是要切片的维度中的元素数，如果没有给i,k >0时默认为0，k<0时默认为n-1.如果未给定j,则k>0时默认为n，k<0时默认为-n-1，如果未指定k，则默认为1，注意::与:相同，表示沿该轴的所有索引"
   ],
   "metadata": {
    "collapsed": false
   }
  },
  {
   "cell_type": "code",
   "execution_count": 11,
   "outputs": [
    {
     "name": "stdout",
     "output_type": "stream",
     "text": [
      "[5 6 7 8 9]\n"
     ]
    }
   ],
   "source": [
    "print(x[5:])"
   ],
   "metadata": {
    "collapsed": false,
    "ExecuteTime": {
     "start_time": "2023-10-07T16:57:37.658383Z",
     "end_time": "2023-10-07T16:57:37.668341Z"
    }
   }
  },
  {
   "cell_type": "markdown",
   "source": [
    "3. 如果选择元组对象数小于N,则假设后继的任意维，例如"
   ],
   "metadata": {
    "collapsed": false
   }
  },
  {
   "cell_type": "code",
   "execution_count": 12,
   "outputs": [
    {
     "name": "stdout",
     "output_type": "stream",
     "text": [
      "(2, 3, 1)\n"
     ]
    }
   ],
   "source": [
    "x  = np.array([[[1],[2],[3]],\n",
    "                [[4],[5],[6]]])\n",
    "print(x.shape)"
   ],
   "metadata": {
    "collapsed": false,
    "ExecuteTime": {
     "start_time": "2023-10-07T16:59:54.367629Z",
     "end_time": "2023-10-07T16:59:54.400616Z"
    }
   }
  },
  {
   "cell_type": "code",
   "execution_count": 13,
   "outputs": [
    {
     "name": "stdout",
     "output_type": "stream",
     "text": [
      "[[6]]\n"
     ]
    }
   ],
   "source": [
    "print(x[1:2,2])"
   ],
   "metadata": {
    "collapsed": false,
    "ExecuteTime": {
     "start_time": "2023-10-07T17:00:40.480641Z",
     "end_time": "2023-10-07T17:00:40.511411Z"
    }
   }
  },
  {
   "cell_type": "code",
   "execution_count": 14,
   "outputs": [
    {
     "name": "stdout",
     "output_type": "stream",
     "text": [
      "[[6]]\n"
     ]
    }
   ],
   "source": [
    "print(x[1:2,2,])"
   ],
   "metadata": {
    "collapsed": false,
    "ExecuteTime": {
     "start_time": "2023-10-07T17:00:57.117348Z",
     "end_time": "2023-10-07T17:00:57.155069Z"
    }
   }
  },
  {
   "cell_type": "code",
   "execution_count": 15,
   "outputs": [
    {
     "name": "stdout",
     "output_type": "stream",
     "text": [
      "[[6]]\n"
     ]
    }
   ],
   "source": [
    "print(x[1:,2])"
   ],
   "metadata": {
    "collapsed": false,
    "ExecuteTime": {
     "start_time": "2023-10-07T17:01:04.559238Z",
     "end_time": "2023-10-07T17:01:04.615658Z"
    }
   }
  },
  {
   "cell_type": "markdown",
   "source": [
    "#### 2. 数组的索引\n",
    "整数数组索引允许根据数组中的任意项的N维索引来选择它们，每个整数数组表示该维度中的多个索引，索引数组中允许出现负值，并且与处理间个索引或切片时一样"
   ],
   "metadata": {
    "collapsed": false
   }
  },
  {
   "cell_type": "code",
   "execution_count": 16,
   "outputs": [],
   "source": [
    "x = np.arange(10, 1, -1)"
   ],
   "metadata": {
    "collapsed": false,
    "ExecuteTime": {
     "start_time": "2023-10-07T17:03:27.223251Z",
     "end_time": "2023-10-07T17:03:27.254479Z"
    }
   }
  },
  {
   "cell_type": "code",
   "execution_count": 18,
   "outputs": [
    {
     "name": "stdout",
     "output_type": "stream",
     "text": [
      "[10  9  8  7  6  5  4  3  2]\n"
     ]
    }
   ],
   "source": [
    "print(x)"
   ],
   "metadata": {
    "collapsed": false,
    "ExecuteTime": {
     "start_time": "2023-10-07T17:03:37.856431Z",
     "end_time": "2023-10-07T17:03:37.868583Z"
    }
   }
  },
  {
   "cell_type": "code",
   "execution_count": 19,
   "outputs": [
    {
     "name": "stdout",
     "output_type": "stream",
     "text": [
      "[7 7 9 2]\n"
     ]
    }
   ],
   "source": [
    "print(x[np.array([3,3,1,8])])"
   ],
   "metadata": {
    "collapsed": false,
    "ExecuteTime": {
     "start_time": "2023-10-07T17:04:23.618963Z",
     "end_time": "2023-10-07T17:04:23.643328Z"
    }
   }
  },
  {
   "cell_type": "code",
   "execution_count": 20,
   "outputs": [
    {
     "name": "stdout",
     "output_type": "stream",
     "text": [
      "[7 7 4 2]\n"
     ]
    }
   ],
   "source": [
    "print(x[np.array([3,3,-3,8])])"
   ],
   "metadata": {
    "collapsed": false,
    "ExecuteTime": {
     "start_time": "2023-10-07T17:05:06.159643Z",
     "end_time": "2023-10-07T17:05:06.225709Z"
    }
   }
  },
  {
   "cell_type": "markdown",
   "source": [],
   "metadata": {
    "collapsed": false
   }
  },
  {
   "cell_type": "markdown",
   "source": [
    "如果索引超出界限，则引发IndexError\n"
   ],
   "metadata": {
    "collapsed": false
   }
  },
  {
   "cell_type": "code",
   "execution_count": 22,
   "outputs": [
    {
     "name": "stdout",
     "output_type": "stream",
     "text": [
      "(3, 2)\n"
     ]
    }
   ],
   "source": [
    "x = np.array([[1,2],[3,4],[5,6]])\n",
    "print(x.shape)"
   ],
   "metadata": {
    "collapsed": false,
    "ExecuteTime": {
     "start_time": "2023-10-07T17:07:00.310941Z",
     "end_time": "2023-10-07T17:07:00.337119Z"
    }
   }
  },
  {
   "cell_type": "code",
   "execution_count": 23,
   "outputs": [
    {
     "name": "stdout",
     "output_type": "stream",
     "text": [
      "[ 1 -1]\n"
     ]
    }
   ],
   "source": [
    "print(np.array([1,-1]))"
   ],
   "metadata": {
    "collapsed": false,
    "ExecuteTime": {
     "start_time": "2023-10-07T17:08:24.518661Z",
     "end_time": "2023-10-07T17:08:24.554412Z"
    }
   }
  },
  {
   "cell_type": "code",
   "execution_count": 24,
   "outputs": [
    {
     "name": "stdout",
     "output_type": "stream",
     "text": [
      "4\n"
     ]
    }
   ],
   "source": [
    "print(x[1,-1])"
   ],
   "metadata": {
    "collapsed": false,
    "ExecuteTime": {
     "start_time": "2023-10-07T17:08:33.261721Z",
     "end_time": "2023-10-07T17:08:33.304550Z"
    }
   }
  },
  {
   "cell_type": "code",
   "execution_count": 25,
   "outputs": [
    {
     "data": {
      "text/plain": "array([[5, 6],\n       [3, 4]])"
     },
     "execution_count": 25,
     "metadata": {},
     "output_type": "execute_result"
    }
   ],
   "source": [
    "x[np.array([-1,1])]"
   ],
   "metadata": {
    "collapsed": false,
    "ExecuteTime": {
     "start_time": "2023-10-07T17:09:37.500587Z",
     "end_time": "2023-10-07T17:09:37.539160Z"
    }
   }
  },
  {
   "cell_type": "markdown",
   "source": [
    "#### 布尔数组索引\n",
    "当obj是布尔类型的数组对象(可能从比较运算返回)时，会发生这种高级索引\n",
    "可能希望从非NaN的数组中选择所有的条目"
   ],
   "metadata": {
    "collapsed": false
   }
  },
  {
   "cell_type": "code",
   "execution_count": 27,
   "outputs": [
    {
     "name": "stdout",
     "output_type": "stream",
     "text": [
      "[[ True  True]\n",
      " [False  True]\n",
      " [False False]]\n",
      "[1. 2. 3.]\n"
     ]
    }
   ],
   "source": [
    "x = np.array([[1.,2.], [np.nan, 3.], [np.nan, np.nan]])\n",
    "print(~np.isnan(x))\n",
    "print(x[~np.isnan(x)])"
   ],
   "metadata": {
    "collapsed": false,
    "ExecuteTime": {
     "start_time": "2023-10-07T17:12:21.006414Z",
     "end_time": "2023-10-07T17:12:21.026407Z"
    }
   }
  },
  {
   "cell_type": "markdown",
   "source": [
    "#### 4. 缺省索引\n",
    "不完全索引是从多维数组的第一个维度获取索引或切片的一种方便方法"
   ],
   "metadata": {
    "collapsed": false
   }
  },
  {
   "cell_type": "code",
   "execution_count": 32,
   "outputs": [
    {
     "name": "stdout",
     "output_type": "stream",
     "text": [
      "[ 0 10 20 30 40 50 60 70 80 90]\n",
      "(10,)\n",
      "[ 0 10 20 30 40]\n",
      "[50 60 70 80 90]\n"
     ]
    }
   ],
   "source": [
    "a = np.arange(0, 100, 10)\n",
    "print(a)\n",
    "print(a.shape)\n",
    "b = a[:5]\n",
    "print(b)\n",
    "c = a[a >= 50]\n",
    "print(c)"
   ],
   "metadata": {
    "collapsed": false,
    "ExecuteTime": {
     "start_time": "2023-10-07T17:15:01.517510Z",
     "end_time": "2023-10-07T17:15:01.533680Z"
    }
   }
  },
  {
   "cell_type": "markdown",
   "source": [
    "#### 5. 索引数组与切片组合"
   ],
   "metadata": {
    "collapsed": false
   }
  },
  {
   "cell_type": "code",
   "execution_count": 34,
   "outputs": [
    {
     "name": "stdout",
     "output_type": "stream",
     "text": [
      "[[ 0  1  2  3  4  5  6]\n",
      " [ 7  8  9 10 11 12 13]\n",
      " [14 15 16 17 18 19 20]\n",
      " [21 22 23 24 25 26 27]\n",
      " [28 29 30 31 32 33 34]]\n",
      "=====================\n",
      "[[ 1  2]\n",
      " [15 16]\n",
      " [29 30]]\n"
     ]
    }
   ],
   "source": [
    "y = np.arange(35).reshape(5,7)\n",
    "print(y)\n",
    "print(\"=====================\")\n",
    "print(y[np.array([0,2,4]), 1:3])"
   ],
   "metadata": {
    "collapsed": false,
    "ExecuteTime": {
     "start_time": "2023-10-07T17:16:14.018729Z",
     "end_time": "2023-10-07T17:16:14.038590Z"
    }
   }
  },
  {
   "cell_type": "code",
   "execution_count": null,
   "outputs": [],
   "source": [],
   "metadata": {
    "collapsed": false
   }
  }
 ],
 "metadata": {
  "kernelspec": {
   "display_name": "Python 3",
   "language": "python",
   "name": "python3"
  },
  "language_info": {
   "codemirror_mode": {
    "name": "ipython",
    "version": 2
   },
   "file_extension": ".py",
   "mimetype": "text/x-python",
   "name": "python",
   "nbconvert_exporter": "python",
   "pygments_lexer": "ipython2",
   "version": "2.7.6"
  }
 },
 "nbformat": 4,
 "nbformat_minor": 0
}
