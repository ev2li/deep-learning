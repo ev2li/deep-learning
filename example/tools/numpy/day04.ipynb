{
 "cells": [
  {
   "cell_type": "markdown",
   "source": [
    "## 内容\n",
    "1. 基本切片和索引\n",
    "2. 数组索引\n",
    "3. 布尔数组索引\n",
    "4. 缺省索引\n",
    "5. 索引数组与切片结合\n",
    "\n",
    "### 1、基本切片和索引\n",
    "基本切片(base slicing)将python的基本概念扩展到N维，当obj是一个切片对象(由方括号内的start:stop:step表示法构造)整数或切片对象和整数的元组时，会产生切片操作\n",
    "#### 1.1 单元素索引"
   ],
   "metadata": {
    "collapsed": false
   }
  },
  {
   "cell_type": "code",
   "execution_count": null,
   "outputs": [],
   "source": [
    "from IPython.display import Image\n",
    "import numpy as np"
   ],
   "metadata": {
    "collapsed": false
   }
  }
 ],
 "metadata": {
  "kernelspec": {
   "display_name": "Python 3",
   "language": "python",
   "name": "python3"
  },
  "language_info": {
   "codemirror_mode": {
    "name": "ipython",
    "version": 2
   },
   "file_extension": ".py",
   "mimetype": "text/x-python",
   "name": "python",
   "nbconvert_exporter": "python",
   "pygments_lexer": "ipython2",
   "version": "2.7.6"
  }
 },
 "nbformat": 4,
 "nbformat_minor": 0
}
