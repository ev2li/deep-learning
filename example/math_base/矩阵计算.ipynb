{
 "cells": [
  {
   "cell_type": "markdown",
   "source": [
    "#### 矩阵的四则运算"
   ],
   "metadata": {
    "collapsed": false
   }
  },
  {
   "cell_type": "code",
   "execution_count": 4,
   "outputs": [
    {
     "name": "stdout",
     "output_type": "stream",
     "text": [
      "a:\n",
      "[[59  4 30]\n",
      " [23 88 78]\n",
      " [40  7 53]], type:<class 'numpy.ndarray'>\n",
      "a.shape() =  (3, 3)\n",
      "b:\n",
      "[[24 35 10]\n",
      " [29 23 25]\n",
      " [22 40 46]]\n"
     ]
    }
   ],
   "source": [
    "import numpy as np\n",
    "\n",
    "a = np.random.randint(low=1, high=100, size=(3, 3))\n",
    "b = np.random.randint(low=1, high=100, size=(3, 3))\n",
    "print(f\"a:\\n{a}, type:{type(a)}\")\n",
    "print(\"a.shape() = \", a.shape)\n",
    "print(f\"b:\\n{b}\")"
   ],
   "metadata": {
    "collapsed": false,
    "ExecuteTime": {
     "start_time": "2023-06-16T09:46:18.183742Z",
     "end_time": "2023-06-16T09:46:18.198579Z"
    }
   }
  },
  {
   "cell_type": "markdown",
   "source": [
    "#### 向量相乘，得到内积"
   ],
   "metadata": {
    "collapsed": false
   }
  },
  {
   "cell_type": "code",
   "execution_count": 5,
   "outputs": [
    {
     "name": "stdout",
     "output_type": "stream",
     "text": [
      "[0 1 2 3 4]\n",
      "[4 3 2 1 0]\n",
      "10\n"
     ]
    }
   ],
   "source": [
    "x=np.array([0,1,2,3,4]) #等价于 x=np.arange(0,5)\n",
    "y=x[::-1]\n",
    "print(x)\n",
    "print(y)\n",
    "print(np.dot(x,y))"
   ],
   "metadata": {
    "collapsed": false,
    "ExecuteTime": {
     "start_time": "2023-06-16T09:47:29.210713Z",
     "end_time": "2023-06-16T09:47:29.235336Z"
    }
   }
  },
  {
   "cell_type": "markdown",
   "source": [
    "#### 矩阵相乘，得到矩阵的积"
   ],
   "metadata": {
    "collapsed": false
   }
  },
  {
   "cell_type": "code",
   "execution_count": 7,
   "outputs": [
    {
     "name": "stdout",
     "output_type": "stream",
     "text": [
      "(5,)\n",
      "[0 1 2 3 4]\n",
      "[[8]\n",
      " [4]\n",
      " [6]\n",
      " [5]\n",
      " [6]]\n",
      "x.shape:(5,)\n",
      "y.shape(5, 1)\n",
      "[55]\n"
     ]
    }
   ],
   "source": [
    "x=np.arange(0,5)\n",
    "print(x.shape)\n",
    "# 0,10，是随机数的方位，size=(5,1),也就是5维矩阵，且每一维元素数为1个\n",
    "y=np.random.randint(0,10,size=(5,1))\n",
    "print(x)\n",
    "print(y)\n",
    "# 查看矩阵或者数组的维数\n",
    "print(\"x.shape:\"+str(x.shape))\n",
    "print(\"y.shape\"+str(y.shape))\n",
    "print(np.dot(x,y))"
   ],
   "metadata": {
    "collapsed": false,
    "ExecuteTime": {
     "start_time": "2023-06-16T09:49:39.416916Z",
     "end_time": "2023-06-16T09:49:39.423503Z"
    }
   }
  },
  {
   "cell_type": "code",
   "execution_count": 8,
   "outputs": [
    {
     "name": "stdout",
     "output_type": "stream",
     "text": [
      "[[0 1 2]\n",
      " [3 4 5]]\n",
      "[[5 2]\n",
      " [1 6]\n",
      " [8 7]]\n",
      "x.shape:(2, 3)\n",
      "y.shape(3, 2)\n",
      "[[17 20]\n",
      " [59 65]]\n"
     ]
    }
   ],
   "source": [
    "x=np.arange(0,6).reshape(2,3)\n",
    "y=np.random.randint(0,10,size=(3,2))\n",
    "print(x)\n",
    "print(y)\n",
    "print(\"x.shape:\"+str(x.shape))\n",
    "print(\"y.shape\"+str(y.shape))\n",
    "print(np.dot(x,y))"
   ],
   "metadata": {
    "collapsed": false,
    "ExecuteTime": {
     "start_time": "2023-06-16T09:50:33.232306Z",
     "end_time": "2023-06-16T09:50:33.238205Z"
    }
   }
  },
  {
   "cell_type": "code",
   "execution_count": 9,
   "outputs": [
    {
     "ename": "AttributeError",
     "evalue": "'CountVectorizer' object has no attribute 'get_feature_names'",
     "output_type": "error",
     "traceback": [
      "\u001B[0;31m---------------------------------------------------------------------------\u001B[0m",
      "\u001B[0;31mAttributeError\u001B[0m                            Traceback (most recent call last)",
      "Cell \u001B[0;32mIn[9], line 7\u001B[0m\n\u001B[1;32m      4\u001B[0m cv \u001B[38;5;241m=\u001B[39m CountVectorizer()\u001B[38;5;66;03m#创建词袋数据结构\u001B[39;00m\n\u001B[1;32m      5\u001B[0m cv_fit\u001B[38;5;241m=\u001B[39mcv\u001B[38;5;241m.\u001B[39mfit_transform(texts)\n\u001B[0;32m----> 7\u001B[0m \u001B[38;5;28mprint\u001B[39m(\u001B[43mcv\u001B[49m\u001B[38;5;241;43m.\u001B[39;49m\u001B[43mget_feature_names\u001B[49m())    \u001B[38;5;66;03m#['bird', 'cat', 'dog', 'fish'] 列表形式呈现文章生成的词典，以字母顺序进行排列\u001B[39;00m\n\u001B[1;32m      9\u001B[0m \u001B[38;5;28mprint\u001B[39m(cv\u001B[38;5;241m.\u001B[39mvocabulary_)              \u001B[38;5;66;03m# {‘dog’:2,'cat':1,'fish':3,'bird':0} 字典形式呈现，key：词，value:在词袋列表中的index\u001B[39;00m\n\u001B[1;32m     11\u001B[0m \u001B[38;5;28mprint\u001B[39m(cv_fit)\n",
      "\u001B[0;31mAttributeError\u001B[0m: 'CountVectorizer' object has no attribute 'get_feature_names'"
     ]
    }
   ],
   "source": [
    "from sklearn.feature_extraction.text import CountVectorizer,TfidfTransformer\n",
    "\n",
    "texts=[\"dog cat fish\",\"dog cat cat\",\"fish bird\", 'bird'] # “dog cat fish” 为输入列表元素,假设代表一篇文章的所有字符串\n",
    "cv = CountVectorizer()#创建词袋数据结构\n",
    "cv_fit=cv.fit_transform(texts)\n",
    "\n",
    "print(cv.get_feature_names())    #['bird', 'cat', 'dog', 'fish'] 列表形式呈现文章生成的词典，以字母顺序进行排列\n",
    "\n",
    "print(cv.vocabulary_)              # {‘dog’:2,'cat':1,'fish':3,'bird':0} 字典形式呈现，key：词，value:在词袋列表中的index\n",
    "\n",
    "print(cv_fit)\n",
    "'''\n",
    "  (0, 2)\t1  #第0个列表元素\"dog cat fish\"，词典中索引为2的元素:‘dog’， 词频为1\n",
    "  (0, 1)\t1\n",
    "  (0, 3)\t1\n",
    "  (1, 2)\t1\n",
    "  (1, 1)\t2\n",
    "  (2, 3)\t1\n",
    "  (2, 0)\t1\n",
    "  (3, 0)\t1\n",
    "  '''\n",
    "print(cv_fit.toarray()) #.toarray() 是将结果转化为稀疏矩阵矩阵的表示方式；\n",
    "'''\n",
    "[[0 1 1 1]#\"dog cat fish\"\n",
    " [0 2 1 0]#\"dog cat cat\"\n",
    " [1 0 0 1]#\"fish bird\"\n",
    " [1 0 0 0]]#'bird'\n",
    "'''\n",
    "\n",
    "print(cv_fit.toarray().sum(axis=0))  #每个词在所有文档中的词频\n",
    "#[2 3 2 2]#dog:2,cat:3,fish:3,bird:2\n",
    "print(cv_fit.shape)#(4, 4)\n",
    "\n",
    "\n",
    "tfidf = TfidfTransformer()\n",
    "tfidf_fit = tfidf.fit_transform(cv_fit)\n",
    "print(tfidf_fit)\n",
    "'''\n",
    "  (0, 3)\t0.5773502691896257 #dog cat fish中dog对应的tfidf值\n",
    "  (0, 2)\t0.5773502691896257\n",
    "  (0, 1)\t0.5773502691896257\n",
    "  (1, 2)\t0.4472135954999579\n",
    "  (1, 1)\t0.8944271909999159\n",
    "  (2, 3)\t0.7071067811865475\n",
    "  (2, 0)\t0.7071067811865475\n",
    "  (3, 0)\t1.0\n",
    "'''\n",
    "print(tfidf_fit.toarray())\n",
    "'''#对应的稀疏矩阵\n",
    "[[0.         0.57735027 0.57735027 0.57735027]\n",
    " [0.         0.89442719 0.4472136  0.        ]\n",
    " [0.70710678 0.         0.         0.70710678]\n",
    " [1.         0.         0.         0.        ]]\n",
    "'''\n",
    "\n",
    "print(tfidf_fit.shape)#(4, 4)\n",
    "\n"
   ],
   "metadata": {
    "collapsed": false
   }
  },
  {
   "cell_type": "code",
   "execution_count": null,
   "outputs": [],
   "source": [],
   "metadata": {
    "collapsed": false
   }
  }
 ],
 "metadata": {
  "kernelspec": {
   "display_name": "Python 3",
   "language": "python",
   "name": "python3"
  },
  "language_info": {
   "codemirror_mode": {
    "name": "ipython",
    "version": 2
   },
   "file_extension": ".py",
   "mimetype": "text/x-python",
   "name": "python",
   "nbconvert_exporter": "python",
   "pygments_lexer": "ipython2",
   "version": "2.7.6"
  }
 },
 "nbformat": 4,
 "nbformat_minor": 0
}
