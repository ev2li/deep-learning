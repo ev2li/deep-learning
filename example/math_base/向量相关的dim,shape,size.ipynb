{
 "cells": [
  {
   "cell_type": "markdown",
   "source": [
    "#### dim\n",
    "- dim就是维数，比如数组会有一维数组，二维数组，numpy的dim维数同理\n",
    "- 那如何判断numpy的维数,最简单的办法就是数一数“中括号”的数量，没有中括号,dim=0;1个中括号，dim=1;2个中括号,dim=2 ...以此类推\n",
    "1. a = np.array([[1,2,3],[2,3,4]])在array和第一行元素1,2,3中间有2个[，说明是2维。\n",
    "2. a = np.array(3)，在array和第一个元素3中间没有[，所以是0维。\n",
    "3. a = np.array([4])，在array和第一个元素4中间有一个[，说明是1维。"
   ],
   "metadata": {
    "collapsed": false
   }
  },
  {
   "cell_type": "code",
   "execution_count": 1,
   "outputs": [
    {
     "name": "stdout",
     "output_type": "stream",
     "text": [
      "0\n",
      "1\n",
      "2\n"
     ]
    }
   ],
   "source": [
    "import numpy as np\n",
    "\n",
    "a = np.array(3)\n",
    "print(a.ndim)   # a的维度ndim=3\n",
    "\n",
    "b = np.array([2])\n",
    "print(b.ndim)  # b的维度ndim=1\n",
    "\n",
    "c = np.array([[1,2,3],[2,3,4]])\n",
    "print(c.ndim)  # c的维度ndim=2"
   ],
   "metadata": {
    "collapsed": false,
    "ExecuteTime": {
     "end_time": "2023-06-17T03:14:57.779821246Z",
     "start_time": "2023-06-17T03:14:57.735663669Z"
    }
   }
  },
  {
   "cell_type": "markdown",
   "source": [
    "#### shape\n",
    "- shape表示numpy数组是什么形状的，比如一个二维数组是几行几列\n",
    "##### 备注\n",
    "- 使用np.array构造一个2维的数组，使用array.shape查看数组的shape形状\n",
    "- (2, 3)表明numpy数组是2行3列的数组，第一行:1,2,3;第二行:2,3,4"
   ],
   "metadata": {
    "collapsed": false
   }
  },
  {
   "cell_type": "code",
   "execution_count": 2,
   "outputs": [
    {
     "name": "stdout",
     "output_type": "stream",
     "text": [
      "(2, 3)\n"
     ]
    }
   ],
   "source": [
    "array = np.array([[1, 2, 3],\n",
    "                  [2, 3, 4]])\n",
    "print(array.shape)"
   ],
   "metadata": {
    "collapsed": false,
    "ExecuteTime": {
     "end_time": "2023-06-17T03:15:28.022861904Z",
     "start_time": "2023-06-17T03:15:27.969907157Z"
    }
   }
  },
  {
   "cell_type": "markdown",
   "source": [
    "#### size\n",
    "- size表示数组中一共有多少个元素"
   ],
   "metadata": {
    "collapsed": false
   }
  },
  {
   "cell_type": "code",
   "execution_count": 3,
   "outputs": [
    {
     "name": "stdout",
     "output_type": "stream",
     "text": [
      "6\n"
     ]
    }
   ],
   "source": [
    "array = np.array([[1, 2, 3],\n",
    "                  [2, 3, 4]])\n",
    "print(array.size)"
   ],
   "metadata": {
    "collapsed": false,
    "ExecuteTime": {
     "end_time": "2023-06-17T03:18:13.422246026Z",
     "start_time": "2023-06-17T03:18:13.374229297Z"
    }
   }
  },
  {
   "cell_type": "code",
   "execution_count": 4,
   "outputs": [
    {
     "name": "stdout",
     "output_type": "stream",
     "text": [
      "[[1 2 3]\n",
      " [2 3 4]\n",
      " [3 4 5]]\n",
      "number of dim: 2\n",
      "shape: (3, 3)\n",
      "size: 9\n"
     ]
    }
   ],
   "source": [
    "import numpy as np\n",
    "\n",
    "array = np.array([[1, 2, 3], [2, 3, 4], [3, 4, 5]])\n",
    "\n",
    "\n",
    "print(array)  # 打印矩阵\n",
    "print('number of dim:', array.ndim)  # dim维度 2\n",
    "print('shape:', array.shape)  # shape（几行几列）shape(2,3) 代表2行3列\n",
    "print('size:', array.size)  # size 总共有多少个元素在里面"
   ],
   "metadata": {
    "collapsed": false,
    "ExecuteTime": {
     "end_time": "2023-06-17T03:18:46.973681626Z",
     "start_time": "2023-06-17T03:18:46.924718782Z"
    }
   }
  },
  {
   "cell_type": "code",
   "execution_count": null,
   "outputs": [],
   "source": [],
   "metadata": {
    "collapsed": false
   }
  }
 ],
 "metadata": {
  "kernelspec": {
   "display_name": "Python 3",
   "language": "python",
   "name": "python3"
  },
  "language_info": {
   "codemirror_mode": {
    "name": "ipython",
    "version": 2
   },
   "file_extension": ".py",
   "mimetype": "text/x-python",
   "name": "python",
   "nbconvert_exporter": "python",
   "pygments_lexer": "ipython2",
   "version": "2.7.6"
  }
 },
 "nbformat": 4,
 "nbformat_minor": 0
}
