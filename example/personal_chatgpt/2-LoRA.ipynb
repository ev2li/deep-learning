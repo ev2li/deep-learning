{
 "cells": [
  {
   "cell_type": "markdown",
   "source": [
    "#### Summary\n",
    "- LoRA： Low-Rank Adaption of large language models\n",
    "    - A random projection to a smaller subspace\n",
    "    - parameter efficient\n",
    "        - PEFT\n",
    "    - https://arxiv.org/abs/2016.09685\n",
    "- 实现细节上\n",
    "    - 是一个adaptor of pretrained model\n",
    "        - adaptor 是小的\n",
    "        -"
   ],
   "metadata": {
    "collapsed": false
   }
  }
 ],
 "metadata": {
  "kernelspec": {
   "display_name": "Python 3",
   "language": "python",
   "name": "python3"
  },
  "language_info": {
   "codemirror_mode": {
    "name": "ipython",
    "version": 2
   },
   "file_extension": ".py",
   "mimetype": "text/x-python",
   "name": "python",
   "nbconvert_exporter": "python",
   "pygments_lexer": "ipython2",
   "version": "2.7.6"
  }
 },
 "nbformat": 4,
 "nbformat_minor": 0
}
