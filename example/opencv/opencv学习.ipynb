{
 "cells": [
  {
   "cell_type": "code",
   "execution_count": null,
   "metadata": {
    "collapsed": true,
    "is_executing": true
   },
   "outputs": [],
   "source": [
    "import cv2 as cv\n",
    "import matplotlib as plt\n",
    "\n",
    "# 读一个图片并进行显示(图片路径)\n",
    "lena = cv.imread('avatar.png')\n",
    "cv.imshow('image',lena) #显示图像\n",
    "cv.waitKey(0) #等待\n",
    "cv.destroyAllWindows()"
   ]
  },
  {
   "cell_type": "code",
   "execution_count": null,
   "outputs": [],
   "source": [
    "plt.imshow(lena[:,:,::-1])"
   ],
   "metadata": {
    "collapsed": false,
    "is_executing": true
   }
  },
  {
   "cell_type": "code",
   "execution_count": null,
   "outputs": [],
   "source": [
    "import numpy as np\n",
    "import cv2 as cv\n",
    "import matplotlib.pyplot as plt\n",
    "# 1.读取图像\n",
    "img = cv.imread('avatar.png')\n",
    "# img = cv.imread('avatar.png', 0) # 灰度\n",
    "# 2.显示图像\n",
    "# 2.1利用opencv展示图像\n",
    "cv.imshow('image', img)\n",
    "# 2.2 在matplotlib中展示图像\n",
    "plt.imshow(img[:,::-1])\n",
    "# plt.imshow(img, cmap=plt.cm.gray) # 灰度\n",
    "plt.title('匹配结果'), plt.xticks([]), plt.yticks([])\n",
    "plt.show()\n",
    "k = cv.waitKey(0)\n",
    "cv.destroyAllWindows()\n",
    "# 保存图像\n",
    "cv.imwrite('missigray.png', img)"
   ],
   "metadata": {
    "collapsed": false,
    "is_executing": true
   }
  },
  {
   "cell_type": "code",
   "execution_count": null,
   "outputs": [],
   "source": [],
   "metadata": {
    "collapsed": false
   }
  }
 ],
 "metadata": {
  "kernelspec": {
   "display_name": "Python 3",
   "language": "python",
   "name": "python3"
  },
  "language_info": {
   "codemirror_mode": {
    "name": "ipython",
    "version": 2
   },
   "file_extension": ".py",
   "mimetype": "text/x-python",
   "name": "python",
   "nbconvert_exporter": "python",
   "pygments_lexer": "ipython2",
   "version": "2.7.6"
  }
 },
 "nbformat": 4,
 "nbformat_minor": 0
}
