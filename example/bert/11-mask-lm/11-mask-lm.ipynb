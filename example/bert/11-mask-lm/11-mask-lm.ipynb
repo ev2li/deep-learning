{
 "cells": [
  {
   "cell_type": "code",
   "execution_count": 2,
   "metadata": {
    "collapsed": true,
    "ExecuteTime": {
     "end_time": "2023-10-03T10:05:13.623649316Z",
     "start_time": "2023-10-03T10:05:13.582764009Z"
    }
   },
   "outputs": [],
   "source": [
    "import torch\n",
    "from torch import nn\n",
    "from transformers.models.bert import BertTokenizer,BertModel,BertForMaskedLM"
   ]
  },
  {
   "cell_type": "markdown",
   "source": [
    "#### 1. load model and data processing"
   ],
   "metadata": {
    "collapsed": false
   }
  },
  {
   "cell_type": "code",
   "execution_count": 3,
   "outputs": [
    {
     "name": "stderr",
     "output_type": "stream",
     "text": [
      "Some weights of the model checkpoint at ../../models/bert-base-uncased were not used when initializing BertForMaskedLM: ['cls.seq_relationship.bias', 'cls.seq_relationship.weight', 'bert.pooler.dense.bias', 'bert.pooler.dense.weight']\n",
      "- This IS expected if you are initializing BertForMaskedLM from the checkpoint of a model trained on another task or with another architecture (e.g. initializing a BertForSequenceClassification model from a BertForPreTraining model).\n",
      "- This IS NOT expected if you are initializing BertForMaskedLM from the checkpoint of a model that you expect to be exactly identical (initializing a BertForSequenceClassification model from a BertForSequenceClassification model).\n"
     ]
    }
   ],
   "source": [
    "model_name = \"../../models/bert-base-uncased\"\n",
    "tokenizer = BertTokenizer.from_pretrained(model_name)\n",
    "bert = BertModel.from_pretrained(model_name)\n",
    "mlm = BertForMaskedLM.from_pretrained(model_name, output_hidden_states=True)"
   ],
   "metadata": {
    "collapsed": false,
    "ExecuteTime": {
     "end_time": "2023-10-03T10:05:43.514158119Z",
     "start_time": "2023-10-03T10:05:38.732768671Z"
    }
   }
  },
  {
   "cell_type": "code",
   "execution_count": 4,
   "outputs": [
    {
     "data": {
      "text/plain": "BertModel(\n  (embeddings): BertEmbeddings(\n    (word_embeddings): Embedding(30522, 768, padding_idx=0)\n    (position_embeddings): Embedding(512, 768)\n    (token_type_embeddings): Embedding(2, 768)\n    (LayerNorm): LayerNorm((768,), eps=1e-12, elementwise_affine=True)\n    (dropout): Dropout(p=0.1, inplace=False)\n  )\n  (encoder): BertEncoder(\n    (layer): ModuleList(\n      (0-11): 12 x BertLayer(\n        (attention): BertAttention(\n          (self): BertSelfAttention(\n            (query): Linear(in_features=768, out_features=768, bias=True)\n            (key): Linear(in_features=768, out_features=768, bias=True)\n            (value): Linear(in_features=768, out_features=768, bias=True)\n            (dropout): Dropout(p=0.1, inplace=False)\n          )\n          (output): BertSelfOutput(\n            (dense): Linear(in_features=768, out_features=768, bias=True)\n            (LayerNorm): LayerNorm((768,), eps=1e-12, elementwise_affine=True)\n            (dropout): Dropout(p=0.1, inplace=False)\n          )\n        )\n        (intermediate): BertIntermediate(\n          (dense): Linear(in_features=768, out_features=3072, bias=True)\n          (intermediate_act_fn): GELUActivation()\n        )\n        (output): BertOutput(\n          (dense): Linear(in_features=3072, out_features=768, bias=True)\n          (LayerNorm): LayerNorm((768,), eps=1e-12, elementwise_affine=True)\n          (dropout): Dropout(p=0.1, inplace=False)\n        )\n      )\n    )\n  )\n  (pooler): BertPooler(\n    (dense): Linear(in_features=768, out_features=768, bias=True)\n    (activation): Tanh()\n  )\n)"
     },
     "execution_count": 4,
     "metadata": {},
     "output_type": "execute_result"
    }
   ],
   "source": [
    "bert"
   ],
   "metadata": {
    "collapsed": false,
    "ExecuteTime": {
     "end_time": "2023-10-03T10:06:31.809532150Z",
     "start_time": "2023-10-03T10:06:31.738520170Z"
    }
   }
  },
  {
   "cell_type": "code",
   "execution_count": 7,
   "outputs": [],
   "source": [
    "text = (\"After Abraham Lincoln won the November 1860 presidential \"\n",
    "        \"election on an anti-slavery platform, an initial seven \"\n",
    "        \"slave states declared their secession from the country \"\n",
    "        \"to form the Confederacy. War broke out in April 1861 \"\n",
    "        \"when secessionist forces attacked Fort Sumter in South \"\n",
    "        \"Carolina, just over a month after Lincoln's \"\n",
    "        \"inauguration.\")"
   ],
   "metadata": {
    "collapsed": false,
    "ExecuteTime": {
     "end_time": "2023-10-03T10:07:01.255210250Z",
     "start_time": "2023-10-03T10:07:01.208576813Z"
    }
   }
  },
  {
   "cell_type": "code",
   "execution_count": 8,
   "outputs": [
    {
     "data": {
      "text/plain": "\"After Abraham Lincoln won the November 1860 presidential election on an anti-slavery platform, an initial seven slave states declared their secession from the country to form the Confederacy. War broke out in April 1861 when secessionist forces attacked Fort Sumter in South Carolina, just over a month after Lincoln's inauguration.\""
     },
     "execution_count": 8,
     "metadata": {},
     "output_type": "execute_result"
    }
   ],
   "source": [
    "text"
   ],
   "metadata": {
    "collapsed": false,
    "ExecuteTime": {
     "end_time": "2023-10-03T10:07:03.065251773Z",
     "start_time": "2023-10-03T10:07:03.011700850Z"
    }
   }
  },
  {
   "cell_type": "code",
   "execution_count": 51,
   "outputs": [],
   "source": [
    "inputs = tokenizer(text, return_tensors='pt')"
   ],
   "metadata": {
    "collapsed": false,
    "ExecuteTime": {
     "end_time": "2023-10-03T10:28:30.799628640Z",
     "start_time": "2023-10-03T10:28:30.730809037Z"
    }
   }
  },
  {
   "cell_type": "code",
   "execution_count": 52,
   "outputs": [
    {
     "data": {
      "text/plain": "{'input_ids': tensor([[  101,  2044,  8181,  5367,  2180,  1996,  2281,  7313,  4883,  2602,\n          2006,  2019,  3424,  1011,  8864,  4132,  1010,  2019,  3988,  2698,\n          6658,  2163,  4161,  2037, 22965,  2013,  1996,  2406,  2000,  2433,\n          1996, 18179,  1012,  2162,  3631,  2041,  1999,  2258,  6863,  2043,\n         22965,  2923,  2749,  4457,  3481,  7680,  3334,  1999,  2148,  3792,\n          1010,  2074,  2058,  1037,  3204,  2044,  5367,  1005,  1055, 17331,\n          1012,   102]]), 'token_type_ids': tensor([[0, 0, 0, 0, 0, 0, 0, 0, 0, 0, 0, 0, 0, 0, 0, 0, 0, 0, 0, 0, 0, 0, 0, 0,\n         0, 0, 0, 0, 0, 0, 0, 0, 0, 0, 0, 0, 0, 0, 0, 0, 0, 0, 0, 0, 0, 0, 0, 0,\n         0, 0, 0, 0, 0, 0, 0, 0, 0, 0, 0, 0, 0, 0]]), 'attention_mask': tensor([[1, 1, 1, 1, 1, 1, 1, 1, 1, 1, 1, 1, 1, 1, 1, 1, 1, 1, 1, 1, 1, 1, 1, 1,\n         1, 1, 1, 1, 1, 1, 1, 1, 1, 1, 1, 1, 1, 1, 1, 1, 1, 1, 1, 1, 1, 1, 1, 1,\n         1, 1, 1, 1, 1, 1, 1, 1, 1, 1, 1, 1, 1, 1]])}"
     },
     "execution_count": 52,
     "metadata": {},
     "output_type": "execute_result"
    }
   ],
   "source": [
    "inputs"
   ],
   "metadata": {
    "collapsed": false,
    "ExecuteTime": {
     "end_time": "2023-10-03T10:28:31.613582356Z",
     "start_time": "2023-10-03T10:28:31.561425684Z"
    }
   }
  },
  {
   "cell_type": "code",
   "execution_count": 53,
   "outputs": [
    {
     "data": {
      "text/plain": "torch.Size([1, 62])"
     },
     "execution_count": 53,
     "metadata": {},
     "output_type": "execute_result"
    }
   ],
   "source": [
    "inputs[\"input_ids\"].shape"
   ],
   "metadata": {
    "collapsed": false,
    "ExecuteTime": {
     "end_time": "2023-10-03T10:28:33.793372280Z",
     "start_time": "2023-10-03T10:28:33.778590916Z"
    }
   }
  },
  {
   "cell_type": "code",
   "execution_count": 54,
   "outputs": [
    {
     "data": {
      "text/plain": "\"[CLS] after abraham lincoln won the november 1860 presidential election on an anti - slavery platform , an initial seven slave states declared their secession from the country to form the confederacy . war broke out in april 1861 when secession ##ist forces attacked fort sum ##ter in south carolina , just over a month after lincoln ' s inauguration . [SEP]\""
     },
     "execution_count": 54,
     "metadata": {},
     "output_type": "execute_result"
    }
   ],
   "source": [
    "' '.join(tokenizer.convert_ids_to_tokens(inputs[\"input_ids\"][0]))"
   ],
   "metadata": {
    "collapsed": false,
    "ExecuteTime": {
     "end_time": "2023-10-03T10:28:36.902237721Z",
     "start_time": "2023-10-03T10:28:36.825928169Z"
    }
   }
  },
  {
   "cell_type": "markdown",
   "source": [
    "#### 2. masking"
   ],
   "metadata": {
    "collapsed": false
   }
  },
  {
   "cell_type": "code",
   "execution_count": 55,
   "outputs": [],
   "source": [
    "inputs[\"labels\"] = inputs['input_ids'].detach().clone()"
   ],
   "metadata": {
    "collapsed": false,
    "ExecuteTime": {
     "end_time": "2023-10-03T10:28:39.072658980Z",
     "start_time": "2023-10-03T10:28:39.049641792Z"
    }
   }
  },
  {
   "cell_type": "code",
   "execution_count": 56,
   "outputs": [
    {
     "data": {
      "text/plain": "tensor([[  101,  2044,  8181,  5367,  2180,  1996,  2281,  7313,  4883,  2602,\n          2006,  2019,  3424,  1011,  8864,  4132,  1010,  2019,  3988,  2698,\n          6658,  2163,  4161,  2037, 22965,  2013,  1996,  2406,  2000,  2433,\n          1996, 18179,  1012,  2162,  3631,  2041,  1999,  2258,  6863,  2043,\n         22965,  2923,  2749,  4457,  3481,  7680,  3334,  1999,  2148,  3792,\n          1010,  2074,  2058,  1037,  3204,  2044,  5367,  1005,  1055, 17331,\n          1012,   102]])"
     },
     "execution_count": 56,
     "metadata": {},
     "output_type": "execute_result"
    }
   ],
   "source": [
    "inputs[\"labels\"]"
   ],
   "metadata": {
    "collapsed": false,
    "ExecuteTime": {
     "end_time": "2023-10-03T10:28:41.465386625Z",
     "start_time": "2023-10-03T10:28:41.448097850Z"
    }
   }
  },
  {
   "cell_type": "code",
   "execution_count": 57,
   "outputs": [],
   "source": [
    "mask = torch.rand(inputs[\"input_ids\"].shape) < 0.15"
   ],
   "metadata": {
    "collapsed": false,
    "ExecuteTime": {
     "end_time": "2023-10-03T10:28:44.027588482Z",
     "start_time": "2023-10-03T10:28:44.008659299Z"
    }
   }
  },
  {
   "cell_type": "code",
   "execution_count": 58,
   "outputs": [
    {
     "data": {
      "text/plain": "tensor([[False, False, False,  True,  True, False, False, False, False,  True,\n         False, False, False,  True, False,  True, False, False,  True, False,\n         False, False, False,  True, False, False, False, False, False, False,\n         False, False, False, False,  True, False, False, False, False,  True,\n         False, False, False, False, False, False,  True, False,  True, False,\n         False, False, False, False, False, False, False, False, False, False,\n          True,  True]])"
     },
     "execution_count": 58,
     "metadata": {},
     "output_type": "execute_result"
    }
   ],
   "source": [
    "mask"
   ],
   "metadata": {
    "collapsed": false,
    "ExecuteTime": {
     "end_time": "2023-10-03T10:28:45.492048203Z",
     "start_time": "2023-10-03T10:28:45.473798127Z"
    }
   }
  },
  {
   "cell_type": "code",
   "execution_count": 59,
   "outputs": [
    {
     "data": {
      "text/plain": "tensor(13)"
     },
     "execution_count": 59,
     "metadata": {},
     "output_type": "execute_result"
    }
   ],
   "source": [
    "sum(mask[0])"
   ],
   "metadata": {
    "collapsed": false,
    "ExecuteTime": {
     "end_time": "2023-10-03T10:28:46.564432621Z",
     "start_time": "2023-10-03T10:28:46.547054834Z"
    }
   }
  },
  {
   "cell_type": "code",
   "execution_count": 60,
   "outputs": [
    {
     "data": {
      "text/plain": "0.16129032258064516"
     },
     "execution_count": 60,
     "metadata": {},
     "output_type": "execute_result"
    }
   ],
   "source": [
    "10/62"
   ],
   "metadata": {
    "collapsed": false,
    "ExecuteTime": {
     "end_time": "2023-10-03T10:28:46.978945949Z",
     "start_time": "2023-10-03T10:28:46.959213715Z"
    }
   }
  },
  {
   "cell_type": "code",
   "execution_count": 61,
   "outputs": [],
   "source": [
    "mask_arr = (torch.rand(inputs['input_ids'].shape) < 0.15) * (inputs['input_ids'] != 101) * (inputs['input_ids'] != 102)"
   ],
   "metadata": {
    "collapsed": false,
    "ExecuteTime": {
     "end_time": "2023-10-03T10:28:49.261538360Z",
     "start_time": "2023-10-03T10:28:49.246651659Z"
    }
   }
  },
  {
   "cell_type": "code",
   "execution_count": 62,
   "outputs": [
    {
     "data": {
      "text/plain": "tensor([[False, False, False, False, False, False, False, False,  True, False,\n         False, False, False, False, False,  True, False, False, False,  True,\n         False, False, False, False, False, False, False, False, False, False,\n         False, False,  True,  True, False, False, False, False, False, False,\n         False, False, False, False, False, False, False, False, False, False,\n         False, False, False,  True, False, False,  True, False, False, False,\n         False, False]])"
     },
     "execution_count": 62,
     "metadata": {},
     "output_type": "execute_result"
    }
   ],
   "source": [
    "mask_arr"
   ],
   "metadata": {
    "collapsed": false,
    "ExecuteTime": {
     "end_time": "2023-10-03T10:28:50.115731611Z",
     "start_time": "2023-10-03T10:28:50.096187314Z"
    }
   }
  },
  {
   "cell_type": "code",
   "execution_count": 63,
   "outputs": [
    {
     "data": {
      "text/plain": "tensor(7)"
     },
     "execution_count": 63,
     "metadata": {},
     "output_type": "execute_result"
    }
   ],
   "source": [
    "sum(mask_arr[0])"
   ],
   "metadata": {
    "collapsed": false,
    "ExecuteTime": {
     "end_time": "2023-10-03T10:28:51.085009141Z",
     "start_time": "2023-10-03T10:28:51.063691027Z"
    }
   }
  },
  {
   "cell_type": "code",
   "execution_count": 64,
   "outputs": [],
   "source": [
    "selection = torch.flatten(mask_arr[0].nonzero()).tolist()"
   ],
   "metadata": {
    "collapsed": false,
    "ExecuteTime": {
     "end_time": "2023-10-03T10:28:51.574851546Z",
     "start_time": "2023-10-03T10:28:51.558215719Z"
    }
   }
  },
  {
   "cell_type": "code",
   "execution_count": 65,
   "outputs": [
    {
     "data": {
      "text/plain": "[8, 15, 19, 32, 33, 53, 56]"
     },
     "execution_count": 65,
     "metadata": {},
     "output_type": "execute_result"
    }
   ],
   "source": [
    "selection"
   ],
   "metadata": {
    "collapsed": false,
    "ExecuteTime": {
     "end_time": "2023-10-03T10:28:52.500885598Z",
     "start_time": "2023-10-03T10:28:52.448743881Z"
    }
   }
  },
  {
   "cell_type": "code",
   "execution_count": 66,
   "outputs": [
    {
     "data": {
      "text/plain": "{'unk_token': '[UNK]',\n 'sep_token': '[SEP]',\n 'pad_token': '[PAD]',\n 'cls_token': '[CLS]',\n 'mask_token': '[MASK]'}"
     },
     "execution_count": 66,
     "metadata": {},
     "output_type": "execute_result"
    }
   ],
   "source": [
    "tokenizer.special_tokens_map"
   ],
   "metadata": {
    "collapsed": false,
    "ExecuteTime": {
     "end_time": "2023-10-03T10:28:53.110584759Z",
     "start_time": "2023-10-03T10:28:53.093412195Z"
    }
   }
  },
  {
   "cell_type": "code",
   "execution_count": 67,
   "outputs": [
    {
     "data": {
      "text/plain": "103"
     },
     "execution_count": 67,
     "metadata": {},
     "output_type": "execute_result"
    }
   ],
   "source": [
    "tokenizer.vocab[\"[MASK]\"]"
   ],
   "metadata": {
    "collapsed": false,
    "ExecuteTime": {
     "end_time": "2023-10-03T10:28:53.754474370Z",
     "start_time": "2023-10-03T10:28:53.734598153Z"
    }
   }
  },
  {
   "cell_type": "code",
   "execution_count": 68,
   "outputs": [],
   "source": [
    "inputs['input_ids'][0, selection] = 103"
   ],
   "metadata": {
    "collapsed": false,
    "ExecuteTime": {
     "end_time": "2023-10-03T10:28:55.086458814Z",
     "start_time": "2023-10-03T10:28:55.074761951Z"
    }
   }
  },
  {
   "cell_type": "code",
   "execution_count": 69,
   "outputs": [
    {
     "data": {
      "text/plain": "{'input_ids': tensor([[  101,  2044,  8181,  5367,  2180,  1996,  2281,  7313,   103,  2602,\n          2006,  2019,  3424,  1011,  8864,   103,  1010,  2019,  3988,   103,\n          6658,  2163,  4161,  2037, 22965,  2013,  1996,  2406,  2000,  2433,\n          1996, 18179,   103,   103,  3631,  2041,  1999,  2258,  6863,  2043,\n         22965,  2923,  2749,  4457,  3481,  7680,  3334,  1999,  2148,  3792,\n          1010,  2074,  2058,   103,  3204,  2044,   103,  1005,  1055, 17331,\n          1012,   102]]), 'token_type_ids': tensor([[0, 0, 0, 0, 0, 0, 0, 0, 0, 0, 0, 0, 0, 0, 0, 0, 0, 0, 0, 0, 0, 0, 0, 0,\n         0, 0, 0, 0, 0, 0, 0, 0, 0, 0, 0, 0, 0, 0, 0, 0, 0, 0, 0, 0, 0, 0, 0, 0,\n         0, 0, 0, 0, 0, 0, 0, 0, 0, 0, 0, 0, 0, 0]]), 'attention_mask': tensor([[1, 1, 1, 1, 1, 1, 1, 1, 1, 1, 1, 1, 1, 1, 1, 1, 1, 1, 1, 1, 1, 1, 1, 1,\n         1, 1, 1, 1, 1, 1, 1, 1, 1, 1, 1, 1, 1, 1, 1, 1, 1, 1, 1, 1, 1, 1, 1, 1,\n         1, 1, 1, 1, 1, 1, 1, 1, 1, 1, 1, 1, 1, 1]]), 'labels': tensor([[  101,  2044,  8181,  5367,  2180,  1996,  2281,  7313,  4883,  2602,\n          2006,  2019,  3424,  1011,  8864,  4132,  1010,  2019,  3988,  2698,\n          6658,  2163,  4161,  2037, 22965,  2013,  1996,  2406,  2000,  2433,\n          1996, 18179,  1012,  2162,  3631,  2041,  1999,  2258,  6863,  2043,\n         22965,  2923,  2749,  4457,  3481,  7680,  3334,  1999,  2148,  3792,\n          1010,  2074,  2058,  1037,  3204,  2044,  5367,  1005,  1055, 17331,\n          1012,   102]])}"
     },
     "execution_count": 69,
     "metadata": {},
     "output_type": "execute_result"
    }
   ],
   "source": [
    "inputs"
   ],
   "metadata": {
    "collapsed": false,
    "ExecuteTime": {
     "end_time": "2023-10-03T10:28:56.033352626Z",
     "start_time": "2023-10-03T10:28:55.995827968Z"
    }
   }
  },
  {
   "cell_type": "code",
   "execution_count": 70,
   "outputs": [
    {
     "data": {
      "text/plain": "\"[CLS] after abraham lincoln won the november 1860 [MASK] election on an anti - slavery [MASK] , an initial [MASK] slave states declared their secession from the country to form the confederacy [MASK] [MASK] broke out in april 1861 when secession ##ist forces attacked fort sum ##ter in south carolina , just over [MASK] month after [MASK] ' s inauguration . [SEP]\""
     },
     "execution_count": 70,
     "metadata": {},
     "output_type": "execute_result"
    }
   ],
   "source": [
    "\" \".join(tokenizer.convert_ids_to_tokens(inputs['input_ids'][0]))"
   ],
   "metadata": {
    "collapsed": false,
    "ExecuteTime": {
     "end_time": "2023-10-03T10:28:57.879184415Z",
     "start_time": "2023-10-03T10:28:57.826059644Z"
    }
   }
  },
  {
   "cell_type": "code",
   "execution_count": 71,
   "outputs": [
    {
     "data": {
      "text/plain": "\"[CLS] after abraham lincoln won the november 1860 presidential election on an anti - slavery platform , an initial seven slave states declared their secession from the country to form the confederacy . war broke out in april 1861 when secession ##ist forces attacked fort sum ##ter in south carolina , just over a month after lincoln ' s inauguration . [SEP]\""
     },
     "execution_count": 71,
     "metadata": {},
     "output_type": "execute_result"
    }
   ],
   "source": [
    "\" \".join(tokenizer.convert_ids_to_tokens(inputs['labels'][0]))"
   ],
   "metadata": {
    "collapsed": false,
    "ExecuteTime": {
     "end_time": "2023-10-03T10:28:59.978566832Z",
     "start_time": "2023-10-03T10:28:59.956442751Z"
    }
   }
  },
  {
   "cell_type": "markdown",
   "source": [
    "#### 3. forward and calculate loss"
   ],
   "metadata": {
    "collapsed": false
   }
  },
  {
   "cell_type": "code",
   "execution_count": 72,
   "outputs": [],
   "source": [
    "mlm.eval()\n",
    "with torch.no_grad():\n",
    "        output = mlm(**inputs)"
   ],
   "metadata": {
    "collapsed": false,
    "ExecuteTime": {
     "end_time": "2023-10-03T10:29:40.734355243Z",
     "start_time": "2023-10-03T10:29:40.114854611Z"
    }
   }
  },
  {
   "cell_type": "code",
   "execution_count": 73,
   "outputs": [
    {
     "data": {
      "text/plain": "odict_keys(['loss', 'logits', 'hidden_states'])"
     },
     "execution_count": 73,
     "metadata": {},
     "output_type": "execute_result"
    }
   ],
   "source": [
    "output.keys()"
   ],
   "metadata": {
    "collapsed": false,
    "ExecuteTime": {
     "end_time": "2023-10-03T10:29:46.786480778Z",
     "start_time": "2023-10-03T10:29:46.721711681Z"
    }
   }
  },
  {
   "cell_type": "code",
   "execution_count": 74,
   "outputs": [
    {
     "data": {
      "text/plain": "tensor([[[ -7.1467,  -7.0860,  -7.1372,  ...,  -6.3451,  -6.2599,  -4.3199],\n         [-12.2118, -12.0553, -12.3142,  ..., -11.6241, -10.9304,  -9.4274],\n         [ -6.4680,  -6.5631,  -6.0842,  ...,  -6.2033,  -6.2894,  -4.8912],\n         ...,\n         [ -3.3077,  -3.5327,  -3.2557,  ...,  -2.5559,  -2.6619,  -6.6899],\n         [-13.9408, -13.8837, -13.9085,  ..., -10.9444, -10.8564,  -9.8597],\n         [-12.4091, -12.7295, -12.5287,  ..., -11.6290, -10.9041,  -8.2796]]])"
     },
     "execution_count": 74,
     "metadata": {},
     "output_type": "execute_result"
    }
   ],
   "source": [
    "output.logits"
   ],
   "metadata": {
    "collapsed": false,
    "ExecuteTime": {
     "end_time": "2023-10-03T10:29:56.625396464Z",
     "start_time": "2023-10-03T10:29:56.574117233Z"
    }
   }
  },
  {
   "cell_type": "code",
   "execution_count": 75,
   "outputs": [
    {
     "data": {
      "text/plain": "tensor(0.6831)"
     },
     "execution_count": 75,
     "metadata": {},
     "output_type": "execute_result"
    }
   ],
   "source": [
    "output.loss"
   ],
   "metadata": {
    "collapsed": false,
    "ExecuteTime": {
     "end_time": "2023-10-03T10:30:03.095820951Z",
     "start_time": "2023-10-03T10:30:03.043550640Z"
    }
   }
  },
  {
   "cell_type": "code",
   "execution_count": 78,
   "outputs": [
    {
     "data": {
      "text/plain": "tuple"
     },
     "execution_count": 78,
     "metadata": {},
     "output_type": "execute_result"
    }
   ],
   "source": [
    "type(output[\"hidden_states\"])"
   ],
   "metadata": {
    "collapsed": false,
    "ExecuteTime": {
     "end_time": "2023-10-03T10:31:14.561768459Z",
     "start_time": "2023-10-03T10:31:14.502780440Z"
    }
   }
  },
  {
   "cell_type": "code",
   "execution_count": 79,
   "outputs": [
    {
     "data": {
      "text/plain": "13"
     },
     "execution_count": 79,
     "metadata": {},
     "output_type": "execute_result"
    }
   ],
   "source": [
    "len(output[\"hidden_states\"])"
   ],
   "metadata": {
    "collapsed": false,
    "ExecuteTime": {
     "end_time": "2023-10-03T10:31:44.515937919Z",
     "start_time": "2023-10-03T10:31:44.453015544Z"
    }
   }
  },
  {
   "cell_type": "code",
   "execution_count": 77,
   "outputs": [
    {
     "data": {
      "text/plain": "tensor([[[-0.3972,  0.0693, -0.2755,  ..., -0.2881, -0.1247,  0.4333],\n         [-0.6269, -0.0257,  0.2558,  ..., -0.4460,  0.1589,  0.5990],\n         [-0.5807,  1.0084, -0.7404,  ..., -0.4955, -0.3250,  0.4461],\n         ...,\n         [-0.3943,  0.2768, -0.8203,  ..., -0.4461, -0.7303,  1.1885],\n         [ 0.5834,  0.0123, -0.3591,  ...,  0.0985, -0.6580, -0.0154],\n         [ 0.0499,  0.1532, -0.5158,  ..., -0.2261, -0.8722, -0.0483]]])"
     },
     "execution_count": 77,
     "metadata": {},
     "output_type": "execute_result"
    }
   ],
   "source": [
    "output[\"hidden_states\"][-1]"
   ],
   "metadata": {
    "collapsed": false,
    "ExecuteTime": {
     "end_time": "2023-10-03T10:30:53.070208026Z",
     "start_time": "2023-10-03T10:30:53.052477448Z"
    }
   }
  },
  {
   "cell_type": "markdown",
   "source": [
    "#### 4. from scratch"
   ],
   "metadata": {
    "collapsed": false
   }
  },
  {
   "cell_type": "code",
   "execution_count": 80,
   "outputs": [
    {
     "data": {
      "text/plain": "tensor([[[ -7.1467,  -7.0860,  -7.1372,  ...,  -6.3451,  -6.2599,  -4.3199],\n         [-12.2118, -12.0553, -12.3142,  ..., -11.6241, -10.9304,  -9.4274],\n         [ -6.4680,  -6.5631,  -6.0842,  ...,  -6.2033,  -6.2894,  -4.8912],\n         ...,\n         [ -3.3077,  -3.5327,  -3.2557,  ...,  -2.5559,  -2.6619,  -6.6899],\n         [-13.9408, -13.8837, -13.9085,  ..., -10.9444, -10.8564,  -9.8597],\n         [-12.4091, -12.7295, -12.5287,  ..., -11.6290, -10.9041,  -8.2796]]],\n       grad_fn=<ViewBackward0>)"
     },
     "execution_count": 80,
     "metadata": {},
     "output_type": "execute_result"
    }
   ],
   "source": [
    "mlm.cls(output['hidden_states'][-1])"
   ],
   "metadata": {
    "collapsed": false,
    "ExecuteTime": {
     "end_time": "2023-10-03T10:32:35.351696275Z",
     "start_time": "2023-10-03T10:32:35.281115860Z"
    }
   }
  },
  {
   "cell_type": "code",
   "execution_count": 81,
   "outputs": [],
   "source": [
    "last_hidden_state = output['hidden_states'][-1]"
   ],
   "metadata": {
    "collapsed": false,
    "ExecuteTime": {
     "end_time": "2023-10-03T10:33:16.548300559Z",
     "start_time": "2023-10-03T10:33:16.494748829Z"
    }
   }
  },
  {
   "cell_type": "code",
   "execution_count": 83,
   "outputs": [
    {
     "data": {
      "text/plain": "torch.Size([1, 62, 768])"
     },
     "execution_count": 83,
     "metadata": {},
     "output_type": "execute_result"
    }
   ],
   "source": [
    "last_hidden_state.shape"
   ],
   "metadata": {
    "collapsed": false,
    "ExecuteTime": {
     "end_time": "2023-10-03T10:36:15.359199347Z",
     "start_time": "2023-10-03T10:36:15.305748649Z"
    }
   }
  },
  {
   "cell_type": "code",
   "execution_count": 85,
   "outputs": [
    {
     "name": "stdout",
     "output_type": "stream",
     "text": [
      "torch.Size([1, 62, 768])\n",
      "torch.Size([1, 62, 30522])\n"
     ]
    },
    {
     "data": {
      "text/plain": "tensor([[[ -7.1467,  -7.0860,  -7.1372,  ...,  -6.3451,  -6.2599,  -4.3199],\n         [-12.2118, -12.0553, -12.3142,  ..., -11.6241, -10.9304,  -9.4274],\n         [ -6.4680,  -6.5631,  -6.0842,  ...,  -6.2033,  -6.2894,  -4.8912],\n         ...,\n         [ -3.3077,  -3.5327,  -3.2557,  ...,  -2.5559,  -2.6619,  -6.6899],\n         [-13.9408, -13.8837, -13.9085,  ..., -10.9444, -10.8564,  -9.8597],\n         [-12.4091, -12.7295, -12.5287,  ..., -11.6290, -10.9041,  -8.2796]]])"
     },
     "execution_count": 85,
     "metadata": {},
     "output_type": "execute_result"
    }
   ],
   "source": [
    "mlm.eval()\n",
    "with torch.no_grad():\n",
    "        transformed = mlm.cls.predictions.transform(last_hidden_state)\n",
    "        print(transformed.shape)\n",
    "        logits = mlm.cls.predictions.decoder(transformed)\n",
    "        print(logits.shape)\n",
    "logits"
   ],
   "metadata": {
    "collapsed": false,
    "ExecuteTime": {
     "end_time": "2023-10-03T10:38:28.147921989Z",
     "start_time": "2023-10-03T10:38:28.057090834Z"
    }
   }
  },
  {
   "cell_type": "code",
   "execution_count": 86,
   "outputs": [
    {
     "data": {
      "text/plain": "tensor(0.6831)"
     },
     "execution_count": 86,
     "metadata": {},
     "output_type": "execute_result"
    }
   ],
   "source": [
    "output.loss"
   ],
   "metadata": {
    "collapsed": false,
    "ExecuteTime": {
     "end_time": "2023-10-03T10:41:16.957286677Z",
     "start_time": "2023-10-03T10:41:16.882463083Z"
    }
   }
  },
  {
   "cell_type": "markdown",
   "source": [
    "#### 5. loss and translate"
   ],
   "metadata": {
    "collapsed": false
   }
  },
  {
   "cell_type": "code",
   "execution_count": 87,
   "outputs": [],
   "source": [
    "\n",
    "ce = nn.CrossEntropyLoss()"
   ],
   "metadata": {
    "collapsed": false,
    "ExecuteTime": {
     "end_time": "2023-10-03T10:41:37.285418196Z",
     "start_time": "2023-10-03T10:41:37.234610994Z"
    }
   }
  },
  {
   "cell_type": "code",
   "execution_count": 88,
   "outputs": [
    {
     "data": {
      "text/plain": "torch.Size([1, 62, 30522])"
     },
     "execution_count": 88,
     "metadata": {},
     "output_type": "execute_result"
    }
   ],
   "source": [
    "logits.shape"
   ],
   "metadata": {
    "collapsed": false,
    "ExecuteTime": {
     "end_time": "2023-10-03T10:41:41.706203744Z",
     "start_time": "2023-10-03T10:41:41.627668811Z"
    }
   }
  },
  {
   "cell_type": "code",
   "execution_count": 89,
   "outputs": [
    {
     "data": {
      "text/plain": "torch.Size([1, 62])"
     },
     "execution_count": 89,
     "metadata": {},
     "output_type": "execute_result"
    }
   ],
   "source": [
    "inputs[\"labels\"].shape"
   ],
   "metadata": {
    "collapsed": false,
    "ExecuteTime": {
     "end_time": "2023-10-03T10:41:54.102622596Z",
     "start_time": "2023-10-03T10:41:54.049484980Z"
    }
   }
  },
  {
   "cell_type": "code",
   "execution_count": 93,
   "outputs": [
    {
     "data": {
      "text/plain": "torch.Size([62])"
     },
     "execution_count": 93,
     "metadata": {},
     "output_type": "execute_result"
    }
   ],
   "source": [
    "inputs[\"labels\"][0].view(-1).shape"
   ],
   "metadata": {
    "collapsed": false,
    "ExecuteTime": {
     "end_time": "2023-10-03T10:42:35.833906691Z",
     "start_time": "2023-10-03T10:42:35.820684463Z"
    }
   }
  },
  {
   "cell_type": "code",
   "execution_count": 94,
   "outputs": [
    {
     "data": {
      "text/plain": "tensor(0.6831)"
     },
     "execution_count": 94,
     "metadata": {},
     "output_type": "execute_result"
    }
   ],
   "source": [
    "ce(logits[0], inputs[\"labels\"][0].view(-1))"
   ],
   "metadata": {
    "collapsed": false,
    "ExecuteTime": {
     "end_time": "2023-10-03T10:42:49.995678586Z",
     "start_time": "2023-10-03T10:42:49.942945974Z"
    }
   }
  },
  {
   "cell_type": "code",
   "execution_count": 95,
   "outputs": [
    {
     "data": {
      "text/plain": "tensor([ 1012,  2044,  8181,  5367,  2180,  1996,  2281,  7313,  4883,  2602,\n         2006,  2019,  3424,  1011,  8864,  4132,  1010,  2019,  3988,  2698,\n         6658,  2163,  4161,  2037, 22965,  2013,  1996,  2406,  2000,  2433,\n         1996, 18179,  1012,  4808, 12591, 16591,  1999,  2258,  6863,  2043,\n        22965,  2923,  2749,  4457,  3481,  7680,  3334,  1999,  2148,  3792,\n         1010,  2074,  2058,  1037,  3204,  2044,  5367,  1005,  1055, 17331,\n         1012,  1055])"
     },
     "execution_count": 95,
     "metadata": {},
     "output_type": "execute_result"
    }
   ],
   "source": [
    "torch.argmax(logits[0], dim=-1)"
   ],
   "metadata": {
    "collapsed": false,
    "ExecuteTime": {
     "end_time": "2023-10-03T10:43:07.759655971Z",
     "start_time": "2023-10-03T10:43:07.682637056Z"
    }
   }
  },
  {
   "cell_type": "code",
   "execution_count": 96,
   "outputs": [
    {
     "data": {
      "text/plain": "\". after abraham lincoln won the november 1860 presidential election on an anti - slavery platform , an initial seven slave states declared their secession from the country to form the confederacy . violence erupted unrest in april 1861 when secession ##ist forces attacked fort sum ##ter in south carolina , just over a month after lincoln ' s inauguration . s\""
     },
     "execution_count": 96,
     "metadata": {},
     "output_type": "execute_result"
    }
   ],
   "source": [
    "\" \".join(tokenizer.convert_ids_to_tokens(torch.argmax(logits[0], dim=-1)))"
   ],
   "metadata": {
    "collapsed": false,
    "ExecuteTime": {
     "end_time": "2023-10-03T10:43:55.927438762Z",
     "start_time": "2023-10-03T10:43:55.847780191Z"
    }
   }
  },
  {
   "cell_type": "code",
   "execution_count": 97,
   "outputs": [
    {
     "data": {
      "text/plain": "\"[CLS] after abraham lincoln won the november 1860 presidential election on an anti - slavery platform , an initial seven slave states declared their secession from the country to form the confederacy . war broke out in april 1861 when secession ##ist forces attacked fort sum ##ter in south carolina , just over a month after lincoln ' s inauguration . [SEP]\""
     },
     "execution_count": 97,
     "metadata": {},
     "output_type": "execute_result"
    }
   ],
   "source": [
    "\" \".join(tokenizer.convert_ids_to_tokens(inputs[\"labels\"][0]))"
   ],
   "metadata": {
    "collapsed": false,
    "ExecuteTime": {
     "end_time": "2023-10-03T10:44:02.064965341Z",
     "start_time": "2023-10-03T10:44:01.996248931Z"
    }
   }
  },
  {
   "cell_type": "code",
   "execution_count": null,
   "outputs": [],
   "source": [],
   "metadata": {
    "collapsed": false
   }
  }
 ],
 "metadata": {
  "kernelspec": {
   "display_name": "Python 3",
   "language": "python",
   "name": "python3"
  },
  "language_info": {
   "codemirror_mode": {
    "name": "ipython",
    "version": 2
   },
   "file_extension": ".py",
   "mimetype": "text/x-python",
   "name": "python",
   "nbconvert_exporter": "python",
   "pygments_lexer": "ipython2",
   "version": "2.7.6"
  }
 },
 "nbformat": 4,
 "nbformat_minor": 0
}
