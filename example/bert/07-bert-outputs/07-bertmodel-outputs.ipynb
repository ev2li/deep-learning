{
 "cells": [
  {
   "cell_type": "markdown",
   "source": [
    "# Bert model outputs"
   ],
   "metadata": {
    "collapsed": false
   }
  },
  {
   "cell_type": "code",
   "execution_count": 7,
   "outputs": [],
   "source": [
    "from transformers import BertTokenizer, BertModel\n",
    "model_name = \"../../models/bert-base-uncased\"\n",
    "tokenizer = BertTokenizer.from_pretrained(model_name)\n",
    "model = BertModel.from_pretrained(model_name, output_hidden_states=True)"
   ],
   "metadata": {
    "collapsed": false,
    "ExecuteTime": {
     "end_time": "2023-10-03T09:58:17.684455183Z",
     "start_time": "2023-10-03T09:58:15.907340891Z"
    }
   }
  },
  {
   "cell_type": "code",
   "execution_count": 8,
   "outputs": [],
   "source": [
    "text = \"After stealing money from the bank vault,the bank robber was seen fishing on the Mississippi river bank\"\n",
    "token_input = tokenizer(text, return_tensors=\"pt\")"
   ],
   "metadata": {
    "collapsed": false,
    "ExecuteTime": {
     "end_time": "2023-10-03T09:58:19.783270818Z",
     "start_time": "2023-10-03T09:58:19.775457354Z"
    }
   }
  },
  {
   "cell_type": "code",
   "execution_count": 9,
   "outputs": [
    {
     "data": {
      "text/plain": "{'input_ids': tensor([[  101,  2044, 11065,  2769,  2013,  1996,  2924, 11632,  1010,  1996,\n          2924, 27307,  2001,  2464,  5645,  2006,  1996,  5900,  2314,  2924,\n           102]]), 'token_type_ids': tensor([[0, 0, 0, 0, 0, 0, 0, 0, 0, 0, 0, 0, 0, 0, 0, 0, 0, 0, 0, 0, 0]]), 'attention_mask': tensor([[1, 1, 1, 1, 1, 1, 1, 1, 1, 1, 1, 1, 1, 1, 1, 1, 1, 1, 1, 1, 1]])}"
     },
     "execution_count": 9,
     "metadata": {},
     "output_type": "execute_result"
    }
   ],
   "source": [
    "token_input"
   ],
   "metadata": {
    "collapsed": false,
    "ExecuteTime": {
     "end_time": "2023-10-03T09:58:23.518800057Z",
     "start_time": "2023-10-03T09:58:23.450262990Z"
    }
   }
  },
  {
   "cell_type": "markdown",
   "source": [
    "attention_mask 表示是否是padding token_type_ids:表示的是第几句话"
   ],
   "metadata": {
    "collapsed": false
   }
  },
  {
   "cell_type": "code",
   "execution_count": 10,
   "outputs": [
    {
     "data": {
      "text/plain": "(tensor([[  101,  2044, 11065,  2769,  2013,  1996,  2924, 11632,  1010,  1996,\n           2924, 27307,  2001,  2464,  5645,  2006,  1996,  5900,  2314,  2924,\n            102]]),\n torch.Size([1, 21]))"
     },
     "execution_count": 10,
     "metadata": {},
     "output_type": "execute_result"
    }
   ],
   "source": [
    "token_input[\"input_ids\"], token_input[\"input_ids\"].shape"
   ],
   "metadata": {
    "collapsed": false,
    "ExecuteTime": {
     "end_time": "2023-10-03T09:58:25.765112085Z",
     "start_time": "2023-10-03T09:58:25.747998668Z"
    }
   }
  },
  {
   "cell_type": "markdown",
   "source": [
    "#### 2. Model forward\n",
    "- forward\n",
    "    - embedding => encoder => pooler"
   ],
   "metadata": {
    "collapsed": false
   }
  },
  {
   "cell_type": "code",
   "execution_count": 11,
   "outputs": [],
   "source": [
    "import torch\n",
    "model.eval()\n",
    "with torch.no_grad():\n",
    "    outputs = model(**token_input)"
   ],
   "metadata": {
    "collapsed": false,
    "ExecuteTime": {
     "end_time": "2023-10-03T09:58:27.299013725Z",
     "start_time": "2023-10-03T09:58:27.105453687Z"
    }
   }
  },
  {
   "cell_type": "markdown",
   "source": [
    "#### 3. output\n",
    "- len(outputs) == 3\n",
    "- outputs[0]\n",
    "    - last_hidden_state, shape:batch_size * seq_len * hidden_size(1 * 22 * 768)\n",
    "- outputs[1]\n",
    "    - pooler_output, shape:batch_size * hidden_size(1 * 768)\n",
    "- outputs[2]\n",
    "    - type:tuple\n",
    "    - one for the output of the embeddings(1) if the model has an embedding layers(2) + one for the output of each layer\n",
    "        - (1 + 12) * (batch_size * seq_len * hidden_size)  = 1 * 22 * 768"
   ],
   "metadata": {
    "collapsed": false
   }
  },
  {
   "cell_type": "code",
   "execution_count": 12,
   "outputs": [
    {
     "data": {
      "text/plain": "tensor([[[-0.3000, -0.3115, -0.4720,  ..., -0.2708,  0.2723,  0.4763],\n         [-0.1300, -0.2989, -0.3206,  ..., -0.4360,  0.3049, -0.1609],\n         [-0.3073, -0.3125,  0.0526,  ..., -0.3612, -0.2504, -0.3590],\n         ...,\n         [ 0.7788,  0.4333, -0.4847,  ..., -0.3444, -0.2806,  0.2142],\n         [-0.4576, -0.7978, -0.6907,  ...,  0.4885,  0.0514, -0.0744],\n         [ 0.4609,  0.1353, -0.2715,  ...,  0.0866, -0.8293, -0.3762]]])"
     },
     "execution_count": 12,
     "metadata": {},
     "output_type": "execute_result"
    }
   ],
   "source": [
    "outputs[0]"
   ],
   "metadata": {
    "collapsed": false,
    "ExecuteTime": {
     "end_time": "2023-10-03T09:58:32.468317561Z",
     "start_time": "2023-10-03T09:58:32.446442124Z"
    }
   }
  },
  {
   "cell_type": "code",
   "execution_count": null,
   "outputs": [],
   "source": [],
   "metadata": {
    "collapsed": false
   }
  }
 ],
 "metadata": {
  "kernelspec": {
   "display_name": "Python 3",
   "language": "python",
   "name": "python3"
  },
  "language_info": {
   "codemirror_mode": {
    "name": "ipython",
    "version": 2
   },
   "file_extension": ".py",
   "mimetype": "text/x-python",
   "name": "python",
   "nbconvert_exporter": "python",
   "pygments_lexer": "ipython2",
   "version": "2.7.6"
  }
 },
 "nbformat": 4,
 "nbformat_minor": 0
}
