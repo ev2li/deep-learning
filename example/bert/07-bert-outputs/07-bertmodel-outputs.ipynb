{
 "cells": [
  {
   "cell_type": "markdown",
   "source": [
    "# Bert model outputs"
   ],
   "metadata": {
    "collapsed": false
   }
  },
  {
   "cell_type": "code",
   "execution_count": null,
   "outputs": [],
   "source": [
    "from transformers import BertTokenizer, BertModel\n",
    "model_name = \"bert-base-uncased\"\n",
    "tokenizer = BertTokenizer.from_pretrained(model_name)\n",
    "model = BertModel.from_pretrained(model_name, output_hidden_state=True)"
   ],
   "metadata": {
    "collapsed": false
   }
  },
  {
   "cell_type": "code",
   "execution_count": null,
   "outputs": [],
   "source": [
    "text = \"After stealing money from the bank vault,the bank robber was seen fishing on the Mississippi river bank\"\n",
    "token_input = tokenizer(text, return_tensors=\"pt\")"
   ],
   "metadata": {
    "collapsed": false
   }
  },
  {
   "cell_type": "code",
   "execution_count": null,
   "outputs": [],
   "source": [
    "token_input"
   ],
   "metadata": {
    "collapsed": false
   }
  },
  {
   "cell_type": "markdown",
   "source": [
    "attention_mask 表示是否是padding token_type_ids:表示的是第几句话"
   ],
   "metadata": {
    "collapsed": false
   }
  },
  {
   "cell_type": "code",
   "execution_count": null,
   "outputs": [],
   "source": [
    "token_input[\"input_ids\"], token_input[\"input_ids\"].shape"
   ],
   "metadata": {
    "collapsed": false
   }
  },
  {
   "cell_type": "markdown",
   "source": [
    "#### 2. Model forward\n",
    "- forward\n",
    "    - embedding => encoder => pooler"
   ],
   "metadata": {
    "collapsed": false
   }
  },
  {
   "cell_type": "code",
   "execution_count": null,
   "outputs": [],
   "source": [
    "import torch\n",
    "model.eval()\n",
    "with torch.no_grad():\n",
    "    outputs = model(**token_input)"
   ],
   "metadata": {
    "collapsed": false
   }
  },
  {
   "cell_type": "markdown",
   "source": [
    "#### 3. output\n",
    "- len(outputs) == 3\n",
    "- outputs[0]\n",
    "    - last_hidden_state, shape:batch_size * seq_len * hidden_size(1 * 22 * 768)\n",
    "- outputs[1]\n",
    "    - pooler_output, shape:batch_size * hidden_size(1 * 768)\n",
    "- outputs[2]\n",
    "    - type:tuple\n",
    "    - one for the output of the embeddings(1) if the model has an embedding layers(2) + one for the output of each layer\n",
    "        - (1 + 12) * (batch_size * seq_len * hidden_size)  = 1 * 22 * 768"
   ],
   "metadata": {
    "collapsed": false
   }
  }
 ],
 "metadata": {
  "kernelspec": {
   "display_name": "Python 3",
   "language": "python",
   "name": "python3"
  },
  "language_info": {
   "codemirror_mode": {
    "name": "ipython",
    "version": 2
   },
   "file_extension": ".py",
   "mimetype": "text/x-python",
   "name": "python",
   "nbconvert_exporter": "python",
   "pygments_lexer": "ipython2",
   "version": "2.7.6"
  }
 },
 "nbformat": 4,
 "nbformat_minor": 0
}
