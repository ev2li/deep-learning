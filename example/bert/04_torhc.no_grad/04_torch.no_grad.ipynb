{
 "cells": [
  {
   "cell_type": "markdown",
   "source": [
    "# torch.no_grad() varsus param.requires_grad\n",
    "- torch.no_grad()\n",
    "    - 定义了一个上下文管理器，隐式的不进行梯度更新，不会改变requires_grad\n",
    "    - 适用于eval阶段，或者model forward的过程中某些模型不更新梯度的模块(此时这些模块仅进行特征提取(前向计算)，不反向更新)\n",
    "    - is a context manager and is used to prevent calculating gradients\n",
    "- param.requires_grad\n",
    "    - 显式的frozen掉一些moudel(layer)的梯度更新\n",
    "    - layer/module 级别\n",
    "    - 可能会更灵活\n",
    "    - to freeze part of your model and train the rest"
   ],
   "metadata": {
    "collapsed": false
   }
  },
  {
   "cell_type": "code",
   "execution_count": 1,
   "outputs": [],
   "source": [
    "from transformers import BertModel\n",
    "import torch\n",
    "from torch import nn"
   ],
   "metadata": {
    "collapsed": false,
    "ExecuteTime": {
     "end_time": "2023-10-03T03:08:40.871300408Z",
     "start_time": "2023-10-03T03:08:38.278884645Z"
    }
   }
  },
  {
   "cell_type": "code",
   "execution_count": 4,
   "outputs": [],
   "source": [
    "model_name = \"../../models/bert-base-uncased\""
   ],
   "metadata": {
    "collapsed": false,
    "ExecuteTime": {
     "end_time": "2023-10-03T03:08:58.483529475Z",
     "start_time": "2023-10-03T03:08:58.473597127Z"
    }
   }
  },
  {
   "cell_type": "code",
   "execution_count": 5,
   "outputs": [],
   "source": [
    "bert = BertModel.from_pretrained(model_name)"
   ],
   "metadata": {
    "collapsed": false,
    "ExecuteTime": {
     "end_time": "2023-10-03T03:09:02.229402325Z",
     "start_time": "2023-10-03T03:09:00.050342390Z"
    }
   }
  },
  {
   "cell_type": "code",
   "execution_count": 6,
   "outputs": [],
   "source": [
    "def calc_learnable_params(model):\n",
    "    total_params = 0\n",
    "    for name, param in model.named_parameters():\n",
    "        if param.requires_grad:\n",
    "            total_params += param.numel()\n",
    "    return total_params"
   ],
   "metadata": {
    "collapsed": false,
    "ExecuteTime": {
     "end_time": "2023-10-03T03:09:04.071761394Z",
     "start_time": "2023-10-03T03:09:04.046893440Z"
    }
   }
  },
  {
   "cell_type": "code",
   "execution_count": 7,
   "outputs": [
    {
     "data": {
      "text/plain": "109482240"
     },
     "execution_count": 7,
     "metadata": {},
     "output_type": "execute_result"
    }
   ],
   "source": [
    "calc_learnable_params(bert)"
   ],
   "metadata": {
    "collapsed": false,
    "ExecuteTime": {
     "end_time": "2023-10-03T03:09:05.788625372Z",
     "start_time": "2023-10-03T03:09:05.770030310Z"
    }
   }
  },
  {
   "cell_type": "code",
   "execution_count": 8,
   "outputs": [
    {
     "name": "stdout",
     "output_type": "stream",
     "text": [
      "109482240\n"
     ]
    }
   ],
   "source": [
    "with torch.no_grad():\n",
    "    print(calc_learnable_params(bert))"
   ],
   "metadata": {
    "collapsed": false,
    "ExecuteTime": {
     "end_time": "2023-10-03T03:09:08.366982177Z",
     "start_time": "2023-10-03T03:09:08.312507265Z"
    }
   }
  },
  {
   "cell_type": "code",
   "execution_count": 9,
   "outputs": [
    {
     "data": {
      "text/plain": "0"
     },
     "execution_count": 9,
     "metadata": {},
     "output_type": "execute_result"
    }
   ],
   "source": [
    "for name, param in bert.named_parameters():\n",
    "    if param.requires_grad:\n",
    "        param.requires_grad = False\n",
    "\n",
    "calc_learnable_params(bert)"
   ],
   "metadata": {
    "collapsed": false,
    "ExecuteTime": {
     "end_time": "2023-10-03T03:09:10.575149209Z",
     "start_time": "2023-10-03T03:09:10.432957730Z"
    }
   }
  },
  {
   "cell_type": "code",
   "execution_count": null,
   "outputs": [],
   "source": [],
   "metadata": {
    "collapsed": false
   }
  }
 ],
 "metadata": {
  "kernelspec": {
   "display_name": "Python 3",
   "language": "python",
   "name": "python3"
  },
  "language_info": {
   "codemirror_mode": {
    "name": "ipython",
    "version": 2
   },
   "file_extension": ".py",
   "mimetype": "text/x-python",
   "name": "python",
   "nbconvert_exporter": "python",
   "pygments_lexer": "ipython2",
   "version": "2.7.6"
  }
 },
 "nbformat": 4,
 "nbformat_minor": 0
}
