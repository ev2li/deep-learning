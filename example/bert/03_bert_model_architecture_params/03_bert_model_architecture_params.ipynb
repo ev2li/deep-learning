{
 "cells": [
  {
   "cell_type": "code",
   "execution_count": null,
   "metadata": {
    "collapsed": true
   },
   "outputs": [],
   "source": [
    "from transformers import BertModel,BertForSequenceClassification"
   ]
  },
  {
   "cell_type": "code",
   "execution_count": null,
   "outputs": [],
   "source": [
    "model_name = \"bert-base-uncased\""
   ],
   "metadata": {
    "collapsed": false
   }
  },
  {
   "cell_type": "code",
   "execution_count": null,
   "outputs": [],
   "source": [
    "model = BertModel.from_pretrained(model_name)\n",
    "cls_model = BertForSequenceClassification.from_pretrained(model_name)"
   ],
   "metadata": {
    "collapsed": false
   }
  },
  {
   "cell_type": "markdown",
   "source": [
    "## Summary\n",
    "- bert: encoder of transformer\n",
    "    - transformer: encoder-decoder(seq2seq)\n",
    "- bert\n",
    "    - embeddings\n",
    "        - word(token) embedding\n",
    "        - position embedding\n",
    "        - token type embedding\n",
    "    - encoder(12 layer)\n",
    "        - self attention(kqv)\n",
    "        - feed forward\n",
    "    - pooler"
   ],
   "metadata": {
    "collapsed": false
   }
  },
  {
   "cell_type": "code",
   "execution_count": 1,
   "outputs": [],
   "source": [
    "# 参数量统计\n",
    "total_params = 0\n",
    "total_learnable_params = 0\n",
    "total_embeddings_params = 0\n",
    "total_encoder_params = 0\n",
    "total_pooler_params = 0"
   ],
   "metadata": {
    "collapsed": false,
    "ExecuteTime": {
     "end_time": "2023-10-02T08:50:16.647889504Z",
     "start_time": "2023-10-02T08:50:16.646985196Z"
    }
   }
  },
  {
   "cell_type": "code",
   "execution_count": null,
   "outputs": [],
   "source": [
    "for name,param in model.named_parameters():\n",
    "    print(name,'->', param.shape, '->', param.numel())\n",
    "    if 'embedding' in name:\n",
    "        total_embeddings_params += param.numel()\n",
    "    if 'encoder' in name:\n",
    "        total_encoder_params += param.numel()\n",
    "        # name.split(\".\")[2]\n",
    "    if 'pooler' in name:\n",
    "        total_pooler_params += param.numel()\n",
    "    if param.required_grad:\n",
    "        total_learnable_params += param.numel()\n",
    "    total_params += param.numel()\n",
    "total_embeddings_params\n",
    "total_encoder_params\n",
    "total_pooler_params\n",
    "total_learnable_params\n",
    "total_params"
   ],
   "metadata": {
    "collapsed": false
   }
  },
  {
   "cell_type": "code",
   "execution_count": null,
   "outputs": [],
   "source": [
    "params = [total_embeddings_params, total_encoder_params, total_pooler_params]\n",
    "\n",
    "for param in params:\n",
    "    print(param/sum(params))"
   ],
   "metadata": {
    "collapsed": false
   }
  }
 ],
 "metadata": {
  "kernelspec": {
   "display_name": "Python 3",
   "language": "python",
   "name": "python3"
  },
  "language_info": {
   "codemirror_mode": {
    "name": "ipython",
    "version": 2
   },
   "file_extension": ".py",
   "mimetype": "text/x-python",
   "name": "python",
   "nbconvert_exporter": "python",
   "pygments_lexer": "ipython2",
   "version": "2.7.6"
  }
 },
 "nbformat": 4,
 "nbformat_minor": 0
}
