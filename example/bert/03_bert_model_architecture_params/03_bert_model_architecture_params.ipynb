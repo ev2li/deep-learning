{
 "cells": [
  {
   "cell_type": "code",
   "execution_count": 1,
   "metadata": {
    "collapsed": true,
    "ExecuteTime": {
     "end_time": "2023-10-03T03:05:10.290273572Z",
     "start_time": "2023-10-03T03:05:07.798866912Z"
    }
   },
   "outputs": [],
   "source": [
    "from transformers import BertModel,BertForSequenceClassification"
   ]
  },
  {
   "cell_type": "code",
   "execution_count": 2,
   "outputs": [],
   "source": [
    "model_name = \"../../models/bert-base-uncased\""
   ],
   "metadata": {
    "collapsed": false,
    "ExecuteTime": {
     "end_time": "2023-10-03T03:05:16.119568947Z",
     "start_time": "2023-10-03T03:05:16.096538189Z"
    }
   }
  },
  {
   "cell_type": "code",
   "execution_count": 3,
   "outputs": [
    {
     "name": "stderr",
     "output_type": "stream",
     "text": [
      "Some weights of BertForSequenceClassification were not initialized from the model checkpoint at ../bert-base-uncased and are newly initialized: ['classifier.bias', 'classifier.weight']\n",
      "You should probably TRAIN this model on a down-stream task to be able to use it for predictions and inference.\n"
     ]
    }
   ],
   "source": [
    "model = BertModel.from_pretrained(model_name)\n",
    "cls_model = BertForSequenceClassification.from_pretrained(model_name)"
   ],
   "metadata": {
    "collapsed": false,
    "ExecuteTime": {
     "end_time": "2023-10-03T03:05:22.827462232Z",
     "start_time": "2023-10-03T03:05:18.202969936Z"
    }
   }
  },
  {
   "cell_type": "markdown",
   "source": [
    "## Summary\n",
    "- bert: encoder of transformer\n",
    "    - transformer: encoder-decoder(seq2seq)\n",
    "- bert\n",
    "    - embeddings\n",
    "        - word(token) embedding\n",
    "        - position embedding\n",
    "        - token type embedding\n",
    "    - encoder(12 layer)\n",
    "        - self attention(kqv)\n",
    "        - feed forward\n",
    "    - pooler"
   ],
   "metadata": {
    "collapsed": false
   }
  },
  {
   "cell_type": "code",
   "execution_count": 4,
   "outputs": [],
   "source": [
    "# 参数量统计\n",
    "total_params = 0\n",
    "total_learnable_params = 0\n",
    "total_embeddings_params = 0\n",
    "total_encoder_params = 0\n",
    "total_pooler_params = 0"
   ],
   "metadata": {
    "collapsed": false,
    "ExecuteTime": {
     "end_time": "2023-10-03T03:06:07.394923027Z",
     "start_time": "2023-10-03T03:06:07.348477024Z"
    }
   }
  },
  {
   "cell_type": "code",
   "execution_count": 8,
   "outputs": [
    {
     "name": "stdout",
     "output_type": "stream",
     "text": [
      "embeddings.word_embeddings.weight -> torch.Size([30522, 768]) -> 23440896\n",
      "embeddings.position_embeddings.weight -> torch.Size([512, 768]) -> 393216\n",
      "embeddings.token_type_embeddings.weight -> torch.Size([2, 768]) -> 1536\n",
      "embeddings.LayerNorm.weight -> torch.Size([768]) -> 768\n",
      "embeddings.LayerNorm.bias -> torch.Size([768]) -> 768\n",
      "encoder.layer.0.attention.self.query.weight -> torch.Size([768, 768]) -> 589824\n",
      "encoder.layer.0.attention.self.query.bias -> torch.Size([768]) -> 768\n",
      "encoder.layer.0.attention.self.key.weight -> torch.Size([768, 768]) -> 589824\n",
      "encoder.layer.0.attention.self.key.bias -> torch.Size([768]) -> 768\n",
      "encoder.layer.0.attention.self.value.weight -> torch.Size([768, 768]) -> 589824\n",
      "encoder.layer.0.attention.self.value.bias -> torch.Size([768]) -> 768\n",
      "encoder.layer.0.attention.output.dense.weight -> torch.Size([768, 768]) -> 589824\n",
      "encoder.layer.0.attention.output.dense.bias -> torch.Size([768]) -> 768\n",
      "encoder.layer.0.attention.output.LayerNorm.weight -> torch.Size([768]) -> 768\n",
      "encoder.layer.0.attention.output.LayerNorm.bias -> torch.Size([768]) -> 768\n",
      "encoder.layer.0.intermediate.dense.weight -> torch.Size([3072, 768]) -> 2359296\n",
      "encoder.layer.0.intermediate.dense.bias -> torch.Size([3072]) -> 3072\n",
      "encoder.layer.0.output.dense.weight -> torch.Size([768, 3072]) -> 2359296\n",
      "encoder.layer.0.output.dense.bias -> torch.Size([768]) -> 768\n",
      "encoder.layer.0.output.LayerNorm.weight -> torch.Size([768]) -> 768\n",
      "encoder.layer.0.output.LayerNorm.bias -> torch.Size([768]) -> 768\n",
      "encoder.layer.1.attention.self.query.weight -> torch.Size([768, 768]) -> 589824\n",
      "encoder.layer.1.attention.self.query.bias -> torch.Size([768]) -> 768\n",
      "encoder.layer.1.attention.self.key.weight -> torch.Size([768, 768]) -> 589824\n",
      "encoder.layer.1.attention.self.key.bias -> torch.Size([768]) -> 768\n",
      "encoder.layer.1.attention.self.value.weight -> torch.Size([768, 768]) -> 589824\n",
      "encoder.layer.1.attention.self.value.bias -> torch.Size([768]) -> 768\n",
      "encoder.layer.1.attention.output.dense.weight -> torch.Size([768, 768]) -> 589824\n",
      "encoder.layer.1.attention.output.dense.bias -> torch.Size([768]) -> 768\n",
      "encoder.layer.1.attention.output.LayerNorm.weight -> torch.Size([768]) -> 768\n",
      "encoder.layer.1.attention.output.LayerNorm.bias -> torch.Size([768]) -> 768\n",
      "encoder.layer.1.intermediate.dense.weight -> torch.Size([3072, 768]) -> 2359296\n",
      "encoder.layer.1.intermediate.dense.bias -> torch.Size([3072]) -> 3072\n",
      "encoder.layer.1.output.dense.weight -> torch.Size([768, 3072]) -> 2359296\n",
      "encoder.layer.1.output.dense.bias -> torch.Size([768]) -> 768\n",
      "encoder.layer.1.output.LayerNorm.weight -> torch.Size([768]) -> 768\n",
      "encoder.layer.1.output.LayerNorm.bias -> torch.Size([768]) -> 768\n",
      "encoder.layer.2.attention.self.query.weight -> torch.Size([768, 768]) -> 589824\n",
      "encoder.layer.2.attention.self.query.bias -> torch.Size([768]) -> 768\n",
      "encoder.layer.2.attention.self.key.weight -> torch.Size([768, 768]) -> 589824\n",
      "encoder.layer.2.attention.self.key.bias -> torch.Size([768]) -> 768\n",
      "encoder.layer.2.attention.self.value.weight -> torch.Size([768, 768]) -> 589824\n",
      "encoder.layer.2.attention.self.value.bias -> torch.Size([768]) -> 768\n",
      "encoder.layer.2.attention.output.dense.weight -> torch.Size([768, 768]) -> 589824\n",
      "encoder.layer.2.attention.output.dense.bias -> torch.Size([768]) -> 768\n",
      "encoder.layer.2.attention.output.LayerNorm.weight -> torch.Size([768]) -> 768\n",
      "encoder.layer.2.attention.output.LayerNorm.bias -> torch.Size([768]) -> 768\n",
      "encoder.layer.2.intermediate.dense.weight -> torch.Size([3072, 768]) -> 2359296\n",
      "encoder.layer.2.intermediate.dense.bias -> torch.Size([3072]) -> 3072\n",
      "encoder.layer.2.output.dense.weight -> torch.Size([768, 3072]) -> 2359296\n",
      "encoder.layer.2.output.dense.bias -> torch.Size([768]) -> 768\n",
      "encoder.layer.2.output.LayerNorm.weight -> torch.Size([768]) -> 768\n",
      "encoder.layer.2.output.LayerNorm.bias -> torch.Size([768]) -> 768\n",
      "encoder.layer.3.attention.self.query.weight -> torch.Size([768, 768]) -> 589824\n",
      "encoder.layer.3.attention.self.query.bias -> torch.Size([768]) -> 768\n",
      "encoder.layer.3.attention.self.key.weight -> torch.Size([768, 768]) -> 589824\n",
      "encoder.layer.3.attention.self.key.bias -> torch.Size([768]) -> 768\n",
      "encoder.layer.3.attention.self.value.weight -> torch.Size([768, 768]) -> 589824\n",
      "encoder.layer.3.attention.self.value.bias -> torch.Size([768]) -> 768\n",
      "encoder.layer.3.attention.output.dense.weight -> torch.Size([768, 768]) -> 589824\n",
      "encoder.layer.3.attention.output.dense.bias -> torch.Size([768]) -> 768\n",
      "encoder.layer.3.attention.output.LayerNorm.weight -> torch.Size([768]) -> 768\n",
      "encoder.layer.3.attention.output.LayerNorm.bias -> torch.Size([768]) -> 768\n",
      "encoder.layer.3.intermediate.dense.weight -> torch.Size([3072, 768]) -> 2359296\n",
      "encoder.layer.3.intermediate.dense.bias -> torch.Size([3072]) -> 3072\n",
      "encoder.layer.3.output.dense.weight -> torch.Size([768, 3072]) -> 2359296\n",
      "encoder.layer.3.output.dense.bias -> torch.Size([768]) -> 768\n",
      "encoder.layer.3.output.LayerNorm.weight -> torch.Size([768]) -> 768\n",
      "encoder.layer.3.output.LayerNorm.bias -> torch.Size([768]) -> 768\n",
      "encoder.layer.4.attention.self.query.weight -> torch.Size([768, 768]) -> 589824\n",
      "encoder.layer.4.attention.self.query.bias -> torch.Size([768]) -> 768\n",
      "encoder.layer.4.attention.self.key.weight -> torch.Size([768, 768]) -> 589824\n",
      "encoder.layer.4.attention.self.key.bias -> torch.Size([768]) -> 768\n",
      "encoder.layer.4.attention.self.value.weight -> torch.Size([768, 768]) -> 589824\n",
      "encoder.layer.4.attention.self.value.bias -> torch.Size([768]) -> 768\n",
      "encoder.layer.4.attention.output.dense.weight -> torch.Size([768, 768]) -> 589824\n",
      "encoder.layer.4.attention.output.dense.bias -> torch.Size([768]) -> 768\n",
      "encoder.layer.4.attention.output.LayerNorm.weight -> torch.Size([768]) -> 768\n",
      "encoder.layer.4.attention.output.LayerNorm.bias -> torch.Size([768]) -> 768\n",
      "encoder.layer.4.intermediate.dense.weight -> torch.Size([3072, 768]) -> 2359296\n",
      "encoder.layer.4.intermediate.dense.bias -> torch.Size([3072]) -> 3072\n",
      "encoder.layer.4.output.dense.weight -> torch.Size([768, 3072]) -> 2359296\n",
      "encoder.layer.4.output.dense.bias -> torch.Size([768]) -> 768\n",
      "encoder.layer.4.output.LayerNorm.weight -> torch.Size([768]) -> 768\n",
      "encoder.layer.4.output.LayerNorm.bias -> torch.Size([768]) -> 768\n",
      "encoder.layer.5.attention.self.query.weight -> torch.Size([768, 768]) -> 589824\n",
      "encoder.layer.5.attention.self.query.bias -> torch.Size([768]) -> 768\n",
      "encoder.layer.5.attention.self.key.weight -> torch.Size([768, 768]) -> 589824\n",
      "encoder.layer.5.attention.self.key.bias -> torch.Size([768]) -> 768\n",
      "encoder.layer.5.attention.self.value.weight -> torch.Size([768, 768]) -> 589824\n",
      "encoder.layer.5.attention.self.value.bias -> torch.Size([768]) -> 768\n",
      "encoder.layer.5.attention.output.dense.weight -> torch.Size([768, 768]) -> 589824\n",
      "encoder.layer.5.attention.output.dense.bias -> torch.Size([768]) -> 768\n",
      "encoder.layer.5.attention.output.LayerNorm.weight -> torch.Size([768]) -> 768\n",
      "encoder.layer.5.attention.output.LayerNorm.bias -> torch.Size([768]) -> 768\n",
      "encoder.layer.5.intermediate.dense.weight -> torch.Size([3072, 768]) -> 2359296\n",
      "encoder.layer.5.intermediate.dense.bias -> torch.Size([3072]) -> 3072\n",
      "encoder.layer.5.output.dense.weight -> torch.Size([768, 3072]) -> 2359296\n",
      "encoder.layer.5.output.dense.bias -> torch.Size([768]) -> 768\n",
      "encoder.layer.5.output.LayerNorm.weight -> torch.Size([768]) -> 768\n",
      "encoder.layer.5.output.LayerNorm.bias -> torch.Size([768]) -> 768\n",
      "encoder.layer.6.attention.self.query.weight -> torch.Size([768, 768]) -> 589824\n",
      "encoder.layer.6.attention.self.query.bias -> torch.Size([768]) -> 768\n",
      "encoder.layer.6.attention.self.key.weight -> torch.Size([768, 768]) -> 589824\n",
      "encoder.layer.6.attention.self.key.bias -> torch.Size([768]) -> 768\n",
      "encoder.layer.6.attention.self.value.weight -> torch.Size([768, 768]) -> 589824\n",
      "encoder.layer.6.attention.self.value.bias -> torch.Size([768]) -> 768\n",
      "encoder.layer.6.attention.output.dense.weight -> torch.Size([768, 768]) -> 589824\n",
      "encoder.layer.6.attention.output.dense.bias -> torch.Size([768]) -> 768\n",
      "encoder.layer.6.attention.output.LayerNorm.weight -> torch.Size([768]) -> 768\n",
      "encoder.layer.6.attention.output.LayerNorm.bias -> torch.Size([768]) -> 768\n",
      "encoder.layer.6.intermediate.dense.weight -> torch.Size([3072, 768]) -> 2359296\n",
      "encoder.layer.6.intermediate.dense.bias -> torch.Size([3072]) -> 3072\n",
      "encoder.layer.6.output.dense.weight -> torch.Size([768, 3072]) -> 2359296\n",
      "encoder.layer.6.output.dense.bias -> torch.Size([768]) -> 768\n",
      "encoder.layer.6.output.LayerNorm.weight -> torch.Size([768]) -> 768\n",
      "encoder.layer.6.output.LayerNorm.bias -> torch.Size([768]) -> 768\n",
      "encoder.layer.7.attention.self.query.weight -> torch.Size([768, 768]) -> 589824\n",
      "encoder.layer.7.attention.self.query.bias -> torch.Size([768]) -> 768\n",
      "encoder.layer.7.attention.self.key.weight -> torch.Size([768, 768]) -> 589824\n",
      "encoder.layer.7.attention.self.key.bias -> torch.Size([768]) -> 768\n",
      "encoder.layer.7.attention.self.value.weight -> torch.Size([768, 768]) -> 589824\n",
      "encoder.layer.7.attention.self.value.bias -> torch.Size([768]) -> 768\n",
      "encoder.layer.7.attention.output.dense.weight -> torch.Size([768, 768]) -> 589824\n",
      "encoder.layer.7.attention.output.dense.bias -> torch.Size([768]) -> 768\n",
      "encoder.layer.7.attention.output.LayerNorm.weight -> torch.Size([768]) -> 768\n",
      "encoder.layer.7.attention.output.LayerNorm.bias -> torch.Size([768]) -> 768\n",
      "encoder.layer.7.intermediate.dense.weight -> torch.Size([3072, 768]) -> 2359296\n",
      "encoder.layer.7.intermediate.dense.bias -> torch.Size([3072]) -> 3072\n",
      "encoder.layer.7.output.dense.weight -> torch.Size([768, 3072]) -> 2359296\n",
      "encoder.layer.7.output.dense.bias -> torch.Size([768]) -> 768\n",
      "encoder.layer.7.output.LayerNorm.weight -> torch.Size([768]) -> 768\n",
      "encoder.layer.7.output.LayerNorm.bias -> torch.Size([768]) -> 768\n",
      "encoder.layer.8.attention.self.query.weight -> torch.Size([768, 768]) -> 589824\n",
      "encoder.layer.8.attention.self.query.bias -> torch.Size([768]) -> 768\n",
      "encoder.layer.8.attention.self.key.weight -> torch.Size([768, 768]) -> 589824\n",
      "encoder.layer.8.attention.self.key.bias -> torch.Size([768]) -> 768\n",
      "encoder.layer.8.attention.self.value.weight -> torch.Size([768, 768]) -> 589824\n",
      "encoder.layer.8.attention.self.value.bias -> torch.Size([768]) -> 768\n",
      "encoder.layer.8.attention.output.dense.weight -> torch.Size([768, 768]) -> 589824\n",
      "encoder.layer.8.attention.output.dense.bias -> torch.Size([768]) -> 768\n",
      "encoder.layer.8.attention.output.LayerNorm.weight -> torch.Size([768]) -> 768\n",
      "encoder.layer.8.attention.output.LayerNorm.bias -> torch.Size([768]) -> 768\n",
      "encoder.layer.8.intermediate.dense.weight -> torch.Size([3072, 768]) -> 2359296\n",
      "encoder.layer.8.intermediate.dense.bias -> torch.Size([3072]) -> 3072\n",
      "encoder.layer.8.output.dense.weight -> torch.Size([768, 3072]) -> 2359296\n",
      "encoder.layer.8.output.dense.bias -> torch.Size([768]) -> 768\n",
      "encoder.layer.8.output.LayerNorm.weight -> torch.Size([768]) -> 768\n",
      "encoder.layer.8.output.LayerNorm.bias -> torch.Size([768]) -> 768\n",
      "encoder.layer.9.attention.self.query.weight -> torch.Size([768, 768]) -> 589824\n",
      "encoder.layer.9.attention.self.query.bias -> torch.Size([768]) -> 768\n",
      "encoder.layer.9.attention.self.key.weight -> torch.Size([768, 768]) -> 589824\n",
      "encoder.layer.9.attention.self.key.bias -> torch.Size([768]) -> 768\n",
      "encoder.layer.9.attention.self.value.weight -> torch.Size([768, 768]) -> 589824\n",
      "encoder.layer.9.attention.self.value.bias -> torch.Size([768]) -> 768\n",
      "encoder.layer.9.attention.output.dense.weight -> torch.Size([768, 768]) -> 589824\n",
      "encoder.layer.9.attention.output.dense.bias -> torch.Size([768]) -> 768\n",
      "encoder.layer.9.attention.output.LayerNorm.weight -> torch.Size([768]) -> 768\n",
      "encoder.layer.9.attention.output.LayerNorm.bias -> torch.Size([768]) -> 768\n",
      "encoder.layer.9.intermediate.dense.weight -> torch.Size([3072, 768]) -> 2359296\n",
      "encoder.layer.9.intermediate.dense.bias -> torch.Size([3072]) -> 3072\n",
      "encoder.layer.9.output.dense.weight -> torch.Size([768, 3072]) -> 2359296\n",
      "encoder.layer.9.output.dense.bias -> torch.Size([768]) -> 768\n",
      "encoder.layer.9.output.LayerNorm.weight -> torch.Size([768]) -> 768\n",
      "encoder.layer.9.output.LayerNorm.bias -> torch.Size([768]) -> 768\n",
      "encoder.layer.10.attention.self.query.weight -> torch.Size([768, 768]) -> 589824\n",
      "encoder.layer.10.attention.self.query.bias -> torch.Size([768]) -> 768\n",
      "encoder.layer.10.attention.self.key.weight -> torch.Size([768, 768]) -> 589824\n",
      "encoder.layer.10.attention.self.key.bias -> torch.Size([768]) -> 768\n",
      "encoder.layer.10.attention.self.value.weight -> torch.Size([768, 768]) -> 589824\n",
      "encoder.layer.10.attention.self.value.bias -> torch.Size([768]) -> 768\n",
      "encoder.layer.10.attention.output.dense.weight -> torch.Size([768, 768]) -> 589824\n",
      "encoder.layer.10.attention.output.dense.bias -> torch.Size([768]) -> 768\n",
      "encoder.layer.10.attention.output.LayerNorm.weight -> torch.Size([768]) -> 768\n",
      "encoder.layer.10.attention.output.LayerNorm.bias -> torch.Size([768]) -> 768\n",
      "encoder.layer.10.intermediate.dense.weight -> torch.Size([3072, 768]) -> 2359296\n",
      "encoder.layer.10.intermediate.dense.bias -> torch.Size([3072]) -> 3072\n",
      "encoder.layer.10.output.dense.weight -> torch.Size([768, 3072]) -> 2359296\n",
      "encoder.layer.10.output.dense.bias -> torch.Size([768]) -> 768\n",
      "encoder.layer.10.output.LayerNorm.weight -> torch.Size([768]) -> 768\n",
      "encoder.layer.10.output.LayerNorm.bias -> torch.Size([768]) -> 768\n",
      "encoder.layer.11.attention.self.query.weight -> torch.Size([768, 768]) -> 589824\n",
      "encoder.layer.11.attention.self.query.bias -> torch.Size([768]) -> 768\n",
      "encoder.layer.11.attention.self.key.weight -> torch.Size([768, 768]) -> 589824\n",
      "encoder.layer.11.attention.self.key.bias -> torch.Size([768]) -> 768\n",
      "encoder.layer.11.attention.self.value.weight -> torch.Size([768, 768]) -> 589824\n",
      "encoder.layer.11.attention.self.value.bias -> torch.Size([768]) -> 768\n",
      "encoder.layer.11.attention.output.dense.weight -> torch.Size([768, 768]) -> 589824\n",
      "encoder.layer.11.attention.output.dense.bias -> torch.Size([768]) -> 768\n",
      "encoder.layer.11.attention.output.LayerNorm.weight -> torch.Size([768]) -> 768\n",
      "encoder.layer.11.attention.output.LayerNorm.bias -> torch.Size([768]) -> 768\n",
      "encoder.layer.11.intermediate.dense.weight -> torch.Size([3072, 768]) -> 2359296\n",
      "encoder.layer.11.intermediate.dense.bias -> torch.Size([3072]) -> 3072\n",
      "encoder.layer.11.output.dense.weight -> torch.Size([768, 3072]) -> 2359296\n",
      "encoder.layer.11.output.dense.bias -> torch.Size([768]) -> 768\n",
      "encoder.layer.11.output.LayerNorm.weight -> torch.Size([768]) -> 768\n",
      "encoder.layer.11.output.LayerNorm.bias -> torch.Size([768]) -> 768\n",
      "pooler.dense.weight -> torch.Size([768, 768]) -> 589824\n",
      "pooler.dense.bias -> torch.Size([768]) -> 768\n"
     ]
    },
    {
     "data": {
      "text/plain": "94556160"
     },
     "execution_count": 8,
     "metadata": {},
     "output_type": "execute_result"
    }
   ],
   "source": [
    "for name,param in model.named_parameters():\n",
    "    # print(param)\n",
    "    print(name,'->', param.shape, '->', param.numel())\n",
    "    if 'embedding' in name:\n",
    "        total_embeddings_params += param.numel()\n",
    "    if 'encoder' in name:\n",
    "        total_encoder_params += param.numel()\n",
    "        # name.split(\".\")[2]\n",
    "    if 'pooler' in name:\n",
    "        total_pooler_params += param.numel()\n",
    "    if param.requires_grad:\n",
    "        total_learnable_params += param.numel()\n",
    "    total_params += param.numel()\n",
    "total_embeddings_params\n",
    "# total_encoder_params\n",
    "# total_pooler_params\n",
    "# total_learnable_params\n",
    "# total_params"
   ],
   "metadata": {
    "collapsed": false,
    "ExecuteTime": {
     "end_time": "2023-10-03T03:07:43.031433421Z",
     "start_time": "2023-10-03T03:07:42.925234584Z"
    }
   }
  },
  {
   "cell_type": "code",
   "execution_count": 9,
   "outputs": [
    {
     "name": "stdout",
     "output_type": "stream",
     "text": [
      "0.35567984192007024\n",
      "0.6398770489435338\n",
      "0.0044431091363959395\n"
     ]
    }
   ],
   "source": [
    "params = [total_embeddings_params, total_encoder_params, total_pooler_params]\n",
    "\n",
    "for param in params:\n",
    "    print(param/sum(params))"
   ],
   "metadata": {
    "collapsed": false,
    "ExecuteTime": {
     "end_time": "2023-10-03T03:08:01.738174191Z",
     "start_time": "2023-10-03T03:08:01.713504611Z"
    }
   }
  },
  {
   "cell_type": "code",
   "execution_count": null,
   "outputs": [],
   "source": [],
   "metadata": {
    "collapsed": false
   }
  }
 ],
 "metadata": {
  "kernelspec": {
   "display_name": "Python 3",
   "language": "python",
   "name": "python3"
  },
  "language_info": {
   "codemirror_mode": {
    "name": "ipython",
    "version": 2
   },
   "file_extension": ".py",
   "mimetype": "text/x-python",
   "name": "python",
   "nbconvert_exporter": "python",
   "pygments_lexer": "ipython2",
   "version": "2.7.6"
  }
 },
 "nbformat": 4,
 "nbformat_minor": 0
}
