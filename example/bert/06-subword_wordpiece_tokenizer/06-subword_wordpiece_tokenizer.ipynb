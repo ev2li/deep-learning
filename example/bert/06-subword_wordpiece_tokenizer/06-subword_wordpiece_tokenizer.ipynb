{
 "cells": [
  {
   "cell_type": "code",
   "execution_count": null,
   "metadata": {
    "collapsed": true
   },
   "outputs": [],
   "source": [
    "s1 = \"albums sold 500,000 copies\"\n",
    "s2 = \"technically perfect, melodically correct\"\n",
    "s3 = \"featuring a previously unheard track\"\n",
    "s4 = \"best-selling music artist\"\n",
    "s5 = \"s1 d1 o1 and o2\"\n",
    "s6 = \"asbofwheohwbeif\""
   ]
  },
  {
   "cell_type": "markdown",
   "source": [
    "#### 0. 实例化tokenizer"
   ],
   "metadata": {
    "collapsed": false
   }
  },
  {
   "cell_type": "code",
   "execution_count": 2,
   "outputs": [],
   "source": [
    "from transformers import BertTokenizer"
   ],
   "metadata": {
    "collapsed": false,
    "ExecuteTime": {
     "end_time": "2023-10-02T11:03:02.640829283Z",
     "start_time": "2023-10-02T11:03:01.964206536Z"
    }
   }
  },
  {
   "cell_type": "code",
   "execution_count": null,
   "outputs": [],
   "source": [
    "model_name = \"bert-base-uncased\"\n",
    "tokenizer = BertTokenizer.from_pretrained(model_name)"
   ],
   "metadata": {
    "collapsed": false
   }
  },
  {
   "cell_type": "markdown",
   "source": [
    "#### 1. vocab\n",
    "- tokenizer.vocab vs tokenizer.ids_to_tokens\n",
    "- len(tokenizer.vocab) == 30522"
   ],
   "metadata": {
    "collapsed": false
   }
  },
  {
   "cell_type": "code",
   "execution_count": null,
   "outputs": [],
   "source": [
    "tokenizer.vocab\n",
    "tokenizer.ids_to_tokens"
   ],
   "metadata": {
    "collapsed": false
   }
  },
  {
   "cell_type": "code",
   "execution_count": null,
   "outputs": [],
   "source": [
    "len(tokenizer.vocab)"
   ],
   "metadata": {
    "collapsed": false
   }
  },
  {
   "cell_type": "code",
   "execution_count": null,
   "outputs": [],
   "source": [
    "tokenizer.vocab['[UNK]']"
   ],
   "metadata": {
    "collapsed": false
   }
  },
  {
   "cell_type": "code",
   "execution_count": null,
   "outputs": [],
   "source": [
    "tokenizer.vocab[\"bestselling\"]"
   ],
   "metadata": {
    "collapsed": false
   }
  },
  {
   "cell_type": "code",
   "execution_count": null,
   "outputs": [],
   "source": [
    "tokenizer.tokenize(\"bestselling\")"
   ],
   "metadata": {
    "collapsed": false
   }
  },
  {
   "cell_type": "code",
   "execution_count": null,
   "outputs": [],
   "source": [
    "cnt_sharp = 0\n",
    "for token, id in tokenizer.vocab.items():\n",
    "    if token.startswith(\"##\"):\n",
    "        print(token)\n",
    "        cnt_sharp += 1\n",
    "print(cnt_sharp)"
   ],
   "metadata": {
    "collapsed": false
   }
  },
  {
   "cell_type": "markdown",
   "source": [
    "#### 2. 样本子词测试"
   ],
   "metadata": {
    "collapsed": false
   }
  },
  {
   "cell_type": "code",
   "execution_count": null,
   "outputs": [],
   "source": [
    "inputs = tokenizer(s1)"
   ],
   "metadata": {
    "collapsed": false
   }
  },
  {
   "cell_type": "code",
   "execution_count": null,
   "outputs": [],
   "source": [
    "tokenizer.decode(inputs[\"input_ids\"])"
   ],
   "metadata": {
    "collapsed": false
   }
  },
  {
   "cell_type": "code",
   "execution_count": null,
   "outputs": [],
   "source": [
    "print(tokenizer.convert_ids_to_tokens(inputs[\"input_ids\"]))"
   ],
   "metadata": {
    "collapsed": false
   }
  },
  {
   "cell_type": "markdown",
   "source": [
    "#### 3. Summary\n",
    "- tokenizer轻易不会将一个词处理为[UNK] (100)\n",
    "- 基于词汇表，tokenize,encode,decode一体\n",
    "    -   tokenize: word=>token(s) 将word尽可能地映射为vocab中的keys\n",
    "    -   encode:token => id\n",
    "    -   decode: id => token => word\n",
    "        - encode 完了之后也不是终点(word),decode还要能很好地将id还原，尽可能与输入的word对齐"
   ],
   "metadata": {
    "collapsed": false
   }
  }
 ],
 "metadata": {
  "kernelspec": {
   "display_name": "Python 3",
   "language": "python",
   "name": "python3"
  },
  "language_info": {
   "codemirror_mode": {
    "name": "ipython",
    "version": 2
   },
   "file_extension": ".py",
   "mimetype": "text/x-python",
   "name": "python",
   "nbconvert_exporter": "python",
   "pygments_lexer": "ipython2",
   "version": "2.7.6"
  }
 },
 "nbformat": 4,
 "nbformat_minor": 0
}
