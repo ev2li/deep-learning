{
 "cells": [
  {
   "cell_type": "markdown",
   "source": [
    "#### pytorch的安装\n",
    "- cpu版本安装:pip install torch==1.3.0+cpu torchvision=0.4.1+cpu -f https://download.pytorch.org/whl/torch_stable.html\n",
    "- GPU版本安装: pip install torch==1.3.0 torchvision=0.4 -f https://download.pytorch.org/whl/torch_stable"
   ],
   "metadata": {
    "collapsed": false
   }
  },
  {
   "cell_type": "code",
   "execution_count": 2,
   "metadata": {
    "collapsed": true,
    "ExecuteTime": {
     "start_time": "2023-04-30T09:21:09.178119Z",
     "end_time": "2023-04-30T09:21:09.185399Z"
    }
   },
   "outputs": [
    {
     "data": {
      "text/plain": "'1.12.1'"
     },
     "execution_count": 1,
     "metadata": {},
     "output_type": "execute_result"
    },
    {
     "data": {
      "text/plain": "'1.12.1'"
     },
     "execution_count": 2,
     "metadata": {},
     "output_type": "execute_result"
    }
   ],
   "source": [
    "import torch\n",
    "torch.__version__\n"
   ]
  },
  {
   "cell_type": "markdown",
   "source": [],
   "metadata": {
    "collapsed": false
   }
  },
  {
   "cell_type": "markdown",
   "source": [
    "#### 基本使用方法\n",
    "- 创建一个矩阵"
   ],
   "metadata": {
    "collapsed": false
   }
  },
  {
   "cell_type": "code",
   "execution_count": 8,
   "outputs": [
    {
     "name": "stdout",
     "output_type": "stream",
     "text": [
      "tensor([[0., 0., 0.],\n",
      "        [0., 0., 0.],\n",
      "        [0., 0., 0.],\n",
      "        [0., 0., 0.],\n",
      "        [0., 0., 0.]])\n"
     ]
    }
   ],
   "source": [
    "x = torch.empty(5, 3)\n",
    "print(x)"
   ],
   "metadata": {
    "collapsed": false,
    "ExecuteTime": {
     "start_time": "2023-04-13T10:43:42.318652Z",
     "end_time": "2023-04-13T10:43:42.431428Z"
    }
   }
  },
  {
   "cell_type": "markdown",
   "source": [
    "- 创建一个随机值"
   ],
   "metadata": {
    "collapsed": false
   }
  },
  {
   "cell_type": "code",
   "execution_count": 9,
   "outputs": [
    {
     "data": {
      "text/plain": "tensor([[0.5681, 0.1327, 0.7864],\n        [0.0698, 0.0250, 0.6641],\n        [0.7761, 0.7579, 0.4064],\n        [0.5142, 0.9232, 0.1499],\n        [0.3884, 0.7971, 0.9654]])"
     },
     "execution_count": 9,
     "metadata": {},
     "output_type": "execute_result"
    }
   ],
   "source": [
    "x = torch.rand(5, 3)\n",
    "x"
   ],
   "metadata": {
    "collapsed": false,
    "ExecuteTime": {
     "start_time": "2023-04-13T10:54:51.085948Z",
     "end_time": "2023-04-13T10:54:51.153826Z"
    }
   }
  },
  {
   "cell_type": "markdown",
   "source": [
    "- 初始化一个全零的矩阵"
   ],
   "metadata": {
    "collapsed": false
   }
  },
  {
   "cell_type": "code",
   "execution_count": 10,
   "outputs": [
    {
     "data": {
      "text/plain": "tensor([[0, 0, 0],\n        [0, 0, 0],\n        [0, 0, 0],\n        [0, 0, 0],\n        [0, 0, 0]])"
     },
     "execution_count": 10,
     "metadata": {},
     "output_type": "execute_result"
    }
   ],
   "source": [
    "x = torch.zeros(5, 3, dtype=torch.long)\n",
    "x"
   ],
   "metadata": {
    "collapsed": false,
    "ExecuteTime": {
     "start_time": "2023-04-13T11:14:04.335767Z",
     "end_time": "2023-04-13T11:14:04.360529Z"
    }
   }
  },
  {
   "cell_type": "code",
   "execution_count": 11,
   "outputs": [],
   "source": [
    "# 直接传入数据\n",
    "x = torch.tensor([5, 5, 3])"
   ],
   "metadata": {
    "collapsed": false,
    "ExecuteTime": {
     "start_time": "2023-04-13T11:14:37.925012Z",
     "end_time": "2023-04-13T11:14:37.938107Z"
    }
   }
  },
  {
   "cell_type": "code",
   "execution_count": 12,
   "outputs": [
    {
     "data": {
      "text/plain": "tensor([5, 5, 3])"
     },
     "execution_count": 12,
     "metadata": {},
     "output_type": "execute_result"
    }
   ],
   "source": [
    "x"
   ],
   "metadata": {
    "collapsed": false,
    "ExecuteTime": {
     "start_time": "2023-04-13T11:14:41.734958Z",
     "end_time": "2023-04-13T11:14:41.782394Z"
    }
   }
  },
  {
   "cell_type": "code",
   "execution_count": 13,
   "outputs": [],
   "source": [
    "x = x.new_ones(5, 3, dtype=torch.double)"
   ],
   "metadata": {
    "collapsed": false,
    "ExecuteTime": {
     "start_time": "2023-04-13T11:15:10.120371Z",
     "end_time": "2023-04-13T11:15:10.174676Z"
    }
   }
  },
  {
   "cell_type": "code",
   "execution_count": 14,
   "outputs": [
    {
     "data": {
      "text/plain": "tensor([[1., 1., 1.],\n        [1., 1., 1.],\n        [1., 1., 1.],\n        [1., 1., 1.],\n        [1., 1., 1.]], dtype=torch.float64)"
     },
     "execution_count": 14,
     "metadata": {},
     "output_type": "execute_result"
    }
   ],
   "source": [
    "x"
   ],
   "metadata": {
    "collapsed": false,
    "ExecuteTime": {
     "start_time": "2023-04-13T11:15:11.940433Z",
     "end_time": "2023-04-13T11:15:11.991335Z"
    }
   }
  },
  {
   "cell_type": "code",
   "execution_count": 15,
   "outputs": [
    {
     "data": {
      "text/plain": "tensor([[-1.8858,  0.7104,  1.2545],\n        [-2.1260, -0.0664, -1.1327],\n        [ 0.8287, -1.5604,  0.5398],\n        [-1.8596, -0.3208, -0.1077],\n        [-0.3385, -0.1479,  1.4332]])"
     },
     "execution_count": 15,
     "metadata": {},
     "output_type": "execute_result"
    }
   ],
   "source": [
    "x = torch.randn_like(x, dtype=torch.float)\n",
    "x"
   ],
   "metadata": {
    "collapsed": false,
    "ExecuteTime": {
     "start_time": "2023-04-13T11:15:53.818885Z",
     "end_time": "2023-04-13T11:15:53.959499Z"
    }
   }
  },
  {
   "cell_type": "code",
   "execution_count": 16,
   "outputs": [
    {
     "data": {
      "text/plain": "torch.Size([5, 3])"
     },
     "execution_count": 16,
     "metadata": {},
     "output_type": "execute_result"
    }
   ],
   "source": [
    "x.size()"
   ],
   "metadata": {
    "collapsed": false,
    "ExecuteTime": {
     "start_time": "2023-04-13T11:26:20.018342Z",
     "end_time": "2023-04-13T11:26:20.266963Z"
    }
   }
  },
  {
   "cell_type": "code",
   "execution_count": 16,
   "outputs": [],
   "source": [],
   "metadata": {
    "collapsed": false,
    "ExecuteTime": {
     "start_time": "2023-04-13T11:26:20.480333Z",
     "end_time": "2023-04-13T11:26:20.664633Z"
    }
   }
  },
  {
   "cell_type": "markdown",
   "source": [
    "- 基本计算方法"
   ],
   "metadata": {
    "collapsed": false
   }
  },
  {
   "cell_type": "code",
   "execution_count": 17,
   "outputs": [
    {
     "data": {
      "text/plain": "tensor([[-0.9592,  1.4618,  1.3465],\n        [-1.7017,  0.1503, -0.4365],\n        [ 1.7972, -1.2967,  0.8953],\n        [-1.0163, -0.1322,  0.0564],\n        [ 0.0436,  0.7670,  1.7571]])"
     },
     "execution_count": 17,
     "metadata": {},
     "output_type": "execute_result"
    }
   ],
   "source": [
    "y = torch.rand(5,3)\n",
    "x + y"
   ],
   "metadata": {
    "collapsed": false,
    "ExecuteTime": {
     "start_time": "2023-04-13T11:27:23.162611Z",
     "end_time": "2023-04-13T11:27:23.237130Z"
    }
   }
  },
  {
   "cell_type": "code",
   "execution_count": 18,
   "outputs": [
    {
     "data": {
      "text/plain": "tensor([[-0.9592,  1.4618,  1.3465],\n        [-1.7017,  0.1503, -0.4365],\n        [ 1.7972, -1.2967,  0.8953],\n        [-1.0163, -0.1322,  0.0564],\n        [ 0.0436,  0.7670,  1.7571]])"
     },
     "execution_count": 18,
     "metadata": {},
     "output_type": "execute_result"
    }
   ],
   "source": [
    "torch.add(x, y)"
   ],
   "metadata": {
    "collapsed": false,
    "ExecuteTime": {
     "start_time": "2023-04-13T11:27:32.926120Z",
     "end_time": "2023-04-13T11:27:32.993074Z"
    }
   }
  },
  {
   "cell_type": "markdown",
   "source": [
    "- 索引"
   ],
   "metadata": {
    "collapsed": false
   }
  },
  {
   "cell_type": "code",
   "execution_count": 19,
   "outputs": [
    {
     "data": {
      "text/plain": "tensor([ 1.2545, -1.1327,  0.5398, -0.1077,  1.4332])"
     },
     "execution_count": 19,
     "metadata": {},
     "output_type": "execute_result"
    }
   ],
   "source": [
    "x[:, -1]"
   ],
   "metadata": {
    "collapsed": false,
    "ExecuteTime": {
     "start_time": "2023-04-13T11:28:06.751133Z",
     "end_time": "2023-04-13T11:28:06.864252Z"
    }
   }
  },
  {
   "cell_type": "code",
   "execution_count": 20,
   "outputs": [
    {
     "data": {
      "text/plain": "tensor([[-1.8858,  0.7104,  1.2545],\n        [-2.1260, -0.0664, -1.1327],\n        [ 0.8287, -1.5604,  0.5398],\n        [-1.8596, -0.3208, -0.1077],\n        [-0.3385, -0.1479,  1.4332]])"
     },
     "execution_count": 20,
     "metadata": {},
     "output_type": "execute_result"
    }
   ],
   "source": [
    "x"
   ],
   "metadata": {
    "collapsed": false,
    "ExecuteTime": {
     "start_time": "2023-04-13T11:28:09.967088Z",
     "end_time": "2023-04-13T11:28:10.032148Z"
    }
   }
  },
  {
   "cell_type": "code",
   "execution_count": 29,
   "outputs": [
    {
     "name": "stdout",
     "output_type": "stream",
     "text": [
      "torch.Size([4, 4]) torch.Size([16]) torch.Size([2, 8])\n"
     ]
    }
   ],
   "source": [
    "x = torch.randn(4, 4)\n",
    "y = x.view(16)\n",
    "z = x.view(-1, 8)\n",
    "print(x.size(), y.size(), z.size())"
   ],
   "metadata": {
    "collapsed": false,
    "ExecuteTime": {
     "start_time": "2023-04-13T11:33:23.481118Z",
     "end_time": "2023-04-13T11:33:23.510788Z"
    }
   }
  },
  {
   "cell_type": "code",
   "execution_count": 30,
   "outputs": [
    {
     "data": {
      "text/plain": "tensor([-0.8590,  0.2295, -1.8055, -0.2096,  0.6050, -0.9037,  3.3610, -0.1885,\n         0.2639, -0.4013,  0.2293,  1.2923,  0.8684,  0.8374, -1.4927,  0.4628])"
     },
     "execution_count": 30,
     "metadata": {},
     "output_type": "execute_result"
    }
   ],
   "source": [
    "y"
   ],
   "metadata": {
    "collapsed": false,
    "ExecuteTime": {
     "start_time": "2023-04-13T11:33:33.706345Z",
     "end_time": "2023-04-13T11:33:33.761591Z"
    }
   }
  },
  {
   "cell_type": "code",
   "execution_count": 31,
   "outputs": [
    {
     "data": {
      "text/plain": "tensor([[-0.8590,  0.2295, -1.8055, -0.2096],\n        [ 0.6050, -0.9037,  3.3610, -0.1885],\n        [ 0.2639, -0.4013,  0.2293,  1.2923],\n        [ 0.8684,  0.8374, -1.4927,  0.4628]])"
     },
     "execution_count": 31,
     "metadata": {},
     "output_type": "execute_result"
    }
   ],
   "source": [
    "x"
   ],
   "metadata": {
    "collapsed": false,
    "ExecuteTime": {
     "start_time": "2023-04-13T11:33:41.077625Z",
     "end_time": "2023-04-13T11:33:41.144226Z"
    }
   }
  },
  {
   "cell_type": "code",
   "execution_count": 32,
   "outputs": [
    {
     "data": {
      "text/plain": "tensor([[-0.8590,  0.2295, -1.8055, -0.2096,  0.6050, -0.9037,  3.3610, -0.1885],\n        [ 0.2639, -0.4013,  0.2293,  1.2923,  0.8684,  0.8374, -1.4927,  0.4628]])"
     },
     "execution_count": 32,
     "metadata": {},
     "output_type": "execute_result"
    }
   ],
   "source": [
    "z"
   ],
   "metadata": {
    "collapsed": false,
    "ExecuteTime": {
     "start_time": "2023-04-13T17:17:14.951581Z",
     "end_time": "2023-04-13T17:17:15.043389Z"
    }
   }
  },
  {
   "cell_type": "markdown",
   "source": [
    "- 和Numpy的协同操作"
   ],
   "metadata": {
    "collapsed": false
   }
  },
  {
   "cell_type": "code",
   "execution_count": 33,
   "outputs": [
    {
     "data": {
      "text/plain": "array([1., 1., 1., 1., 1.], dtype=float32)"
     },
     "execution_count": 33,
     "metadata": {},
     "output_type": "execute_result"
    }
   ],
   "source": [
    "a = torch.ones(5)\n",
    "b = a.numpy()\n",
    "b"
   ],
   "metadata": {
    "collapsed": false,
    "ExecuteTime": {
     "start_time": "2023-04-13T17:18:54.767738Z",
     "end_time": "2023-04-13T17:18:54.861530Z"
    }
   }
  },
  {
   "cell_type": "code",
   "execution_count": 5,
   "outputs": [
    {
     "data": {
      "text/plain": "tensor([1., 1., 1., 1., 1.], dtype=torch.float64)"
     },
     "execution_count": 5,
     "metadata": {},
     "output_type": "execute_result"
    }
   ],
   "source": [
    "import numpy as np\n",
    "a = np.ones(5)\n",
    "b = torch.from_numpy(a)\n",
    "b"
   ],
   "metadata": {
    "collapsed": false,
    "ExecuteTime": {
     "start_time": "2023-04-30T09:25:54.412704Z",
     "end_time": "2023-04-30T09:25:54.466590Z"
    }
   }
  },
  {
   "cell_type": "markdown",
   "source": [
    "- 框架干的最厉害的一件事就是帮我们把返回传播全部计算好了"
   ],
   "metadata": {
    "collapsed": false
   }
  },
  {
   "cell_type": "code",
   "execution_count": 35,
   "outputs": [
    {
     "data": {
      "text/plain": "tensor([[ 8.7642e-01,  9.7455e-02, -1.9850e+00,  3.0431e-01],\n        [-1.5169e+00,  4.8478e-01,  2.1452e+00, -3.8118e-01],\n        [ 3.3879e-01, -2.9269e-05, -2.1844e-02, -5.3195e-01]],\n       requires_grad=True)"
     },
     "execution_count": 35,
     "metadata": {},
     "output_type": "execute_result"
    }
   ],
   "source": [
    "x = torch.randn(3, 4, requires_grad=True)\n",
    "x"
   ],
   "metadata": {
    "collapsed": false,
    "ExecuteTime": {
     "start_time": "2023-04-13T17:23:17.305483Z",
     "end_time": "2023-04-13T17:23:17.369325Z"
    }
   }
  },
  {
   "cell_type": "code",
   "execution_count": 36,
   "outputs": [
    {
     "data": {
      "text/plain": "tensor([[ 0.4582,  0.6653, -0.3796, -0.2092],\n        [-2.1461, -0.6125,  0.6430, -0.5255],\n        [ 0.3422,  1.1090,  0.8936, -0.8197]], requires_grad=True)"
     },
     "execution_count": 36,
     "metadata": {},
     "output_type": "execute_result"
    }
   ],
   "source": [
    "# 方法2\n",
    "x = torch.randn(3, 4)\n",
    "x.requires_grad = True\n",
    "x"
   ],
   "metadata": {
    "collapsed": false,
    "ExecuteTime": {
     "start_time": "2023-04-13T17:23:56.686782Z",
     "end_time": "2023-04-13T17:23:56.757982Z"
    }
   }
  },
  {
   "cell_type": "code",
   "execution_count": 37,
   "outputs": [],
   "source": [
    "b = torch.randn(3, 4, requires_grad=True)"
   ],
   "metadata": {
    "collapsed": false,
    "ExecuteTime": {
     "start_time": "2023-04-13T17:24:30.827290Z",
     "end_time": "2023-04-13T17:24:30.902099Z"
    }
   }
  },
  {
   "cell_type": "code",
   "execution_count": 38,
   "outputs": [],
   "source": [
    "t = x + b"
   ],
   "metadata": {
    "collapsed": false,
    "ExecuteTime": {
     "start_time": "2023-04-13T17:24:41.339173Z",
     "end_time": "2023-04-13T17:24:41.383657Z"
    }
   }
  },
  {
   "cell_type": "code",
   "execution_count": 39,
   "outputs": [
    {
     "data": {
      "text/plain": "tensor(6.7207, grad_fn=<SumBackward0>)"
     },
     "execution_count": 39,
     "metadata": {},
     "output_type": "execute_result"
    }
   ],
   "source": [
    "y = t.sum()\n",
    "y"
   ],
   "metadata": {
    "collapsed": false,
    "ExecuteTime": {
     "start_time": "2023-04-13T17:24:54.767984Z",
     "end_time": "2023-04-13T17:24:54.854536Z"
    }
   }
  },
  {
   "cell_type": "code",
   "execution_count": 40,
   "outputs": [],
   "source": [
    "y.backward()"
   ],
   "metadata": {
    "collapsed": false,
    "ExecuteTime": {
     "start_time": "2023-04-13T17:25:08.774842Z",
     "end_time": "2023-04-13T17:25:08.826723Z"
    }
   }
  },
  {
   "cell_type": "code",
   "execution_count": 41,
   "outputs": [
    {
     "data": {
      "text/plain": "tensor([[1., 1., 1., 1.],\n        [1., 1., 1., 1.],\n        [1., 1., 1., 1.]])"
     },
     "execution_count": 41,
     "metadata": {},
     "output_type": "execute_result"
    }
   ],
   "source": [
    "b.grad"
   ],
   "metadata": {
    "collapsed": false,
    "ExecuteTime": {
     "start_time": "2023-04-13T17:25:12.799076Z",
     "end_time": "2023-04-13T17:25:12.860679Z"
    }
   }
  },
  {
   "cell_type": "code",
   "execution_count": 42,
   "outputs": [
    {
     "data": {
      "text/plain": "(True, True, True)"
     },
     "execution_count": 42,
     "metadata": {},
     "output_type": "execute_result"
    }
   ],
   "source": [
    "x.requires_grad, y.requires_grad, t.requires_grad"
   ],
   "metadata": {
    "collapsed": false,
    "ExecuteTime": {
     "start_time": "2023-04-13T17:44:48.579312Z",
     "end_time": "2023-04-13T17:44:48.714115Z"
    }
   }
  },
  {
   "cell_type": "code",
   "execution_count": 44,
   "outputs": [],
   "source": [
    "# 计算流程\n",
    "x = torch.rand(1)\n",
    "b = torch.rand(1, requires_grad=True)\n",
    "w = torch.rand(1, requires_grad=True)\n",
    "y = w * x\n",
    "z = y + b"
   ],
   "metadata": {
    "collapsed": false,
    "ExecuteTime": {
     "start_time": "2023-04-13T17:48:31.662378Z",
     "end_time": "2023-04-13T17:48:31.730157Z"
    }
   }
  },
  {
   "cell_type": "code",
   "execution_count": 46,
   "outputs": [
    {
     "data": {
      "text/plain": "(False, True, True, True)"
     },
     "execution_count": 46,
     "metadata": {},
     "output_type": "execute_result"
    }
   ],
   "source": [
    "x.requires_grad, y.requires_grad, w.requires_grad, b.requires_grad"
   ],
   "metadata": {
    "collapsed": false,
    "ExecuteTime": {
     "start_time": "2023-04-13T17:49:19.546532Z",
     "end_time": "2023-04-13T17:49:19.580609Z"
    }
   }
  },
  {
   "cell_type": "code",
   "execution_count": 47,
   "outputs": [
    {
     "data": {
      "text/plain": "(True, True, True, False, False)"
     },
     "execution_count": 47,
     "metadata": {},
     "output_type": "execute_result"
    }
   ],
   "source": [
    "x.is_leaf, w.is_leaf, b.is_leaf, y.is_leaf, z.is_leaf"
   ],
   "metadata": {
    "collapsed": false,
    "ExecuteTime": {
     "start_time": "2023-04-13T17:50:54.633090Z",
     "end_time": "2023-04-13T17:50:54.686439Z"
    }
   }
  },
  {
   "cell_type": "code",
   "execution_count": 49,
   "outputs": [
    {
     "data": {
      "text/plain": "tensor([0.0210])"
     },
     "execution_count": 49,
     "metadata": {},
     "output_type": "execute_result"
    }
   ],
   "source": [
    "z.backward(retain_graph=True) #如果计算不清空会累加起来\n",
    "w.grad"
   ],
   "metadata": {
    "collapsed": false,
    "ExecuteTime": {
     "start_time": "2023-04-13T17:54:35.636453Z",
     "end_time": "2023-04-13T17:54:35.683973Z"
    }
   }
  },
  {
   "cell_type": "code",
   "execution_count": 54,
   "outputs": [
    {
     "data": {
      "text/plain": "tensor([1.])"
     },
     "execution_count": 54,
     "metadata": {},
     "output_type": "execute_result"
    }
   ],
   "source": [
    "b.grad"
   ],
   "metadata": {
    "collapsed": false,
    "ExecuteTime": {
     "start_time": "2023-04-13T17:56:21.810318Z",
     "end_time": "2023-04-13T17:56:21.876338Z"
    }
   }
  },
  {
   "cell_type": "markdown",
   "source": [
    "- 做一个简单的线性回归"
   ],
   "metadata": {
    "collapsed": false
   }
  },
  {
   "cell_type": "code",
   "execution_count": 6,
   "outputs": [
    {
     "data": {
      "text/plain": "(11, 1)"
     },
     "execution_count": 6,
     "metadata": {},
     "output_type": "execute_result"
    }
   ],
   "source": [
    "x_values = [i for i in range(11)]\n",
    "x_train = np.array(x_values, dtype=np.float32)\n",
    "x_train = x_train.reshape(-1, 1) #把数据转换成矩阵的形式\n",
    "x_train.shape"
   ],
   "metadata": {
    "collapsed": false,
    "ExecuteTime": {
     "start_time": "2023-04-30T09:26:10.105913Z",
     "end_time": "2023-04-30T09:26:10.135322Z"
    }
   }
  },
  {
   "cell_type": "code",
   "execution_count": 7,
   "outputs": [],
   "source": [
    "y_values = [2*i+1 for i in x_values]\n",
    "y_train = np.array(y_values, dtype=np.float32)"
   ],
   "metadata": {
    "collapsed": false,
    "ExecuteTime": {
     "start_time": "2023-04-30T09:26:15.616973Z",
     "end_time": "2023-04-30T09:26:15.675348Z"
    }
   }
  },
  {
   "cell_type": "code",
   "execution_count": 8,
   "outputs": [
    {
     "data": {
      "text/plain": "(11, 1)"
     },
     "execution_count": 8,
     "metadata": {},
     "output_type": "execute_result"
    }
   ],
   "source": [
    "y_train = y_train.reshape(-1, 1)\n",
    "y_train.shape"
   ],
   "metadata": {
    "collapsed": false,
    "ExecuteTime": {
     "start_time": "2023-04-30T09:26:17.704255Z",
     "end_time": "2023-04-30T09:26:17.715515Z"
    }
   }
  },
  {
   "cell_type": "code",
   "execution_count": 9,
   "outputs": [],
   "source": [
    "import torch.nn as nn"
   ],
   "metadata": {
    "collapsed": false,
    "ExecuteTime": {
     "start_time": "2023-04-30T09:26:20.430200Z",
     "end_time": "2023-04-30T09:26:20.458357Z"
    }
   }
  },
  {
   "cell_type": "markdown",
   "source": [
    "- 其实线性回归就是一个不加激活函数的全连接层"
   ],
   "metadata": {
    "collapsed": false
   }
  },
  {
   "cell_type": "code",
   "execution_count": 10,
   "outputs": [],
   "source": [
    "class LinearRegressionModel(nn.Module):\n",
    "    def __init__(self,input_dim, output_dim):\n",
    "        super(LinearRegressionModel, self).__init__()\n",
    "        self.linear = nn.Linear(input_dim, output_dim)\n",
    "\n",
    "    def forward(self, x):\n",
    "        out = self.linear(x)\n",
    "        return out"
   ],
   "metadata": {
    "collapsed": false,
    "ExecuteTime": {
     "start_time": "2023-04-30T09:26:23.176845Z",
     "end_time": "2023-04-30T09:26:23.194462Z"
    }
   }
  },
  {
   "cell_type": "code",
   "execution_count": 11,
   "outputs": [],
   "source": [
    "input_dim = 1\n",
    "output_dim = 1\n",
    "model = LinearRegressionModel(input_dim, output_dim)"
   ],
   "metadata": {
    "collapsed": false,
    "ExecuteTime": {
     "start_time": "2023-04-30T09:26:32.040794Z",
     "end_time": "2023-04-30T09:26:32.083469Z"
    }
   }
  },
  {
   "cell_type": "code",
   "execution_count": 73,
   "outputs": [
    {
     "data": {
      "text/plain": "LinearRegressionModel(\n  (linear): Linear(in_features=1, out_features=1, bias=True)\n)"
     },
     "execution_count": 73,
     "metadata": {},
     "output_type": "execute_result"
    }
   ],
   "source": [
    "model"
   ],
   "metadata": {
    "collapsed": false,
    "ExecuteTime": {
     "start_time": "2023-04-13T18:53:33.475696Z",
     "end_time": "2023-04-13T18:53:33.493012Z"
    }
   }
  },
  {
   "cell_type": "code",
   "execution_count": 12,
   "outputs": [
    {
     "name": "stdout",
     "output_type": "stream",
     "text": [
      "epoch 50, loss 0.1153845265507698\n",
      "epoch 100, loss 0.0658109188079834\n",
      "epoch 150, loss 0.03753611072897911\n",
      "epoch 200, loss 0.021409111097455025\n",
      "epoch 250, loss 0.012211007066071033\n",
      "epoch 300, loss 0.006964683532714844\n",
      "epoch 350, loss 0.003972407430410385\n",
      "epoch 400, loss 0.002265706192702055\n",
      "epoch 450, loss 0.0012922630412504077\n",
      "epoch 500, loss 0.000737051828764379\n",
      "epoch 550, loss 0.0004203898715786636\n",
      "epoch 600, loss 0.00023977392993401736\n",
      "epoch 650, loss 0.0001367626100545749\n",
      "epoch 700, loss 7.800171442795545e-05\n",
      "epoch 750, loss 4.448592517292127e-05\n",
      "epoch 800, loss 2.5376672056154348e-05\n",
      "epoch 850, loss 1.4473599549091887e-05\n",
      "epoch 900, loss 8.255916327470914e-06\n",
      "epoch 950, loss 4.708312189904973e-06\n",
      "epoch 1000, loss 2.6860516300075687e-06\n"
     ]
    }
   ],
   "source": [
    "#指定好参数和损失函数\n",
    "epochs = 1000\n",
    "learning_rate = 0.01\n",
    "optimizer = torch.optim.SGD(model.parameters(), lr=learning_rate)  # 优化器\n",
    "criterion = nn.MSELoss() # 损失函数\n",
    "#训练模型\n",
    "for epoch in range(epochs):\n",
    "    epoch += 1\n",
    "    # 注意转行成tensor\n",
    "    inputs = torch.from_numpy(x_train)\n",
    "    labels =  torch.from_numpy(y_train) # ndarray转换成tensor 标签\n",
    "    # 梯度要清零每一次迭代\n",
    "    optimizer.zero_grad()\n",
    "\n",
    "    # 前向传播\n",
    "    outputs = model(inputs)\n",
    "    # 计算损失\n",
    "    loss = criterion(outputs, labels)\n",
    "    # 返向传播\n",
    "    loss.backward()\n",
    "    # 更新权重参数\n",
    "    optimizer.step()\n",
    "    if epoch % 50 == 0:\n",
    "        print('epoch {}, loss {}'.format(epoch, loss.item()))"
   ],
   "metadata": {
    "collapsed": false,
    "ExecuteTime": {
     "start_time": "2023-04-30T09:27:04.773792Z",
     "end_time": "2023-04-30T09:27:05.491804Z"
    }
   }
  },
  {
   "cell_type": "code",
   "execution_count": 13,
   "outputs": [
    {
     "data": {
      "text/plain": "array([[ 0.9969515],\n       [ 2.9973905],\n       [ 4.9978294],\n       [ 6.9982686],\n       [ 8.998707 ],\n       [10.9991455],\n       [12.999585 ],\n       [15.000024 ],\n       [17.000463 ],\n       [19.000902 ],\n       [21.00134  ]], dtype=float32)"
     },
     "execution_count": 13,
     "metadata": {},
     "output_type": "execute_result"
    }
   ],
   "source": [
    "#模型预测结果\n",
    "predicted = model(torch.from_numpy(x_train).requires_grad_()).data.numpy()\n",
    "predicted"
   ],
   "metadata": {
    "collapsed": false,
    "ExecuteTime": {
     "start_time": "2023-04-30T09:47:19.340194Z",
     "end_time": "2023-04-30T09:47:19.398658Z"
    }
   }
  },
  {
   "cell_type": "code",
   "execution_count": 14,
   "outputs": [
    {
     "data": {
      "text/plain": "<All keys matched successfully>"
     },
     "execution_count": 14,
     "metadata": {},
     "output_type": "execute_result"
    }
   ],
   "source": [
    "# 模型的保存和读取\n",
    "torch.save(model.state_dict(), 'model.pkl')\n",
    "model.load_state_dict(torch.load(\"model.pkl\"))"
   ],
   "metadata": {
    "collapsed": false,
    "ExecuteTime": {
     "start_time": "2023-04-30T09:47:22.270277Z",
     "end_time": "2023-04-30T09:47:22.440831Z"
    }
   }
  },
  {
   "cell_type": "markdown",
   "source": [
    "#### 使用GPU进行训练\n",
    "- 只需要把数据和模型传入到cuda里面就可以了"
   ],
   "metadata": {
    "collapsed": false
   }
  },
  {
   "cell_type": "code",
   "execution_count": 16,
   "outputs": [
    {
     "name": "stdout",
     "output_type": "stream",
     "text": [
      "epoch 50, loss 0.2503982186317444\n",
      "epoch 100, loss 0.1428179144859314\n",
      "epoch 150, loss 0.08145790547132492\n",
      "epoch 200, loss 0.04646045342087746\n",
      "epoch 250, loss 0.026499329134821892\n",
      "epoch 300, loss 0.015114233829081059\n",
      "epoch 350, loss 0.008620606735348701\n",
      "epoch 400, loss 0.004916887730360031\n",
      "epoch 450, loss 0.002804417395964265\n",
      "epoch 500, loss 0.0015995538560673594\n",
      "epoch 550, loss 0.0009123071795329452\n",
      "epoch 600, loss 0.0005203422624617815\n",
      "epoch 650, loss 0.0002967813634313643\n",
      "epoch 700, loss 0.0001692787918727845\n",
      "epoch 750, loss 9.654973837314174e-05\n",
      "epoch 800, loss 5.5066251661628485e-05\n",
      "epoch 850, loss 3.140662738587707e-05\n",
      "epoch 900, loss 1.7915388525580056e-05\n",
      "epoch 950, loss 1.0218884199275635e-05\n",
      "epoch 1000, loss 5.828241683047963e-06\n"
     ]
    }
   ],
   "source": [
    "class LinearRegressionModelGpu(nn.Module):\n",
    "    def __init__(self, input_dim, output_dim):\n",
    "        super(LinearRegressionModelGpu, self).__init__()\n",
    "        self.linear = nn.Linear(input_dim, output_dim)\n",
    "    def forward(self, x):\n",
    "        out = self.linear(x)\n",
    "        return out\n",
    "\n",
    "input_dim = 1\n",
    "output_dim = 1\n",
    "\n",
    "model = LinearRegressionModelGpu(input_dim, output_dim)\n",
    "device = torch.device(\"cuda:0\" if torch.cuda.is_available() else \"cpu\")\n",
    "model.to(device)\n",
    "\n",
    "criterion = nn.MSELoss()\n",
    "learning_rate = 0.01\n",
    "optimizer = torch.optim.SGD(model.parameters(), lr=learning_rate)\n",
    "\n",
    "epochs = 1000\n",
    "for epoch in range(epochs):\n",
    "    epoch = epoch + 1\n",
    "    inputs = torch.from_numpy(x_train).to(device)\n",
    "    labels = torch.from_numpy(y_train).to(device)\n",
    "\n",
    "    optimizer.zero_grad()\n",
    "    outputs = model(inputs)\n",
    "    loss = criterion(outputs, labels)\n",
    "    loss.backward()\n",
    "    optimizer.step()\n",
    "    if epoch % 50 == 0:\n",
    "        print('epoch {}, loss {}'.format(epoch, loss.item()))"
   ],
   "metadata": {
    "collapsed": false,
    "ExecuteTime": {
     "start_time": "2023-04-30T09:49:41.239205Z",
     "end_time": "2023-04-30T09:49:42.034908Z"
    }
   }
  },
  {
   "cell_type": "code",
   "execution_count": null,
   "outputs": [],
   "source": [],
   "metadata": {
    "collapsed": false
   }
  }
 ],
 "metadata": {
  "kernelspec": {
   "display_name": "Python 3",
   "language": "python",
   "name": "python3"
  },
  "language_info": {
   "codemirror_mode": {
    "name": "ipython",
    "version": 2
   },
   "file_extension": ".py",
   "mimetype": "text/x-python",
   "name": "python",
   "nbconvert_exporter": "python",
   "pygments_lexer": "ipython2",
   "version": "2.7.6"
  }
 },
 "nbformat": 4,
 "nbformat_minor": 0
}
