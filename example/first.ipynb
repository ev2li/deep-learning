{
 "cells": [
  {
   "cell_type": "markdown",
   "source": [
    "#### pytorch的安装\n",
    "- cpu版本安装:pip install torch==1.3.0+cpu torchvision=0.4.1+cpu -f https://download.pytorch.org/whl/torch_stable.html\n",
    "- GPU版本安装: pip install torch==1.3.0 torchvision=0.4 -f https://download.pytorch.org/whl/torch_stable"
   ],
   "metadata": {
    "collapsed": false
   }
  },
  {
   "cell_type": "code",
   "execution_count": 7,
   "metadata": {
    "collapsed": true,
    "ExecuteTime": {
     "start_time": "2023-04-13T10:42:38.697247Z",
     "end_time": "2023-04-13T10:42:41.368048Z"
    }
   },
   "outputs": [
    {
     "data": {
      "text/plain": "'1.10.2'"
     },
     "execution_count": 7,
     "metadata": {},
     "output_type": "execute_result"
    }
   ],
   "source": [
    "import torch\n",
    "torch.__version__\n"
   ]
  },
  {
   "cell_type": "markdown",
   "source": [],
   "metadata": {
    "collapsed": false
   }
  },
  {
   "cell_type": "markdown",
   "source": [
    "#### 基本使用方法\n",
    "- 创建一个矩阵"
   ],
   "metadata": {
    "collapsed": false
   }
  },
  {
   "cell_type": "code",
   "execution_count": 8,
   "outputs": [
    {
     "name": "stdout",
     "output_type": "stream",
     "text": [
      "tensor([[0., 0., 0.],\n",
      "        [0., 0., 0.],\n",
      "        [0., 0., 0.],\n",
      "        [0., 0., 0.],\n",
      "        [0., 0., 0.]])\n"
     ]
    }
   ],
   "source": [
    "x = torch.empty(5, 3)\n",
    "print(x)"
   ],
   "metadata": {
    "collapsed": false,
    "ExecuteTime": {
     "start_time": "2023-04-13T10:43:42.318652Z",
     "end_time": "2023-04-13T10:43:42.431428Z"
    }
   }
  },
  {
   "cell_type": "markdown",
   "source": [
    "- 创建一个随机值"
   ],
   "metadata": {
    "collapsed": false
   }
  },
  {
   "cell_type": "code",
   "execution_count": 9,
   "outputs": [
    {
     "data": {
      "text/plain": "tensor([[0.5681, 0.1327, 0.7864],\n        [0.0698, 0.0250, 0.6641],\n        [0.7761, 0.7579, 0.4064],\n        [0.5142, 0.9232, 0.1499],\n        [0.3884, 0.7971, 0.9654]])"
     },
     "execution_count": 9,
     "metadata": {},
     "output_type": "execute_result"
    }
   ],
   "source": [
    "x = torch.rand(5, 3)\n",
    "x"
   ],
   "metadata": {
    "collapsed": false,
    "ExecuteTime": {
     "start_time": "2023-04-13T10:54:51.085948Z",
     "end_time": "2023-04-13T10:54:51.153826Z"
    }
   }
  },
  {
   "cell_type": "markdown",
   "source": [
    "- 初始化一个全零的矩阵"
   ],
   "metadata": {
    "collapsed": false
   }
  },
  {
   "cell_type": "code",
   "execution_count": 10,
   "outputs": [
    {
     "data": {
      "text/plain": "tensor([[0, 0, 0],\n        [0, 0, 0],\n        [0, 0, 0],\n        [0, 0, 0],\n        [0, 0, 0]])"
     },
     "execution_count": 10,
     "metadata": {},
     "output_type": "execute_result"
    }
   ],
   "source": [
    "x = torch.zeros(5, 3, dtype=torch.long)\n",
    "x"
   ],
   "metadata": {
    "collapsed": false,
    "ExecuteTime": {
     "start_time": "2023-04-13T11:14:04.335767Z",
     "end_time": "2023-04-13T11:14:04.360529Z"
    }
   }
  },
  {
   "cell_type": "code",
   "execution_count": 11,
   "outputs": [],
   "source": [
    "# 直接传入数据\n",
    "x = torch.tensor([5, 5, 3])"
   ],
   "metadata": {
    "collapsed": false,
    "ExecuteTime": {
     "start_time": "2023-04-13T11:14:37.925012Z",
     "end_time": "2023-04-13T11:14:37.938107Z"
    }
   }
  },
  {
   "cell_type": "code",
   "execution_count": 12,
   "outputs": [
    {
     "data": {
      "text/plain": "tensor([5, 5, 3])"
     },
     "execution_count": 12,
     "metadata": {},
     "output_type": "execute_result"
    }
   ],
   "source": [
    "x"
   ],
   "metadata": {
    "collapsed": false,
    "ExecuteTime": {
     "start_time": "2023-04-13T11:14:41.734958Z",
     "end_time": "2023-04-13T11:14:41.782394Z"
    }
   }
  },
  {
   "cell_type": "code",
   "execution_count": 13,
   "outputs": [],
   "source": [
    "x = x.new_ones(5, 3, dtype=torch.double)"
   ],
   "metadata": {
    "collapsed": false,
    "ExecuteTime": {
     "start_time": "2023-04-13T11:15:10.120371Z",
     "end_time": "2023-04-13T11:15:10.174676Z"
    }
   }
  },
  {
   "cell_type": "code",
   "execution_count": 14,
   "outputs": [
    {
     "data": {
      "text/plain": "tensor([[1., 1., 1.],\n        [1., 1., 1.],\n        [1., 1., 1.],\n        [1., 1., 1.],\n        [1., 1., 1.]], dtype=torch.float64)"
     },
     "execution_count": 14,
     "metadata": {},
     "output_type": "execute_result"
    }
   ],
   "source": [
    "x"
   ],
   "metadata": {
    "collapsed": false,
    "ExecuteTime": {
     "start_time": "2023-04-13T11:15:11.940433Z",
     "end_time": "2023-04-13T11:15:11.991335Z"
    }
   }
  },
  {
   "cell_type": "code",
   "execution_count": 15,
   "outputs": [
    {
     "data": {
      "text/plain": "tensor([[-1.8858,  0.7104,  1.2545],\n        [-2.1260, -0.0664, -1.1327],\n        [ 0.8287, -1.5604,  0.5398],\n        [-1.8596, -0.3208, -0.1077],\n        [-0.3385, -0.1479,  1.4332]])"
     },
     "execution_count": 15,
     "metadata": {},
     "output_type": "execute_result"
    }
   ],
   "source": [
    "x = torch.randn_like(x, dtype=torch.float)\n",
    "x"
   ],
   "metadata": {
    "collapsed": false,
    "ExecuteTime": {
     "start_time": "2023-04-13T11:15:53.818885Z",
     "end_time": "2023-04-13T11:15:53.959499Z"
    }
   }
  },
  {
   "cell_type": "code",
   "execution_count": 16,
   "outputs": [
    {
     "data": {
      "text/plain": "torch.Size([5, 3])"
     },
     "execution_count": 16,
     "metadata": {},
     "output_type": "execute_result"
    }
   ],
   "source": [
    "x.size()"
   ],
   "metadata": {
    "collapsed": false,
    "ExecuteTime": {
     "start_time": "2023-04-13T11:26:20.018342Z",
     "end_time": "2023-04-13T11:26:20.266963Z"
    }
   }
  },
  {
   "cell_type": "code",
   "execution_count": 16,
   "outputs": [],
   "source": [],
   "metadata": {
    "collapsed": false,
    "ExecuteTime": {
     "start_time": "2023-04-13T11:26:20.480333Z",
     "end_time": "2023-04-13T11:26:20.664633Z"
    }
   }
  },
  {
   "cell_type": "markdown",
   "source": [
    "- 基本计算方法"
   ],
   "metadata": {
    "collapsed": false
   }
  },
  {
   "cell_type": "code",
   "execution_count": 17,
   "outputs": [
    {
     "data": {
      "text/plain": "tensor([[-0.9592,  1.4618,  1.3465],\n        [-1.7017,  0.1503, -0.4365],\n        [ 1.7972, -1.2967,  0.8953],\n        [-1.0163, -0.1322,  0.0564],\n        [ 0.0436,  0.7670,  1.7571]])"
     },
     "execution_count": 17,
     "metadata": {},
     "output_type": "execute_result"
    }
   ],
   "source": [
    "y = torch.rand(5,3)\n",
    "x + y"
   ],
   "metadata": {
    "collapsed": false,
    "ExecuteTime": {
     "start_time": "2023-04-13T11:27:23.162611Z",
     "end_time": "2023-04-13T11:27:23.237130Z"
    }
   }
  },
  {
   "cell_type": "code",
   "execution_count": 18,
   "outputs": [
    {
     "data": {
      "text/plain": "tensor([[-0.9592,  1.4618,  1.3465],\n        [-1.7017,  0.1503, -0.4365],\n        [ 1.7972, -1.2967,  0.8953],\n        [-1.0163, -0.1322,  0.0564],\n        [ 0.0436,  0.7670,  1.7571]])"
     },
     "execution_count": 18,
     "metadata": {},
     "output_type": "execute_result"
    }
   ],
   "source": [
    "torch.add(x, y)"
   ],
   "metadata": {
    "collapsed": false,
    "ExecuteTime": {
     "start_time": "2023-04-13T11:27:32.926120Z",
     "end_time": "2023-04-13T11:27:32.993074Z"
    }
   }
  },
  {
   "cell_type": "markdown",
   "source": [
    "- 索引"
   ],
   "metadata": {
    "collapsed": false
   }
  },
  {
   "cell_type": "code",
   "execution_count": 19,
   "outputs": [
    {
     "data": {
      "text/plain": "tensor([ 1.2545, -1.1327,  0.5398, -0.1077,  1.4332])"
     },
     "execution_count": 19,
     "metadata": {},
     "output_type": "execute_result"
    }
   ],
   "source": [
    "x[:, -1]"
   ],
   "metadata": {
    "collapsed": false,
    "ExecuteTime": {
     "start_time": "2023-04-13T11:28:06.751133Z",
     "end_time": "2023-04-13T11:28:06.864252Z"
    }
   }
  },
  {
   "cell_type": "code",
   "execution_count": 20,
   "outputs": [
    {
     "data": {
      "text/plain": "tensor([[-1.8858,  0.7104,  1.2545],\n        [-2.1260, -0.0664, -1.1327],\n        [ 0.8287, -1.5604,  0.5398],\n        [-1.8596, -0.3208, -0.1077],\n        [-0.3385, -0.1479,  1.4332]])"
     },
     "execution_count": 20,
     "metadata": {},
     "output_type": "execute_result"
    }
   ],
   "source": [
    "x"
   ],
   "metadata": {
    "collapsed": false,
    "ExecuteTime": {
     "start_time": "2023-04-13T11:28:09.967088Z",
     "end_time": "2023-04-13T11:28:10.032148Z"
    }
   }
  },
  {
   "cell_type": "code",
   "execution_count": 29,
   "outputs": [
    {
     "name": "stdout",
     "output_type": "stream",
     "text": [
      "torch.Size([4, 4]) torch.Size([16]) torch.Size([2, 8])\n"
     ]
    }
   ],
   "source": [
    "x = torch.randn(4, 4)\n",
    "y = x.view(16)\n",
    "z = x.view(-1, 8)\n",
    "print(x.size(), y.size(), z.size())"
   ],
   "metadata": {
    "collapsed": false,
    "ExecuteTime": {
     "start_time": "2023-04-13T11:33:23.481118Z",
     "end_time": "2023-04-13T11:33:23.510788Z"
    }
   }
  },
  {
   "cell_type": "code",
   "execution_count": 30,
   "outputs": [
    {
     "data": {
      "text/plain": "tensor([-0.8590,  0.2295, -1.8055, -0.2096,  0.6050, -0.9037,  3.3610, -0.1885,\n         0.2639, -0.4013,  0.2293,  1.2923,  0.8684,  0.8374, -1.4927,  0.4628])"
     },
     "execution_count": 30,
     "metadata": {},
     "output_type": "execute_result"
    }
   ],
   "source": [
    "y"
   ],
   "metadata": {
    "collapsed": false,
    "ExecuteTime": {
     "start_time": "2023-04-13T11:33:33.706345Z",
     "end_time": "2023-04-13T11:33:33.761591Z"
    }
   }
  },
  {
   "cell_type": "code",
   "execution_count": 31,
   "outputs": [
    {
     "data": {
      "text/plain": "tensor([[-0.8590,  0.2295, -1.8055, -0.2096],\n        [ 0.6050, -0.9037,  3.3610, -0.1885],\n        [ 0.2639, -0.4013,  0.2293,  1.2923],\n        [ 0.8684,  0.8374, -1.4927,  0.4628]])"
     },
     "execution_count": 31,
     "metadata": {},
     "output_type": "execute_result"
    }
   ],
   "source": [
    "x"
   ],
   "metadata": {
    "collapsed": false,
    "ExecuteTime": {
     "start_time": "2023-04-13T11:33:41.077625Z",
     "end_time": "2023-04-13T11:33:41.144226Z"
    }
   }
  },
  {
   "cell_type": "code",
   "execution_count": 32,
   "outputs": [
    {
     "data": {
      "text/plain": "tensor([[-0.8590,  0.2295, -1.8055, -0.2096,  0.6050, -0.9037,  3.3610, -0.1885],\n        [ 0.2639, -0.4013,  0.2293,  1.2923,  0.8684,  0.8374, -1.4927,  0.4628]])"
     },
     "execution_count": 32,
     "metadata": {},
     "output_type": "execute_result"
    }
   ],
   "source": [
    "z"
   ],
   "metadata": {
    "collapsed": false,
    "ExecuteTime": {
     "start_time": "2023-04-13T17:17:14.951581Z",
     "end_time": "2023-04-13T17:17:15.043389Z"
    }
   }
  },
  {
   "cell_type": "markdown",
   "source": [
    "- 和Numpy的协同操作"
   ],
   "metadata": {
    "collapsed": false
   }
  },
  {
   "cell_type": "code",
   "execution_count": 33,
   "outputs": [
    {
     "data": {
      "text/plain": "array([1., 1., 1., 1., 1.], dtype=float32)"
     },
     "execution_count": 33,
     "metadata": {},
     "output_type": "execute_result"
    }
   ],
   "source": [
    "a = torch.ones(5)\n",
    "b = a.numpy()\n",
    "b"
   ],
   "metadata": {
    "collapsed": false,
    "ExecuteTime": {
     "start_time": "2023-04-13T17:18:54.767738Z",
     "end_time": "2023-04-13T17:18:54.861530Z"
    }
   }
  },
  {
   "cell_type": "code",
   "execution_count": 34,
   "outputs": [
    {
     "data": {
      "text/plain": "tensor([1., 1., 1., 1., 1.], dtype=torch.float64)"
     },
     "execution_count": 34,
     "metadata": {},
     "output_type": "execute_result"
    }
   ],
   "source": [
    "import numpy as np\n",
    "a = np.ones(5)\n",
    "b = torch.from_numpy(a)\n",
    "b"
   ],
   "metadata": {
    "collapsed": false,
    "ExecuteTime": {
     "start_time": "2023-04-13T17:19:34.616052Z",
     "end_time": "2023-04-13T17:19:34.704918Z"
    }
   }
  },
  {
   "cell_type": "markdown",
   "source": [
    "- 框架干的最厉害的一件事就是帮我们把返回传播全部计算好了"
   ],
   "metadata": {
    "collapsed": false
   }
  },
  {
   "cell_type": "code",
   "execution_count": 35,
   "outputs": [
    {
     "data": {
      "text/plain": "tensor([[ 8.7642e-01,  9.7455e-02, -1.9850e+00,  3.0431e-01],\n        [-1.5169e+00,  4.8478e-01,  2.1452e+00, -3.8118e-01],\n        [ 3.3879e-01, -2.9269e-05, -2.1844e-02, -5.3195e-01]],\n       requires_grad=True)"
     },
     "execution_count": 35,
     "metadata": {},
     "output_type": "execute_result"
    }
   ],
   "source": [
    "x = torch.randn(3, 4, requires_grad=True)\n",
    "x"
   ],
   "metadata": {
    "collapsed": false,
    "ExecuteTime": {
     "start_time": "2023-04-13T17:23:17.305483Z",
     "end_time": "2023-04-13T17:23:17.369325Z"
    }
   }
  },
  {
   "cell_type": "code",
   "execution_count": 36,
   "outputs": [
    {
     "data": {
      "text/plain": "tensor([[ 0.4582,  0.6653, -0.3796, -0.2092],\n        [-2.1461, -0.6125,  0.6430, -0.5255],\n        [ 0.3422,  1.1090,  0.8936, -0.8197]], requires_grad=True)"
     },
     "execution_count": 36,
     "metadata": {},
     "output_type": "execute_result"
    }
   ],
   "source": [
    "# 方法2\n",
    "x = torch.randn(3, 4)\n",
    "x.requires_grad = True\n",
    "x"
   ],
   "metadata": {
    "collapsed": false,
    "ExecuteTime": {
     "start_time": "2023-04-13T17:23:56.686782Z",
     "end_time": "2023-04-13T17:23:56.757982Z"
    }
   }
  },
  {
   "cell_type": "code",
   "execution_count": 37,
   "outputs": [],
   "source": [
    "b = torch.randn(3, 4, requires_grad=True)"
   ],
   "metadata": {
    "collapsed": false,
    "ExecuteTime": {
     "start_time": "2023-04-13T17:24:30.827290Z",
     "end_time": "2023-04-13T17:24:30.902099Z"
    }
   }
  },
  {
   "cell_type": "code",
   "execution_count": 38,
   "outputs": [],
   "source": [
    "t = x + b"
   ],
   "metadata": {
    "collapsed": false,
    "ExecuteTime": {
     "start_time": "2023-04-13T17:24:41.339173Z",
     "end_time": "2023-04-13T17:24:41.383657Z"
    }
   }
  },
  {
   "cell_type": "code",
   "execution_count": 39,
   "outputs": [
    {
     "data": {
      "text/plain": "tensor(6.7207, grad_fn=<SumBackward0>)"
     },
     "execution_count": 39,
     "metadata": {},
     "output_type": "execute_result"
    }
   ],
   "source": [
    "y = t.sum()\n",
    "y"
   ],
   "metadata": {
    "collapsed": false,
    "ExecuteTime": {
     "start_time": "2023-04-13T17:24:54.767984Z",
     "end_time": "2023-04-13T17:24:54.854536Z"
    }
   }
  },
  {
   "cell_type": "code",
   "execution_count": 40,
   "outputs": [],
   "source": [
    "y.backward()"
   ],
   "metadata": {
    "collapsed": false,
    "ExecuteTime": {
     "start_time": "2023-04-13T17:25:08.774842Z",
     "end_time": "2023-04-13T17:25:08.826723Z"
    }
   }
  },
  {
   "cell_type": "code",
   "execution_count": 41,
   "outputs": [
    {
     "data": {
      "text/plain": "tensor([[1., 1., 1., 1.],\n        [1., 1., 1., 1.],\n        [1., 1., 1., 1.]])"
     },
     "execution_count": 41,
     "metadata": {},
     "output_type": "execute_result"
    }
   ],
   "source": [
    "b.grad"
   ],
   "metadata": {
    "collapsed": false,
    "ExecuteTime": {
     "start_time": "2023-04-13T17:25:12.799076Z",
     "end_time": "2023-04-13T17:25:12.860679Z"
    }
   }
  },
  {
   "cell_type": "code",
   "execution_count": 42,
   "outputs": [
    {
     "data": {
      "text/plain": "(True, True, True)"
     },
     "execution_count": 42,
     "metadata": {},
     "output_type": "execute_result"
    }
   ],
   "source": [
    "x.requires_grad, y.requires_grad, t.requires_grad"
   ],
   "metadata": {
    "collapsed": false,
    "ExecuteTime": {
     "start_time": "2023-04-13T17:44:48.579312Z",
     "end_time": "2023-04-13T17:44:48.714115Z"
    }
   }
  },
  {
   "cell_type": "code",
   "execution_count": 44,
   "outputs": [],
   "source": [
    "# 计算流程\n",
    "x = torch.rand(1)\n",
    "b = torch.rand(1, requires_grad=True)\n",
    "w = torch.rand(1, requires_grad=True)\n",
    "y = w * x\n",
    "z = y + b"
   ],
   "metadata": {
    "collapsed": false,
    "ExecuteTime": {
     "start_time": "2023-04-13T17:48:31.662378Z",
     "end_time": "2023-04-13T17:48:31.730157Z"
    }
   }
  },
  {
   "cell_type": "code",
   "execution_count": 46,
   "outputs": [
    {
     "data": {
      "text/plain": "(False, True, True, True)"
     },
     "execution_count": 46,
     "metadata": {},
     "output_type": "execute_result"
    }
   ],
   "source": [
    "x.requires_grad, y.requires_grad, w.requires_grad, b.requires_grad"
   ],
   "metadata": {
    "collapsed": false,
    "ExecuteTime": {
     "start_time": "2023-04-13T17:49:19.546532Z",
     "end_time": "2023-04-13T17:49:19.580609Z"
    }
   }
  },
  {
   "cell_type": "code",
   "execution_count": 47,
   "outputs": [
    {
     "data": {
      "text/plain": "(True, True, True, False, False)"
     },
     "execution_count": 47,
     "metadata": {},
     "output_type": "execute_result"
    }
   ],
   "source": [
    "x.is_leaf, w.is_leaf, b.is_leaf, y.is_leaf, z.is_leaf"
   ],
   "metadata": {
    "collapsed": false,
    "ExecuteTime": {
     "start_time": "2023-04-13T17:50:54.633090Z",
     "end_time": "2023-04-13T17:50:54.686439Z"
    }
   }
  },
  {
   "cell_type": "code",
   "execution_count": 49,
   "outputs": [
    {
     "data": {
      "text/plain": "tensor([0.0210])"
     },
     "execution_count": 49,
     "metadata": {},
     "output_type": "execute_result"
    }
   ],
   "source": [
    "z.backward(retain_graph=True) #如果计算不清空会累加起来\n",
    "w.grad"
   ],
   "metadata": {
    "collapsed": false,
    "ExecuteTime": {
     "start_time": "2023-04-13T17:54:35.636453Z",
     "end_time": "2023-04-13T17:54:35.683973Z"
    }
   }
  },
  {
   "cell_type": "code",
   "execution_count": 54,
   "outputs": [
    {
     "data": {
      "text/plain": "tensor([1.])"
     },
     "execution_count": 54,
     "metadata": {},
     "output_type": "execute_result"
    }
   ],
   "source": [
    "b.grad"
   ],
   "metadata": {
    "collapsed": false,
    "ExecuteTime": {
     "start_time": "2023-04-13T17:56:21.810318Z",
     "end_time": "2023-04-13T17:56:21.876338Z"
    }
   }
  },
  {
   "cell_type": "markdown",
   "source": [
    "- 做一个简单的线性回归"
   ],
   "metadata": {
    "collapsed": false
   }
  },
  {
   "cell_type": "code",
   "execution_count": 55,
   "outputs": [
    {
     "data": {
      "text/plain": "(11, 1)"
     },
     "execution_count": 55,
     "metadata": {},
     "output_type": "execute_result"
    }
   ],
   "source": [
    "x_values = [i for i in range(11)]\n",
    "x_train = np.array(x_values, dtype=np.float32)\n",
    "x_train = x_train.reshape(-1, 1)\n",
    "x_train.shape"
   ],
   "metadata": {
    "collapsed": false,
    "ExecuteTime": {
     "start_time": "2023-04-13T17:58:59.948349Z",
     "end_time": "2023-04-13T17:59:00.029414Z"
    }
   }
  },
  {
   "cell_type": "code",
   "execution_count": 67,
   "outputs": [],
   "source": [
    "y_values = [2*i+1 for i in x_values]\n",
    "y_train = np.array(y_values, dtype=np.float32)"
   ],
   "metadata": {
    "collapsed": false,
    "ExecuteTime": {
     "start_time": "2023-04-13T18:50:34.676037Z",
     "end_time": "2023-04-13T18:50:34.773779Z"
    }
   }
  },
  {
   "cell_type": "code",
   "execution_count": 68,
   "outputs": [
    {
     "data": {
      "text/plain": "(11, 1)"
     },
     "execution_count": 68,
     "metadata": {},
     "output_type": "execute_result"
    }
   ],
   "source": [
    "y_train = y_train.reshape(-1, 1)\n",
    "y_train.shape"
   ],
   "metadata": {
    "collapsed": false,
    "ExecuteTime": {
     "start_time": "2023-04-13T18:50:35.913987Z",
     "end_time": "2023-04-13T18:50:36.024539Z"
    }
   }
  },
  {
   "cell_type": "code",
   "execution_count": 69,
   "outputs": [],
   "source": [
    "import torch.nn as nn"
   ],
   "metadata": {
    "collapsed": false,
    "ExecuteTime": {
     "start_time": "2023-04-13T18:50:39.313567Z",
     "end_time": "2023-04-13T18:50:39.502095Z"
    }
   }
  },
  {
   "cell_type": "markdown",
   "source": [
    "- 其实线性回归就是一个不加激活函数的全连接层"
   ],
   "metadata": {
    "collapsed": false
   }
  },
  {
   "cell_type": "code",
   "execution_count": 71,
   "outputs": [],
   "source": [
    "class LinearRegressionModel(nn.Module):\n",
    "    def __init__(self,input_dim, output_dim):\n",
    "        super(LinearRegressionModel, self).__init__()\n",
    "        self.linear = nn.Linear(input_dim, output_dim)\n",
    "\n",
    "    def forward(self, x):\n",
    "        out = self.linear(x)\n",
    "        return(out)"
   ],
   "metadata": {
    "collapsed": false,
    "ExecuteTime": {
     "start_time": "2023-04-13T18:53:30.234631Z",
     "end_time": "2023-04-13T18:53:30.238377Z"
    }
   }
  },
  {
   "cell_type": "code",
   "execution_count": 72,
   "outputs": [],
   "source": [
    "input_dim = 1\n",
    "output_dim = 1\n",
    "model = LinearRegressionModel(input_dim, output_dim)"
   ],
   "metadata": {
    "collapsed": false,
    "ExecuteTime": {
     "start_time": "2023-04-13T18:53:32.305597Z",
     "end_time": "2023-04-13T18:53:32.449671Z"
    }
   }
  },
  {
   "cell_type": "code",
   "execution_count": 73,
   "outputs": [
    {
     "data": {
      "text/plain": "LinearRegressionModel(\n  (linear): Linear(in_features=1, out_features=1, bias=True)\n)"
     },
     "execution_count": 73,
     "metadata": {},
     "output_type": "execute_result"
    }
   ],
   "source": [
    "model"
   ],
   "metadata": {
    "collapsed": false,
    "ExecuteTime": {
     "start_time": "2023-04-13T18:53:33.475696Z",
     "end_time": "2023-04-13T18:53:33.493012Z"
    }
   }
  },
  {
   "cell_type": "code",
   "execution_count": 78,
   "outputs": [
    {
     "name": "stdout",
     "output_type": "stream",
     "text": [
      "epoch 50, loss 1.268649851837722e-09\n",
      "epoch 100, loss 7.429903359223999e-10\n",
      "epoch 150, loss 4.2138834088767396e-10\n",
      "epoch 200, loss 2.447629043889066e-10\n",
      "epoch 250, loss 1.426721379926832e-10\n",
      "epoch 300, loss 8.437921195092457e-11\n",
      "epoch 350, loss 5.201689426415079e-11\n",
      "epoch 400, loss 3.177159577094635e-11\n",
      "epoch 450, loss 1.7016853204321336e-11\n",
      "epoch 500, loss 1.5593505653388462e-11\n",
      "epoch 550, loss 1.5593505653388462e-11\n",
      "epoch 600, loss 1.5593505653388462e-11\n",
      "epoch 650, loss 1.5593505653388462e-11\n",
      "epoch 700, loss 1.5593505653388462e-11\n",
      "epoch 750, loss 1.5593505653388462e-11\n",
      "epoch 800, loss 1.5593505653388462e-11\n",
      "epoch 850, loss 1.5593505653388462e-11\n",
      "epoch 900, loss 1.5593505653388462e-11\n",
      "epoch 950, loss 1.5593505653388462e-11\n",
      "epoch 1000, loss 1.5593505653388462e-11\n"
     ]
    }
   ],
   "source": [
    "#指定好参数和损失函数\n",
    "epochs = 1000\n",
    "learning_rate = 0.01\n",
    "optimizer = torch.optim.SGD(model.parameters(), lr=learning_rate)\n",
    "criterion = nn.MSELoss()\n",
    "#训练模型\n",
    "for epoch in range(epochs):\n",
    "    epoch += 1\n",
    "    # 注意转行成tensor\n",
    "    inputs = torch.from_numpy(x_train)\n",
    "    labels =  torch.from_numpy(y_train)\n",
    "    # 梯度要清零每一次迭代\n",
    "    optimizer.zero_grad()\n",
    "\n",
    "    # 前向传播\n",
    "    outputs = model(inputs)\n",
    "    # 计算损失\n",
    "    loss = criterion(outputs, labels)\n",
    "    # 返向传播\n",
    "    loss.backward()\n",
    "    # 更新权重参数\n",
    "    optimizer.step()\n",
    "    if epoch % 50 == 0:\n",
    "        print('epoch {}, loss {}'.format(epoch, loss.item()))"
   ],
   "metadata": {
    "collapsed": false,
    "ExecuteTime": {
     "start_time": "2023-04-13T19:04:01.667141Z",
     "end_time": "2023-04-13T19:04:02.069984Z"
    }
   }
  },
  {
   "cell_type": "code",
   "execution_count": 79,
   "outputs": [
    {
     "data": {
      "text/plain": "array([[ 0.99999267],\n       [ 2.9999938 ],\n       [ 4.999995  ],\n       [ 6.9999967 ],\n       [ 8.999997  ],\n       [10.999998  ],\n       [13.        ],\n       [15.000001  ],\n       [17.000002  ],\n       [19.000004  ],\n       [21.000004  ]], dtype=float32)"
     },
     "execution_count": 79,
     "metadata": {},
     "output_type": "execute_result"
    }
   ],
   "source": [
    "#模型预测结果\n",
    "predicted = model(torch.from_numpy(x_train).requires_grad_()).data.numpy()\n",
    "predicted"
   ],
   "metadata": {
    "collapsed": false,
    "ExecuteTime": {
     "start_time": "2023-04-13T19:06:28.771363Z",
     "end_time": "2023-04-13T19:06:29.043874Z"
    }
   }
  },
  {
   "cell_type": "code",
   "execution_count": 80,
   "outputs": [
    {
     "data": {
      "text/plain": "<All keys matched successfully>"
     },
     "execution_count": 80,
     "metadata": {},
     "output_type": "execute_result"
    }
   ],
   "source": [
    "# 模型的保存和读取\n",
    "torch.save(model.state_dict(), 'model.pkl')\n",
    "model.load_state_dict(torch.load(\"model.pkl\"))"
   ],
   "metadata": {
    "collapsed": false,
    "ExecuteTime": {
     "start_time": "2023-04-13T19:08:27.781308Z",
     "end_time": "2023-04-13T19:08:27.933190Z"
    }
   }
  },
  {
   "cell_type": "markdown",
   "source": [
    "#### 使用GPU进行训练\n",
    "- 只需要把数据和模型传入到cuda里面就可以了"
   ],
   "metadata": {
    "collapsed": false
   }
  },
  {
   "cell_type": "code",
   "execution_count": 85,
   "outputs": [
    {
     "name": "stdout",
     "output_type": "stream",
     "text": [
      "epoch 50, loss <built-in method item of Tensor object at 0x186d15228>\n",
      "epoch 100, loss <built-in method item of Tensor object at 0x186d15228>\n",
      "epoch 150, loss <built-in method item of Tensor object at 0x186d15228>\n",
      "epoch 200, loss <built-in method item of Tensor object at 0x186d15228>\n",
      "epoch 250, loss <built-in method item of Tensor object at 0x186d15228>\n",
      "epoch 300, loss <built-in method item of Tensor object at 0x186d15228>\n",
      "epoch 350, loss <built-in method item of Tensor object at 0x186d15228>\n",
      "epoch 400, loss <built-in method item of Tensor object at 0x186d52cc8>\n",
      "epoch 450, loss <built-in method item of Tensor object at 0x186d52cc8>\n",
      "epoch 500, loss <built-in method item of Tensor object at 0x186d52cc8>\n",
      "epoch 550, loss <built-in method item of Tensor object at 0x186d52cc8>\n",
      "epoch 600, loss <built-in method item of Tensor object at 0x186d52cc8>\n",
      "epoch 650, loss <built-in method item of Tensor object at 0x186d52cc8>\n",
      "epoch 700, loss <built-in method item of Tensor object at 0x186d52cc8>\n",
      "epoch 750, loss <built-in method item of Tensor object at 0x186d52cc8>\n",
      "epoch 800, loss <built-in method item of Tensor object at 0x186d15228>\n",
      "epoch 850, loss <built-in method item of Tensor object at 0x186d15228>\n",
      "epoch 900, loss <built-in method item of Tensor object at 0x186d15228>\n",
      "epoch 950, loss <built-in method item of Tensor object at 0x186d15228>\n",
      "epoch 1000, loss <built-in method item of Tensor object at 0x186d15228>\n"
     ]
    }
   ],
   "source": [
    "class LinearRegressionModelGpu(nn.Module):\n",
    "    def __init__(self, input_dim, output_dim):\n",
    "        super(LinearRegressionModelGpu, self).__init__()\n",
    "        self.linear = nn.Linear(input_dim, output_dim)\n",
    "    def forward(self, x):\n",
    "        out = self.linear(x)\n",
    "        return out\n",
    "\n",
    "input_dim = 1\n",
    "output_dim = 1\n",
    "\n",
    "model = LinearRegressionModelGpu(input_dim, output_dim)\n",
    "device = torch.device(\"cuda:0\" if torch.cuda.is_available() else \"cpu\")\n",
    "model.to(device)\n",
    "\n",
    "criterion = nn.MSELoss()\n",
    "learning_rate = 0.01\n",
    "optimizer = torch.optim.SGD(model.parameters(), lr=learning_rate)\n",
    "\n",
    "epochs = 1000\n",
    "for epoch in range(epochs):\n",
    "    epoch = epoch + 1\n",
    "    inputs = torch.from_numpy(x_train).to(device)\n",
    "    labels = torch.from_numpy(y_train).to(device)\n",
    "\n",
    "    optimizer.zero_grad()\n",
    "    outputs = model(inputs)\n",
    "    loss = criterion(outputs, labels)\n",
    "    loss.backward()\n",
    "    optimizer.step()\n",
    "    if epoch % 50 == 0:\n",
    "        print('epoch {}, loss {}'.format(epoch, loss.item))"
   ],
   "metadata": {
    "collapsed": false,
    "ExecuteTime": {
     "start_time": "2023-04-14T10:05:40.034296Z",
     "end_time": "2023-04-14T10:05:41.048593Z"
    }
   }
  },
  {
   "cell_type": "code",
   "execution_count": null,
   "outputs": [],
   "source": [],
   "metadata": {
    "collapsed": false
   }
  }
 ],
 "metadata": {
  "kernelspec": {
   "display_name": "Python 3",
   "language": "python",
   "name": "python3"
  },
  "language_info": {
   "codemirror_mode": {
    "name": "ipython",
    "version": 2
   },
   "file_extension": ".py",
   "mimetype": "text/x-python",
   "name": "python",
   "nbconvert_exporter": "python",
   "pygments_lexer": "ipython2",
   "version": "2.7.6"
  }
 },
 "nbformat": 4,
 "nbformat_minor": 0
}
