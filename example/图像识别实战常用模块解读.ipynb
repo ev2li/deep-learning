{
 "cells": [
  {
   "cell_type": "markdown",
   "source": [
    "#### 基于经典网络架构训练图像分类模型\n",
    "##### 数据预处理部分\n",
    "- 数据增强:torchvision中transforms模型自带功能，比较实用\n",
    "- 数据预处理：torchvision中transforms也帮我们实现好了，直接调用即可\n",
    "- DataLoader模型直接读取batch数据"
   ],
   "metadata": {
    "collapsed": false
   }
  },
  {
   "cell_type": "markdown",
   "source": [
    "##### 网络模型设置\n",
    "- 加载预训练模型，torchvision中有很多经典网络架构，调用起来十分方便，并且可以用人家训练好的权重参数来继续训练，也就是所谓的迁移学习\n",
    "- 需要注意的是别人训练好的任务跟咱们可不是完全一样的，需要把最后的head层改一改，一般也就是最后的全连接层，改成咱们自己的任务\n",
    "- 训练果可以全部重头训练，也可以只训练最后咱们任务的层，因为前几层都是特征提取的，本质任务目标是一致的"
   ],
   "metadata": {
    "collapsed": false
   }
  },
  {
   "cell_type": "markdown",
   "source": [
    "##### 网络模型保存与测试\n",
    "- 模型保存的时候可以带有选择性的，例如在验证集中如果当前效果好则保存\n",
    "- 读取模型进行实际测试"
   ],
   "metadata": {
    "collapsed": false
   }
  },
  {
   "cell_type": "code",
   "execution_count": 5,
   "outputs": [],
   "source": [
    "import os\n",
    "import matplotlib.pyplot as plt\n",
    "%matplotlib inline\n",
    "import numpy as np\n",
    "\n",
    "import torch\n",
    "from torch import nn\n",
    "import torch.optim as optim\n",
    "import torchvision\n",
    "from torchvision import transforms, models, datasets\n",
    "import imageio\n",
    "import time\n",
    "import warnings\n",
    "import random\n",
    "import sys\n",
    "import copy\n",
    "import json\n",
    "from PIL import Image"
   ],
   "metadata": {
    "collapsed": false,
    "ExecuteTime": {
     "start_time": "2023-05-11T10:39:16.161516Z",
     "end_time": "2023-05-11T10:39:16.175445Z"
    }
   }
  },
  {
   "cell_type": "markdown",
   "source": [
    "#### 数据的读取和预处理操作"
   ],
   "metadata": {
    "collapsed": false
   }
  },
  {
   "cell_type": "code",
   "execution_count": 6,
   "outputs": [],
   "source": [
    "data_dir = './flower_data/'\n",
    "train_dir = data_dir + '/train'\n",
    "valid_dir = data_dir + '/valid'\n"
   ],
   "metadata": {
    "collapsed": false,
    "ExecuteTime": {
     "start_time": "2023-05-11T10:40:47.285901Z",
     "end_time": "2023-05-11T10:40:47.325510Z"
    }
   }
  },
  {
   "cell_type": "markdown",
   "source": [
    "#### 制作好数据源\n",
    "- data_transforms中指定了所有图像预处理操作\n",
    "- ImageFolder假设所有的文件按文件夹保存好，每个文件夹下面存储同一类别的图片，文件夹名字为分类的名字"
   ],
   "metadata": {
    "collapsed": false
   }
  },
  {
   "cell_type": "code",
   "execution_count": 7,
   "outputs": [],
   "source": [
    "data_transforms = {\n",
    "   'train': transforms.Compose([transforms.RandomRotation(45), # 随机旋转，-45到45度之间随机选\n",
    "       transforms.CenterCrop(224), # 从中心开始裁剪\n",
    "       transforms.RandomHorizontalFlip(p=0.5), # 随机水平翻转，选择一个概率\n",
    "       transforms.RandomVerticalFlip(0.5), # 随机垂直翻转\n",
    "       transforms.ColorJitter(brightness=0.2, contrast=0.1, saturation=0.1, hue=0.1),#参数1为亮度，参数2为对比度，参数3为饱和度，参数4为色相\n",
    "       transforms.RandomGrayscale(p=0.025), # 概率转换成灰度率，3通道就是R=G=B\n",
    "       transforms.ToTensor(),\n",
    "       transforms.Normalize([0.485, 0.456, 0.406], [0.229, 0.224, 0.225])#均值，标准差\n",
    "   ]),\n",
    "    'valid': transforms.Compose([ transforms.Resize(256),\n",
    "        transforms.CenterCrop(224),\n",
    "        transforms.ToTensor(),\n",
    "        transforms.Normalize([0.485, 0.456, 0.406], [0.229, 0.224, 0.225])\n",
    "    ]),\n",
    "}"
   ],
   "metadata": {
    "collapsed": false,
    "ExecuteTime": {
     "start_time": "2023-05-11T11:13:47.248409Z",
     "end_time": "2023-05-11T11:13:47.296083Z"
    }
   }
  },
  {
   "cell_type": "code",
   "execution_count": 8,
   "outputs": [],
   "source": [
    "batch_size = 8\n",
    "image_datasets = {x: datasets.ImageFolder(os.path.join(data_dir, x), data_transforms[x]) for x in ['train', 'valid']}\n",
    "dataloaders = {x:torch.utils.data.DataLoader(image_datasets[x], batch_size=batch_size, shuffle=True) for x in ['train', 'valid']}\n",
    "dataset_sizes = {x:len(image_datasets[x]) for x in ['train', 'valid']}\n",
    "class_names = image_datasets['train'].classes"
   ],
   "metadata": {
    "collapsed": false,
    "ExecuteTime": {
     "start_time": "2023-05-11T11:18:09.474030Z",
     "end_time": "2023-05-11T11:18:09.561128Z"
    }
   }
  },
  {
   "cell_type": "code",
   "execution_count": 9,
   "outputs": [
    {
     "data": {
      "text/plain": "{'train': Dataset ImageFolder\n     Number of datapoints: 6552\n     Root location: ./flower_data/train\n     StandardTransform\n Transform: Compose(\n                RandomRotation(degrees=[-45.0, 45.0], interpolation=nearest, expand=False, fill=0)\n                CenterCrop(size=(224, 224))\n                RandomHorizontalFlip(p=0.5)\n                RandomVerticalFlip(p=0.5)\n                ColorJitter(brightness=[0.8, 1.2], contrast=[0.9, 1.1], saturation=[0.9, 1.1], hue=[-0.1, 0.1])\n                RandomGrayscale(p=0.025)\n                ToTensor()\n                Normalize(mean=[0.485, 0.456, 0.406], std=[0.229, 0.224, 0.225])\n            ),\n 'valid': Dataset ImageFolder\n     Number of datapoints: 818\n     Root location: ./flower_data/valid\n     StandardTransform\n Transform: Compose(\n                Resize(size=256, interpolation=bilinear, max_size=None, antialias=None)\n                CenterCrop(size=(224, 224))\n                ToTensor()\n                Normalize(mean=[0.485, 0.456, 0.406], std=[0.229, 0.224, 0.225])\n            )}"
     },
     "execution_count": 9,
     "metadata": {},
     "output_type": "execute_result"
    }
   ],
   "source": [
    "image_datasets"
   ],
   "metadata": {
    "collapsed": false,
    "ExecuteTime": {
     "start_time": "2023-05-11T11:18:15.468951Z",
     "end_time": "2023-05-11T11:18:15.530801Z"
    }
   }
  },
  {
   "cell_type": "code",
   "execution_count": 10,
   "outputs": [
    {
     "data": {
      "text/plain": "{'train': <torch.utils.data.dataloader.DataLoader at 0x7f8c68637700>,\n 'valid': <torch.utils.data.dataloader.DataLoader at 0x7f8c68634e80>}"
     },
     "execution_count": 10,
     "metadata": {},
     "output_type": "execute_result"
    }
   ],
   "source": [
    "dataloaders"
   ],
   "metadata": {
    "collapsed": false,
    "ExecuteTime": {
     "start_time": "2023-05-11T11:18:26.864187Z",
     "end_time": "2023-05-11T11:18:26.906594Z"
    }
   }
  },
  {
   "cell_type": "markdown",
   "source": [
    "#### 读取标签对应的实际名字"
   ],
   "metadata": {
    "collapsed": false
   }
  },
  {
   "cell_type": "code",
   "execution_count": 12,
   "outputs": [],
   "source": [
    "with open('cat_to_name.json', 'r') as f:\n",
    "    cat_to_name = json.load(f)"
   ],
   "metadata": {
    "collapsed": false,
    "ExecuteTime": {
     "start_time": "2023-05-11T11:20:41.145691Z",
     "end_time": "2023-05-11T11:20:41.165560Z"
    }
   }
  },
  {
   "cell_type": "code",
   "execution_count": 13,
   "outputs": [
    {
     "data": {
      "text/plain": "{'21': 'fire lily',\n '3': 'canterbury bells',\n '45': 'bolero deep blue',\n '1': 'pink primrose',\n '34': 'mexican aster',\n '27': 'prince of wales feathers',\n '7': 'moon orchid',\n '16': 'globe-flower',\n '25': 'grape hyacinth',\n '26': 'corn poppy',\n '79': 'toad lily',\n '39': 'siam tulip',\n '24': 'red ginger',\n '67': 'spring crocus',\n '35': 'alpine sea holly',\n '32': 'garden phlox',\n '10': 'globe thistle',\n '6': 'tiger lily',\n '93': 'ball moss',\n '33': 'love in the mist',\n '9': 'monkshood',\n '102': 'blackberry lily',\n '14': 'spear thistle',\n '19': 'balloon flower',\n '100': 'blanket flower',\n '13': 'king protea',\n '49': 'oxeye daisy',\n '15': 'yellow iris',\n '61': 'cautleya spicata',\n '31': 'carnation',\n '64': 'silverbush',\n '68': 'bearded iris',\n '63': 'black-eyed susan',\n '69': 'windflower',\n '62': 'japanese anemone',\n '20': 'giant white arum lily',\n '38': 'great masterwort',\n '4': 'sweet pea',\n '86': 'tree mallow',\n '101': 'trumpet creeper',\n '42': 'daffodil',\n '22': 'pincushion flower',\n '2': 'hard-leaved pocket orchid',\n '54': 'sunflower',\n '66': 'osteospermum',\n '70': 'tree poppy',\n '85': 'desert-rose',\n '99': 'bromelia',\n '87': 'magnolia',\n '5': 'english marigold',\n '92': 'bee balm',\n '28': 'stemless gentian',\n '97': 'mallow',\n '57': 'gaura',\n '40': 'lenten rose',\n '47': 'marigold',\n '59': 'orange dahlia',\n '48': 'buttercup',\n '55': 'pelargonium',\n '36': 'ruby-lipped cattleya',\n '91': 'hippeastrum',\n '29': 'artichoke',\n '71': 'gazania',\n '90': 'canna lily',\n '18': 'peruvian lily',\n '98': 'mexican petunia',\n '8': 'bird of paradise',\n '30': 'sweet william',\n '17': 'purple coneflower',\n '52': 'wild pansy',\n '84': 'columbine',\n '12': \"colt's foot\",\n '11': 'snapdragon',\n '96': 'camellia',\n '23': 'fritillary',\n '50': 'common dandelion',\n '44': 'poinsettia',\n '53': 'primula',\n '72': 'azalea',\n '65': 'californian poppy',\n '80': 'anthurium',\n '76': 'morning glory',\n '37': 'cape flower',\n '56': 'bishop of llandaff',\n '60': 'pink-yellow dahlia',\n '82': 'clematis',\n '58': 'geranium',\n '75': 'thorn apple',\n '41': 'barbeton daisy',\n '95': 'bougainvillea',\n '43': 'sword lily',\n '83': 'hibiscus',\n '78': 'lotus lotus',\n '88': 'cyclamen',\n '94': 'foxglove',\n '81': 'frangipani',\n '74': 'rose',\n '89': 'watercress',\n '73': 'water lily',\n '46': 'wallflower',\n '77': 'passion flower',\n '51': 'petunia'}"
     },
     "execution_count": 13,
     "metadata": {},
     "output_type": "execute_result"
    }
   ],
   "source": [
    "cat_to_name"
   ],
   "metadata": {
    "collapsed": false,
    "ExecuteTime": {
     "start_time": "2023-05-11T11:21:40.871983Z",
     "end_time": "2023-05-11T11:21:40.911915Z"
    }
   }
  },
  {
   "cell_type": "markdown",
   "source": [
    "#### 展示下数据\n",
    "- 注意tensor的数据需要转换成numpy的格式，而且还需要还原回标准化的结果"
   ],
   "metadata": {
    "collapsed": false
   }
  },
  {
   "cell_type": "code",
   "execution_count": 17,
   "outputs": [],
   "source": [
    "def im_convert(tensor):\n",
    "    \"\"\"\n",
    "    展示数据\n",
    "    :param tensor:\n",
    "    :return:\n",
    "    \"\"\"\n",
    "    image = tensor.to(\"cpu\").clone().detach()\n",
    "    image = image.numpy().squeeze()\n",
    "    image = image.transpose(1, 2, 0)\n",
    "    image = image * np.array((0.229, 0.224, 0.225)) + np.array((0.485, 0.456, 0.406))\n",
    "    image = image.clip(0, 1)\n",
    "\n",
    "    return image"
   ],
   "metadata": {
    "collapsed": false,
    "ExecuteTime": {
     "start_time": "2023-05-11T11:28:46.205703Z",
     "end_time": "2023-05-11T11:28:46.242203Z"
    }
   }
  },
  {
   "cell_type": "code",
   "execution_count": 18,
   "outputs": [
    {
     "ename": "AttributeError",
     "evalue": "'_SingleProcessDataLoaderIter' object has no attribute 'next'",
     "output_type": "error",
     "traceback": [
      "\u001B[0;31m---------------------------------------------------------------------------\u001B[0m",
      "\u001B[0;31mAttributeError\u001B[0m                            Traceback (most recent call last)",
      "Cell \u001B[0;32mIn[18], line 5\u001B[0m\n\u001B[1;32m      3\u001B[0m rows \u001B[38;5;241m=\u001B[39m \u001B[38;5;241m2\u001B[39m\n\u001B[1;32m      4\u001B[0m dataiter \u001B[38;5;241m=\u001B[39m \u001B[38;5;28miter\u001B[39m(dataloaders[\u001B[38;5;124m'\u001B[39m\u001B[38;5;124mvalid\u001B[39m\u001B[38;5;124m'\u001B[39m])\n\u001B[0;32m----> 5\u001B[0m inputs, classes \u001B[38;5;241m=\u001B[39m \u001B[43mdataiter\u001B[49m\u001B[38;5;241;43m.\u001B[39;49m\u001B[43mnext\u001B[49m()\n\u001B[1;32m      7\u001B[0m \u001B[38;5;28;01mfor\u001B[39;00m idx \u001B[38;5;129;01min\u001B[39;00m \u001B[38;5;28mrange\u001B[39m(columns \u001B[38;5;241m*\u001B[39m rows):\n\u001B[1;32m      8\u001B[0m     ax \u001B[38;5;241m=\u001B[39m fig\u001B[38;5;241m.\u001B[39madd_subplot(rows, columns, idx\u001B[38;5;241m+\u001B[39m\u001B[38;5;241m1\u001B[39m, xticks \u001B[38;5;241m=\u001B[39m [], yticks\u001B[38;5;241m=\u001B[39m [])\n",
      "\u001B[0;31mAttributeError\u001B[0m: '_SingleProcessDataLoaderIter' object has no attribute 'next'"
     ]
    },
    {
     "data": {
      "text/plain": "<Figure size 2000x1200 with 0 Axes>"
     },
     "metadata": {},
     "output_type": "display_data"
    }
   ],
   "source": [
    "fig = plt.figure(figsize=(20, 12))\n",
    "columns = 4\n",
    "rows = 2\n",
    "dataiter = iter(dataloaders['valid'])\n",
    "inputs, classes = dataiter.next()\n",
    "\n",
    "for idx in range(columns * rows):\n",
    "    ax = fig.add_subplot(rows, columns, idx+1, xticks = [], yticks= [])\n",
    "    ax.set_title(cat_to_name[str(int(class_names[classes[idx]]))])\n",
    "    plt.imshow(im_convert(inputs[idx]))\n",
    "plt.show()"
   ],
   "metadata": {
    "collapsed": false
   }
  },
  {
   "cell_type": "markdown",
   "source": [
    "#### 加载models中提供的模型，并且直接用训练好的权重当做初始化参数\n",
    "- 第一次执行需要下载 ，可能会比较慢"
   ],
   "metadata": {
    "collapsed": false
   }
  },
  {
   "cell_type": "code",
   "execution_count": 19,
   "outputs": [],
   "source": [
    "model_name = 'resnet' # 可选的比较多['resnet','alexnet','vgg', 'squeezenet', 'inception']\n",
    "# 是否用人家训练好的特征来做\n",
    "feature_extract = True"
   ],
   "metadata": {
    "collapsed": false,
    "ExecuteTime": {
     "start_time": "2023-05-11T11:41:54.758600Z",
     "end_time": "2023-05-11T11:41:54.777252Z"
    }
   }
  },
  {
   "cell_type": "code",
   "execution_count": 20,
   "outputs": [
    {
     "name": "stdout",
     "output_type": "stream",
     "text": [
      "CUDA is not available. Training on CPU...\n"
     ]
    }
   ],
   "source": [
    "# 是否用GPU训练\n",
    "train_on_gpu = torch.cuda.is_available()\n",
    "if not train_on_gpu:\n",
    "    print('CUDA is not available. Training on CPU...')\n",
    "else:\n",
    "    print(\"CUDA is available! Training on GPU...\")\n",
    "\n",
    "device = torch.device(\"cuda:0\" if torch.cuda.is_available() else \"cpu\")"
   ],
   "metadata": {
    "collapsed": false,
    "ExecuteTime": {
     "start_time": "2023-05-11T11:44:20.187337Z",
     "end_time": "2023-05-11T11:44:20.238072Z"
    }
   }
  },
  {
   "cell_type": "code",
   "execution_count": null,
   "outputs": [],
   "source": [],
   "metadata": {
    "collapsed": false
   }
  }
 ],
 "metadata": {
  "kernelspec": {
   "display_name": "Python 3",
   "language": "python",
   "name": "python3"
  },
  "language_info": {
   "codemirror_mode": {
    "name": "ipython",
    "version": 2
   },
   "file_extension": ".py",
   "mimetype": "text/x-python",
   "name": "python",
   "nbconvert_exporter": "python",
   "pygments_lexer": "ipython2",
   "version": "2.7.6"
  }
 },
 "nbformat": 4,
 "nbformat_minor": 0
}
