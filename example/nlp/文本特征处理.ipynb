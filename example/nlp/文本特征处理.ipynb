{
 "cells": [
  {
   "cell_type": "markdown",
   "source": [
    "#### 文本特征处理\n",
    "\n",
    "- 文本特征处理的作用:\n",
    "\t- 文本特征处理包括为语料添加具有普适性的文本特征，如n-gram特征，以及对加入特征之后的文本语料进行必要的处理，如:长度规范，这些特征处理工作能够有效的将重要的文本特征加入模型训练中，增强模型评估指标\n",
    "\n",
    "- 常见的文本特征处理方法:\n",
    "\t- 添加n-gram特征\n",
    "\t- 文本长度规范\n",
    "- 什么是n-gram特征:\n",
    "\t- 给定一段文本序列，其中n个词或字的相邻共现特征即n-gram特征，常用的n-gram特征是bi-gram和tri-gram特征,分别对应n为2和3\n",
    "- e.g.\n",
    "\t- 假设给定分词列表:[\"是谁\", \"敲动\", \"我心\"]\n",
    "\t- 对应的数值映射列表为:[1, 34, 21]\n",
    "\t- 我们可以认为数值映射列表中的每个数字是词汇特征\n",
    "\t- 除此之处，我们还可以把\"是谁\"和\"敲动\"两个词共同出现且相邻也作为一种特征加入到序列列表中\n",
    "\t- 假设1000就代表\"是谁\"和\"敲动\"两个词共同出现且相邻\n",
    "\t- 此时数值映射列表就变成了包含2-gram特征的特征列表:[1, 34, 21, 1000]\n",
    "\t- 这里的\"是谁\"和\"敲动\"共同出现且相邻就是bi-gram特征中的一个\n",
    "\t- ”敲动\"和“我心”也是共现且相邻的两个词汇，因此它们也是bi-gram特征\n",
    "\t- 假设1001代表”敲动\"和“我心”共现且相邻\n",
    "\t- 那么，最后原始的数值映射列表[1, 34, 21]添加了bi-gram特征之后就变成了[1, 34, 21, 1000,10001]"
   ],
   "metadata": {
    "collapsed": false
   }
  },
  {
   "cell_type": "code",
   "execution_count": null,
   "outputs": [],
   "source": [
    "ngram_range = 2\n",
    "\n",
    "def create_ngram_set(input_list):\n",
    "    \"\"\"\n",
    "    description: 从数值列表中提取所有的n-gram特征\n",
    "    :param input_list:  输入的数值列表，可以看作是词汇映射后的列表，里面每个数字的取值范围为[1, 25000]\n",
    "    :return: n-gram特征组成的集合\n",
    "    \"\"\"\n",
    "    return set(zip(*[input_list[i:] for i in range(ngram_range)]))\n",
    "\n",
    "input_list = [1, 3, 2, 1, 5, 3]\n",
    "res = create_ngram_set(input_list)\n",
    "print(res)"
   ],
   "metadata": {
    "collapsed": false,
    "pycharm": {
     "is_executing": true
    }
   }
  }
 ],
 "metadata": {
  "kernelspec": {
   "display_name": "Python 3",
   "language": "python",
   "name": "python3"
  },
  "language_info": {
   "codemirror_mode": {
    "name": "ipython",
    "version": 2
   },
   "file_extension": ".py",
   "mimetype": "text/x-python",
   "name": "python",
   "nbconvert_exporter": "python",
   "pygments_lexer": "ipython2",
   "version": "2.7.6"
  }
 },
 "nbformat": 4,
 "nbformat_minor": 0
}
