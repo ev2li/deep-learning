{
 "cells": [
  {
   "cell_type": "markdown",
   "source": [
    "#### 常见的文本数据增加方法\n",
    "\n",
    "- 回译数据增强法\n",
    "\n",
    "\t- 回译数据增强目前是文本数据增强方面效果比较好的增强方法，一般基于google翻译接口，将文本数据翻译成另外一种语言(一般选择小语种),之后再翻译回原语言，即可认为得到与原语料同标签的新语料，新语料加入到原数据集中即可认为是对原数据集数据增强\n",
    "\n",
    "- 回译数据增强优势\n",
    "\n",
    "\t- 操作简便，获得新语料质量高\n",
    "\n",
    "- 回译数据增强存在的问题\n",
    "\n",
    "\t- 在短文本回译过程中，新语料与原语料可能存在很高的重复率，并不能有效增大样本特征空间\n",
    "\n",
    "- 高重复率解决办法\n",
    "\n",
    "\t- 进行连续的多语言翻译，如：中文->韩文->日语->英文->中文,根据经验，最多只采用3次连续翻译，更多翻译次数将产生效率低下，语义失真等问题"
   ],
   "metadata": {
    "collapsed": false
   }
  },
  {
   "cell_type": "code",
   "execution_count": null,
   "outputs": [],
   "source": [
    "# 假设取两条已经存在的正样本和两条负样本\n",
    "# 将基于这四条样本产生新的同标签的四条样本\n",
    "\n",
    "p_sample1 = \"酒店设施非常不错\"\n",
    "p_sample2 = \"这家价格很便宜\"\n",
    "n_sample1 = \"拖鞋都发霉了, 太差了\"\n",
    "n_sample2 = \"电视不好用, 没有看到足球\"\n",
    "\n",
    "# 导入google翻译接口工具\n",
    "from googletrans import Translator\n",
    "# 实例化翻译对象\n",
    "translator = Translator()\n",
    "# 进行第一次批量翻译，翻译目标是韩语\n",
    "translations = translator.translate([p_sample1, p_sample2, n_sample1, n_sample2], dest='ko')\n",
    "# 获得翻译后的结果\n",
    "ko_res = list(map(lambda x:x.text, translations))\n",
    "\n",
    "# 打印结果\n",
    "print(\"中间翻译结果:\")\n",
    "print(ko_res)\n",
    "\n",
    "# 最后在翻译回中文，完成回译全部流程\n",
    "translations = translator.translate(ko_res, dest='zh-cn')\n",
    "cn_res = list(map(lambda x:x.text, translations))\n",
    "print(\"回译得到的增强数据:\")\n",
    "print(cn_res)"
   ],
   "metadata": {
    "collapsed": false,
    "pycharm": {
     "is_executing": true
    }
   }
  },
  {
   "cell_type": "markdown",
   "source": [],
   "metadata": {
    "collapsed": false
   }
  }
 ],
 "metadata": {
  "kernelspec": {
   "display_name": "Python 3",
   "language": "python",
   "name": "python3"
  },
  "language_info": {
   "codemirror_mode": {
    "name": "ipython",
    "version": 2
   },
   "file_extension": ".py",
   "mimetype": "text/x-python",
   "name": "python",
   "nbconvert_exporter": "python",
   "pygments_lexer": "ipython2",
   "version": "2.7.6"
  }
 },
 "nbformat": 4,
 "nbformat_minor": 0
}
