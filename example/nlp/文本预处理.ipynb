{
 "cells": [
  {
   "cell_type": "markdown",
   "source": [
    "#### 文本预处理及作用:\n",
    "\n",
    "- 文本语料在输送给模型前一般需要一系列的预处理工作，才能符合模型输入的要求，如:将文本转化成模型需要的张量，规范张量的尺寸等，而科学的文本预处理环节将有效指导模型超参数的选择，提升模型的评估指标\n",
    "\n",
    "#### 文本处理中包含的主要环节:\n",
    "\n",
    "- 文本处理的基本方法\n",
    "- 文本张量表示方法\n",
    "- 文本语料的数据分析\n",
    "- 文本特征处理\n",
    "- 数据增强方法\n",
    "\n",
    "#### 文本处理的基本方法\n",
    "\n",
    "- 分词\n",
    "- 词性标注\n",
    "- 命名实体识别\n",
    "\n",
    "#### 文本张量表示方法\n",
    "\n",
    "- one-hot编码\n",
    "- Word2vec\n",
    "- Word Embedding\n",
    "\n",
    "#### 文本语料的数据分析\n",
    "\n",
    "- 标签数量分布\n",
    "- 句子长度分布\n",
    "- 词频统计与关键词词云\n",
    "\n",
    "#### 文本特征处理\n",
    "\n",
    "- 添加n-gram特征\n",
    "- 文本长度规范\n",
    "\n",
    "#### 数据增加方法\n",
    "\n",
    "- 回译数据增加法\n",
    "\n",
    "#### 重要说明:\n",
    "\n",
    "- 在实际生产应用中，我们最常使用的两种语言是中文和英文，因此，文本预处理部分的内容都将针对这两种语言进行讲解"
   ],
   "metadata": {
    "collapsed": false
   }
  },
  {
   "cell_type": "code",
   "execution_count": null,
   "outputs": [],
   "source": [],
   "metadata": {
    "collapsed": false
   }
  }
 ],
 "metadata": {
  "kernelspec": {
   "display_name": "Python 3",
   "language": "python",
   "name": "python3"
  },
  "language_info": {
   "codemirror_mode": {
    "name": "ipython",
    "version": 2
   },
   "file_extension": ".py",
   "mimetype": "text/x-python",
   "name": "python",
   "nbconvert_exporter": "python",
   "pygments_lexer": "ipython2",
   "version": "2.7.6"
  }
 },
 "nbformat": 4,
 "nbformat_minor": 0
}
