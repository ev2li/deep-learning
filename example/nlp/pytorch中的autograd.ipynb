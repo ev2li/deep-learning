{
 "cells": [
  {
   "cell_type": "markdown",
   "source": [
    "#### 学习目标\n",
    "- **掌握自动求导中的Tensor概念和操作**\n",
    "- **掌握自动求导中的梯度Gradients概念和操作**\n",
    "- ** 在整个pytorch框架中，所有神经网络本质上都是一个autograd package(自动求导工具包) **\n",
    "    - autograd package 提供了一个对Tensors上所有的操作进行自动微分的功能\n",
    "\n",
    "#### 关于torch.Tensor\n",
    "- **torch.Tensor是整个package中的核心类，如果将属性requries_grad设置为True，它将追踪在这个类上定义的所有操作，当代码要进行反向传播的时候，直接调用.backward()就可以自动计算所有的梯度，在这个Tensor上所有的梯度被累加进属性.grad中**\n",
    "- **如果想终止一个Tensor在计算图中的追踪回溯，只需要执行.detach()就可以将该Tensor从计算图中撤下，在未来的回溯计算中不会再计算该Tensor**\n",
    "- **除了detach()，如果想终止对计算图的回溯，也就是不再进行方向传播求导数的过程，也可以采用代码块的方式with torch.no_grad(),这种方式非常适用对模型进行预测的时候，因为预测阶段不再需要对梯度进行计算**\n",
    "\n",
    "#### 关于torch.Function\n",
    "- **Function类和Tensor类同等重要的一个核心类，它和Tensor共同构建一个完整的类，每一个Tensor拥有一个.grad_fn属性，代表引用了哪个具体的Function创建了该Tensor**\n",
    "- **如果某个张量Tensor是用户自定义的，则其对应的grad_fn is None**"
   ],
   "metadata": {
    "collapsed": false
   }
  },
  {
   "cell_type": "markdown",
   "source": [
    "#### 关于Tensor操作"
   ],
   "metadata": {
    "collapsed": false
   }
  },
  {
   "cell_type": "code",
   "execution_count": 2,
   "outputs": [
    {
     "name": "stdout",
     "output_type": "stream",
     "text": [
      "tensor([[1., 1., 1.],\n",
      "        [1., 1., 1.],\n",
      "        [1., 1., 1.]])\n",
      "tensor([[1., 1.],\n",
      "        [1., 1.]], requires_grad=True)\n"
     ]
    }
   ],
   "source": [
    "import torch\n",
    "x1= torch.ones(3, 3)\n",
    "print(x1)\n",
    "x = torch.ones(2,2, requires_grad=True)\n",
    "print(x)"
   ],
   "metadata": {
    "collapsed": false,
    "ExecuteTime": {
     "start_time": "2023-06-06T18:45:43.709878Z",
     "end_time": "2023-06-06T18:45:43.720777Z"
    }
   }
  },
  {
   "cell_type": "markdown",
   "source": [
    "#### 在具有requires_grad=True的Tensor上执行一个加法操作"
   ],
   "metadata": {
    "collapsed": false
   }
  },
  {
   "cell_type": "code",
   "execution_count": 3,
   "outputs": [
    {
     "name": "stdout",
     "output_type": "stream",
     "text": [
      "tensor([[3., 3.],\n",
      "        [3., 3.]], grad_fn=<AddBackward0>)\n"
     ]
    }
   ],
   "source": [
    "y = x + 2\n",
    "print(y)"
   ],
   "metadata": {
    "collapsed": false,
    "ExecuteTime": {
     "start_time": "2023-06-06T18:46:29.923094Z",
     "end_time": "2023-06-06T18:46:29.960490Z"
    }
   }
  },
  {
   "cell_type": "code",
   "execution_count": 4,
   "outputs": [
    {
     "name": "stdout",
     "output_type": "stream",
     "text": [
      "None\n",
      "<AddBackward0 object at 0x7f7c2caa5cc0>\n"
     ]
    }
   ],
   "source": [
    "print(x.grad_fn)\n",
    "print(y.grad_fn)"
   ],
   "metadata": {
    "collapsed": false,
    "ExecuteTime": {
     "start_time": "2023-06-06T18:47:34.712861Z",
     "end_time": "2023-06-06T18:47:34.749639Z"
    }
   }
  },
  {
   "cell_type": "code",
   "execution_count": 5,
   "outputs": [
    {
     "name": "stdout",
     "output_type": "stream",
     "text": [
      "<MulBackward0 object at 0x7f7c2d1f2800>\n"
     ]
    }
   ],
   "source": [
    "z = x * 2\n",
    "print(z.grad_fn)"
   ],
   "metadata": {
    "collapsed": false,
    "ExecuteTime": {
     "start_time": "2023-06-06T18:49:53.535698Z",
     "end_time": "2023-06-06T18:49:53.565293Z"
    }
   }
  },
  {
   "cell_type": "code",
   "execution_count": 6,
   "outputs": [
    {
     "name": "stdout",
     "output_type": "stream",
     "text": [
      "tensor([[27., 27.],\n",
      "        [27., 27.]], grad_fn=<MulBackward0>) tensor(27., grad_fn=<MeanBackward0>)\n"
     ]
    }
   ],
   "source": [
    "m = y * y * 3\n",
    "out = m.mean()\n",
    "print(m, out)"
   ],
   "metadata": {
    "collapsed": false,
    "ExecuteTime": {
     "start_time": "2023-06-06T18:50:30.379421Z",
     "end_time": "2023-06-06T18:50:30.405286Z"
    }
   }
  },
  {
   "cell_type": "markdown",
   "source": [
    "#### 关于方法requires_grad_():该方法可以原地改变Tensor的属性 .requires_grad的值，如果没有主动设定默认为False"
   ],
   "metadata": {
    "collapsed": false
   }
  },
  {
   "cell_type": "code",
   "execution_count": 9,
   "outputs": [
    {
     "name": "stdout",
     "output_type": "stream",
     "text": [
      "tensor([[-0.4275,  0.2229],\n",
      "        [ 1.8138,  0.7578]])\n",
      "tensor([[ 0.8984, -0.8606],\n",
      "        [ 6.6863, -9.3869]])\n",
      "False\n",
      "True\n",
      "<SumBackward0 object at 0x7f7c2d1f28f0>\n"
     ]
    }
   ],
   "source": [
    "a = torch.randn(2, 2)\n",
    "print(a)\n",
    "a = ((a * 3) / (a - 1))\n",
    "print(a)\n",
    "print(a.requires_grad)\n",
    "a.requires_grad_(True)\n",
    "print(a.requires_grad)\n",
    "b = (a * a).sum()\n",
    "print(b.grad_fn)"
   ],
   "metadata": {
    "collapsed": false,
    "ExecuteTime": {
     "start_time": "2023-06-06T18:55:55.966600Z",
     "end_time": "2023-06-06T18:55:55.992140Z"
    }
   }
  },
  {
   "cell_type": "markdown",
   "source": [
    "#### 关于梯度Gradients\n",
    "- **在pytorch中，反向传播是依靠.backward()实现的**"
   ],
   "metadata": {
    "collapsed": false
   }
  },
  {
   "cell_type": "code",
   "execution_count": 11,
   "outputs": [
    {
     "name": "stdout",
     "output_type": "stream",
     "text": [
      "tensor(27., grad_fn=<MeanBackward0>)\n",
      "tensor([[4.5000, 4.5000],\n",
      "        [4.5000, 4.5000]])\n"
     ]
    }
   ],
   "source": [
    "print(out)\n",
    "out.backward()\n",
    "print(x.grad)"
   ],
   "metadata": {
    "collapsed": false,
    "ExecuteTime": {
     "start_time": "2023-06-06T19:00:07.271157Z",
     "end_time": "2023-06-06T19:00:07.322984Z"
    }
   }
  },
  {
   "cell_type": "markdown",
   "source": [
    "#### 关于自动求导属性设置，可以通过设置.requires_grad=True来执行自动求导，也可以通过代码块来限制停止自动求导"
   ],
   "metadata": {
    "collapsed": false
   }
  },
  {
   "cell_type": "code",
   "execution_count": 12,
   "outputs": [
    {
     "name": "stdout",
     "output_type": "stream",
     "text": [
      "True\n",
      "True\n",
      "False\n"
     ]
    }
   ],
   "source": [
    "print(x.requires_grad)\n",
    "print((x**2).requires_grad)\n",
    "\n",
    "with torch.no_grad():\n",
    "    print((x**2).requires_grad)"
   ],
   "metadata": {
    "collapsed": false,
    "ExecuteTime": {
     "start_time": "2023-06-06T19:09:39.469098Z",
     "end_time": "2023-06-06T19:09:39.496060Z"
    }
   }
  },
  {
   "cell_type": "markdown",
   "source": [
    "#### 可以通过.detach()获得一个新的Tensor，拥有相同内容但不需要自动求导"
   ],
   "metadata": {
    "collapsed": false
   }
  },
  {
   "cell_type": "code",
   "execution_count": 13,
   "outputs": [
    {
     "name": "stdout",
     "output_type": "stream",
     "text": [
      "True\n",
      "False\n",
      "tensor(True)\n"
     ]
    }
   ],
   "source": [
    "print(x.requires_grad)\n",
    "y = x.detach()\n",
    "print(y.requires_grad)\n",
    "print(x.eq(y).all())"
   ],
   "metadata": {
    "collapsed": false,
    "ExecuteTime": {
     "start_time": "2023-06-06T19:11:57.383440Z",
     "end_time": "2023-06-06T19:11:57.461135Z"
    }
   }
  },
  {
   "cell_type": "markdown",
   "source": [
    "#### 小结\n",
    "- 学习torch.Tensor类的相关概念\n",
    "    - Torch.Tensor是整个packagek中的核心类，如果将属性.requires_grad设置为True,它将追踪在这个类上定义的所有操作，当代码要进行反向传播的时候，直接调用.backward()就可以自动计算所有的梯度，在这个Tensor上的所有梯度将被累加进属性.grad中\n",
    "    - 执行.detach()命令，可以将该tensor从计算图中撤下，在未来的回溯计算中不会再计算该Tensor\n",
    "    - 采用代码块的方式也可以终止对计算图的回溯\n",
    "    \t- With torch.no_grad():\n",
    "- 学习关于Tensor的若干操作\n",
    "    - Torch.ones(n,n,requires_grad=True)\n",
    "    - x.grad_fn\n",
    "    - a.requires_grad_(True)\n",
    "\n",
    "- 学习了关于Gradients的属性\n",
    "\t- x.grad\n",
    "\t- 可能通过.detach()获得一个新的Tensor，拥有相同的内容但不需要自动求导"
   ],
   "metadata": {
    "collapsed": false
   }
  },
  {
   "cell_type": "code",
   "execution_count": null,
   "outputs": [],
   "source": [],
   "metadata": {
    "collapsed": false
   }
  }
 ],
 "metadata": {
  "kernelspec": {
   "display_name": "Python 3",
   "language": "python",
   "name": "python3"
  },
  "language_info": {
   "codemirror_mode": {
    "name": "ipython",
    "version": 2
   },
   "file_extension": ".py",
   "mimetype": "text/x-python",
   "name": "python",
   "nbconvert_exporter": "python",
   "pygments_lexer": "ipython2",
   "version": "2.7.6"
  }
 },
 "nbformat": 4,
 "nbformat_minor": 0
}
