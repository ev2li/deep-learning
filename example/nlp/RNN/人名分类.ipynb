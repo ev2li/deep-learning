{
 "cells": [
  {
   "cell_type": "markdown",
   "source": [
    "## 人名分类问题：\n",
    "- 以一个人名为输入，使用模型帮助我们判断它最有可能是来自哪一个国家的人名，这在某些国际化公司的业务中具有重要意义，在用户注册过程中，会根据用户填写的名字直接给他分配可能的国家或地区选项，以及该国家或地区的国旗，限制手机号吗位数等等\n",
    "\n",
    "## 整个案例分为5个步骤\n",
    "- 第一步：导入必要的工具包\n",
    "- 第二步: 对data文件中的数据进行处理，满足训练要求\n",
    "- 第三步: 构建RNN模型(包括传统的RNN,LSTM以及GRU等)\n",
    "- 第四步：构建训练函数并进行训练\n",
    "- 第五步：构建评估函数并进行预测"
   ],
   "metadata": {
    "collapsed": false
   }
  },
  {
   "cell_type": "code",
   "execution_count": 1,
   "outputs": [
    {
     "name": "stdout",
     "output_type": "stream",
     "text": [
      "n_letter: 57\n",
      "all_letters: abcdefghijklmnopqrstuvwxyzABCDEFGHIJKLMNOPQRSTUVWXYZ .,;'\n"
     ]
    }
   ],
   "source": [
    "#  第一步：导入必要的工具包\n",
    "from io import open\n",
    "import glob\n",
    "import os\n",
    "\n",
    "import string\n",
    "import unicodedata\n",
    "\n",
    "import random\n",
    "import time\n",
    "import math\n",
    "import torch\n",
    "import torch.nn as nn\n",
    "import matplotlib.pyplot as plt\n",
    "from nltk.parse import evaluate\n",
    "from pygments.lexers import math\n",
    "\n",
    "# 第二步：对data文件中的数据进行处理，满足训练要求\n",
    "# 获取所有的常用字符包括字母和常用标点\n",
    "all_letters = string.ascii_letters + \" .,;'\"\n",
    "# 获取常用字符数量\n",
    "n_letters = len(all_letters)\n",
    "print(\"n_letter:\", n_letters)\n",
    "print(\"all_letters:\", all_letters)"
   ],
   "metadata": {
    "collapsed": false,
    "ExecuteTime": {
     "end_time": "2023-06-15T15:08:59.819827109Z",
     "start_time": "2023-06-15T15:08:56.263333990Z"
    }
   }
  },
  {
   "cell_type": "markdown",
   "source": [
    "#### 字符规范之unicode转Ascii函数"
   ],
   "metadata": {
    "collapsed": false
   }
  },
  {
   "cell_type": "code",
   "execution_count": 2,
   "outputs": [
    {
     "name": "stdout",
     "output_type": "stream",
     "text": [
      "Slusarski\n"
     ]
    }
   ],
   "source": [
    "# 关于编码问题我们暂且不去考虑\n",
    "# 这个函数的作用就是去掉一些语言中的重音标记\n",
    "# 如: Ślusàrski ---> Slusarski\n",
    "def unicodeToAscii(s):\n",
    "    return ''.join(\n",
    "        c for c in unicodedata.normalize('NFD', s)\n",
    "        if unicodedata.category(c) != 'Mn'\n",
    "        and c in all_letters\n",
    "    )\n",
    "# 调用\n",
    "s = \"Ślusàrski\"\n",
    "a = unicodeToAscii(s)\n",
    "print(a)\n"
   ],
   "metadata": {
    "collapsed": false,
    "ExecuteTime": {
     "start_time": "2023-06-14T14:08:46.824421Z",
     "end_time": "2023-06-14T14:08:46.829214Z"
    }
   }
  },
  {
   "cell_type": "code",
   "execution_count": 4,
   "outputs": [
    {
     "name": "stdout",
     "output_type": "stream",
     "text": [
      "['Ang', 'AuYong', 'Bai', 'Ban', 'Bao', 'Bei', 'Bian', 'Bui', 'Cai', 'Cao', 'Cen', 'Chai', 'Chaim', 'Chan', 'Chang', 'Chao', 'Che', 'Chen', 'Cheng', 'Cheung', 'Chew', 'Chieu', 'Chin', 'Chong', 'Chou', 'Chu', 'Cui', 'Dai', 'Deng', 'Ding', 'Dong', 'Dou', 'Duan', 'Eng', 'Fan', 'Fei', 'Feng', 'Foong', 'Fung', 'Gan', 'Gauk', 'Geng', 'Gim', 'Gok', 'Gong', 'Guan', 'Guang', 'Guo', 'Gwock', 'Han', 'Hang', 'Hao', 'Hew', 'Hiu', 'Hong', 'Hor', 'Hsiao', 'Hua', 'Huan', 'Huang', 'Hui', 'Huie', 'Huo', 'Jia', 'Jiang', 'Jin', 'Jing', 'Joe', 'Kang', 'Kau', 'Khoo', 'Khu', 'Kong', 'Koo', 'Kwan', 'Kwei', 'Kwong', 'Lai', 'Lam', 'Lang', 'Lau', 'Law', 'Lew', 'Lian', 'Liao', 'Lim', 'Lin', 'Ling', 'Liu', 'Loh', 'Long', 'Loong', 'Luo', 'Mah', 'Mai', 'Mak', 'Mao', 'Mar', 'Mei', 'Meng', 'Miao', 'Min', 'Ming', 'Moy', 'Mui', 'Nie', 'Niu', 'OuYang', 'OwYang', 'Pan', 'Pang', 'Pei', 'Peng', 'Ping', 'Qian', 'Qin', 'Qiu', 'Quan', 'Que', 'Ran', 'Rao', 'Rong', 'Ruan', 'Sam', 'Seah', 'See ', 'Seow', 'Seto', 'Sha', 'Shan', 'Shang', 'Shao', 'Shaw', 'She', 'Shen', 'Sheng', 'Shi', 'Shu', 'Shuai', 'Shui', 'Shum', 'Siew', 'Siu', 'Song', 'Sum', 'Sun', 'Sze ', 'Tan', 'Tang', 'Tao', 'Teng', 'Teoh', 'Thean', 'Thian', 'Thien', 'Tian', 'Tong', 'Tow', 'Tsang', 'Tse', 'Tsen', 'Tso', 'Tze', 'Wan', 'Wang', 'Wei', 'Wen', 'Weng', 'Won', 'Wong', 'Woo', 'Xiang', 'Xiao', 'Xie', 'Xing', 'Xue', 'Xun', 'Yan', 'Yang', 'Yao', 'Yap', 'Yau', 'Yee', 'Yep', 'Yim', 'Yin', 'Ying', 'Yong', 'You', 'Yuan', 'Zang', 'Zeng', 'Zha', 'Zhan', 'Zhang', 'Zhao', 'Zhen', 'Zheng', 'Zhong', 'Zhou', 'Zhu', 'Zhuo', 'Zong', 'Zou', 'Bing', 'Chi', 'Chu', 'Cong', 'Cuan', 'Dan', 'Fei', 'Feng', 'Gai', 'Gao', 'Gou', 'Guan', 'Gui', 'Guo', 'Hong', 'Hou', 'Huan', 'Jian', 'Jiao', 'Jin', 'Jiu', 'Juan', 'Jue', 'Kan', 'Kuai', 'Kuang', 'Kui', 'Lao', 'Liang', 'Lu', 'Luo', 'Man', 'Nao', 'Pian', 'Qiao', 'Qing', 'Qiu', 'Rang', 'Rui', 'She', 'Shi', 'Shuo', 'Sui', 'Tai', 'Wan', 'Wei', 'Xian', 'Xie', 'Xin', 'Xing', 'Xiong', 'Xuan', 'Yan', 'Yin', 'Ying', 'Yuan', 'Yue', 'Yun', 'Zha', 'Zhai', 'Zhang', 'Zhi', 'Zhuan', 'Zhui']\n"
     ]
    }
   ],
   "source": [
    "# 构建一个从持久化文件中读取内容到内存的函数\n",
    "data_path = \"./data/names/\"\n",
    "\n",
    "def readLines(filename):\n",
    "    \"\"\"从文件中读取每一行加载到内存中形成列表\"\"\"\n",
    "    # 打开指定文件并读取所有内容, 使用strip()去除两侧空白符, 然后以'\\n'进行切分\n",
    "    lines = open(filename, encoding='utf-8').read().strip().split('\\n')\n",
    "    # 对应每一个lines列表中的名字进行Ascii转换, 使其规范化.最后返回一个名字列表\n",
    "    return [unicodeToAscii(line) for line in lines]\n",
    "\n",
    "# filename是数据集中某个具体的文件, 我们这里选择Chinese.txt\n",
    "filename = data_path + \"Chinese.txt\"\n",
    "lines = readLines(filename)\n",
    "print(lines)"
   ],
   "metadata": {
    "collapsed": false,
    "ExecuteTime": {
     "start_time": "2023-06-14T14:12:28.330307Z",
     "end_time": "2023-06-14T14:12:28.355682Z"
    }
   }
  },
  {
   "cell_type": "markdown",
   "source": [
    "#### 构建人名类别(所属的语言)列表和人名对应关系字典"
   ],
   "metadata": {
    "collapsed": false
   }
  },
  {
   "cell_type": "code",
   "execution_count": 5,
   "outputs": [
    {
     "name": "stdout",
     "output_type": "stream",
     "text": [
      "n_categories: 18\n"
     ]
    }
   ],
   "source": [
    "# 构建的category_lines形如：{\"English\":[\"Lily\", \"Susan\", \"Kobe\"], \"Chinese\":[\"Zhang San\", \"Xiao Ming\"]}\n",
    "category_lines = {}\n",
    "# all_categories形如： [\"English\",...,\"Chinese\"]\n",
    "all_categories = []\n",
    "\n",
    "# 读取指定路径下的txt文件，使用glob,path中可以使用正则表达式\n",
    "for filename in glob.glob(data_path + \"*.txt\"):\n",
    "    # 获取每个文件的文件名，就是对应的名字类别\n",
    "    category = os.path.splitext(os.path.basename(filename))[0]\n",
    "    # 将其逐一加到all_categories列表中\n",
    "    all_categories.append(category)\n",
    "    # 然后读取每个文件的内容，形成名字列表\n",
    "    lines = readLines(filename)\n",
    "    # 按照对应的类别，将名字列表写入到catagory_lines字典中\n",
    "    category_lines[category] = lines\n",
    "\n",
    "# 查看类别总数\n",
    "n_categories = len(all_categories)\n",
    "print(\"n_categories:\", n_categories)"
   ],
   "metadata": {
    "collapsed": false,
    "ExecuteTime": {
     "start_time": "2023-06-14T14:28:52.056103Z",
     "end_time": "2023-06-14T14:28:52.125734Z"
    }
   }
  },
  {
   "cell_type": "code",
   "execution_count": 6,
   "outputs": [
    {
     "name": "stdout",
     "output_type": "stream",
     "text": [
      "['Abandonato', 'Abatangelo', 'Abatantuono', 'Abate', 'Abategiovanni']\n"
     ]
    }
   ],
   "source": [
    "# 随便查看其中的一些内容\n",
    "print(category_lines['Italian'][:5])"
   ],
   "metadata": {
    "collapsed": false,
    "ExecuteTime": {
     "start_time": "2023-06-14T14:34:02.880920Z",
     "end_time": "2023-06-14T14:34:02.903555Z"
    }
   }
  },
  {
   "cell_type": "code",
   "execution_count": 7,
   "outputs": [
    {
     "name": "stdout",
     "output_type": "stream",
     "text": [
      "line_tensor: tensor([[[0., 0., 0., 0., 0., 0., 0., 0., 0., 0., 0., 0., 0., 0., 0., 0., 0.,\n",
      "          0., 0., 0., 0., 0., 0., 0., 0., 0., 0., 1., 0., 0., 0., 0., 0., 0.,\n",
      "          0., 0., 0., 0., 0., 0., 0., 0., 0., 0., 0., 0., 0., 0., 0., 0., 0.,\n",
      "          0., 0., 0., 0., 0., 0.]],\n",
      "\n",
      "        [[1., 0., 0., 0., 0., 0., 0., 0., 0., 0., 0., 0., 0., 0., 0., 0., 0.,\n",
      "          0., 0., 0., 0., 0., 0., 0., 0., 0., 0., 0., 0., 0., 0., 0., 0., 0.,\n",
      "          0., 0., 0., 0., 0., 0., 0., 0., 0., 0., 0., 0., 0., 0., 0., 0., 0.,\n",
      "          0., 0., 0., 0., 0., 0.]],\n",
      "\n",
      "        [[0., 0., 0., 0., 0., 0., 0., 0., 1., 0., 0., 0., 0., 0., 0., 0., 0.,\n",
      "          0., 0., 0., 0., 0., 0., 0., 0., 0., 0., 0., 0., 0., 0., 0., 0., 0.,\n",
      "          0., 0., 0., 0., 0., 0., 0., 0., 0., 0., 0., 0., 0., 0., 0., 0., 0.,\n",
      "          0., 0., 0., 0., 0., 0.]]])\n"
     ]
    }
   ],
   "source": [
    "# 将人名转化为对应的one-hot张量表示\n",
    "# 将字符串(单词粒度)转化为张量表示，如：\"ab\" --->\n",
    "# tensor([[[1., 0., 0., 0., 0., 0., 0., 0., 0., 0., 0., 0., 0., 0., 0., 0., 0.,\n",
    "#          0., 0., 0., 0., 0., 0., 0., 0., 0., 0., 0., 0., 0., 0., 0., 0., 0.,\n",
    "#          0., 0., 0., 0., 0., 0., 0., 0., 0., 0., 0., 0., 0., 0., 0., 0., 0.,\n",
    "#          0., 0., 0., 0., 0., 0.]],\n",
    "\n",
    "#        [[0., 1., 0., 0., 0., 0., 0., 0., 0., 0., 0., 0., 0., 0., 0., 0., 0.,\n",
    "#          0., 0., 0., 0., 0., 0., 0., 0., 0., 0., 0., 0., 0., 0., 0., 0., 0.,\n",
    "#          0., 0., 0., 0., 0., 0., 0., 0., 0., 0., 0., 0., 0., 0., 0., 0., 0.,\n",
    "#          0., 0., 0., 0., 0., 0.]]])\n",
    "def lineToTensor(line):\n",
    "    \"\"\"将人名转化为对应的one-hot张量表示，参数line是输入的人名\"\"\"\n",
    "    # 首先初始化一个0张量，它的形状(len(line), 1, n_letters)\n",
    "    # 代表人名中的每个字母用一个1 x n_letters的张量表示\n",
    "    tensor = torch.zeros(len(line), 1, n_letters)\n",
    "    # 遍历这个人名中的每个字符索引和字符\n",
    "    for li, letter in enumerate(line):\n",
    "        # 使用字符串方法find找到每个字符在all_letters中的索引\n",
    "        # 它也是我们生成one-hot张量中1的索引位置\n",
    "        tensor[li][0][all_letters.find(letter)] = 1\n",
    "    # 返回结果\n",
    "    return  tensor\n",
    "\n",
    "\n",
    "line = \"Bai\"\n",
    "line_tensor = lineToTensor(line)\n",
    "print(\"line_tensor:\", line_tensor)"
   ],
   "metadata": {
    "collapsed": false,
    "ExecuteTime": {
     "start_time": "2023-06-14T14:41:10.920248Z",
     "end_time": "2023-06-14T14:41:10.989334Z"
    }
   }
  },
  {
   "cell_type": "code",
   "execution_count": 8,
   "outputs": [],
   "source": [
    "# 构建传统RNN模型\n",
    "class RNN(nn.Module):\n",
    "    def __init__(self, input_size, hidden_size, output_size, num_layers=1):\n",
    "        \"\"\"初始化函数中有4个参数，分别代表RNN输入最后一维尺寸，RNN隐层最后一维尺寸,RNN层数\"\"\"\n",
    "        # input_size:代表RNN输入的最后一个维度\n",
    "        # hidden_size:代表RNN隐藏层的最后一个维度\n",
    "        # output_size:代表RNN网络最后线性层的输出维度\n",
    "        # num_layers:代表RNN网络的层数\n",
    "        super(RNN, self).__init__()\n",
    "        # 将hidden_size与num_layers传入其中\n",
    "        self.hidden_size = hidden_size\n",
    "        self.num_layers = num_layers\n",
    "\n",
    "        # 实例化预定义的nn.RNN,它的三个参数分别是input_size，hidden_size, num_layers\n",
    "        self.rnn = nn.RNN(input_size, hidden_size, num_layers)\n",
    "        # 实例化nn.Linear,这个线性层用于将nn.RNN的输出值维度转化为指定的输出维度\n",
    "        self.linear = nn.Linear(hidden_size, output_size)\n",
    "        # 实例化nn中预定的Softmax层，用于从输出层获得类别结果\n",
    "        self.softmax = nn.LogSoftmax(dim=-1)\n",
    "\n",
    "    def forward(self, input, hidden):\n",
    "        \"\"\"完成传统RNN的主要逻辑，输入参数input代表输入张量，它的形状是1 x n_letters\n",
    "        hidden代表RNN的隐层张量，它的形状是self.num_layers x 1 x self.hidden_size\"\"\"\n",
    "        # 因此预定义的nn.RNN要求输入维度一定是三维张量，因此在这里使用unsqueeze(0)扩展一个维度\n",
    "        input = input.unsqueeze(0)\n",
    "        # 将input和hidden输入到传统RNN的实例化对象中，如果num_layers = 1，rr恒等于hn\n",
    "        rr, hn = self.rnn(input, hidden)\n",
    "        # 将从RNN中获得的结果通过线性变换和softmax返回，同时返回hn作为后续RNN的输入\n",
    "        return self.softmax(self.linear(rr)), hn\n",
    "\n",
    "    def initHidden(self):\n",
    "        \"\"\"初始化隐层张量\"\"\"\n",
    "        # 初始化一个(self.num_layers, 1, self.hidden_size)形状为0的张量\n",
    "        return torch.zeros(self.num_layers, 1, self.hidden_size)"
   ],
   "metadata": {
    "collapsed": false,
    "ExecuteTime": {
     "start_time": "2023-06-14T14:59:03.735388Z",
     "end_time": "2023-06-14T14:59:03.789147Z"
    }
   }
  },
  {
   "cell_type": "code",
   "execution_count": 16,
   "outputs": [
    {
     "name": "stdout",
     "output_type": "stream",
     "text": [
      "torch.Size([4])\n",
      "torch.Size([1, 4])\n"
     ]
    }
   ],
   "source": [
    "# torch.unsqueeze演示\n",
    "x = torch.tensor([1, 2, 3, 4])\n",
    "print(x.shape)\n",
    "z = torch.unsqueeze(x, 0)\n",
    "print(z.shape)"
   ],
   "metadata": {
    "collapsed": false,
    "ExecuteTime": {
     "start_time": "2023-06-14T17:25:19.145953Z",
     "end_time": "2023-06-14T17:25:19.170802Z"
    }
   }
  },
  {
   "cell_type": "code",
   "execution_count": 17,
   "outputs": [
    {
     "name": "stdout",
     "output_type": "stream",
     "text": [
      "torch.Size([4, 1])\n"
     ]
    }
   ],
   "source": [
    "y = torch.unsqueeze(x, 1)\n",
    "print(y.shape)"
   ],
   "metadata": {
    "collapsed": false,
    "ExecuteTime": {
     "start_time": "2023-06-14T17:26:01.114235Z",
     "end_time": "2023-06-14T17:26:01.128334Z"
    }
   }
  },
  {
   "cell_type": "code",
   "execution_count": 11,
   "outputs": [],
   "source": [
    "# 构建LSTM模型\n",
    "# 使用nn.LSTM构建完成LSTM使用类\n",
    "class LSTM(nn.Module):\n",
    "    def __init__(self, input_size, hidden_size, output_size, num_layers=1):\n",
    "        # 初始化函数的参数与传统RNN相同\n",
    "        super(LSTM, self).__init__()\n",
    "        # 将hidden_size与num_layers传入其中\n",
    "        self.hidden_size = hidden_size\n",
    "        self.num_layers = num_layers\n",
    "\n",
    "        # 实例化预定义的nn.LSTM\n",
    "        self.lstm = nn.LSTM(input_size, hidden_size, num_layers)\n",
    "        # 实例化nn.Linear,这个线性层用于将nn.LSTM的输出维度转化为指定的输出维度\n",
    "        self.linear = nn.Linear(hidden_size, output_size)\n",
    "        # 实例化nn中预定的Softmax层，用于从输出层获得类别结果\n",
    "        self.softmax = nn.LogSoftmax(dim=-1)\n",
    "\n",
    "    def forward(self, input, hidden, c):\n",
    "        \"\"\"在主要逻辑函数中多出一个参数c, 也就是LSTM中的细胞状态张量\"\"\"\n",
    "        # 使用unsqueeze(0)扩展一个维度\n",
    "        input = input.unsqueeze(0)\n",
    "        # 将input, hidden以及初始化的c传入lstm中\n",
    "        rr, (hn, c) = self.lstm(input, (hidden, c))\n",
    "        # 最后返回处理后rr, hn, c\n",
    "        return self.softmax(self.linear(rr)), hn, c\n",
    "\n",
    "    def initHiddenAndC(self):\n",
    "        \"\"\"初始化函数不仅初始化hidden还要初始化细胞状态c，它们的形状相同\"\"\"\n",
    "        c = hidden = torch.zeros(self.num_layers, 1, self.hidden_size)\n",
    "        return  hidden, c"
   ],
   "metadata": {
    "collapsed": false,
    "ExecuteTime": {
     "start_time": "2023-06-14T15:13:45.863570Z",
     "end_time": "2023-06-14T15:13:45.907037Z"
    }
   }
  },
  {
   "cell_type": "code",
   "execution_count": 12,
   "outputs": [],
   "source": [
    "# 构建GRU模型\n",
    "# 使用nn.GRU构建完成传统RNN使用类\n",
    "\n",
    "# GRU与传统RNN的外部形式相同, 都是只传递隐层张量, 因此只需要更改预定义层的名字\n",
    "class GRU(nn.Module):\n",
    "    def __init__(self, input_size, hidden_size, output_size, num_layers=1):\n",
    "        super(GRU, self).__init__()\n",
    "        self.hidden_size = hidden_size\n",
    "        self.num_layers = num_layers\n",
    "\n",
    "        # 实例化预定义的nn.GRU, 它的三个参数分别是input_size, hidden_size, num_layers\n",
    "        self.gru = nn.GRU(input_size, hidden_size, num_layers)\n",
    "        self.linear = nn.Linear(hidden_size, output_size)\n",
    "        self.softmax = nn.LogSoftmax(dim=-1)\n",
    "\n",
    "    def forward(self, input, hidden):\n",
    "        input = input.unsqueeze(0)\n",
    "        rr, hn = self.gru(input, hidden)\n",
    "        return self.softmax(self.linear(rr)), hn\n",
    "\n",
    "    def initHidden(self):\n",
    "        return torch.zeros(self.num_layers, 1, self.hidden_size)"
   ],
   "metadata": {
    "collapsed": false,
    "ExecuteTime": {
     "start_time": "2023-06-14T15:31:44.877276Z",
     "end_time": "2023-06-14T15:31:44.934377Z"
    }
   }
  },
  {
   "cell_type": "markdown",
   "source": [
    "#### 实例化参数"
   ],
   "metadata": {
    "collapsed": false
   }
  },
  {
   "cell_type": "code",
   "execution_count": 26,
   "outputs": [],
   "source": [
    "# 因为是onehot编码, 输入张量最后一维的尺寸就是n_letters\n",
    "input_size = n_letters\n",
    "\n",
    "# 定义隐层的最后一维尺寸大小\n",
    "n_hidden = 57\n",
    "\n",
    "# 输出尺寸为语言类别总数n_categories\n",
    "output_size = n_categories\n",
    "\n",
    "# num_layer使用默认值, num_layers = 1"
   ],
   "metadata": {
    "collapsed": false,
    "ExecuteTime": {
     "start_time": "2023-06-14T18:44:14.344939Z",
     "end_time": "2023-06-14T18:44:14.367777Z"
    }
   }
  },
  {
   "cell_type": "markdown",
   "source": [
    "#### 输入参数"
   ],
   "metadata": {
    "collapsed": false
   }
  },
  {
   "cell_type": "code",
   "execution_count": 27,
   "outputs": [],
   "source": [
    "# 假如我们以一个字母B作为RNN的首次输入, 它通过lineToTensor转为张量\n",
    "# 因为我们的lineToTensor输出是三维张量, 而RNN类需要的二维张量\n",
    "# 因此需要使用squeeze(0)降低一个维度\n",
    "input = lineToTensor('B').squeeze(0)\n",
    "\n",
    "# 初始化一个三维的隐层0张量, 也是初始的细胞状态张量\n",
    "hidden = c = torch.zeros(1, 1, n_hidden)"
   ],
   "metadata": {
    "collapsed": false,
    "ExecuteTime": {
     "start_time": "2023-06-14T18:44:18.812224Z",
     "end_time": "2023-06-14T18:44:18.832205Z"
    }
   }
  },
  {
   "cell_type": "markdown",
   "source": [
    "#### 调用"
   ],
   "metadata": {
    "collapsed": false
   }
  },
  {
   "cell_type": "code",
   "execution_count": 29,
   "outputs": [
    {
     "name": "stdout",
     "output_type": "stream",
     "text": [
      "rnn: tensor([[[-2.9879, -3.1140, -2.9302, -2.8892, -3.0818, -2.7007, -2.6251,\n",
      "          -2.8833, -2.8417, -2.9852, -2.9925, -3.0889, -2.9286, -2.7733,\n",
      "          -2.7649, -2.8631, -2.9344, -2.7964]]], grad_fn=<LogSoftmaxBackward0>)\n",
      "rnn.shape: torch.Size([1, 1, 18])\n",
      "lstm: tensor([[[-2.9077, -2.7731, -2.9073, -2.9322, -2.9242, -2.9533, -2.8012,\n",
      "          -2.7922, -2.7910, -2.8518, -2.9046, -3.0164, -2.9827, -2.9458,\n",
      "          -2.9559, -2.7684, -2.8808, -2.9921]]], grad_fn=<LogSoftmaxBackward0>)\n",
      "lstm.shape: torch.Size([1, 1, 18])\n",
      "gru: tensor([[[-2.7727, -2.7887, -2.9656, -2.9033, -2.9723, -2.9675, -2.8865,\n",
      "          -2.7472, -2.9438, -2.8640, -3.0225, -2.8290, -3.0852, -2.9195,\n",
      "          -2.8837, -2.7212, -2.9279, -2.9047]]], grad_fn=<LogSoftmaxBackward0>)\n",
      "gru.shape: torch.Size([1, 1, 18])\n"
     ]
    }
   ],
   "source": [
    "rnn = RNN(n_letters, n_hidden, n_categories)\n",
    "lstm = LSTM(n_letters, n_hidden, n_categories)\n",
    "gru = GRU(n_letters, n_hidden, n_categories)\n",
    "\n",
    "rnn_output, next_hidden = rnn(input, hidden)\n",
    "print(\"rnn:\", rnn_output)\n",
    "print(\"rnn.shape:\", rnn_output.shape)\n",
    "lstm_output, next_hidden, c = lstm(input, hidden, c)\n",
    "print(\"lstm:\", lstm_output)\n",
    "print(\"lstm.shape:\", lstm_output.shape)\n",
    "gru_output, next_hidden = gru(input, hidden)\n",
    "print(\"gru:\", gru_output)\n",
    "print(\"gru.shape:\", gru_output.shape)"
   ],
   "metadata": {
    "collapsed": false,
    "ExecuteTime": {
     "start_time": "2023-06-14T18:49:38.923266Z",
     "end_time": "2023-06-14T18:49:38.944040Z"
    }
   }
  },
  {
   "cell_type": "markdown",
   "source": [
    "#### 第四步：构建训练函数并进行训练"
   ],
   "metadata": {
    "collapsed": false
   }
  },
  {
   "cell_type": "code",
   "execution_count": 30,
   "outputs": [],
   "source": [
    "# 从输出结果中获得指定类别的函数\n",
    "\n",
    "def categoryFromOutput(output):\n",
    "    \"\"\"从输出结果中获得指定类别，参数为输出张量output\"\"\"\n",
    "    # 从输出张量中返回最大的值和索引，作为我们的类别信息，我们这里主要需要这个索引\n",
    "    top_n, top_i = output.topk(1)\n",
    "    # top_i对象中取出索引的值\n",
    "    category_i = top_i[0].item()\n",
    "    # 根据索引获得对应语言类型，返回语言类别和索引值\n",
    "    return all_categories[category_i], category_i"
   ],
   "metadata": {
    "collapsed": false,
    "ExecuteTime": {
     "start_time": "2023-06-14T18:54:00.358717Z",
     "end_time": "2023-06-14T18:54:00.396493Z"
    }
   }
  },
  {
   "cell_type": "code",
   "execution_count": 33,
   "outputs": [
    {
     "name": "stdout",
     "output_type": "stream",
     "text": [
      "tensor([1., 2., 3., 4., 5.])\n",
      "torch.return_types.topk(\n",
      "values=tensor([5., 4., 3.]),\n",
      "indices=tensor([4, 3, 2]))\n"
     ]
    }
   ],
   "source": [
    "# torch.topk演示\n",
    "x = torch.arange(1., 6.)\n",
    "print(x)\n",
    "z = torch.topk(x, 3)\n",
    "print(z)"
   ],
   "metadata": {
    "collapsed": false,
    "ExecuteTime": {
     "start_time": "2023-06-14T18:55:14.566272Z",
     "end_time": "2023-06-14T18:55:14.586877Z"
    }
   }
  },
  {
   "cell_type": "code",
   "execution_count": 34,
   "outputs": [
    {
     "name": "stdout",
     "output_type": "stream",
     "text": [
      "category: Dutch\n",
      "category_i: 15\n"
     ]
    }
   ],
   "source": [
    "# 输入参数\n",
    "# 将上一步中grur的输出作为函数的输入\n",
    "output = gru_output\n",
    "# 调用\n",
    "category, category_i = categoryFromOutput(output)\n",
    "print(\"category:\", category)\n",
    "print(\"category_i:\", category_i)"
   ],
   "metadata": {
    "collapsed": false,
    "ExecuteTime": {
     "start_time": "2023-06-14T18:56:51.909796Z",
     "end_time": "2023-06-14T18:56:51.960995Z"
    }
   }
  },
  {
   "cell_type": "markdown",
   "source": [
    "### 随机生成训练数据"
   ],
   "metadata": {
    "collapsed": false
   }
  },
  {
   "cell_type": "code",
   "execution_count": 54,
   "outputs": [],
   "source": [
    "def randomTrainingExample():\n",
    "    \"\"\"该函数用于随机产生训练数据\"\"\"\n",
    "    # 首先使用random的choice方法从all_categories随机选择一个类别\n",
    "    category = random.choice(all_categories)\n",
    "    # 然后再通过category_lines字典取category类别对应的名字列表\n",
    "    # 之后再从列表中随机取一个名字\n",
    "    line = random.choice(category_lines[category])\n",
    "    # 接着将这个类别在所有类别列表中的索引封装成tensor,得到类别张量category_tensor\n",
    "    category_tensor = torch.tensor([all_categories.index(category)], dtype=torch.long)\n",
    "    # 最后，将随机取到的名字通过函数lineToTensor转化为onehot张量表示\n",
    "    line_tensor = lineToTensor(line)\n",
    "    return category, line, category_tensor, line_tensor"
   ],
   "metadata": {
    "collapsed": false,
    "ExecuteTime": {
     "start_time": "2023-06-15T10:35:11.662153Z",
     "end_time": "2023-06-15T10:35:11.686468Z"
    }
   }
  },
  {
   "cell_type": "code",
   "execution_count": 60,
   "outputs": [
    {
     "name": "stdout",
     "output_type": "stream",
     "text": [
      "category = Polish / line = Slazak / category_tensor = tensor([17]) / category_tensor.dim = 1  / line_tensor.size = torch.Size([6, 1, 57])\n",
      "category = Irish / line = Madaidhin / category_tensor = tensor([8]) / category_tensor.dim = 1  / line_tensor.size = torch.Size([9, 1, 57])\n",
      "category = English / line = Girling / category_tensor = tensor([9]) / category_tensor.dim = 1  / line_tensor.size = torch.Size([7, 1, 57])\n",
      "category = Russian / line = Gordusenko / category_tensor = tensor([6]) / category_tensor.dim = 1  / line_tensor.size = torch.Size([10, 1, 57])\n",
      "category = Irish / line = Reagan / category_tensor = tensor([8]) / category_tensor.dim = 1  / line_tensor.size = torch.Size([6, 1, 57])\n",
      "category = French / line = Descoteaux / category_tensor = tensor([7]) / category_tensor.dim = 1  / line_tensor.size = torch.Size([10, 1, 57])\n",
      "category = Arabic / line = Dagher / category_tensor = tensor([2]) / category_tensor.dim = 1  / line_tensor.size = torch.Size([6, 1, 57])\n",
      "category = Portuguese / line = D'cruze / category_tensor = tensor([13]) / category_tensor.dim = 1  / line_tensor.size = torch.Size([7, 1, 57])\n",
      "category = Vietnamese / line = Dang / category_tensor = tensor([5]) / category_tensor.dim = 1  / line_tensor.size = torch.Size([4, 1, 57])\n",
      "category = Scottish / line = Thomson / category_tensor = tensor([14]) / category_tensor.dim = 1  / line_tensor.size = torch.Size([7, 1, 57])\n"
     ]
    }
   ],
   "source": [
    "# 我们随机取出十个进行结果查看\n",
    "for i in range(10):\n",
    "    category, line, category_tensor, line_tensor = randomTrainingExample()\n",
    "    print('category =', category, '/ line =', line, '/ category_tensor =', category_tensor, '/ category_tensor.dim =', category_tensor.dim(), ' / line_tensor.size =', line_tensor.size())"
   ],
   "metadata": {
    "collapsed": false,
    "ExecuteTime": {
     "start_time": "2023-06-15T10:52:42.183292Z",
     "end_time": "2023-06-15T10:52:42.291919Z"
    }
   }
  },
  {
   "cell_type": "markdown",
   "source": [
    "#### 构建传统RNN训练函数"
   ],
   "metadata": {
    "collapsed": false
   }
  },
  {
   "cell_type": "code",
   "execution_count": 72,
   "outputs": [],
   "source": [
    "# 定义损失函数为nn.NLLLoss，因为RNN的最后一层是nn.LogSoftmax,两者的内部计算逻辑正好能够吻合\n",
    "criterion = nn.NLLLoss()\n",
    "\n",
    "# 设置学习率\n",
    "learning_rate = 0.005\n",
    "\n",
    "def trainRNN(category_tensor, line_tensor):\n",
    "    \"\"\"定义训练函数，它的两个参数是category_tensor类别的张量表示，相当于训练数据的标签\n",
    "    line_tensor名字张量的表示，相当于对应训练数据\"\"\"\n",
    "    # 在函数中，首先通过实例化对象rnn初始化隐层张量\n",
    "    hidden = rnn.initHidden()\n",
    "    # 然后将模型结构中的梯度归0\n",
    "    rnn.zero_grad()\n",
    "\n",
    "    # 下面开始进行训练，将训练数据line_tensor的每个字符逐个传入rnn之中，得到最终结果\n",
    "    for i in range(line_tensor.size()[0]):\n",
    "        output, hidden = rnn(line_tensor[i], hidden)\n",
    "\n",
    "    # 因为我们的rnn对象由nn.RNN实例化得到，最终输出形状是三维张量，为了满足于category_tensor\n",
    "    # 进行对比计算损失, 需要减少第一个维度, 这里使用squeeze()方法\n",
    "    loss = criterion(output.squeeze(0), category_tensor)\n",
    "\n",
    "    # 损失进行反向传播\n",
    "    loss.backward()\n",
    "    # 更新模型中所有的参数\n",
    "    for p in rnn.parameters():\n",
    "        # 将参数的张量表示与参数的梯度乘以学习率的结果相加以此来更新参数\n",
    "        p.data.add_(-learning_rate, p.grad.data)\n",
    "    # 返回结果和损失的值\n",
    "    return output, loss.item()"
   ],
   "metadata": {
    "collapsed": false,
    "ExecuteTime": {
     "start_time": "2023-06-15T16:03:55.895751Z",
     "end_time": "2023-06-15T16:03:55.926884Z"
    }
   }
  },
  {
   "cell_type": "code",
   "execution_count": 68,
   "outputs": [
    {
     "name": "stdout",
     "output_type": "stream",
     "text": [
      "tensor([[[-0.2849, -1.0164,  0.7642],\n",
      "         [ 0.4739,  1.3522, -0.6468]]])\n",
      "tensor([[-0.2849, -1.0164,  0.7642],\n",
      "        [ 0.4739,  1.3522, -0.6468]])\n"
     ]
    }
   ],
   "source": [
    "# torch.squeeze\n",
    "a = torch.randn(1,2,3)\n",
    "print(a)\n",
    "c = a.squeeze(0) # 这个是降维的操作\n",
    "print(c)"
   ],
   "metadata": {
    "collapsed": false,
    "ExecuteTime": {
     "start_time": "2023-06-15T10:59:36.639594Z",
     "end_time": "2023-06-15T10:59:36.659889Z"
    }
   }
  },
  {
   "cell_type": "code",
   "execution_count": 41,
   "outputs": [
    {
     "name": "stdout",
     "output_type": "stream",
     "text": [
      "tensor([-0.7177, -0.3273, -0.4882,  0.3834])\n",
      "tensor([[ 1.6106],\n",
      "        [-0.8278],\n",
      "        [ 0.1480],\n",
      "        [ 1.2159]])\n"
     ]
    },
    {
     "data": {
      "text/plain": "tensor([[15.3880, 15.7784, 15.6174, 16.4891],\n        [-8.9953, -8.6049, -8.7659, -7.8943],\n        [ 0.7623,  1.1527,  0.9917,  1.8633],\n        [11.4410, 11.8314, 11.6705, 12.5421]])"
     },
     "execution_count": 41,
     "metadata": {},
     "output_type": "execute_result"
    }
   ],
   "source": [
    "# torch.add演示\n",
    "a = torch.randn(4)\n",
    "print(a)\n",
    "\n",
    "b = torch.randn(4, 1)\n",
    "print(b)\n",
    "torch.add(a, b, alpha=10)"
   ],
   "metadata": {
    "collapsed": false,
    "ExecuteTime": {
     "start_time": "2023-06-15T10:06:41.555846Z",
     "end_time": "2023-06-15T10:06:41.579988Z"
    }
   }
  },
  {
   "cell_type": "markdown",
   "source": [
    "#### 构建LSTM训练函数"
   ],
   "metadata": {
    "collapsed": false
   }
  },
  {
   "cell_type": "code",
   "execution_count": 42,
   "outputs": [],
   "source": [
    "# 与传统RNN相比多了一个细胞状态c\n",
    "def trainLSTM(category_tensor, line_tensor):\n",
    "    hidden, c = lstm.initHiddenAndC()\n",
    "    lstm.zero_grad()\n",
    "    for i in range(line_tensor.size()[0]):\n",
    "        # 返回output, hidden以及细胞状态c\n",
    "        output, hidden, c = lstm(line_tensor[i], hidden, c)\n",
    "    loss = criterion(output.squeeze(0), category_tensor)\n",
    "    loss.backward()\n",
    "\n",
    "    for p in lstm.parameters():\n",
    "        p.data.add_(-learning_rate, p.grad.data)\n",
    "    return output, loss.item()"
   ],
   "metadata": {
    "collapsed": false,
    "ExecuteTime": {
     "start_time": "2023-06-15T10:12:26.039474Z",
     "end_time": "2023-06-15T10:12:26.091896Z"
    }
   }
  },
  {
   "cell_type": "markdown",
   "source": [
    "#### 构建GRU训练函数"
   ],
   "metadata": {
    "collapsed": false
   }
  },
  {
   "cell_type": "code",
   "execution_count": 77,
   "outputs": [],
   "source": [
    "# 与传统RNN完全相同，只不过名字改成了GRU\n",
    "def trainGRU(categoory_tensor, line_tensor):\n",
    "    hidden = gru.initHidden()\n",
    "    gru.zero_grad()\n",
    "    for i in range(line_tensor.size()[0]):\n",
    "        output, hidden = gru(line_tensor[i], hidden)\n",
    "    loss = criterion(output.squeeze(0), categoory_tensor)\n",
    "    loss.backward()\n",
    "\n",
    "    for p in gru.parameters():\n",
    "        p.data.add_(-learning_rate, p.grad.data)\n",
    "    return output, loss.item()"
   ],
   "metadata": {
    "collapsed": false,
    "ExecuteTime": {
     "start_time": "2023-06-15T16:08:21.279984Z",
     "end_time": "2023-06-15T16:08:21.304963Z"
    }
   }
  },
  {
   "cell_type": "markdown",
   "source": [
    "#### 构建时间计算函数"
   ],
   "metadata": {
    "collapsed": false
   }
  },
  {
   "cell_type": "code",
   "execution_count": 49,
   "outputs": [],
   "source": [
    "import math\n",
    "def timeSince(since):\n",
    "    \"\"\"获得每次打印的训练耗时，since是训练开始时间\"\"\"\n",
    "    # 获得当前时间\n",
    "    now = time.time()\n",
    "    # 获得时间差，就是训练耗时\n",
    "    s = now - since\n",
    "    # 将秒转化为分钟，并取整\n",
    "    m = math.floor(s / 60)\n",
    "    # 计算剩下不够凑成一分钟的秒数\n",
    "    s -= m * 60\n",
    "    # 返回指定格式的耗时\n",
    "    return '%dm %ds' % (m, s)"
   ],
   "metadata": {
    "collapsed": false,
    "ExecuteTime": {
     "start_time": "2023-06-15T10:22:51.983597Z",
     "end_time": "2023-06-15T10:22:52.023741Z"
    }
   }
  },
  {
   "cell_type": "code",
   "execution_count": 50,
   "outputs": [
    {
     "name": "stdout",
     "output_type": "stream",
     "text": [
      "10m 0s\n"
     ]
    }
   ],
   "source": [
    "# 假定模型训练开始时间是10min之前\n",
    "since = time.time() - 10*60\n",
    "period = timeSince(since)\n",
    "print(period)"
   ],
   "metadata": {
    "collapsed": false,
    "ExecuteTime": {
     "start_time": "2023-06-15T10:22:53.156836Z",
     "end_time": "2023-06-15T10:22:53.181549Z"
    }
   }
  },
  {
   "cell_type": "markdown",
   "source": [
    "#### 构建训练过程的日志打印函数"
   ],
   "metadata": {
    "collapsed": false
   }
  },
  {
   "cell_type": "code",
   "execution_count": 70,
   "outputs": [],
   "source": [
    "# 设置训练迭代次数\n",
    "n_iters = 1000\n",
    "# 设置结果的打印间隔\n",
    "print_every = 50\n",
    "# 设置绘制损失曲线上的制图间隔\n",
    "plot_every = 10\n",
    "\n",
    "def train(train_type_fn):\n",
    "    \"\"\"训练过程的日志打印函数，参数train_type_fn代表选择哪种模型训练函数，如trainRNN\"\"\"\n",
    "    # 第个制图间隔损失保存列表\n",
    "    all_losses = []\n",
    "    # 获得开始训练的时间戳\n",
    "    start = time.time()\n",
    "    # 设置初始间隔损失为0\n",
    "    current_loss = 0\n",
    "    # 从1开始进行训练迭代，共n_iters次\n",
    "    for iter in range(1, n_iters+1):\n",
    "        # 通过randomTrainingExample函数随机获取一组训练数据和对应的类别\n",
    "        category, line, category_tensor, line_tensor = randomTrainingExample()\n",
    "        # 将训练数据和对应类别的张量表示传入到train函数中\n",
    "        output, loss = train_type_fn(category_tensor, line_tensor)\n",
    "        # 计算制图间隔中的总损失\n",
    "        current_loss += loss\n",
    "        # 如果迭代数能够整除打印间隔\n",
    "        if iter % print_every == 0:\n",
    "            # 取该次迭代步上的output通过categoryFromOutput函数获取对应的类别和类别索引\n",
    "            guess, guess_i = categoryFromOutput(output)\n",
    "            # 然后和真实的类别category做比较，如果相同则打对号，否则打叉号\n",
    "            correct = '✓' if guess == category else '✗ (%s)' % category\n",
    "            # 打印迭代步，迭代步百分比，当前训练耗时，损失，该步预测的名字，以及是否正确\n",
    "            print('%d %d%% (%s) %.4f %s / %s %s' % (iter, iter / n_iters * 100, timeSince(start), loss, line, guess, correct))\n",
    "        # 如果迭代数能够整除制图间隔\n",
    "        if iter % plot_every == 0:\n",
    "            # 将保存该间隔中的平均损失到all_losses列表中\n",
    "            all_losses.append(current_loss / plot_every)\n",
    "            # 间隔损失重置为0\n",
    "            current_loss = 0\n",
    "    # 返回对应瓣总损失列表和训练耗时\n",
    "    return all_losses, int(time.time() - start)"
   ],
   "metadata": {
    "collapsed": false,
    "ExecuteTime": {
     "start_time": "2023-06-15T14:27:44.291219Z",
     "end_time": "2023-06-15T14:27:44.318599Z"
    }
   }
  },
  {
   "cell_type": "code",
   "execution_count": 79,
   "outputs": [
    {
     "name": "stdout",
     "output_type": "stream",
     "text": [
      "50 5% (0m 0s) 2.6449 Minnibaev / Vietnamese ✗ (Russian)\n",
      "100 10% (0m 0s) 2.9269 Symes / Greek ✗ (English)\n",
      "150 15% (0m 0s) 2.9472 Leonard / Vietnamese ✗ (English)\n",
      "200 20% (0m 0s) 3.0143 Crawford / German ✗ (Scottish)\n",
      "250 25% (0m 0s) 2.6275 Holzmann / German ✓\n",
      "300 30% (0m 0s) 2.8623 Keay / German ✗ (English)\n",
      "350 35% (0m 0s) 2.8444 Zavala / German ✗ (Spanish)\n",
      "400 40% (0m 0s) 2.3821 Bekhteev / Russian ✓\n",
      "450 45% (0m 0s) 2.7166 Essa / Russian ✗ (Arabic)\n",
      "500 50% (0m 1s) 2.9463 Mah / Vietnamese ✗ (Chinese)\n",
      "550 55% (0m 1s) 2.8294 Titmus / Greek ✗ (English)\n",
      "600 60% (0m 1s) 2.5439 Thao / Vietnamese ✓\n",
      "650 65% (0m 1s) 2.7876 Santos / Greek ✗ (Spanish)\n",
      "700 70% (0m 1s) 2.8050 Hay / Vietnamese ✗ (Scottish)\n",
      "750 75% (0m 1s) 2.6136 Oelberg / English ✗ (German)\n",
      "800 80% (0m 1s) 2.9270 Kijek / Vietnamese ✗ (Polish)\n",
      "850 85% (0m 1s) 2.4670 Bicchieri / Polish ✗ (Italian)\n",
      "900 90% (0m 2s) 2.7490 Fierro / Italian ✗ (Spanish)\n",
      "950 95% (0m 2s) 2.4866 Vaisman / Irish ✗ (Russian)\n",
      "1000 100% (0m 2s) 2.9172 Aldworth / Russian ✗ (English)\n",
      "50 5% (0m 0s) 2.9092 Wizner / Arabic ✗ (Czech)\n",
      "100 10% (0m 0s) 2.8836 Hrdy / Arabic ✗ (Czech)\n",
      "150 15% (0m 0s) 2.9468 Sinagra / Arabic ✗ (Italian)\n",
      "200 20% (0m 0s) 2.9070 Koberna / Arabic ✗ (Czech)\n",
      "250 25% (0m 1s) 2.8771 Michaud / Arabic ✗ (French)\n",
      "300 30% (0m 1s) 2.8907 Mudra / Arabic ✗ (Czech)\n",
      "350 35% (0m 1s) 2.8925 Henkin / German ✗ (Russian)\n",
      "400 40% (0m 1s) 2.8348 Gomulka / Arabic ✗ (Polish)\n",
      "450 45% (0m 1s) 2.7784 Waxweiler / Arabic ✗ (German)\n",
      "500 50% (0m 2s) 2.8938 Gardner / Arabic ✗ (English)\n",
      "550 55% (0m 2s) 2.9031 Durant / Arabic ✗ (French)\n",
      "600 60% (0m 2s) 2.9314 Shon / Arabic ✗ (Korean)\n",
      "650 65% (0m 2s) 2.9549 Kim / Arabic ✗ (Korean)\n",
      "700 70% (0m 2s) 2.9316 Caivano / Arabic ✗ (Italian)\n",
      "750 75% (0m 3s) 2.8665 Rompaye / Arabic ✗ (Dutch)\n",
      "800 80% (0m 3s) 2.9525 Tron / Arabic ✗ (Vietnamese)\n",
      "850 85% (0m 3s) 2.8805 Cuidightheach / Arabic ✗ (Irish)\n",
      "900 90% (0m 3s) 2.9921 Hang / Arabic ✗ (Chinese)\n",
      "950 95% (0m 3s) 2.8588 Greenwood / Arabic ✗ (English)\n",
      "1000 100% (0m 4s) 2.8689 Gosselin / Arabic ✗ (French)\n",
      "50 5% (0m 0s) 2.9855 Jing / Russian ✗ (Chinese)\n",
      "100 10% (0m 0s) 2.7906 Bernat / Russian ✗ (German)\n",
      "150 15% (0m 0s) 2.8185 Seghers / Portuguese ✗ (Dutch)\n",
      "200 20% (0m 0s) 2.9361 Parisi / Portuguese ✗ (Italian)\n",
      "250 25% (0m 0s) 2.9530 Minamoto / Russian ✗ (Japanese)\n",
      "300 30% (0m 0s) 2.9887 Sobol / Russian ✗ (Polish)\n",
      "350 35% (0m 1s) 2.9362 Di stefano / Portuguese ✗ (Italian)\n",
      "400 40% (0m 1s) 2.8671 Sarkis / Portuguese ✗ (Arabic)\n",
      "450 45% (0m 1s) 2.7440 Abramchuk / Russian ✓\n",
      "500 50% (0m 1s) 3.0584 Gomolka / Portuguese ✗ (Polish)\n",
      "550 55% (0m 1s) 2.8908 Ruadhan / Russian ✗ (Irish)\n",
      "600 60% (0m 1s) 2.7599 Armani / Italian ✓\n",
      "650 65% (0m 1s) 2.8584 Panayiotopoulos / Portuguese ✗ (Greek)\n",
      "700 70% (0m 1s) 2.7662 Serafini / Russian ✗ (Italian)\n",
      "750 75% (0m 2s) 2.7674 Raske / Russian ✗ (Dutch)\n",
      "800 80% (0m 2s) 2.9894 Kalogeria / Italian ✗ (Greek)\n",
      "850 85% (0m 2s) 2.7642 Penner / Russian ✗ (Dutch)\n",
      "900 90% (0m 2s) 2.8953 Sklavenitis / Russian ✗ (Greek)\n",
      "950 95% (0m 2s) 2.7658 Cucinotta / Italian ✓\n",
      "1000 100% (0m 2s) 2.9252 Okuda / Spanish ✗ (Japanese)\n"
     ]
    },
    {
     "data": {
      "text/plain": "<BarContainer object of 3 artists>"
     },
     "execution_count": 79,
     "metadata": {},
     "output_type": "execute_result"
    },
    {
     "data": {
      "text/plain": "<Figure size 640x480 with 1 Axes>",
      "image/png": "[encoded data removed]"
     },
     "metadata": {},
     "output_type": "display_data"
    },
    {
     "data": {
      "text/plain": "<Figure size 640x480 with 1 Axes>",
      "image/png": "[encoded data removed]"
     },
     "metadata": {},
     "output_type": "display_data"
    }
   ],
   "source": [
    "# 调用train函数, 分别进行RNN, LSTM, GRU模型的训练\n",
    "# 并返回各自的全部损失, 以及训练耗时用于制图\n",
    "all_losses1, period1 = train(trainRNN)\n",
    "all_losses2, period2 = train(trainLSTM)\n",
    "all_losses3, period3 = train(trainGRU)\n",
    "\n",
    "# 绘制损失对比曲线，训练耗时对比柱状图\n",
    "# 创建画布0\n",
    "plt.figure(0)\n",
    "# 绘制损失对比曲线\n",
    "plt.plot(all_losses1, label=\"RNN\")\n",
    "plt.plot(all_losses2, color=\"red\", label=\"LSTM\")\n",
    "plt.plot(all_losses3, color=\"orange\", label=\"GRU\")\n",
    "plt.legend(loc=\"upper left\")\n",
    "\n",
    "# 创建画布1\n",
    "plt.figure(1)\n",
    "x_data = ['RNN', 'LSTM', 'GRU']\n",
    "y_data = [period1, period2, period3]\n",
    "\n",
    "# 绘制训练耗时对比柱状图\n",
    "plt.bar(range(len(x_data)), y_data, tick_label=x_data)"
   ],
   "metadata": {
    "collapsed": false,
    "ExecuteTime": {
     "start_time": "2023-06-15T16:09:22.076309Z",
     "end_time": "2023-06-15T16:09:31.488492Z"
    }
   }
  },
  {
   "cell_type": "code",
   "execution_count": null,
   "outputs": [],
   "source": [],
   "metadata": {
    "collapsed": false
   }
  },
  {
   "cell_type": "markdown",
   "source": [
    "#### 损失曲线对比\n",
    "- 模型训练的损失降低快慢代表模型收敛程度，由图可知，传统RNN模型收敛情况最好，然后是GRU，最后是LSTM，这是因为，我们当前处理的文本数据是人名，他们的长度有限，且长距率字母间基本无特定关联，因此无法发挥改进模型LSTM和GRU的长距离捕捉语义关联的优势，所以在以后的模型选用时，要通过对任务的分析以及实验对比，选择最适合的模型\n",
    "#### 训练耗时对比图分析\n",
    "- 模型训练的耗时长短代表模型的计算复杂度, 由图可知, 也正如我们之前的理论分析, 传统RNN复杂度最低, 耗时几乎只是后两者的一半, 然后是GRU, 最后是复杂度最高的LSTM.\n",
    "#### 结论:\n",
    "- 模型选用一般应通过实验对比, 并非越复杂或越先进的模型表现越好, 而是需要结合自己的特定任务, 从对数据的分析和实验结果中获得最佳答案."
   ],
   "metadata": {
    "collapsed": false
   }
  },
  {
   "cell_type": "markdown",
   "source": [
    "#### 第五步：构建评估函数并进行预测"
   ],
   "metadata": {
    "collapsed": false
   }
  },
  {
   "cell_type": "code",
   "execution_count": 88,
   "outputs": [],
   "source": [
    "# 构建传统RNN评估函数\n",
    "def evaluateRNN(line_tensor):\n",
    "    \"\"\"评估函数，和训练函数逻辑相同，参数是line_tensor代表名字和张量表示\"\"\"\n",
    "    # 初始化隐层张量\n",
    "    hidden = rnn.initHidden()\n",
    "    # 将评估数据line_tensor的每个字符逐个传入RNN中\n",
    "    for i in range(line_tensor.size()[0]):\n",
    "        output, hidden = rnn(line_tensor[i], hidden)\n",
    "    # 获得输出结果\n",
    "    print(\"RNN output.dim\", output.dim())\n",
    "    return output.squeeze(0)"
   ],
   "metadata": {
    "collapsed": false,
    "ExecuteTime": {
     "start_time": "2023-06-15T16:28:16.235192Z",
     "end_time": "2023-06-15T16:28:16.269964Z"
    }
   }
  },
  {
   "cell_type": "code",
   "execution_count": 92,
   "outputs": [],
   "source": [
    "# 构建LSTM评估函数\n",
    "def evaluateLSTM(line_tensor):\n",
    "    # 初始化隐层张量和细胞状态张量\n",
    "    hidden, c = lstm.initHiddenAndC()\n",
    "    # 将评估数据line_tensor的每个字符逐个传入lstm中\n",
    "    for i in range(line_tensor.size()[0]):\n",
    "        output, hidden, c = lstm(line_tensor[i], hidden, c)\n",
    "    print(\"LSTM output.dim\", output.dim())\n",
    "    return  output.squeeze(0)"
   ],
   "metadata": {
    "collapsed": false,
    "ExecuteTime": {
     "start_time": "2023-06-15T16:29:06.887082Z",
     "end_time": "2023-06-15T16:29:06.929304Z"
    }
   }
  },
  {
   "cell_type": "code",
   "execution_count": 94,
   "outputs": [],
   "source": [
    "# 构建GRU评估函数\n",
    "def evaluateGRU(line_tensor):\n",
    "    # 初始化隐层张量和细胞状态张量\n",
    "    hidden = gru.initHidden()\n",
    "    # 将评估数据line_tensor的每个字符逐个传入gru中\n",
    "    for i in range(line_tensor.size()[0]):\n",
    "        output, hidden = gru(line_tensor[i], hidden)\n",
    "    print(\"GRU output.dim\", output.dim())\n",
    "    return  output.squeeze(0)"
   ],
   "metadata": {
    "collapsed": false,
    "ExecuteTime": {
     "start_time": "2023-06-15T16:29:48.474355Z",
     "end_time": "2023-06-15T16:29:48.483119Z"
    }
   }
  },
  {
   "cell_type": "code",
   "execution_count": 95,
   "outputs": [
    {
     "name": "stdout",
     "output_type": "stream",
     "text": [
      "RNN output.dim 3\n",
      "LSTM output.dim 3\n",
      "GRU output.dim 3\n",
      "rnn_output: tensor([[-3.1873, -2.8925, -3.0172, -2.9641, -3.8738, -3.7850, -2.0870, -3.0356,\n",
      "         -2.4690, -2.5353, -3.1307, -2.7385, -3.0898, -3.1616, -2.5030, -2.8420,\n",
      "         -3.7076, -2.7756]], grad_fn=<SqueezeBackward1>)\n",
      "gru_output: tensor([[-2.8592, -2.7981, -2.7322, -3.0152, -2.9753, -2.9411, -2.8643, -2.8726,\n",
      "         -2.9117, -2.8424, -2.9043, -2.9691, -2.9397, -2.8454, -2.9544, -2.8811,\n",
      "         -2.9243, -2.8379]], grad_fn=<SqueezeBackward1>)\n",
      "gru_output: tensor([[-2.8288, -2.8651, -2.8819, -3.0142, -2.9718, -3.0885, -2.7484, -2.8883,\n",
      "         -2.8754, -2.9921, -2.8150, -2.8679, -2.8575, -2.7981, -2.9420, -2.8192,\n",
      "         -2.8537, -2.9824]], grad_fn=<SqueezeBackward1>)\n"
     ]
    }
   ],
   "source": [
    "lien = \"Bai\"\n",
    "line_tensor = lineToTensor(line)\n",
    "\n",
    "rnn_output = evaluateRNN(line_tensor)\n",
    "lstm_output = evaluateLSTM(line_tensor)\n",
    "gru_output = evaluateGRU(line_tensor)\n",
    "\n",
    "print(\"rnn_output:\", rnn_output)\n",
    "print(\"gru_output:\", lstm_output)\n",
    "print(\"gru_output:\", gru_output)"
   ],
   "metadata": {
    "collapsed": false,
    "ExecuteTime": {
     "start_time": "2023-06-15T16:29:51.447760Z",
     "end_time": "2023-06-15T16:29:51.498562Z"
    }
   }
  },
  {
   "cell_type": "markdown",
   "source": [
    "#### 构建预测函数"
   ],
   "metadata": {
    "collapsed": false
   }
  },
  {
   "cell_type": "code",
   "execution_count": 97,
   "outputs": [],
   "source": [
    "def predict(input_line, evaluate, n_predictions=3):\n",
    "    \"\"\"预测函数，输入参数input_line代表输入的名字,\n",
    "    n_predictions代表需要取最有可能的top个\"\"\"\n",
    "    # 首先打印输入\n",
    "    print('\\n> %s' % input_line)\n",
    "\n",
    "    # 以下操作的相关张量不进行求梯度\n",
    "    with torch.no_grad():\n",
    "        # 使输入的名字转换为张量表示，并使用evaluate函数获得预测输出\n",
    "        output = evaluate(lineToTensor(input_line))\n",
    "\n",
    "        # 从预测的输出中取前3个最大的值及其索引\n",
    "        topv, topi = output.topk(n_predictions, 1, True)\n",
    "        # 创建预测结果列表\n",
    "        predictions = []\n",
    "        # 遍历n_predictions\n",
    "        for i in range(n_predictions):\n",
    "            # 从topv中取出output值\n",
    "            value = topv[0][i].item()\n",
    "            # 取出索引并找到对应的类别\n",
    "            category_index = topi[0][i].item()\n",
    "            # 打印ouput的值, 和对应的类别\n",
    "            print('(%.2f) %s' % (value, all_categories[category_index]))\n",
    "            # 将结果装进predictions中\n",
    "            predictions.append([value, all_categories[category_index]])"
   ],
   "metadata": {
    "collapsed": false,
    "ExecuteTime": {
     "start_time": "2023-06-15T16:40:16.345968Z",
     "end_time": "2023-06-15T16:40:16.375632Z"
    }
   }
  },
  {
   "cell_type": "code",
   "execution_count": 98,
   "outputs": [
    {
     "name": "stdout",
     "output_type": "stream",
     "text": [
      "------------------\n",
      "\n",
      "> Dovesky\n",
      "RNN output.dim 3\n",
      "(-2.06) Russian\n",
      "(-2.40) Polish\n",
      "(-2.54) Greek\n",
      "\n",
      "> Jackson\n",
      "RNN output.dim 3\n",
      "(-2.06) Russian\n",
      "(-2.49) Scottish\n",
      "(-2.50) Irish\n",
      "\n",
      "> Satoshi\n",
      "RNN output.dim 3\n",
      "(-2.33) Russian\n",
      "(-2.35) Polish\n",
      "(-2.51) Italian\n",
      "------------------\n",
      "\n",
      "> Dovesky\n",
      "LSTM output.dim 3\n",
      "(-2.72) Arabic\n",
      "(-2.83) German\n",
      "(-2.83) English\n",
      "\n",
      "> Jackson\n",
      "LSTM output.dim 3\n",
      "(-2.73) Arabic\n",
      "(-2.80) German\n",
      "(-2.83) Polish\n",
      "\n",
      "> Satoshi\n",
      "LSTM output.dim 3\n",
      "(-2.73) Arabic\n",
      "(-2.83) German\n",
      "(-2.83) Polish\n",
      "------------------\n",
      "\n",
      "> Dovesky\n",
      "GRU output.dim 3\n",
      "(-2.76) Russian\n",
      "(-2.79) Spanish\n",
      "(-2.80) Czech\n",
      "\n",
      "> Jackson\n",
      "GRU output.dim 3\n",
      "(-2.75) Russian\n",
      "(-2.81) Portuguese\n",
      "(-2.82) Czech\n",
      "\n",
      "> Satoshi\n",
      "GRU output.dim 3\n",
      "(-2.77) Russian\n",
      "(-2.79) Spanish\n",
      "(-2.79) Italian\n"
     ]
    }
   ],
   "source": [
    "for evaluate_fn in [evaluateRNN, evaluateLSTM, evaluateGRU]:\n",
    "    print(\"-\"*18)\n",
    "    predict('Dovesky', evaluate_fn)\n",
    "    predict('Jackson', evaluate_fn)\n",
    "    predict('Satoshi', evaluate_fn)"
   ],
   "metadata": {
    "collapsed": false,
    "ExecuteTime": {
     "start_time": "2023-06-15T16:40:23.770613Z",
     "end_time": "2023-06-15T16:40:23.924875Z"
    }
   }
  }
 ],
 "metadata": {
  "kernelspec": {
   "display_name": "Python 3",
   "language": "python",
   "name": "python3"
  },
  "language_info": {
   "codemirror_mode": {
    "name": "ipython",
    "version": 2
   },
   "file_extension": ".py",
   "mimetype": "text/x-python",
   "name": "python",
   "nbconvert_exporter": "python",
   "pygments_lexer": "ipython2",
   "version": "2.7.6"
  }
 },
 "nbformat": 4,
 "nbformat_minor": 0
}
