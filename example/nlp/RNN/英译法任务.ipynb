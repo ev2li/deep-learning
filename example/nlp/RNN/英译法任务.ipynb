{
 "cells": [
  {
   "cell_type": "markdown",
   "source": [
    "<img src=\"/Users/zhangli/Library/Application Support/typora-user-images/image-20230615172857911.png\">\n",
    "\n",
    "##### seq2seq模型架构分析\n",
    "\n",
    "- seq2seq模型分成两部分，分别是encoder(编码器)和decoder(解码器)，编码器和解码器的内部实现都使用GRU模型，这里它要完成的是一个中文到英文的翻译 欢迎 来 北京 --> welcome to BeiJing.编码器首先处理中文输入\"欢迎 来 北京\",通过GRU模型获取每个时间步的输出张量，最后将它们拼接成一个中间语义张量c，接着解码器将使用这个中间语义张量c以及每一个时间步的隐层张量，逐个生成对的翻译语言\n",
    "\n",
    "##### 基于GRU的seq2seq模型架构实现翻译的过程\n",
    "\n",
    "- 第一步：导入必备工具包\n",
    "- 第二步：对持久化文件中的数据进行处理，以满足模型训练需求\n",
    "- 第三步：构建基于GRU的编码器和解码器\n",
    "- 第四步：构建模型训练函数，并进行训练\n",
    "- 第五步：构建模型评估函数，并进行测试以及Attention效果分析\n"
   ],
   "metadata": {
    "collapsed": false
   }
  },
  {
   "cell_type": "code",
   "execution_count": 1,
   "outputs": [],
   "source": [
    "from io import open\n",
    "# 用于字符规范化\n",
    "import unicodedata\n",
    "# 用于正则表达式\n",
    "import re\n",
    "# 用于随机生成数据\n",
    "import random\n",
    "# 用于构建网络结构和函数的torch工具包\n",
    "import torch\n",
    "import torch.nn as nn\n",
    "import torch.nn.functional as F\n",
    "# torch中预定义的优化方法工具包\n",
    "from torch import optim\n",
    "\n",
    "device = torch.device(\"cuda\" if torch.cuda.is_available() else \"cpu\")"
   ],
   "metadata": {
    "collapsed": false,
    "ExecuteTime": {
     "start_time": "2023-06-15T17:44:31.330007Z",
     "end_time": "2023-06-15T17:44:34.364263Z"
    }
   }
  },
  {
   "cell_type": "markdown",
   "source": [
    "#### 对持久化文件中的数据进行处理，以满足模型训练的要求"
   ],
   "metadata": {
    "collapsed": false
   }
  },
  {
   "cell_type": "code",
   "execution_count": 2,
   "outputs": [
    {
     "name": "stdout",
     "output_type": "stream",
     "text": [
      "cpu\n"
     ]
    }
   ],
   "source": [
    "print(device)"
   ],
   "metadata": {
    "collapsed": false,
    "ExecuteTime": {
     "start_time": "2023-06-15T17:44:40.897703Z",
     "end_time": "2023-06-15T17:44:40.904805Z"
    }
   }
  },
  {
   "cell_type": "code",
   "execution_count": 3,
   "outputs": [],
   "source": [
    "# 将指定语言中的词汇映射成数值\n",
    "# 起始标志\n",
    "SOS_token = 0\n",
    "# 结束标志\n",
    "EOS_token = 1\n",
    "\n",
    "class Lang:\n",
    "    def __init__(self, name):\n",
    "        \"\"\"初始化函数中参数name代表传入某种语言的名字\"\"\"\n",
    "        # 将name传入类中\n",
    "        self.name = name\n",
    "        # 初始化词汇对应自然数值的字典\n",
    "        self.word2index = {}"
   ],
   "metadata": {
    "collapsed": false,
    "ExecuteTime": {
     "start_time": "2023-06-15T17:46:29.533326Z",
     "end_time": "2023-06-15T17:46:29.538896Z"
    }
   }
  },
  {
   "cell_type": "code",
   "execution_count": null,
   "outputs": [],
   "source": [],
   "metadata": {
    "collapsed": false
   }
  }
 ],
 "metadata": {
  "kernelspec": {
   "display_name": "Python 3",
   "language": "python",
   "name": "python3"
  },
  "language_info": {
   "codemirror_mode": {
    "name": "ipython",
    "version": 2
   },
   "file_extension": ".py",
   "mimetype": "text/x-python",
   "name": "python",
   "nbconvert_exporter": "python",
   "pygments_lexer": "ipython2",
   "version": "2.7.6"
  }
 },
 "nbformat": 4,
 "nbformat_minor": 0
}
