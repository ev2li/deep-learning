{
 "cells": [
  {
   "cell_type": "code",
   "execution_count": 18,
   "metadata": {
    "collapsed": true
   },
   "outputs": [],
   "source": [
    "import numpy as np\n",
    "\n",
    "a = np.array([1, 2, 3, 4, 5])\n",
    "a_max = np.max(a)\n",
    "print(a_max)"
   ]
  },
  {
   "cell_type": "code",
   "execution_count": 23,
   "outputs": [],
   "source": [
    "import tensorflow as tf\n",
    "\n",
    "print(tf.__version__)\n",
    "\n",
    "a = tf.constant([2, 3, 5], dtype = tf.float32)\n",
    "b1 = a / tf.reduce_sum(a) #不使用指数\n",
    "print(b1)\n",
    "\n",
    "b2 = tf.nn.softmax(a) # 使用指数的softmax\n",
    "print(b2)\n",
    "\n",
    "#两种计算方式的输出结果分别是：\n",
    "\n",
    "#tf.Tensor([0.2 0.3 0.5], shape=(3,), dtype=float32)\n",
    "#tf.Tensor([0.04201007 0.11419519 0.8437947 ], shape=(3,), dtype=float32)"
   ],
   "metadata": {
    "collapsed": false
   }
  },
  {
   "cell_type": "code",
   "execution_count": 21,
   "outputs": [],
   "source": [
    "scores = np.array([123, 456, 789])\n",
    "softmax = np.exp(scores) / np.sum(np.exp(scores))\n",
    "print(softmax)"
   ],
   "metadata": {
    "collapsed": false
   }
  },
  {
   "cell_type": "code",
   "execution_count": 22,
   "outputs": [],
   "source": [
    "z = tf.random.normal([2, 10]) # 构建2个样本的10类别输出的输出值\n",
    "y = tf.constant([1, 3]) # 两个样本的真实样本标签是1和3\n",
    "y_true = tf.one_hot(y, depth=10) # 构造one-hot编码\n",
    "\n",
    "# 输出层未经过softmax激活函数，因此讲from_logits设置为true\n",
    "loss1 = tf.keras.losses.categorical_crossentropy(y_true, z, from_logits=True)\n",
    "loss1 = tf.reduce_mean(loss1)\n",
    "print(loss1) # tf.Tensor(2.6680193, shape=(), dtype=float32)\n",
    "\n",
    "y_pred = tf.nn.softmax(z)\n",
    "# 输出层经过Softmax激活函数,因此讲from_logits设置为True\n",
    "loss2 = tf.keras.losses.categorical_crossentropy(y_true, y_pred, from_logits = False)\n",
    "loss2 = tf.reduce_mean(loss2)\n",
    "print(loss2) # tf.Tensor(2.668019, shape=(), dtype=float32)"
   ],
   "metadata": {
    "collapsed": false
   }
  },
  {
   "cell_type": "code",
   "execution_count": null,
   "outputs": [],
   "source": [],
   "metadata": {
    "collapsed": false
   }
  }
 ],
 "metadata": {
  "kernelspec": {
   "display_name": "Python 3",
   "language": "python",
   "name": "python3"
  },
  "language_info": {
   "codemirror_mode": {
    "name": "ipython",
    "version": 2
   },
   "file_extension": ".py",
   "mimetype": "text/x-python",
   "name": "python",
   "nbconvert_exporter": "python",
   "pygments_lexer": "ipython2",
   "version": "2.7.6"
  }
 },
 "nbformat": 4,
 "nbformat_minor": 0
}
