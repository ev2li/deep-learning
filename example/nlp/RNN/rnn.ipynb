{
 "cells": [
  {
   "cell_type": "markdown",
   "source": [
    "#### 文档见rnn.md"
   ],
   "metadata": {
    "collapsed": false
   }
  },
  {
   "cell_type": "code",
   "execution_count": null,
   "outputs": [],
   "source": [
    "import torch\n",
    "import torch.nn as nn\n",
    "\n",
    "rnn = nn.RNN(5, 6, 1)\n",
    "input = torch.randn(1, 3, 5)\n",
    "h0 = torch.randn(1, 3, 6)\n",
    "output, hn = rnn(input, h0)\n",
    "print(output)"
   ],
   "metadata": {
    "collapsed": false,
    "pycharm": {
     "is_executing": true
    }
   }
  },
  {
   "cell_type": "code",
   "execution_count": null,
   "outputs": [],
   "source": [
    "# 定义LSTM的参数含义(input_size, hidden_size, num_layers)\n",
    "# 定义输入张量的参数含义(sequence_length, batch_size, input_size)\n",
    "# 定义隐藏层初始张量和细胞初始状态张量的参数含义\n",
    "# (num_layers * num_directions, batch_size, hidden_size)\n",
    "\n",
    "import torch.nn as nn\n",
    "import torch\n",
    "lstm = nn.LSTM(5, 6, 2)\n",
    "input = torch.randn(1, 3, 5)\n",
    "ho = torch.randn(2, 3, 6)\n",
    "c0 = torch.randn(2, 3, 6)\n",
    "\n",
    "output, (hn, cn) = lstm(input, (h0, c0))\n",
    "print(output)\n",
    "print(hn)"
   ],
   "metadata": {
    "collapsed": false,
    "pycharm": {
     "is_executing": true
    }
   }
  },
  {
   "cell_type": "code",
   "execution_count": null,
   "outputs": [],
   "source": [
    "rnn = nn.GRU(5, 6, 2)\n",
    "input = torch.randn(1, 3, 5)\n",
    "h0 = torch.randn(2, 3, 6)\n",
    "output, hn = rnn(input, h0)\n",
    "print(output)"
   ],
   "metadata": {
    "collapsed": false
   }
  },
  {
   "cell_type": "code",
   "execution_count": null,
   "outputs": [],
   "source": [],
   "metadata": {
    "collapsed": false
   }
  },
  {
   "cell_type": "code",
   "execution_count": null,
   "outputs": [],
   "source": [
    "# 如果参数1形状是(b × n × m), 参数2形状是(b × m × p), 则输出为(b × n × p)\n",
    "input = torch.randn(10, 3, 4)\n",
    "mat2 = torch.randn(10, 4, 5)\n",
    "res = torch.bmm(input, mat2)\n",
    "print(res.size())\n",
    "# torch.Size([10, 3, 5])"
   ],
   "metadata": {
    "collapsed": false
   }
  },
  {
   "cell_type": "code",
   "execution_count": null,
   "outputs": [],
   "source": [
    "import torch\n",
    "import torch.nn as nn\n",
    "import torch.nn.functional as F\n",
    "\n",
    "class Attn(nn.Module):\n",
    "    def __init__(self, query_size, key_size, value_size1, value_size2, output_size):\n",
    "        \"\"\"初始化函数中的参数有5个, query_size代表query的最后一维大小\n",
    "           key_size代表key的最后一维大小, value_size1代表value的导数第二维大小,\n",
    "           value = (1, value_size1, value_size2)\n",
    "           value_size2代表value的倒数第一维大小, output_size输出的最后一维大小\"\"\"\n",
    "        super(Attn, self).__init__()\n",
    "        # 将以下参数传入类中\n",
    "        self.query_size = query_size\n",
    "        self.key_size = key_size\n",
    "        self.value_size1 = value_size1\n",
    "        self.value_size2 = value_size2\n",
    "        self.output_size = output_size\n",
    "\n",
    "        # 初始化注意力机制实现第一步中需要的线性层.\n",
    "        self.attn = nn.Linear(self.query_size + self.key_size, value_size1)\n",
    "\n",
    "        # 初始化注意力机制实现第三步中需要的线性层.\n",
    "        self.attn_combine = nn.Linear(self.query_size + value_size2, output_size)\n",
    "\n",
    "\n",
    "    def forward(self, Q, K, V):\n",
    "        \"\"\"forward函数的输入参数有三个, 分别是Q, K, V, 根据模型训练常识, 输入给Attion机制的\n",
    "           张量一般情况都是三维张量, 因此这里也假设Q, K, V都是三维张量\"\"\"\n",
    "\n",
    "        # 第一步, 按照计算规则进行计算,\n",
    "        # 我们采用常见的第一种计算规则\n",
    "        # 将Q，K进行纵轴拼接, 做一次线性变化, 最后使用softmax处理获得结果\n",
    "        attn_weights = F.softmax(\n",
    "            self.attn(torch.cat((Q[0], K[0]), 1)), dim=1)\n",
    "\n",
    "        # 然后进行第一步的后半部分, 将得到的权重矩阵与V做矩阵乘法计算,\n",
    "        # 当二者都是三维张量且第一维代表为batch条数时, 则做bmm运算\n",
    "        attn_applied = torch.bmm(attn_weights.unsqueeze(0), V)\n",
    "\n",
    "        # 之后进行第二步, 通过取[0]是用来降维, 根据第一步采用的计算方法,\n",
    "        # 需要将Q与第一步的计算结果再进行拼接\n",
    "        output = torch.cat((Q[0], attn_applied[0]), 1)\n",
    "\n",
    "        # 最后是第三步, 使用线性层作用在第三步的结果上做一个线性变换并扩展维度，得到输出\n",
    "        # 因为要保证输出也是三维张量, 因此使用unsqueeze(0)扩展维度\n",
    "        output = self.attn_combine(output).unsqueeze(0)\n",
    "        return output, attn_weights"
   ],
   "metadata": {
    "collapsed": false
   }
  }
 ],
 "metadata": {
  "kernelspec": {
   "display_name": "Python 3",
   "language": "python",
   "name": "python3"
  },
  "language_info": {
   "codemirror_mode": {
    "name": "ipython",
    "version": 2
   },
   "file_extension": ".py",
   "mimetype": "text/x-python",
   "name": "python",
   "nbconvert_exporter": "python",
   "pygments_lexer": "ipython2",
   "version": "2.7.6"
  }
 },
 "nbformat": 4,
 "nbformat_minor": 0
}
