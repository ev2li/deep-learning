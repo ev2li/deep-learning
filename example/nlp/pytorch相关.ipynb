{
 "cells": [
  {
   "cell_type": "markdown",
   "source": [
    "#### 什么是pytorch\n",
    "- pytorch是一个基于Numpy的科学计算包，向它的使用都提供了两大功能\n",
    "- 作为Numpy的替代者，向用户提供使用GPU强大功能的能力\n",
    "- 做为一款深度学习的平台，向用户提供最大的灵活性和速度\n",
    "\n",
    "#### pytorch的基本元素操作\n",
    "- Tensors张量：张量的概念类似于Numpy中的ndarray数据的结构，最大的区别在于Tensor可以利用GPU的加速功能\n",
    "- 我们使用pytorch的时候，常规步骤是先将torch引用进来"
   ],
   "metadata": {
    "collapsed": false
   }
  },
  {
   "cell_type": "code",
   "execution_count": 2,
   "outputs": [],
   "source": [
    "from __future__ import print_function\n",
    "import torch"
   ],
   "metadata": {
    "collapsed": false,
    "ExecuteTime": {
     "start_time": "2023-06-05T18:06:16.550298Z",
     "end_time": "2023-06-05T18:06:19.924331Z"
    }
   }
  },
  {
   "cell_type": "markdown",
   "source": [
    "#### 创建矩阵的操作\n",
    "- 创建一个没有初始化的矩阵"
   ],
   "metadata": {
    "collapsed": false
   }
  },
  {
   "cell_type": "code",
   "execution_count": 4,
   "outputs": [
    {
     "name": "stdout",
     "output_type": "stream",
     "text": [
      "tensor([[0., 0., 0.],\n",
      "        [0., 0., 0.],\n",
      "        [0., 0., 0.],\n",
      "        [0., 0., 0.],\n",
      "        [0., 0., 0.]])\n"
     ]
    }
   ],
   "source": [
    "x = torch.empty(5, 3)\n",
    "print(x)"
   ],
   "metadata": {
    "collapsed": false,
    "ExecuteTime": {
     "start_time": "2023-06-05T13:48:42.922151Z",
     "end_time": "2023-06-05T13:48:42.932905Z"
    }
   }
  },
  {
   "cell_type": "markdown",
   "source": [
    "#### 创建一个有初始化的矩阵"
   ],
   "metadata": {
    "collapsed": false
   }
  },
  {
   "cell_type": "code",
   "execution_count": 5,
   "outputs": [
    {
     "name": "stdout",
     "output_type": "stream",
     "text": [
      "tensor([[0.6491, 0.3415, 0.9360],\n",
      "        [0.1550, 0.3730, 0.1595],\n",
      "        [0.4179, 0.4133, 0.9248],\n",
      "        [0.3110, 0.6352, 0.7822],\n",
      "        [0.5407, 0.9972, 0.0092]])\n"
     ]
    }
   ],
   "source": [
    "x = torch.rand(5, 3)\n",
    "print(x)"
   ],
   "metadata": {
    "collapsed": false,
    "ExecuteTime": {
     "start_time": "2023-06-05T13:49:15.613863Z",
     "end_time": "2023-06-05T13:49:15.648610Z"
    }
   }
  },
  {
   "cell_type": "markdown",
   "source": [
    "- 对比有无初始化的矩阵：当声明一个未初始化的矩阵时，它本身不包含任何确切的值，当创建一个未初始化的矩阵时，分配给矩阵的内存中有什么数值就赋值给了这个矩阵，本质上是毫无意义的数据"
   ],
   "metadata": {
    "collapsed": false
   }
  },
  {
   "cell_type": "markdown",
   "source": [
    "#### 创建一个全零矩阵并可指定数据元素的类型为long"
   ],
   "metadata": {
    "collapsed": false
   }
  },
  {
   "cell_type": "code",
   "execution_count": 6,
   "outputs": [
    {
     "name": "stdout",
     "output_type": "stream",
     "text": [
      "tensor([[0, 0, 0],\n",
      "        [0, 0, 0],\n",
      "        [0, 0, 0],\n",
      "        [0, 0, 0],\n",
      "        [0, 0, 0]])\n"
     ]
    }
   ],
   "source": [
    "x = torch.zeros(5, 3, dtype=torch.long)\n",
    "print(x)"
   ],
   "metadata": {
    "collapsed": false,
    "ExecuteTime": {
     "start_time": "2023-06-05T13:54:50.609947Z",
     "end_time": "2023-06-05T13:54:50.631252Z"
    }
   }
  },
  {
   "cell_type": "markdown",
   "source": [
    "#### 直接通过数据创建张量"
   ],
   "metadata": {
    "collapsed": false
   }
  },
  {
   "cell_type": "code",
   "execution_count": 7,
   "outputs": [
    {
     "name": "stdout",
     "output_type": "stream",
     "text": [
      "tensor([2.5000, 3.5000])\n"
     ]
    }
   ],
   "source": [
    "x = torch.tensor([2.5, 3.5])\n",
    "print(x)"
   ],
   "metadata": {
    "collapsed": false,
    "ExecuteTime": {
     "start_time": "2023-06-05T13:57:46.207337Z",
     "end_time": "2023-06-05T13:57:46.241343Z"
    }
   }
  },
  {
   "cell_type": "markdown",
   "source": [
    "#### 通过已有的一个张量创建相同尺寸的新张量"
   ],
   "metadata": {
    "collapsed": false
   }
  },
  {
   "cell_type": "code",
   "execution_count": 8,
   "outputs": [
    {
     "name": "stdout",
     "output_type": "stream",
     "text": [
      "tensor([[1., 1., 1.],\n",
      "        [1., 1., 1.],\n",
      "        [1., 1., 1.],\n",
      "        [1., 1., 1.],\n",
      "        [1., 1., 1.]], dtype=torch.float64)\n",
      "tensor([[-0.6352,  0.9007,  0.9983],\n",
      "        [ 1.7751,  0.0601,  2.0170],\n",
      "        [-1.2271, -0.8103,  0.6210],\n",
      "        [-0.4695, -0.5939,  0.0025],\n",
      "        [ 0.2436, -0.8803,  0.8707]])\n"
     ]
    }
   ],
   "source": [
    "# 利用new_ones方法得到一个张量\n",
    "x = x.new_ones(5, 3, dtype=torch.double)\n",
    "print(x)\n",
    "\n",
    "# 利用randn_like方法得到相同张量尺寸的一个新张量，并且采用随机初始化来对其赋值\n",
    "y = torch.randn_like(x, dtype=torch.float)\n",
    "print(y)"
   ],
   "metadata": {
    "collapsed": false,
    "ExecuteTime": {
     "start_time": "2023-06-05T14:02:11.584661Z",
     "end_time": "2023-06-05T14:02:11.614625Z"
    }
   }
  },
  {
   "cell_type": "markdown",
   "source": [
    "#### 得到张量的尺寸"
   ],
   "metadata": {
    "collapsed": false
   }
  },
  {
   "cell_type": "code",
   "execution_count": 10,
   "outputs": [
    {
     "name": "stdout",
     "output_type": "stream",
     "text": [
      "torch.Size([5, 3])\n",
      "torch.Size([5, 3])\n"
     ]
    }
   ],
   "source": [
    "print(x.size())\n",
    "print(y.size())"
   ],
   "metadata": {
    "collapsed": false,
    "ExecuteTime": {
     "start_time": "2023-06-05T14:05:26.312558Z",
     "end_time": "2023-06-05T14:05:26.325570Z"
    }
   }
  },
  {
   "cell_type": "markdown",
   "source": [
    "#### 注意：\n",
    "- **torch.Size函数本质上返回的是一tuple，因此它支持一切元组的操作**"
   ],
   "metadata": {
    "collapsed": false
   }
  },
  {
   "cell_type": "code",
   "execution_count": 11,
   "outputs": [
    {
     "name": "stdout",
     "output_type": "stream",
     "text": [
      "5\n",
      "3\n"
     ]
    }
   ],
   "source": [
    "a, b = x.size()\n",
    "print(a)\n",
    "print(b)"
   ],
   "metadata": {
    "collapsed": false,
    "ExecuteTime": {
     "start_time": "2023-06-05T14:07:39.164800Z",
     "end_time": "2023-06-05T14:07:39.189595Z"
    }
   }
  },
  {
   "cell_type": "markdown",
   "source": [
    "#### pytorch基本运算操作\n",
    "- 加法操作"
   ],
   "metadata": {
    "collapsed": false
   }
  },
  {
   "cell_type": "code",
   "execution_count": 13,
   "outputs": [
    {
     "name": "stdout",
     "output_type": "stream",
     "text": [
      "tensor([[0.6932, 0.9779, 0.8344],\n",
      "        [0.2069, 0.5452, 0.3010],\n",
      "        [0.9118, 0.8342, 0.3863],\n",
      "        [0.4634, 0.0683, 0.1821],\n",
      "        [0.1858, 0.1884, 0.6022]])\n",
      "tensor([[1.6932, 1.9779, 1.8344],\n",
      "        [1.2069, 1.5452, 1.3010],\n",
      "        [1.9118, 1.8342, 1.3863],\n",
      "        [1.4634, 1.0683, 1.1821],\n",
      "        [1.1858, 1.1884, 1.6022]], dtype=torch.float64)\n"
     ]
    }
   ],
   "source": [
    "y = torch.rand(5, 3)\n",
    "print(y)\n",
    "print(x + y)"
   ],
   "metadata": {
    "collapsed": false,
    "ExecuteTime": {
     "start_time": "2023-06-05T14:09:55.425481Z",
     "end_time": "2023-06-05T14:09:55.440877Z"
    }
   }
  },
  {
   "cell_type": "markdown",
   "source": [
    "#### 第二种加法操作"
   ],
   "metadata": {
    "collapsed": false
   }
  },
  {
   "cell_type": "code",
   "execution_count": 15,
   "outputs": [
    {
     "name": "stdout",
     "output_type": "stream",
     "text": [
      "tensor([[1.6932, 1.9779, 1.8344],\n",
      "        [1.2069, 1.5452, 1.3010],\n",
      "        [1.9118, 1.8342, 1.3863],\n",
      "        [1.4634, 1.0683, 1.1821],\n",
      "        [1.1858, 1.1884, 1.6022]], dtype=torch.float64)\n"
     ]
    }
   ],
   "source": [
    "print(torch.add(x, y))"
   ],
   "metadata": {
    "collapsed": false,
    "ExecuteTime": {
     "start_time": "2023-06-05T14:12:44.930433Z",
     "end_time": "2023-06-05T14:12:44.962161Z"
    }
   }
  },
  {
   "cell_type": "markdown",
   "source": [
    "#### 第三种加法方式"
   ],
   "metadata": {
    "collapsed": false
   }
  },
  {
   "cell_type": "code",
   "execution_count": 16,
   "outputs": [
    {
     "name": "stdout",
     "output_type": "stream",
     "text": [
      "tensor([[1.6932, 1.9779, 1.8344],\n",
      "        [1.2069, 1.5452, 1.3010],\n",
      "        [1.9118, 1.8342, 1.3863],\n",
      "        [1.4634, 1.0683, 1.1821],\n",
      "        [1.1858, 1.1884, 1.6022]])\n"
     ]
    }
   ],
   "source": [
    "# 提前设定一个空的张量\n",
    "result = torch.empty(5, 3)\n",
    "# 将空的张量作为加法的结果存储张量\n",
    "torch.add(x, y, out=result)\n",
    "print(result)"
   ],
   "metadata": {
    "collapsed": false,
    "ExecuteTime": {
     "start_time": "2023-06-05T14:13:59.071067Z",
     "end_time": "2023-06-05T14:13:59.099524Z"
    }
   }
  },
  {
   "cell_type": "markdown",
   "source": [
    "#### 第四种方式：in-place(原地置换)"
   ],
   "metadata": {
    "collapsed": false
   }
  },
  {
   "cell_type": "code",
   "execution_count": 20,
   "outputs": [
    {
     "name": "stdout",
     "output_type": "stream",
     "text": [
      "tensor([[2.6932, 2.9779, 2.8344],\n",
      "        [2.2069, 2.5452, 2.3010],\n",
      "        [2.9118, 2.8342, 2.3863],\n",
      "        [2.4634, 2.0683, 2.1821],\n",
      "        [2.1858, 2.1884, 2.6022]])\n",
      "tensor([[3.6932, 3.9779, 3.8344],\n",
      "        [3.2069, 3.5452, 3.3010],\n",
      "        [3.9118, 3.8342, 3.3863],\n",
      "        [3.4634, 3.0683, 3.1821],\n",
      "        [3.1858, 3.1884, 3.6022]])\n"
     ]
    }
   ],
   "source": [
    "# 执行的功能是y = y + x\n",
    "print(y)\n",
    "y.add_(x)\n",
    "print(y)"
   ],
   "metadata": {
    "collapsed": false,
    "ExecuteTime": {
     "start_time": "2023-06-05T14:29:40.668338Z",
     "end_time": "2023-06-05T14:29:40.680043Z"
    }
   }
  },
  {
   "cell_type": "markdown",
   "source": [
    "#### 注意\n",
    "- **所有in-place的操作函数都有一个下划线的后缀**\n",
    "- **比如x.copy_(y), x.add_(y)都会直接改变x的值**"
   ],
   "metadata": {
    "collapsed": false
   }
  },
  {
   "cell_type": "markdown",
   "source": [
    "#### 用类似于Numpy的方式对张量进行操作"
   ],
   "metadata": {
    "collapsed": false
   }
  },
  {
   "cell_type": "code",
   "execution_count": 24,
   "outputs": [
    {
     "name": "stdout",
     "output_type": "stream",
     "text": [
      "tensor([[ 1.5686,  2.1318,  1.6644,  0.2305],\n",
      "        [-1.0123,  0.0386, -0.2713,  2.3272],\n",
      "        [ 2.2332, -0.9219, -1.4755, -0.9838],\n",
      "        [ 0.0248,  1.3036, -0.5197, -1.4859]])\n",
      "tensor([ 2.1318,  0.0386, -0.9219,  1.3036])\n"
     ]
    }
   ],
   "source": [
    "print(x)\n",
    "print(x[:,1]) # 第二列"
   ],
   "metadata": {
    "collapsed": false,
    "ExecuteTime": {
     "start_time": "2023-06-05T14:33:40.117128Z",
     "end_time": "2023-06-05T14:33:40.136926Z"
    }
   }
  },
  {
   "cell_type": "markdown",
   "source": [
    "#### 改变张量的形状:torch.view()"
   ],
   "metadata": {
    "collapsed": false
   }
  },
  {
   "cell_type": "code",
   "execution_count": 25,
   "outputs": [
    {
     "name": "stdout",
     "output_type": "stream",
     "text": [
      "torch.Size([4, 4]) torch.Size([16]) torch.Size([2, 8])\n",
      "tensor([[-0.7934, -1.2125, -0.5185, -1.1373,  0.0491, -0.7663,  1.9066, -0.5302],\n",
      "        [ 0.1579, -0.6867, -0.5759, -1.8587,  0.6831,  0.0361,  0.7800,  0.6267]])\n"
     ]
    }
   ],
   "source": [
    "x = torch.randn(4, 4)\n",
    "# tensor.view()操作需要保证数据元素的总数量不变\n",
    "y = x.view(16)\n",
    "#  -1代表自动匹配个数\n",
    "z = x.view(-1, 8)\n",
    "print(x.size(), y.size(), z.size())\n",
    "print(z)"
   ],
   "metadata": {
    "collapsed": false,
    "ExecuteTime": {
     "start_time": "2023-06-05T14:35:09.965257Z",
     "end_time": "2023-06-05T14:35:10.013682Z"
    }
   }
  },
  {
   "cell_type": "markdown",
   "source": [
    "#### 如果张量中只有一个元素，可以用.item()将值取出，作为一个python number"
   ],
   "metadata": {
    "collapsed": false
   }
  },
  {
   "cell_type": "code",
   "execution_count": 27,
   "outputs": [
    {
     "name": "stdout",
     "output_type": "stream",
     "text": [
      "tensor([-0.2171])\n",
      "-0.21707990765571594\n"
     ]
    }
   ],
   "source": [
    "x = torch.randn(1)\n",
    "print(x)\n",
    "print(x.item())"
   ],
   "metadata": {
    "collapsed": false,
    "ExecuteTime": {
     "start_time": "2023-06-05T14:37:00.732927Z",
     "end_time": "2023-06-05T14:37:00.765646Z"
    }
   }
  },
  {
   "cell_type": "markdown",
   "source": [
    "#### 关于Torch Tensor和Numpy array之间的相互转换\n",
    "- **Torch Tensor和Numpy array共享底层的内存空间，因此改变其中一个的值，另一个也会随之被改变**\n"
   ],
   "metadata": {
    "collapsed": false
   }
  },
  {
   "cell_type": "code",
   "execution_count": 3,
   "outputs": [
    {
     "name": "stdout",
     "output_type": "stream",
     "text": [
      "tensor([1., 1., 1., 1., 1.])\n"
     ]
    }
   ],
   "source": [
    "a = torch.ones(5)\n",
    "print(a)"
   ],
   "metadata": {
    "collapsed": false,
    "ExecuteTime": {
     "start_time": "2023-06-05T18:06:31.623888Z",
     "end_time": "2023-06-05T18:06:31.686587Z"
    }
   }
  },
  {
   "cell_type": "markdown",
   "source": [
    "#### 将Torch Tensor转换为Numpy array"
   ],
   "metadata": {
    "collapsed": false
   }
  },
  {
   "cell_type": "code",
   "execution_count": 5,
   "outputs": [
    {
     "name": "stdout",
     "output_type": "stream",
     "text": [
      "[1. 1. 1. 1. 1.]\n"
     ]
    }
   ],
   "source": [
    "b  = a.numpy()\n",
    "print(b)"
   ],
   "metadata": {
    "collapsed": false,
    "ExecuteTime": {
     "start_time": "2023-06-05T18:06:42.100767Z",
     "end_time": "2023-06-05T18:06:42.111633Z"
    }
   }
  },
  {
   "cell_type": "code",
   "execution_count": null,
   "outputs": [],
   "source": [],
   "metadata": {
    "collapsed": false
   }
  }
 ],
 "metadata": {
  "kernelspec": {
   "display_name": "Python 3",
   "language": "python",
   "name": "python3"
  },
  "language_info": {
   "codemirror_mode": {
    "name": "ipython",
    "version": 2
   },
   "file_extension": ".py",
   "mimetype": "text/x-python",
   "name": "python",
   "nbconvert_exporter": "python",
   "pygments_lexer": "ipython2",
   "version": "2.7.6"
  }
 },
 "nbformat": 4,
 "nbformat_minor": 0
}
