{
 "cells": [
  {
   "cell_type": "code",
   "execution_count": 1,
   "outputs": [
    {
     "name": "stderr",
     "output_type": "stream",
     "text": [
      "2023-06-06 17:42:44.325645: I tensorflow/core/platform/cpu_feature_guard.cc:193] This TensorFlow binary is optimized with oneAPI Deep Neural Network Library (oneDNN) to use the following CPU instructions in performance-critical operations:  SSE4.1 SSE4.2 AVX AVX2 FMA\n",
      "To enable them in other operations, rebuild TensorFlow with the appropriate compiler flags.\n"
     ]
    }
   ],
   "source": [
    "# 导入工具包和英文模型\n",
    "# python -m spacy download en\n",
    "\n",
    "import spacy\n",
    "nlp = spacy.load(\"en_core_web_sm\")"
   ],
   "metadata": {
    "collapsed": false,
    "ExecuteTime": {
     "start_time": "2023-06-06T17:42:42.560579Z",
     "end_time": "2023-06-06T17:42:50.929242Z"
    }
   }
  },
  {
   "cell_type": "markdown",
   "source": [
    "## 文本处理"
   ],
   "metadata": {
    "collapsed": false
   }
  },
  {
   "cell_type": "code",
   "execution_count": 5,
   "outputs": [],
   "source": [
    "doc = nlp('Weather is good, very windy and sunny. We have no classes in the afternoon.')"
   ],
   "metadata": {
    "collapsed": false,
    "ExecuteTime": {
     "start_time": "2023-06-06T17:43:14.604470Z",
     "end_time": "2023-06-06T17:43:14.630292Z"
    }
   }
  },
  {
   "cell_type": "code",
   "execution_count": 6,
   "outputs": [
    {
     "name": "stdout",
     "output_type": "stream",
     "text": [
      "Weather\n",
      "is\n",
      "good\n",
      ",\n",
      "very\n",
      "windy\n",
      "and\n",
      "sunny\n",
      ".\n",
      "We\n",
      "have\n",
      "no\n",
      "classes\n",
      "in\n",
      "the\n",
      "afternoon\n",
      ".\n"
     ]
    }
   ],
   "source": [
    "# 分词\n",
    "for token in doc:\n",
    "    print(token)"
   ],
   "metadata": {
    "collapsed": false,
    "ExecuteTime": {
     "start_time": "2023-06-06T17:43:17.633340Z",
     "end_time": "2023-06-06T17:43:17.650515Z"
    }
   }
  },
  {
   "cell_type": "code",
   "execution_count": 7,
   "outputs": [
    {
     "name": "stdout",
     "output_type": "stream",
     "text": [
      "Weather is good, very windy and sunny.\n",
      "We have no classes in the afternoon.\n"
     ]
    }
   ],
   "source": [
    "# 分句\n",
    "for sent in doc.sents:\n",
    "    print(sent)"
   ],
   "metadata": {
    "collapsed": false,
    "ExecuteTime": {
     "start_time": "2023-06-06T17:43:21.608461Z",
     "end_time": "2023-06-06T17:43:21.623829Z"
    }
   }
  },
  {
   "cell_type": "markdown",
   "source": [
    "## 词性"
   ],
   "metadata": {
    "collapsed": false
   }
  },
  {
   "cell_type": "code",
   "execution_count": 10,
   "outputs": [
    {
     "ename": "AttributeError",
     "evalue": "'spacy.tokens.token.Token' object has no attribute 'token_pos_'",
     "output_type": "error",
     "traceback": [
      "\u001B[0;31m---------------------------------------------------------------------------\u001B[0m",
      "\u001B[0;31mAttributeError\u001B[0m                            Traceback (most recent call last)",
      "Cell \u001B[0;32mIn[10], line 2\u001B[0m\n\u001B[1;32m      1\u001B[0m \u001B[38;5;28;01mfor\u001B[39;00m token \u001B[38;5;129;01min\u001B[39;00m doc:\n\u001B[0;32m----> 2\u001B[0m     \u001B[38;5;28mprint\u001B[39m(\u001B[38;5;124m'\u001B[39m\u001B[38;5;132;01m{}\u001B[39;00m\u001B[38;5;124m-\u001B[39m\u001B[38;5;132;01m{}\u001B[39;00m\u001B[38;5;124m'\u001B[39m\u001B[38;5;241m.\u001B[39mformat(\u001B[43mtoken\u001B[49m\u001B[38;5;241;43m.\u001B[39;49m\u001B[43mtoken_pos_\u001B[49m))\n",
      "\u001B[0;31mAttributeError\u001B[0m: 'spacy.tokens.token.Token' object has no attribute 'token_pos_'"
     ]
    }
   ],
   "source": [
    "for token in doc:\n",
    "    print('{}-{}'.format(token.token_pos_))"
   ],
   "metadata": {
    "collapsed": false,
    "ExecuteTime": {
     "end_time": "2023-06-03T08:27:01.596383258Z",
     "start_time": "2023-06-03T08:27:00.560281036Z"
    }
   }
  },
  {
   "cell_type": "markdown",
   "source": [
    "## 命名体的识别"
   ],
   "metadata": {
    "collapsed": false
   }
  },
  {
   "cell_type": "code",
   "execution_count": 11,
   "outputs": [],
   "source": [
    "doc_2 = nlp(\"I want to Pairs where I met my old friend Jack from uni.\")"
   ],
   "metadata": {
    "collapsed": false,
    "ExecuteTime": {
     "start_time": "2023-06-06T17:43:51.899862Z",
     "end_time": "2023-06-06T17:43:51.930569Z"
    }
   }
  },
  {
   "cell_type": "code",
   "execution_count": 12,
   "outputs": [
    {
     "data": {
      "text/plain": "<IPython.core.display.HTML object>",
      "text/html": "<span class=\"tex2jax_ignore\"><div class=\"entities\" style=\"line-height: 2.5; direction: ltr\">I want to Pairs where I met my old friend \n<mark class=\"entity\" style=\"background: #aa9cfc; padding: 0.45em 0.6em; margin: 0 0.25em; line-height: 1; border-radius: 0.35em;\">\n    Jack\n    <span style=\"font-size: 0.8em; font-weight: bold; line-height: 1; border-radius: 0.35em; vertical-align: middle; margin-left: 0.5rem\">PERSON</span>\n</mark>\n uni.</div></span>"
     },
     "metadata": {},
     "output_type": "display_data"
    }
   ],
   "source": [
    "from spacy import displacy\n",
    "doc = nlp('I want to Pairs where I met my old friend Jack uni.')\n",
    "displacy.render(doc, style='ent', jupyter=True)"
   ],
   "metadata": {
    "collapsed": false,
    "ExecuteTime": {
     "start_time": "2023-06-06T17:43:56.419695Z",
     "end_time": "2023-06-06T17:43:56.489995Z"
    }
   }
  },
  {
   "cell_type": "markdown",
   "source": [
    "## 找到书中所有人物名字"
   ],
   "metadata": {
    "collapsed": false
   }
  },
  {
   "cell_type": "code",
   "execution_count": null,
   "outputs": [],
   "source": [
    "def read_file(filename):\n",
    "    with open(filename, 'r') as file:\n",
    "        return file.read()"
   ],
   "metadata": {
    "collapsed": false
   }
  },
  {
   "cell_type": "code",
   "execution_count": null,
   "outputs": [],
   "source": [
    "# 加载文本数据\n",
    "text = read_file('./data/pride_and_prejudice.txt')\n",
    "process_text = nlp(text)"
   ],
   "metadata": {
    "collapsed": false
   }
  },
  {
   "cell_type": "code",
   "execution_count": null,
   "outputs": [],
   "source": [
    "sentences = [sent for sent in process_text.sents]\n",
    "print(len(sentences))"
   ],
   "metadata": {
    "collapsed": false
   }
  },
  {
   "cell_type": "code",
   "execution_count": null,
   "outputs": [],
   "source": [
    "sentences[:5]"
   ],
   "metadata": {
    "collapsed": false
   }
  },
  {
   "cell_type": "code",
   "execution_count": null,
   "outputs": [],
   "source": [
    "from collections import Counter, defaultdict\n",
    "\n",
    "def find_person(doc):\n",
    "    c = Counter()\n",
    "    for ent in process_text.ents:\n",
    "        if ent.label_ == 'PERSON':\n",
    "            c[ent.lemma_]+=1\n",
    "    return c.most_common(10)\n",
    "\n",
    "print(find_person(process_text))"
   ],
   "metadata": {
    "collapsed": false
   }
  },
  {
   "cell_type": "markdown",
   "source": [
    "## 恐怖袭击分析"
   ],
   "metadata": {
    "collapsed": false
   }
  },
  {
   "cell_type": "code",
   "execution_count": null,
   "outputs": [],
   "source": [
    "def read_file_to_list(filename):\n",
    "    with open(filename, 'r') as file:\n",
    "        return file.readlines()"
   ],
   "metadata": {
    "collapsed": false
   }
  },
  {
   "cell_type": "code",
   "execution_count": null,
   "outputs": [],
   "source": [
    "terrorism_articles = read_file_to_list('data/rand-terrorism-dataset.txt')"
   ],
   "metadata": {
    "collapsed": false
   }
  },
  {
   "cell_type": "code",
   "execution_count": null,
   "outputs": [],
   "source": [
    "terrorism_articles[:5]"
   ],
   "metadata": {
    "collapsed": false
   }
  },
  {
   "cell_type": "code",
   "execution_count": null,
   "outputs": [],
   "source": [
    "terrorism_articles_nlp = [nlp(art) for art in terrorism_articles]"
   ],
   "metadata": {
    "collapsed": false
   }
  },
  {
   "cell_type": "code",
   "execution_count": null,
   "outputs": [],
   "source": [
    "common_terrorist_groups = [\n",
    "    'taliban',\n",
    "    'a1 - qaeda',\n",
    "    'hamas',\n",
    "    'fatah',\n",
    "    'plo',\n",
    "    'bilad a1 - rafidayn'\n",
    "]\n",
    "\n",
    "common_locations = [\n",
    "    'iraq',\n",
    "    'baghdad',\n",
    "    'kirkuk',\n",
    "    'mosul',\n",
    "    'afshanistan',\n",
    "    'kabul',\n",
    "    'basra',\n",
    "    'palestine',\n",
    "    'gaza',\n",
    "    'israel',\n",
    "    'istanbul',\n",
    "    'beirut',\n",
    "    'pakistan'\n",
    "]"
   ],
   "metadata": {
    "collapsed": false
   }
  },
  {
   "cell_type": "code",
   "execution_count": 3,
   "outputs": [
    {
     "ename": "SyntaxError",
     "evalue": "unexpected EOF while parsing (1835749569.py, line 4)",
     "output_type": "error",
     "traceback": [
      "\u001B[0;36m  Cell \u001B[0;32mIn[3], line 4\u001B[0;36m\u001B[0m\n\u001B[0;31m    \u001B[0m\n\u001B[0m    ^\u001B[0m\n\u001B[0;31mSyntaxError\u001B[0m\u001B[0;31m:\u001B[0m unexpected EOF while parsing\n"
     ]
    }
   ],
   "source": [
    "location_entity_dict = defaultdict(Counter)\n",
    "\n",
    "for article in terrorism_articles_nlp:\n",
    "    article_terrorist_groups = [ent.lemma_ for ent in article.ents if ent.label_ == 'PERSON' or ent.label_ == 'ORG'] # 人或者组织\n",
    "    article_locations = [ent.lemma_ for ent in article.ents if ent.label_ == 'GPE'] # 地点\n",
    "    terrorist_common = [ent for ent in article_terrorist_groups if ent in common_terrorist_groups]\n",
    "    locations_common = [ent for ent in article_locations if ent in common_locations]\n",
    "\n",
    "    for found_entity  in terrorist_common:\n",
    "        for found_location in locations_common:\n",
    "            location_entity_dict[found_entity][found_location] += 1\n",
    "\n",
    "location_entity_dict"
   ],
   "metadata": {
    "collapsed": false,
    "ExecuteTime": {
     "end_time": "2023-06-03T08:56:26.270839011Z",
     "start_time": "2023-06-03T08:56:26.205682420Z"
    }
   }
  },
  {
   "cell_type": "code",
   "execution_count": null,
   "outputs": [],
   "source": [
    "import  pandas as pd\n",
    "location_entity_df = pd.DataFrame.from_dict(dict(location_entity_dict), dtype=int)\n",
    "location_entity_df = location_entity_df.fillna(value=0).astype(int)\n",
    "location_entity_df"
   ],
   "metadata": {
    "collapsed": false
   }
  },
  {
   "cell_type": "code",
   "execution_count": null,
   "outputs": [],
   "source": [
    "import matplotlib.pyplot as plt\n",
    "import seaborn as sns\n",
    "plt.figure(figsize=(12, 10))\n",
    "hmap = sns.heatmap(location_entity_df, annot=True, fmt='d', cmap='Y1GnBu', cbar=False)\n",
    "\n",
    "# add information\n",
    "plt.title('Global Incidents by Terrorist group')\n",
    "plt.xticks(rotation=30)\n",
    "plt.show()"
   ],
   "metadata": {
    "collapsed": false
   }
  },
  {
   "cell_type": "code",
   "execution_count": null,
   "outputs": [],
   "source": [],
   "metadata": {
    "collapsed": false
   }
  }
 ],
 "metadata": {
  "kernelspec": {
   "display_name": "Python 3",
   "language": "python",
   "name": "python3"
  },
  "language_info": {
   "codemirror_mode": {
    "name": "ipython",
    "version": 2
   },
   "file_extension": ".py",
   "mimetype": "text/x-python",
   "name": "python",
   "nbconvert_exporter": "python",
   "pygments_lexer": "ipython2",
   "version": "2.7.6"
  }
 },
 "nbformat": 4,
 "nbformat_minor": 0
}
