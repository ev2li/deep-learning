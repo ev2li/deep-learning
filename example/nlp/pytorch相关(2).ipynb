{
 "cells": [
  {
   "cell_type": "code",
   "execution_count": 3,
   "metadata": {
    "collapsed": true,
    "ExecuteTime": {
     "start_time": "2023-06-05T18:29:57.582994Z",
     "end_time": "2023-06-05T18:29:57.592568Z"
    }
   },
   "outputs": [
    {
     "name": "stdout",
     "output_type": "stream",
     "text": [
      "tensor([1., 1., 1., 1., 1.])\n",
      "[1. 1. 1. 1. 1.]\n",
      "tensor([2., 2., 2., 2., 2.])\n",
      "[2. 2. 2. 2. 2.]\n"
     ]
    }
   ],
   "source": [
    "from __future__ import print_function\n",
    "import torch\n",
    "a = torch.ones(5)\n",
    "print(a)\n",
    "# 将Torch Tensor转换成Numpy array\n",
    "b  = a.numpy()\n",
    "print(b)\n",
    "# 对其中一个做加法操作，另一个也随之被改变\n",
    "a.add_(1)\n",
    "print(a)\n",
    "print(b)"
   ]
  },
  {
   "cell_type": "markdown",
   "source": [
    "#### 注意\n",
    "- **所有在CPU上和Tensors，除了CharTensor，都可以转换为Numpy array并可以反向转换**"
   ],
   "metadata": {
    "collapsed": false
   }
  },
  {
   "cell_type": "code",
   "execution_count": 5,
   "outputs": [
    {
     "name": "stdout",
     "output_type": "stream",
     "text": [
      "[1. 1. 1. 1. 1.]\n",
      "[2. 2. 2. 2. 2.]\n",
      "tensor([2., 2., 2., 2., 2.], dtype=torch.float64)\n"
     ]
    }
   ],
   "source": [
    "import numpy as np\n",
    "a = np.ones(5)\n",
    "print(a)\n",
    "b = torch.from_numpy(a)\n",
    "np.add(a, 1, out=a)\n",
    "print(a)\n",
    "print(b)"
   ],
   "metadata": {
    "collapsed": false,
    "ExecuteTime": {
     "start_time": "2023-06-05T18:33:39.395224Z",
     "end_time": "2023-06-05T18:33:39.406625Z"
    }
   }
  },
  {
   "cell_type": "markdown",
   "source": [
    "#### 关于Cuda Tensor:Tensors可以用.to()方法将其移动到任意设备上"
   ],
   "metadata": {
    "collapsed": false
   }
  },
  {
   "cell_type": "code",
   "execution_count": 6,
   "outputs": [],
   "source": [
    "x = torch.rand(1)\n",
    "# 如果服务器上已经安装了GPU和CUDA\n",
    "if torch.cuda.is_available():\n",
    "    # 定义一个设备对象，这里指定成CUDA,即使用GPU\n",
    "    device = torch.device(\"cuda\")\n",
    "    # 直接在GPU上创建一个Tensor\n",
    "    y = torch.ones_like(x, device=device)\n",
    "    # 将CPU上面的x张量移动到GPU上面\n",
    "    x = x.to(device)\n",
    "    # x和y都在GPU上面，才能支持加法运算\n",
    "    z = x + y\n",
    "    # 此处的张量z在GPU上面\n",
    "    print(z)\n",
    "    # 也可以将z移动到CPU上面，并同时指定张量元素的数据类型\n",
    "    print(z.to(\"cpu\", torch.double))"
   ],
   "metadata": {
    "collapsed": false,
    "ExecuteTime": {
     "start_time": "2023-06-05T18:41:54.389271Z",
     "end_time": "2023-06-05T18:41:54.427862Z"
    }
   }
  },
  {
   "cell_type": "code",
   "execution_count": 7,
   "outputs": [
    {
     "data": {
      "text/plain": "tensor([0.7576])"
     },
     "execution_count": 7,
     "metadata": {},
     "output_type": "execute_result"
    }
   ],
   "source": [
    "x"
   ],
   "metadata": {
    "collapsed": false,
    "ExecuteTime": {
     "start_time": "2023-06-05T18:41:56.642437Z",
     "end_time": "2023-06-05T18:41:56.679128Z"
    }
   }
  },
  {
   "cell_type": "markdown",
   "source": [
    "#### 小节总结\n",
    "- 学习什么是Pytorch\n",
    "    - pytorch是一个基于Numpy的科学计算包，作为Numpy的替代者，向用户提供使用CPU强大功能的能力\n",
    "    - 做为一款深度学习的平台，向用户提供了最大的灵活性和速度\n",
    "- 学习了pytorch的基本元素操作\n",
    "    - 矩阵的初始化\n",
    "        - torch.empty()\n",
    "        - torch.rand(n,m)\n",
    "        - torch.zeros(n,m, dtype=torch.long)\n",
    "    - 其他操作\n",
    "        - x.new_ones(n,m,dtype=torch.double)\n",
    "        - torch.randn_like(x, dtype=torch.float)\n",
    "        - x.size()\n",
    "- 学习了pytorch的基本运算操作\n",
    "    - 加法操作\n",
    "        - x + y\n",
    "        - torch.add(x,y)\n",
    "        - torch.add(x, y, out=result)\n",
    "        - y.add_(x)\n",
    "    - 其它操作\n",
    "        - x.view()\n",
    "        - x.item()\n",
    "\n",
    "- 学习了torch tensor和Numpy Array之间的相互转换\n",
    "    - 将torch tensor转换成numpy array:\n",
    "        - b = a.numpy()\n",
    "    - 将numpy array转换成torch tensor:\n",
    "        -  b = torch.from_numpy(a)\n",
    "    - 注意所有在CPU上的tensor,除了CharTensor，都可以转换为Numpy Array并可以反向转换\n",
    "- 学习了任意的Tensors可以用.to()方法来将其移动到任意设备上\n",
    "    - x = x.to(device)"
   ],
   "metadata": {
    "collapsed": false
   }
  }
 ],
 "metadata": {
  "kernelspec": {
   "display_name": "Python 3",
   "language": "python",
   "name": "python3"
  },
  "language_info": {
   "codemirror_mode": {
    "name": "ipython",
    "version": 2
   },
   "file_extension": ".py",
   "mimetype": "text/x-python",
   "name": "python",
   "nbconvert_exporter": "python",
   "pygments_lexer": "ipython2",
   "version": "2.7.6"
  }
 },
 "nbformat": 4,
 "nbformat_minor": 0
}
