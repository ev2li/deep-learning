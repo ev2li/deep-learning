{
 "cells": [
  {
   "cell_type": "markdown",
   "source": [
    "1.epoch\n",
    "• 当数据集中的全部样本通过神经网络一次并且返回一次的过程即完成一次训练称为一个epoch\n",
    "• 当我们分批学习时，每次使用过全部训练数据完成一次Forword运算以及一次BP运算，称为完成一次epoch\n",
    "• epoch时期=所有训练样本有一个正向传递和一个反向传递\n",
    "1.1为什么要设置多个epoch？\n",
    "• 因为在神经网络中传递完整的数据集一次是不够的，而且我们需要将完整的数据集在同样的神经网络中传递多次，我们使用的是有限的数据集，并且我们使用一个迭代过程即梯度下降，因此只更新权重一次或说使用一个epoch是不够的\n",
    "\n",
    "2.batch\n",
    "• 在不能将数据一次性通过神经网络的时候，就需要将数据集分成几个batch\n",
    "• iteration:1次iterationb即迭代1次，也就是batch_size个样本训练一次\n",
    "• 一次迭代=一个正向通过+一个反向通过\n",
    "• 每一次迭代得到的结果都会作为下一次迭代的初始值\n",
    "\n",
    "3.batchsize\n",
    "• 每批数据量的大小，批量大小将决定我们一次训练的样本数目\n",
    "• batch_size将影响到模型的优化程序和速度\n",
    "• 用优化算法进行训练，也就是1次iteration一起训练batch_size个样本，计算它们的平均损失函数值，来更新一次参数\n",
    "3.1.为什么需要有batchsize?\n",
    "• batchsize的正确选择是为了在内存效率和内存容量之间寻找最佳平衡\n",
    "\n",
    "4.区别\n",
    "1. batchsize：批大小 ，在深度学习中，一般采用SGD训练，即每次训练在训练集中取batchsize个样本训练\n",
    "2. iteration；1个iteration等于使用batchsize个样本训练一次\n",
    "3. epoch:1个epoch等于使用训练集中的全部样本训练一次\n",
    "示例\n",
    "• 一个excel中包含200个样本(数据行)的数据，选择batch_size = 5, epoch=10000,则batch=40个，每个batch有5个样本，一次epoch将进行40个batch或40次模型参数更新，1000个epoch,模型将传递整个数据集1000次，在整个训练过程中，总共有40000次batch\n",
    "• mnist 数据集有 10000 张训练数据，10000 张测试数据。现在选择 Batch_Size = 100 对模型进行训练。\n",
    "  • 每个epoch要训练的图片数据:10000（训练集上的所有图像）\n",
    "  • 训练具有的batch个数 10000/100 = 100\n",
    "  • 每个epoch具有的iteration个数：100(完成一个batch,相当于参数迭代一次)\n",
    "  • 每个epoch中发生模型权重更新的次数为：100\n",
    "  • 训练10个epoch后，模型权重更新次数：100*10 = 1000次\n",
    "  • 不同epoch的训练，其实用的是同一个训练集的数据，第1个epoch和第10个epoch虽然用的都是训练集的10000张图片，但是对模型的权重更新值却是完全不同的，因为不同的epoch的模型处于代价函数空间上的不同位置，模型的训练代越靠后，越接近谷底，其代价越小\n",
    "  • 总共完成了10000次迭代，相当于完成了10000/100 = 100个epoch\n",
    "\n",
    "注意\n",
    "• batch_size选择的原则:batch_size越大，batch越少，需要迭代的次数越少，训练的时间越短\n",
    "• batch_size越小，batch数量越多，耗时久，计算机占用内存大"
   ],
   "metadata": {
    "collapsed": false
   }
  },
  {
   "cell_type": "code",
   "execution_count": null,
   "outputs": [],
   "source": [],
   "metadata": {
    "collapsed": false
   }
  }
 ],
 "metadata": {
  "kernelspec": {
   "display_name": "Python 3",
   "language": "python",
   "name": "python3"
  },
  "language_info": {
   "codemirror_mode": {
    "name": "ipython",
    "version": 2
   },
   "file_extension": ".py",
   "mimetype": "text/x-python",
   "name": "python",
   "nbconvert_exporter": "python",
   "pygments_lexer": "ipython2",
   "version": "2.7.6"
  }
 },
 "nbformat": 4,
 "nbformat_minor": 0
}
