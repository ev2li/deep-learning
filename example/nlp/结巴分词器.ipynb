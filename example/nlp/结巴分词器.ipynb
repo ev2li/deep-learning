{
 "cells": [
  {
   "cell_type": "code",
   "execution_count": 1,
   "metadata": {
    "collapsed": true,
    "ExecuteTime": {
     "end_time": "2023-06-03T09:29:40.452876919Z",
     "start_time": "2023-06-03T09:29:39.156647710Z"
    }
   },
   "outputs": [
    {
     "name": "stderr",
     "output_type": "stream",
     "text": [
      "Building prefix dict from the default dictionary ...\n",
      "Loading model from cache /tmp/jieba.cache\n",
      "Loading model cost 1.247 seconds.\n",
      "Prefix dict has been built successfully.\n"
     ]
    },
    {
     "name": "stdout",
     "output_type": "stream",
     "text": [
      "全模式: 我/来到/北京/清华/清华大学/华大/大学\n",
      "精确模式: 我/来到/北京/清华大学\n",
      "他,来到,了,网易,杭研,大厦\n"
     ]
    }
   ],
   "source": [
    "import jieba\n",
    "\n",
    "seg_list = jieba.cut(\"我来到北京清华大学\", cut_all=True)\n",
    "print(\"全模式: \" +  \"/\" .join(seg_list)) # 全模式\n",
    "\n",
    "seg_list = jieba.cut(\"我来到北京清华大学\", cut_all=False)\n",
    "print(\"精确模式: \" +  \"/\" .join(seg_list)) # 精确模式\n",
    "\n",
    "seg_list = jieba.cut(\"他来到了网易杭研大厦\") #默认是精确模式\n",
    "print(\",\".join(seg_list))"
   ]
  },
  {
   "cell_type": "markdown",
   "source": [
    "## 添加自定义词典"
   ],
   "metadata": {
    "collapsed": false
   }
  },
  {
   "cell_type": "code",
   "execution_count": 2,
   "outputs": [
    {
     "name": "stdout",
     "output_type": "stream",
     "text": [
      "[全模式]: 故宫/的/著名/著名景点/景点/包括/乾/清宫/，/太和/太和殿/和/黄/琉璃/琉璃瓦/等\n",
      "[精确模式]: 故宫/的/著名景点/包括/乾/清宫/，/太和殿/和/黄/琉璃瓦/等\n"
     ]
    }
   ],
   "source": [
    "text = \"故宫的著名景点包括乾清宫，太和殿和黄琉璃瓦等\"\n",
    "\n",
    "# 全模式\n",
    "seg_list = jieba.cut(text, cut_all=True)\n",
    "print(u\"[全模式]:\" , \"/\" .join(seg_list))\n",
    "\n",
    "# 精确模式\n",
    "seg_list = jieba.cut(text, cut_all=False)\n",
    "print(u\"[精确模式]:\", \"/\".join(seg_list))"
   ],
   "metadata": {
    "collapsed": false,
    "ExecuteTime": {
     "end_time": "2023-06-03T09:29:45.323210490Z",
     "start_time": "2023-06-03T09:29:45.248635229Z"
    }
   }
  },
  {
   "cell_type": "code",
   "execution_count": null,
   "outputs": [],
   "source": [
    "jieba.load_userdict(\"./data/mydict.txt\") #需utf-8,可以在另存为里面设置\n",
    "# 也可以用jieba.add_word(\"乾清宫\")\n",
    "\n",
    "text = \"故宫的著名景点包括乾清宫，太和殿和黄琉璃瓦等\"\n",
    "\n",
    "# 全模式\n",
    "seg_list = jieba.cut(text, cut_all=True)\n",
    "print(u\"[全模式]:\" , \"/\" .join(seg_list))\n",
    "# 精确模式\n",
    "seg_list = jieba.cut(text, cut_all=False)\n",
    "print(u\"[精确模式]:\", \"/\".join(seg_list))"
   ],
   "metadata": {
    "collapsed": false
   }
  },
  {
   "cell_type": "markdown",
   "source": [
    "## 关键词抽取"
   ],
   "metadata": {
    "collapsed": false
   }
  },
  {
   "cell_type": "code",
   "execution_count": 3,
   "outputs": [],
   "source": [
    "import jieba.analyse\n",
    "\n",
    "seg_list = jieba.cut(text, cut_all=False)\n",
    "print(u'分词结果:')\n",
    "print(\"/\".join(seg_list))\n",
    "\n",
    "# 获取关键词\n",
    "tags = jieba.analyse.extract_tags(text, topK=5)\n",
    "print(u\"关键词:\")\n",
    "print(\" \".join(tags))\n"
   ],
   "metadata": {
    "collapsed": false,
    "ExecuteTime": {
     "end_time": "2023-06-03T10:27:49.912869287Z",
     "start_time": "2023-06-03T10:27:48.872754377Z"
    }
   }
  },
  {
   "cell_type": "code",
   "execution_count": null,
   "outputs": [],
   "source": [
    "tags = jieba.analyse.extract_tags(text, topK=5, withWeight=True)\n",
    "for word, weight in tags:\n",
    "    print(word, weight)"
   ],
   "metadata": {
    "collapsed": false
   }
  },
  {
   "cell_type": "markdown",
   "source": [
    "## 词性标注"
   ],
   "metadata": {
    "collapsed": false
   }
  },
  {
   "cell_type": "code",
   "execution_count": 4,
   "outputs": [],
   "source": [
    "import jieba.posseg as pseg\n",
    "words = pseg.cut(\"我爱北京天安门内\")"
   ],
   "metadata": {
    "collapsed": false,
    "ExecuteTime": {
     "end_time": "2023-06-03T10:32:43.567677499Z",
     "start_time": "2023-06-03T10:32:43.499804503Z"
    }
   }
  },
  {
   "cell_type": "markdown",
   "source": [
    "## 词云展示"
   ],
   "metadata": {
    "collapsed": false
   }
  },
  {
   "cell_type": "code",
   "execution_count": null,
   "outputs": [],
   "source": [
    "import jieba\n",
    "from wordcloud import WordCloud\n",
    "from scipy.misc import imread\n",
    "from collections import Counter\n",
    "import matplotlib.pyplot as plt\n",
    "\n",
    "data = {}\n",
    "\n",
    "text_file = open('./data/19Congress.txt', 'r', encoding='utf-8')\n",
    "text = text_file.read()\n",
    "with open('./data/stopwords.txt', encoding='utf-8') as file:\n",
    "    stopwords = {line.strip() for line in file}\n",
    "\n",
    "seg_list = jieba.cut(text, cut_all=False)\n",
    "for word in seg_list:\n",
    "    if len(word) >= 2:\n",
    "        if not data.__contains__(word):\n",
    "            data[word] = 0\n",
    "        data[word]+=1\n",
    "\n",
    "#print(data)\n",
    "\n",
    "my_wordcloud = WordCloud(\n",
    "    background_color='white', # 设置背景颜色\n",
    "    max_words= 400, # 设置最大实现的字数\n",
    "    font_path = r'./data/SimHei.ttf', # 设置字体格式，如不设置显示不了中文\n",
    "    mask = imread('./data/mapofChina.jpg'), # 指定在什么图片上画\n",
    "    width = 1000,\n",
    "    height= 1000,\n",
    "    stopwords = stopwords\n",
    ").generate_from_frequencies(data)\n",
    "\n",
    "plt.figure(figsize=(18, 16))\n",
    "plt.imshow(my_wordcloud)\n",
    "plt.axis('off')\n",
    "\n",
    "plt.show() # 展示词云\n",
    "my_wordcloud.to_file('result.jpg')\n",
    "text_file.close()"
   ],
   "metadata": {
    "collapsed": false
   }
  }
 ],
 "metadata": {
  "kernelspec": {
   "display_name": "Python 3",
   "language": "python",
   "name": "python3"
  },
  "language_info": {
   "codemirror_mode": {
    "name": "ipython",
    "version": 2
   },
   "file_extension": ".py",
   "mimetype": "text/x-python",
   "name": "python",
   "nbconvert_exporter": "python",
   "pygments_lexer": "ipython2",
   "version": "2.7.6"
  }
 },
 "nbformat": 4,
 "nbformat_minor": 0
}
